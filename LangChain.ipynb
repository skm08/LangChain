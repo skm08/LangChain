{
  "cells": [
    {
      "cell_type": "markdown",
      "metadata": {
        "id": "view-in-github",
        "colab_type": "text"
      },
      "source": [
        "<a href=\"https://colab.research.google.com/github/skm08/LangChain/blob/main/LangChain.ipynb\" target=\"_parent\"><img src=\"https://colab.research.google.com/assets/colab-badge.svg\" alt=\"Open In Colab\"/></a>"
      ]
    },
    {
      "cell_type": "markdown",
      "metadata": {
        "id": "XTXETlT8kAXi"
      },
      "source": [
        "# Import Groq API Key"
      ]
    },
    {
      "cell_type": "code",
      "source": [
        "pip install -r requirements.txt"
      ],
      "metadata": {
        "colab": {
          "base_uri": "https://localhost:8080/"
        },
        "id": "VCWbaWoTkMrH",
        "outputId": "5944b6ec-93ac-4c19-c9e1-9d78e30cabe2"
      },
      "execution_count": 1,
      "outputs": [
        {
          "output_type": "stream",
          "name": "stdout",
          "text": [
            "Collecting langchain==0.2.10 (from -r requirements.txt (line 1))\n",
            "  Downloading langchain-0.2.10-py3-none-any.whl.metadata (6.9 kB)\n",
            "Collecting langchain-openai==0.1.17 (from -r requirements.txt (line 2))\n",
            "  Downloading langchain_openai-0.1.17-py3-none-any.whl.metadata (2.5 kB)\n",
            "Collecting python-dotenv==1.0.1 (from -r requirements.txt (line 3))\n",
            "  Downloading python_dotenv-1.0.1-py3-none-any.whl.metadata (23 kB)\n",
            "Collecting langchain-groq==0.1.6 (from -r requirements.txt (line 4))\n",
            "  Downloading langchain_groq-0.1.6-py3-none-any.whl.metadata (2.8 kB)\n",
            "Collecting langchain-community==0.2.10 (from -r requirements.txt (line 5))\n",
            "  Downloading langchain_community-0.2.10-py3-none-any.whl.metadata (2.7 kB)\n",
            "Collecting bs4==0.0.2 (from -r requirements.txt (line 6))\n",
            "  Downloading bs4-0.0.2-py2.py3-none-any.whl.metadata (411 bytes)\n",
            "Collecting unstructured==0.15.0 (from -r requirements.txt (line 7))\n",
            "  Downloading unstructured-0.15.0-py3-none-any.whl.metadata (29 kB)\n",
            "Collecting pypdf==4.3.1 (from -r requirements.txt (line 8))\n",
            "  Downloading pypdf-4.3.1-py3-none-any.whl.metadata (7.4 kB)\n",
            "Collecting wikipedia==1.4.0 (from -r requirements.txt (line 9))\n",
            "  Downloading wikipedia-1.4.0.tar.gz (27 kB)\n",
            "  Preparing metadata (setup.py) ... \u001b[?25l\u001b[?25hdone\n",
            "Collecting langchain-chroma==0.1.2 (from -r requirements.txt (line 10))\n",
            "  Downloading langchain_chroma-0.1.2-py3-none-any.whl.metadata (1.3 kB)\n",
            "Requirement already satisfied: PyYAML>=5.3 in /usr/local/lib/python3.10/dist-packages (from langchain==0.2.10->-r requirements.txt (line 1)) (6.0.2)\n",
            "Requirement already satisfied: SQLAlchemy<3,>=1.4 in /usr/local/lib/python3.10/dist-packages (from langchain==0.2.10->-r requirements.txt (line 1)) (2.0.36)\n",
            "Requirement already satisfied: aiohttp<4.0.0,>=3.8.3 in /usr/local/lib/python3.10/dist-packages (from langchain==0.2.10->-r requirements.txt (line 1)) (3.10.10)\n",
            "Requirement already satisfied: async-timeout<5.0.0,>=4.0.0 in /usr/local/lib/python3.10/dist-packages (from langchain==0.2.10->-r requirements.txt (line 1)) (4.0.3)\n",
            "Collecting langchain-core<0.3.0,>=0.2.22 (from langchain==0.2.10->-r requirements.txt (line 1))\n",
            "  Downloading langchain_core-0.2.41-py3-none-any.whl.metadata (6.2 kB)\n",
            "Collecting langchain-text-splitters<0.3.0,>=0.2.0 (from langchain==0.2.10->-r requirements.txt (line 1))\n",
            "  Downloading langchain_text_splitters-0.2.4-py3-none-any.whl.metadata (2.3 kB)\n",
            "Collecting langsmith<0.2.0,>=0.1.17 (from langchain==0.2.10->-r requirements.txt (line 1))\n",
            "  Downloading langsmith-0.1.137-py3-none-any.whl.metadata (13 kB)\n",
            "Requirement already satisfied: numpy<2,>=1 in /usr/local/lib/python3.10/dist-packages (from langchain==0.2.10->-r requirements.txt (line 1)) (1.26.4)\n",
            "Requirement already satisfied: pydantic<3,>=1 in /usr/local/lib/python3.10/dist-packages (from langchain==0.2.10->-r requirements.txt (line 1)) (2.9.2)\n",
            "Requirement already satisfied: requests<3,>=2 in /usr/local/lib/python3.10/dist-packages (from langchain==0.2.10->-r requirements.txt (line 1)) (2.32.3)\n",
            "Collecting tenacity!=8.4.0,<9.0.0,>=8.1.0 (from langchain==0.2.10->-r requirements.txt (line 1))\n",
            "  Downloading tenacity-8.5.0-py3-none-any.whl.metadata (1.2 kB)\n",
            "Collecting openai<2.0.0,>=1.32.0 (from langchain-openai==0.1.17->-r requirements.txt (line 2))\n",
            "  Downloading openai-1.52.1-py3-none-any.whl.metadata (24 kB)\n",
            "Collecting tiktoken<1,>=0.7 (from langchain-openai==0.1.17->-r requirements.txt (line 2))\n",
            "  Downloading tiktoken-0.8.0-cp310-cp310-manylinux_2_17_x86_64.manylinux2014_x86_64.whl.metadata (6.6 kB)\n",
            "Collecting groq<1,>=0.4.1 (from langchain-groq==0.1.6->-r requirements.txt (line 4))\n",
            "  Downloading groq-0.11.0-py3-none-any.whl.metadata (13 kB)\n",
            "Collecting dataclasses-json<0.7,>=0.5.7 (from langchain-community==0.2.10->-r requirements.txt (line 5))\n",
            "  Downloading dataclasses_json-0.6.7-py3-none-any.whl.metadata (25 kB)\n",
            "Requirement already satisfied: beautifulsoup4 in /usr/local/lib/python3.10/dist-packages (from bs4==0.0.2->-r requirements.txt (line 6)) (4.12.3)\n",
            "Requirement already satisfied: chardet in /usr/local/lib/python3.10/dist-packages (from unstructured==0.15.0->-r requirements.txt (line 7)) (5.2.0)\n",
            "Collecting filetype (from unstructured==0.15.0->-r requirements.txt (line 7))\n",
            "  Downloading filetype-1.2.0-py2.py3-none-any.whl.metadata (6.5 kB)\n",
            "Collecting python-magic (from unstructured==0.15.0->-r requirements.txt (line 7))\n",
            "  Downloading python_magic-0.4.27-py2.py3-none-any.whl.metadata (5.8 kB)\n",
            "Requirement already satisfied: lxml in /usr/local/lib/python3.10/dist-packages (from unstructured==0.15.0->-r requirements.txt (line 7)) (4.9.4)\n",
            "Requirement already satisfied: nltk in /usr/local/lib/python3.10/dist-packages (from unstructured==0.15.0->-r requirements.txt (line 7)) (3.8.1)\n",
            "Requirement already satisfied: tabulate in /usr/local/lib/python3.10/dist-packages (from unstructured==0.15.0->-r requirements.txt (line 7)) (0.9.0)\n",
            "Collecting emoji (from unstructured==0.15.0->-r requirements.txt (line 7))\n",
            "  Downloading emoji-2.14.0-py3-none-any.whl.metadata (5.7 kB)\n",
            "Collecting python-iso639 (from unstructured==0.15.0->-r requirements.txt (line 7))\n",
            "  Downloading python_iso639-2024.10.22-py3-none-any.whl.metadata (13 kB)\n",
            "Collecting langdetect (from unstructured==0.15.0->-r requirements.txt (line 7))\n",
            "  Downloading langdetect-1.0.9.tar.gz (981 kB)\n",
            "\u001b[2K     \u001b[90m━━━━━━━━━━━━━━━━━━━━━━━━━━━━━━━━━━━━━━━━\u001b[0m \u001b[32m981.5/981.5 kB\u001b[0m \u001b[31m25.3 MB/s\u001b[0m eta \u001b[36m0:00:00\u001b[0m\n",
            "\u001b[?25h  Preparing metadata (setup.py) ... \u001b[?25l\u001b[?25hdone\n",
            "Collecting rapidfuzz (from unstructured==0.15.0->-r requirements.txt (line 7))\n",
            "  Downloading rapidfuzz-3.10.0-cp310-cp310-manylinux_2_17_x86_64.manylinux2014_x86_64.whl.metadata (11 kB)\n",
            "Collecting backoff (from unstructured==0.15.0->-r requirements.txt (line 7))\n",
            "  Downloading backoff-2.2.1-py3-none-any.whl.metadata (14 kB)\n",
            "Requirement already satisfied: typing-extensions in /usr/local/lib/python3.10/dist-packages (from unstructured==0.15.0->-r requirements.txt (line 7)) (4.12.2)\n",
            "Collecting unstructured-client (from unstructured==0.15.0->-r requirements.txt (line 7))\n",
            "  Downloading unstructured_client-0.26.1-py3-none-any.whl.metadata (20 kB)\n",
            "Requirement already satisfied: wrapt in /usr/local/lib/python3.10/dist-packages (from unstructured==0.15.0->-r requirements.txt (line 7)) (1.16.0)\n",
            "Requirement already satisfied: tqdm in /usr/local/lib/python3.10/dist-packages (from unstructured==0.15.0->-r requirements.txt (line 7)) (4.66.5)\n",
            "Requirement already satisfied: psutil in /usr/local/lib/python3.10/dist-packages (from unstructured==0.15.0->-r requirements.txt (line 7)) (5.9.5)\n",
            "Collecting chromadb<0.6.0,>=0.4.0 (from langchain-chroma==0.1.2->-r requirements.txt (line 10))\n",
            "  Downloading chromadb-0.5.15-py3-none-any.whl.metadata (6.8 kB)\n",
            "Collecting fastapi<1,>=0.95.2 (from langchain-chroma==0.1.2->-r requirements.txt (line 10))\n",
            "  Downloading fastapi-0.115.3-py3-none-any.whl.metadata (27 kB)\n",
            "Requirement already satisfied: aiohappyeyeballs>=2.3.0 in /usr/local/lib/python3.10/dist-packages (from aiohttp<4.0.0,>=3.8.3->langchain==0.2.10->-r requirements.txt (line 1)) (2.4.3)\n",
            "Requirement already satisfied: aiosignal>=1.1.2 in /usr/local/lib/python3.10/dist-packages (from aiohttp<4.0.0,>=3.8.3->langchain==0.2.10->-r requirements.txt (line 1)) (1.3.1)\n",
            "Requirement already satisfied: attrs>=17.3.0 in /usr/local/lib/python3.10/dist-packages (from aiohttp<4.0.0,>=3.8.3->langchain==0.2.10->-r requirements.txt (line 1)) (24.2.0)\n",
            "Requirement already satisfied: frozenlist>=1.1.1 in /usr/local/lib/python3.10/dist-packages (from aiohttp<4.0.0,>=3.8.3->langchain==0.2.10->-r requirements.txt (line 1)) (1.4.1)\n",
            "Requirement already satisfied: multidict<7.0,>=4.5 in /usr/local/lib/python3.10/dist-packages (from aiohttp<4.0.0,>=3.8.3->langchain==0.2.10->-r requirements.txt (line 1)) (6.1.0)\n",
            "Requirement already satisfied: yarl<2.0,>=1.12.0 in /usr/local/lib/python3.10/dist-packages (from aiohttp<4.0.0,>=3.8.3->langchain==0.2.10->-r requirements.txt (line 1)) (1.16.0)\n",
            "Collecting build>=1.0.3 (from chromadb<0.6.0,>=0.4.0->langchain-chroma==0.1.2->-r requirements.txt (line 10))\n",
            "  Downloading build-1.2.2.post1-py3-none-any.whl.metadata (6.5 kB)\n",
            "Collecting chroma-hnswlib==0.7.6 (from chromadb<0.6.0,>=0.4.0->langchain-chroma==0.1.2->-r requirements.txt (line 10))\n",
            "  Downloading chroma_hnswlib-0.7.6-cp310-cp310-manylinux_2_17_x86_64.manylinux2014_x86_64.whl.metadata (252 bytes)\n",
            "Collecting uvicorn>=0.18.3 (from uvicorn[standard]>=0.18.3->chromadb<0.6.0,>=0.4.0->langchain-chroma==0.1.2->-r requirements.txt (line 10))\n",
            "  Downloading uvicorn-0.32.0-py3-none-any.whl.metadata (6.6 kB)\n",
            "Collecting posthog>=2.4.0 (from chromadb<0.6.0,>=0.4.0->langchain-chroma==0.1.2->-r requirements.txt (line 10))\n",
            "  Downloading posthog-3.7.0-py2.py3-none-any.whl.metadata (2.0 kB)\n",
            "Collecting onnxruntime>=1.14.1 (from chromadb<0.6.0,>=0.4.0->langchain-chroma==0.1.2->-r requirements.txt (line 10))\n",
            "  Downloading onnxruntime-1.19.2-cp310-cp310-manylinux_2_27_x86_64.manylinux_2_28_x86_64.whl.metadata (4.5 kB)\n",
            "Requirement already satisfied: opentelemetry-api>=1.2.0 in /usr/local/lib/python3.10/dist-packages (from chromadb<0.6.0,>=0.4.0->langchain-chroma==0.1.2->-r requirements.txt (line 10)) (1.16.0)\n",
            "Collecting opentelemetry-exporter-otlp-proto-grpc>=1.2.0 (from chromadb<0.6.0,>=0.4.0->langchain-chroma==0.1.2->-r requirements.txt (line 10))\n",
            "  Downloading opentelemetry_exporter_otlp_proto_grpc-1.27.0-py3-none-any.whl.metadata (2.3 kB)\n",
            "Collecting opentelemetry-instrumentation-fastapi>=0.41b0 (from chromadb<0.6.0,>=0.4.0->langchain-chroma==0.1.2->-r requirements.txt (line 10))\n",
            "  Downloading opentelemetry_instrumentation_fastapi-0.48b0-py3-none-any.whl.metadata (2.1 kB)\n",
            "Requirement already satisfied: opentelemetry-sdk>=1.2.0 in /usr/local/lib/python3.10/dist-packages (from chromadb<0.6.0,>=0.4.0->langchain-chroma==0.1.2->-r requirements.txt (line 10)) (1.16.0)\n",
            "Requirement already satisfied: tokenizers>=0.13.2 in /usr/local/lib/python3.10/dist-packages (from chromadb<0.6.0,>=0.4.0->langchain-chroma==0.1.2->-r requirements.txt (line 10)) (0.19.1)\n",
            "Collecting pypika>=0.48.9 (from chromadb<0.6.0,>=0.4.0->langchain-chroma==0.1.2->-r requirements.txt (line 10))\n",
            "  Downloading PyPika-0.48.9.tar.gz (67 kB)\n",
            "\u001b[2K     \u001b[90m━━━━━━━━━━━━━━━━━━━━━━━━━━━━━━━━━━━━━━━━\u001b[0m \u001b[32m67.3/67.3 kB\u001b[0m \u001b[31m4.8 MB/s\u001b[0m eta \u001b[36m0:00:00\u001b[0m\n",
            "\u001b[?25h  Installing build dependencies ... \u001b[?25l\u001b[?25hdone\n",
            "  Getting requirements to build wheel ... \u001b[?25l\u001b[?25hdone\n",
            "  Preparing metadata (pyproject.toml) ... \u001b[?25l\u001b[?25hdone\n",
            "Collecting overrides>=7.3.1 (from chromadb<0.6.0,>=0.4.0->langchain-chroma==0.1.2->-r requirements.txt (line 10))\n",
            "  Downloading overrides-7.7.0-py3-none-any.whl.metadata (5.8 kB)\n",
            "Requirement already satisfied: importlib-resources in /usr/local/lib/python3.10/dist-packages (from chromadb<0.6.0,>=0.4.0->langchain-chroma==0.1.2->-r requirements.txt (line 10)) (6.4.5)\n",
            "Requirement already satisfied: grpcio>=1.58.0 in /usr/local/lib/python3.10/dist-packages (from chromadb<0.6.0,>=0.4.0->langchain-chroma==0.1.2->-r requirements.txt (line 10)) (1.64.1)\n",
            "Collecting bcrypt>=4.0.1 (from chromadb<0.6.0,>=0.4.0->langchain-chroma==0.1.2->-r requirements.txt (line 10))\n",
            "  Downloading bcrypt-4.2.0-cp39-abi3-manylinux_2_28_x86_64.whl.metadata (9.6 kB)\n",
            "Requirement already satisfied: typer>=0.9.0 in /usr/local/lib/python3.10/dist-packages (from chromadb<0.6.0,>=0.4.0->langchain-chroma==0.1.2->-r requirements.txt (line 10)) (0.12.5)\n",
            "Collecting kubernetes>=28.1.0 (from chromadb<0.6.0,>=0.4.0->langchain-chroma==0.1.2->-r requirements.txt (line 10))\n",
            "  Downloading kubernetes-31.0.0-py2.py3-none-any.whl.metadata (1.5 kB)\n",
            "Collecting mmh3>=4.0.1 (from chromadb<0.6.0,>=0.4.0->langchain-chroma==0.1.2->-r requirements.txt (line 10))\n",
            "  Downloading mmh3-5.0.1-cp310-cp310-manylinux_2_5_x86_64.manylinux1_x86_64.manylinux_2_17_x86_64.manylinux2014_x86_64.whl.metadata (14 kB)\n",
            "Collecting orjson>=3.9.12 (from chromadb<0.6.0,>=0.4.0->langchain-chroma==0.1.2->-r requirements.txt (line 10))\n",
            "  Downloading orjson-3.10.10-cp310-cp310-manylinux_2_17_x86_64.manylinux2014_x86_64.whl.metadata (50 kB)\n",
            "\u001b[2K     \u001b[90m━━━━━━━━━━━━━━━━━━━━━━━━━━━━━━━━━━━━━━━━\u001b[0m \u001b[32m50.6/50.6 kB\u001b[0m \u001b[31m3.2 MB/s\u001b[0m eta \u001b[36m0:00:00\u001b[0m\n",
            "\u001b[?25hCollecting httpx>=0.27.0 (from chromadb<0.6.0,>=0.4.0->langchain-chroma==0.1.2->-r requirements.txt (line 10))\n",
            "  Downloading httpx-0.27.2-py3-none-any.whl.metadata (7.1 kB)\n",
            "Requirement already satisfied: rich>=10.11.0 in /usr/local/lib/python3.10/dist-packages (from chromadb<0.6.0,>=0.4.0->langchain-chroma==0.1.2->-r requirements.txt (line 10)) (13.9.2)\n",
            "Collecting marshmallow<4.0.0,>=3.18.0 (from dataclasses-json<0.7,>=0.5.7->langchain-community==0.2.10->-r requirements.txt (line 5))\n",
            "  Downloading marshmallow-3.23.0-py3-none-any.whl.metadata (7.6 kB)\n",
            "Collecting typing-inspect<1,>=0.4.0 (from dataclasses-json<0.7,>=0.5.7->langchain-community==0.2.10->-r requirements.txt (line 5))\n",
            "  Downloading typing_inspect-0.9.0-py3-none-any.whl.metadata (1.5 kB)\n",
            "Collecting starlette<0.42.0,>=0.40.0 (from fastapi<1,>=0.95.2->langchain-chroma==0.1.2->-r requirements.txt (line 10))\n",
            "  Downloading starlette-0.41.0-py3-none-any.whl.metadata (6.0 kB)\n",
            "Requirement already satisfied: anyio<5,>=3.5.0 in /usr/local/lib/python3.10/dist-packages (from groq<1,>=0.4.1->langchain-groq==0.1.6->-r requirements.txt (line 4)) (3.7.1)\n",
            "Requirement already satisfied: distro<2,>=1.7.0 in /usr/lib/python3/dist-packages (from groq<1,>=0.4.1->langchain-groq==0.1.6->-r requirements.txt (line 4)) (1.7.0)\n",
            "Requirement already satisfied: sniffio in /usr/local/lib/python3.10/dist-packages (from groq<1,>=0.4.1->langchain-groq==0.1.6->-r requirements.txt (line 4)) (1.3.1)\n",
            "Collecting jsonpatch<2.0,>=1.33 (from langchain-core<0.3.0,>=0.2.22->langchain==0.2.10->-r requirements.txt (line 1))\n",
            "  Downloading jsonpatch-1.33-py2.py3-none-any.whl.metadata (3.0 kB)\n",
            "Requirement already satisfied: packaging<25,>=23.2 in /usr/local/lib/python3.10/dist-packages (from langchain-core<0.3.0,>=0.2.22->langchain==0.2.10->-r requirements.txt (line 1)) (24.1)\n",
            "Collecting requests-toolbelt<2.0.0,>=1.0.0 (from langsmith<0.2.0,>=0.1.17->langchain==0.2.10->-r requirements.txt (line 1))\n",
            "  Downloading requests_toolbelt-1.0.0-py2.py3-none-any.whl.metadata (14 kB)\n",
            "Collecting jiter<1,>=0.4.0 (from openai<2.0.0,>=1.32.0->langchain-openai==0.1.17->-r requirements.txt (line 2))\n",
            "  Downloading jiter-0.6.1-cp310-cp310-manylinux_2_17_x86_64.manylinux2014_x86_64.whl.metadata (5.2 kB)\n",
            "Requirement already satisfied: annotated-types>=0.6.0 in /usr/local/lib/python3.10/dist-packages (from pydantic<3,>=1->langchain==0.2.10->-r requirements.txt (line 1)) (0.7.0)\n",
            "Requirement already satisfied: pydantic-core==2.23.4 in /usr/local/lib/python3.10/dist-packages (from pydantic<3,>=1->langchain==0.2.10->-r requirements.txt (line 1)) (2.23.4)\n",
            "Requirement already satisfied: charset-normalizer<4,>=2 in /usr/local/lib/python3.10/dist-packages (from requests<3,>=2->langchain==0.2.10->-r requirements.txt (line 1)) (3.4.0)\n",
            "Requirement already satisfied: idna<4,>=2.5 in /usr/local/lib/python3.10/dist-packages (from requests<3,>=2->langchain==0.2.10->-r requirements.txt (line 1)) (3.10)\n",
            "Requirement already satisfied: urllib3<3,>=1.21.1 in /usr/local/lib/python3.10/dist-packages (from requests<3,>=2->langchain==0.2.10->-r requirements.txt (line 1)) (2.2.3)\n",
            "Requirement already satisfied: certifi>=2017.4.17 in /usr/local/lib/python3.10/dist-packages (from requests<3,>=2->langchain==0.2.10->-r requirements.txt (line 1)) (2024.8.30)\n",
            "Requirement already satisfied: greenlet!=0.4.17 in /usr/local/lib/python3.10/dist-packages (from SQLAlchemy<3,>=1.4->langchain==0.2.10->-r requirements.txt (line 1)) (3.1.1)\n",
            "Requirement already satisfied: regex>=2022.1.18 in /usr/local/lib/python3.10/dist-packages (from tiktoken<1,>=0.7->langchain-openai==0.1.17->-r requirements.txt (line 2)) (2024.9.11)\n",
            "Requirement already satisfied: soupsieve>1.2 in /usr/local/lib/python3.10/dist-packages (from beautifulsoup4->bs4==0.0.2->-r requirements.txt (line 6)) (2.6)\n",
            "Requirement already satisfied: six in /usr/local/lib/python3.10/dist-packages (from langdetect->unstructured==0.15.0->-r requirements.txt (line 7)) (1.16.0)\n",
            "Requirement already satisfied: click in /usr/local/lib/python3.10/dist-packages (from nltk->unstructured==0.15.0->-r requirements.txt (line 7)) (8.1.7)\n",
            "Requirement already satisfied: joblib in /usr/local/lib/python3.10/dist-packages (from nltk->unstructured==0.15.0->-r requirements.txt (line 7)) (1.4.2)\n",
            "Requirement already satisfied: cryptography>=3.1 in /usr/local/lib/python3.10/dist-packages (from unstructured-client->unstructured==0.15.0->-r requirements.txt (line 7)) (43.0.3)\n",
            "Requirement already satisfied: eval-type-backport<0.3.0,>=0.2.0 in /usr/local/lib/python3.10/dist-packages (from unstructured-client->unstructured==0.15.0->-r requirements.txt (line 7)) (0.2.0)\n",
            "Collecting jsonpath-python<2.0.0,>=1.0.6 (from unstructured-client->unstructured==0.15.0->-r requirements.txt (line 7))\n",
            "  Downloading jsonpath_python-1.0.6-py3-none-any.whl.metadata (12 kB)\n",
            "Requirement already satisfied: nest-asyncio>=1.6.0 in /usr/local/lib/python3.10/dist-packages (from unstructured-client->unstructured==0.15.0->-r requirements.txt (line 7)) (1.6.0)\n",
            "Requirement already satisfied: python-dateutil==2.8.2 in /usr/local/lib/python3.10/dist-packages (from unstructured-client->unstructured==0.15.0->-r requirements.txt (line 7)) (2.8.2)\n",
            "Requirement already satisfied: exceptiongroup in /usr/local/lib/python3.10/dist-packages (from anyio<5,>=3.5.0->groq<1,>=0.4.1->langchain-groq==0.1.6->-r requirements.txt (line 4)) (1.2.2)\n",
            "Collecting pyproject_hooks (from build>=1.0.3->chromadb<0.6.0,>=0.4.0->langchain-chroma==0.1.2->-r requirements.txt (line 10))\n",
            "  Downloading pyproject_hooks-1.2.0-py3-none-any.whl.metadata (1.3 kB)\n",
            "Requirement already satisfied: tomli>=1.1.0 in /usr/local/lib/python3.10/dist-packages (from build>=1.0.3->chromadb<0.6.0,>=0.4.0->langchain-chroma==0.1.2->-r requirements.txt (line 10)) (2.0.2)\n",
            "Requirement already satisfied: cffi>=1.12 in /usr/local/lib/python3.10/dist-packages (from cryptography>=3.1->unstructured-client->unstructured==0.15.0->-r requirements.txt (line 7)) (1.17.1)\n",
            "Collecting httpcore==1.* (from httpx>=0.27.0->chromadb<0.6.0,>=0.4.0->langchain-chroma==0.1.2->-r requirements.txt (line 10))\n",
            "  Downloading httpcore-1.0.6-py3-none-any.whl.metadata (21 kB)\n",
            "Collecting h11<0.15,>=0.13 (from httpcore==1.*->httpx>=0.27.0->chromadb<0.6.0,>=0.4.0->langchain-chroma==0.1.2->-r requirements.txt (line 10))\n",
            "  Downloading h11-0.14.0-py3-none-any.whl.metadata (8.2 kB)\n",
            "Collecting jsonpointer>=1.9 (from jsonpatch<2.0,>=1.33->langchain-core<0.3.0,>=0.2.22->langchain==0.2.10->-r requirements.txt (line 1))\n",
            "  Downloading jsonpointer-3.0.0-py2.py3-none-any.whl.metadata (2.3 kB)\n",
            "Requirement already satisfied: google-auth>=1.0.1 in /usr/local/lib/python3.10/dist-packages (from kubernetes>=28.1.0->chromadb<0.6.0,>=0.4.0->langchain-chroma==0.1.2->-r requirements.txt (line 10)) (2.27.0)\n",
            "Requirement already satisfied: websocket-client!=0.40.0,!=0.41.*,!=0.42.*,>=0.32.0 in /usr/local/lib/python3.10/dist-packages (from kubernetes>=28.1.0->chromadb<0.6.0,>=0.4.0->langchain-chroma==0.1.2->-r requirements.txt (line 10)) (1.8.0)\n",
            "Requirement already satisfied: requests-oauthlib in /usr/local/lib/python3.10/dist-packages (from kubernetes>=28.1.0->chromadb<0.6.0,>=0.4.0->langchain-chroma==0.1.2->-r requirements.txt (line 10)) (1.3.1)\n",
            "Requirement already satisfied: oauthlib>=3.2.2 in /usr/local/lib/python3.10/dist-packages (from kubernetes>=28.1.0->chromadb<0.6.0,>=0.4.0->langchain-chroma==0.1.2->-r requirements.txt (line 10)) (3.2.2)\n",
            "Collecting durationpy>=0.7 (from kubernetes>=28.1.0->chromadb<0.6.0,>=0.4.0->langchain-chroma==0.1.2->-r requirements.txt (line 10))\n",
            "  Downloading durationpy-0.9-py3-none-any.whl.metadata (338 bytes)\n",
            "Collecting coloredlogs (from onnxruntime>=1.14.1->chromadb<0.6.0,>=0.4.0->langchain-chroma==0.1.2->-r requirements.txt (line 10))\n",
            "  Downloading coloredlogs-15.0.1-py2.py3-none-any.whl.metadata (12 kB)\n",
            "Requirement already satisfied: flatbuffers in /usr/local/lib/python3.10/dist-packages (from onnxruntime>=1.14.1->chromadb<0.6.0,>=0.4.0->langchain-chroma==0.1.2->-r requirements.txt (line 10)) (24.3.25)\n",
            "Requirement already satisfied: protobuf in /usr/local/lib/python3.10/dist-packages (from onnxruntime>=1.14.1->chromadb<0.6.0,>=0.4.0->langchain-chroma==0.1.2->-r requirements.txt (line 10)) (3.20.3)\n",
            "Requirement already satisfied: sympy in /usr/local/lib/python3.10/dist-packages (from onnxruntime>=1.14.1->chromadb<0.6.0,>=0.4.0->langchain-chroma==0.1.2->-r requirements.txt (line 10)) (1.13.1)\n",
            "Requirement already satisfied: deprecated>=1.2.6 in /usr/local/lib/python3.10/dist-packages (from opentelemetry-api>=1.2.0->chromadb<0.6.0,>=0.4.0->langchain-chroma==0.1.2->-r requirements.txt (line 10)) (1.2.14)\n",
            "Requirement already satisfied: setuptools>=16.0 in /usr/local/lib/python3.10/dist-packages (from opentelemetry-api>=1.2.0->chromadb<0.6.0,>=0.4.0->langchain-chroma==0.1.2->-r requirements.txt (line 10)) (75.1.0)\n",
            "Requirement already satisfied: googleapis-common-protos~=1.52 in /usr/local/lib/python3.10/dist-packages (from opentelemetry-exporter-otlp-proto-grpc>=1.2.0->chromadb<0.6.0,>=0.4.0->langchain-chroma==0.1.2->-r requirements.txt (line 10)) (1.65.0)\n",
            "Collecting opentelemetry-exporter-otlp-proto-common==1.27.0 (from opentelemetry-exporter-otlp-proto-grpc>=1.2.0->chromadb<0.6.0,>=0.4.0->langchain-chroma==0.1.2->-r requirements.txt (line 10))\n",
            "  Downloading opentelemetry_exporter_otlp_proto_common-1.27.0-py3-none-any.whl.metadata (1.8 kB)\n",
            "Collecting opentelemetry-proto==1.27.0 (from opentelemetry-exporter-otlp-proto-grpc>=1.2.0->chromadb<0.6.0,>=0.4.0->langchain-chroma==0.1.2->-r requirements.txt (line 10))\n",
            "  Downloading opentelemetry_proto-1.27.0-py3-none-any.whl.metadata (2.3 kB)\n",
            "Collecting opentelemetry-sdk>=1.2.0 (from chromadb<0.6.0,>=0.4.0->langchain-chroma==0.1.2->-r requirements.txt (line 10))\n",
            "  Downloading opentelemetry_sdk-1.27.0-py3-none-any.whl.metadata (1.5 kB)\n",
            "Collecting opentelemetry-instrumentation-asgi==0.48b0 (from opentelemetry-instrumentation-fastapi>=0.41b0->chromadb<0.6.0,>=0.4.0->langchain-chroma==0.1.2->-r requirements.txt (line 10))\n",
            "  Downloading opentelemetry_instrumentation_asgi-0.48b0-py3-none-any.whl.metadata (2.0 kB)\n",
            "Collecting opentelemetry-instrumentation==0.48b0 (from opentelemetry-instrumentation-fastapi>=0.41b0->chromadb<0.6.0,>=0.4.0->langchain-chroma==0.1.2->-r requirements.txt (line 10))\n",
            "  Downloading opentelemetry_instrumentation-0.48b0-py3-none-any.whl.metadata (6.1 kB)\n",
            "Collecting opentelemetry-semantic-conventions==0.48b0 (from opentelemetry-instrumentation-fastapi>=0.41b0->chromadb<0.6.0,>=0.4.0->langchain-chroma==0.1.2->-r requirements.txt (line 10))\n",
            "  Downloading opentelemetry_semantic_conventions-0.48b0-py3-none-any.whl.metadata (2.4 kB)\n",
            "Collecting opentelemetry-util-http==0.48b0 (from opentelemetry-instrumentation-fastapi>=0.41b0->chromadb<0.6.0,>=0.4.0->langchain-chroma==0.1.2->-r requirements.txt (line 10))\n",
            "  Downloading opentelemetry_util_http-0.48b0-py3-none-any.whl.metadata (2.5 kB)\n",
            "Collecting asgiref~=3.0 (from opentelemetry-instrumentation-asgi==0.48b0->opentelemetry-instrumentation-fastapi>=0.41b0->chromadb<0.6.0,>=0.4.0->langchain-chroma==0.1.2->-r requirements.txt (line 10))\n",
            "  Downloading asgiref-3.8.1-py3-none-any.whl.metadata (9.3 kB)\n",
            "Collecting opentelemetry-api>=1.2.0 (from chromadb<0.6.0,>=0.4.0->langchain-chroma==0.1.2->-r requirements.txt (line 10))\n",
            "  Downloading opentelemetry_api-1.27.0-py3-none-any.whl.metadata (1.4 kB)\n",
            "Collecting importlib-metadata<=8.4.0,>=6.0 (from opentelemetry-api>=1.2.0->chromadb<0.6.0,>=0.4.0->langchain-chroma==0.1.2->-r requirements.txt (line 10))\n",
            "  Downloading importlib_metadata-8.4.0-py3-none-any.whl.metadata (4.7 kB)\n",
            "Collecting monotonic>=1.5 (from posthog>=2.4.0->chromadb<0.6.0,>=0.4.0->langchain-chroma==0.1.2->-r requirements.txt (line 10))\n",
            "  Downloading monotonic-1.6-py2.py3-none-any.whl.metadata (1.5 kB)\n",
            "Requirement already satisfied: markdown-it-py>=2.2.0 in /usr/local/lib/python3.10/dist-packages (from rich>=10.11.0->chromadb<0.6.0,>=0.4.0->langchain-chroma==0.1.2->-r requirements.txt (line 10)) (3.0.0)\n",
            "Requirement already satisfied: pygments<3.0.0,>=2.13.0 in /usr/local/lib/python3.10/dist-packages (from rich>=10.11.0->chromadb<0.6.0,>=0.4.0->langchain-chroma==0.1.2->-r requirements.txt (line 10)) (2.18.0)\n",
            "Requirement already satisfied: huggingface-hub<1.0,>=0.16.4 in /usr/local/lib/python3.10/dist-packages (from tokenizers>=0.13.2->chromadb<0.6.0,>=0.4.0->langchain-chroma==0.1.2->-r requirements.txt (line 10)) (0.24.7)\n",
            "Requirement already satisfied: shellingham>=1.3.0 in /usr/local/lib/python3.10/dist-packages (from typer>=0.9.0->chromadb<0.6.0,>=0.4.0->langchain-chroma==0.1.2->-r requirements.txt (line 10)) (1.5.4)\n",
            "Collecting mypy-extensions>=0.3.0 (from typing-inspect<1,>=0.4.0->dataclasses-json<0.7,>=0.5.7->langchain-community==0.2.10->-r requirements.txt (line 5))\n",
            "  Downloading mypy_extensions-1.0.0-py3-none-any.whl.metadata (1.1 kB)\n",
            "Collecting httptools>=0.5.0 (from uvicorn[standard]>=0.18.3->chromadb<0.6.0,>=0.4.0->langchain-chroma==0.1.2->-r requirements.txt (line 10))\n",
            "  Downloading httptools-0.6.4-cp310-cp310-manylinux_2_5_x86_64.manylinux1_x86_64.manylinux_2_17_x86_64.manylinux2014_x86_64.whl.metadata (3.6 kB)\n",
            "Collecting uvloop!=0.15.0,!=0.15.1,>=0.14.0 (from uvicorn[standard]>=0.18.3->chromadb<0.6.0,>=0.4.0->langchain-chroma==0.1.2->-r requirements.txt (line 10))\n",
            "  Downloading uvloop-0.21.0-cp310-cp310-manylinux_2_17_x86_64.manylinux2014_x86_64.whl.metadata (4.9 kB)\n",
            "Collecting watchfiles>=0.13 (from uvicorn[standard]>=0.18.3->chromadb<0.6.0,>=0.4.0->langchain-chroma==0.1.2->-r requirements.txt (line 10))\n",
            "  Downloading watchfiles-0.24.0-cp310-cp310-manylinux_2_17_x86_64.manylinux2014_x86_64.whl.metadata (4.9 kB)\n",
            "Collecting websockets>=10.4 (from uvicorn[standard]>=0.18.3->chromadb<0.6.0,>=0.4.0->langchain-chroma==0.1.2->-r requirements.txt (line 10))\n",
            "  Downloading websockets-13.1-cp310-cp310-manylinux_2_5_x86_64.manylinux1_x86_64.manylinux_2_17_x86_64.manylinux2014_x86_64.whl.metadata (6.8 kB)\n",
            "Requirement already satisfied: propcache>=0.2.0 in /usr/local/lib/python3.10/dist-packages (from yarl<2.0,>=1.12.0->aiohttp<4.0.0,>=3.8.3->langchain==0.2.10->-r requirements.txt (line 1)) (0.2.0)\n",
            "Requirement already satisfied: pycparser in /usr/local/lib/python3.10/dist-packages (from cffi>=1.12->cryptography>=3.1->unstructured-client->unstructured==0.15.0->-r requirements.txt (line 7)) (2.22)\n",
            "Requirement already satisfied: cachetools<6.0,>=2.0.0 in /usr/local/lib/python3.10/dist-packages (from google-auth>=1.0.1->kubernetes>=28.1.0->chromadb<0.6.0,>=0.4.0->langchain-chroma==0.1.2->-r requirements.txt (line 10)) (5.5.0)\n",
            "Requirement already satisfied: pyasn1-modules>=0.2.1 in /usr/local/lib/python3.10/dist-packages (from google-auth>=1.0.1->kubernetes>=28.1.0->chromadb<0.6.0,>=0.4.0->langchain-chroma==0.1.2->-r requirements.txt (line 10)) (0.4.1)\n",
            "Requirement already satisfied: rsa<5,>=3.1.4 in /usr/local/lib/python3.10/dist-packages (from google-auth>=1.0.1->kubernetes>=28.1.0->chromadb<0.6.0,>=0.4.0->langchain-chroma==0.1.2->-r requirements.txt (line 10)) (4.9)\n",
            "Requirement already satisfied: filelock in /usr/local/lib/python3.10/dist-packages (from huggingface-hub<1.0,>=0.16.4->tokenizers>=0.13.2->chromadb<0.6.0,>=0.4.0->langchain-chroma==0.1.2->-r requirements.txt (line 10)) (3.16.1)\n",
            "Requirement already satisfied: fsspec>=2023.5.0 in /usr/local/lib/python3.10/dist-packages (from huggingface-hub<1.0,>=0.16.4->tokenizers>=0.13.2->chromadb<0.6.0,>=0.4.0->langchain-chroma==0.1.2->-r requirements.txt (line 10)) (2024.6.1)\n",
            "Requirement already satisfied: zipp>=0.5 in /usr/local/lib/python3.10/dist-packages (from importlib-metadata<=8.4.0,>=6.0->opentelemetry-api>=1.2.0->chromadb<0.6.0,>=0.4.0->langchain-chroma==0.1.2->-r requirements.txt (line 10)) (3.20.2)\n",
            "Requirement already satisfied: mdurl~=0.1 in /usr/local/lib/python3.10/dist-packages (from markdown-it-py>=2.2.0->rich>=10.11.0->chromadb<0.6.0,>=0.4.0->langchain-chroma==0.1.2->-r requirements.txt (line 10)) (0.1.2)\n",
            "Collecting humanfriendly>=9.1 (from coloredlogs->onnxruntime>=1.14.1->chromadb<0.6.0,>=0.4.0->langchain-chroma==0.1.2->-r requirements.txt (line 10))\n",
            "  Downloading humanfriendly-10.0-py2.py3-none-any.whl.metadata (9.2 kB)\n",
            "Requirement already satisfied: mpmath<1.4,>=1.1.0 in /usr/local/lib/python3.10/dist-packages (from sympy->onnxruntime>=1.14.1->chromadb<0.6.0,>=0.4.0->langchain-chroma==0.1.2->-r requirements.txt (line 10)) (1.3.0)\n",
            "Requirement already satisfied: pyasn1<0.7.0,>=0.4.6 in /usr/local/lib/python3.10/dist-packages (from pyasn1-modules>=0.2.1->google-auth>=1.0.1->kubernetes>=28.1.0->chromadb<0.6.0,>=0.4.0->langchain-chroma==0.1.2->-r requirements.txt (line 10)) (0.6.1)\n",
            "Downloading langchain-0.2.10-py3-none-any.whl (990 kB)\n",
            "\u001b[2K   \u001b[90m━━━━━━━━━━━━━━━━━━━━━━━━━━━━━━━━━━━━━━━━\u001b[0m \u001b[32m990.0/990.0 kB\u001b[0m \u001b[31m44.5 MB/s\u001b[0m eta \u001b[36m0:00:00\u001b[0m\n",
            "\u001b[?25hDownloading langchain_openai-0.1.17-py3-none-any.whl (46 kB)\n",
            "\u001b[2K   \u001b[90m━━━━━━━━━━━━━━━━━━━━━━━━━━━━━━━━━━━━━━━━\u001b[0m \u001b[32m46.7/46.7 kB\u001b[0m \u001b[31m3.2 MB/s\u001b[0m eta \u001b[36m0:00:00\u001b[0m\n",
            "\u001b[?25hDownloading python_dotenv-1.0.1-py3-none-any.whl (19 kB)\n",
            "Downloading langchain_groq-0.1.6-py3-none-any.whl (14 kB)\n",
            "Downloading langchain_community-0.2.10-py3-none-any.whl (2.3 MB)\n",
            "\u001b[2K   \u001b[90m━━━━━━━━━━━━━━━━━━━━━━━━━━━━━━━━━━━━━━━━\u001b[0m \u001b[32m2.3/2.3 MB\u001b[0m \u001b[31m57.4 MB/s\u001b[0m eta \u001b[36m0:00:00\u001b[0m\n",
            "\u001b[?25hDownloading bs4-0.0.2-py2.py3-none-any.whl (1.2 kB)\n",
            "Downloading unstructured-0.15.0-py3-none-any.whl (2.1 MB)\n",
            "\u001b[2K   \u001b[90m━━━━━━━━━━━━━━━━━━━━━━━━━━━━━━━━━━━━━━━━\u001b[0m \u001b[32m2.1/2.1 MB\u001b[0m \u001b[31m65.8 MB/s\u001b[0m eta \u001b[36m0:00:00\u001b[0m\n",
            "\u001b[?25hDownloading pypdf-4.3.1-py3-none-any.whl (295 kB)\n",
            "\u001b[2K   \u001b[90m━━━━━━━━━━━━━━━━━━━━━━━━━━━━━━━━━━━━━━━━\u001b[0m \u001b[32m295.8/295.8 kB\u001b[0m \u001b[31m20.1 MB/s\u001b[0m eta \u001b[36m0:00:00\u001b[0m\n",
            "\u001b[?25hDownloading langchain_chroma-0.1.2-py3-none-any.whl (9.3 kB)\n",
            "Downloading chromadb-0.5.15-py3-none-any.whl (607 kB)\n",
            "\u001b[2K   \u001b[90m━━━━━━━━━━━━━━━━━━━━━━━━━━━━━━━━━━━━━━━━\u001b[0m \u001b[32m607.0/607.0 kB\u001b[0m \u001b[31m36.2 MB/s\u001b[0m eta \u001b[36m0:00:00\u001b[0m\n",
            "\u001b[?25hDownloading chroma_hnswlib-0.7.6-cp310-cp310-manylinux_2_17_x86_64.manylinux2014_x86_64.whl (2.4 MB)\n",
            "\u001b[2K   \u001b[90m━━━━━━━━━━━━━━━━━━━━━━━━━━━━━━━━━━━━━━━━\u001b[0m \u001b[32m2.4/2.4 MB\u001b[0m \u001b[31m60.1 MB/s\u001b[0m eta \u001b[36m0:00:00\u001b[0m\n",
            "\u001b[?25hDownloading dataclasses_json-0.6.7-py3-none-any.whl (28 kB)\n",
            "Downloading fastapi-0.115.3-py3-none-any.whl (94 kB)\n",
            "\u001b[2K   \u001b[90m━━━━━━━━━━━━━━━━━━━━━━━━━━━━━━━━━━━━━━━━\u001b[0m \u001b[32m94.6/94.6 kB\u001b[0m \u001b[31m7.3 MB/s\u001b[0m eta \u001b[36m0:00:00\u001b[0m\n",
            "\u001b[?25hDownloading groq-0.11.0-py3-none-any.whl (106 kB)\n",
            "\u001b[2K   \u001b[90m━━━━━━━━━━━━━━━━━━━━━━━━━━━━━━━━━━━━━━━━\u001b[0m \u001b[32m106.5/106.5 kB\u001b[0m \u001b[31m7.1 MB/s\u001b[0m eta \u001b[36m0:00:00\u001b[0m\n",
            "\u001b[?25hDownloading langchain_core-0.2.41-py3-none-any.whl (397 kB)\n",
            "\u001b[2K   \u001b[90m━━━━━━━━━━━━━━━━━━━━━━━━━━━━━━━━━━━━━━━━\u001b[0m \u001b[32m397.0/397.0 kB\u001b[0m \u001b[31m26.2 MB/s\u001b[0m eta \u001b[36m0:00:00\u001b[0m\n",
            "\u001b[?25hDownloading langchain_text_splitters-0.2.4-py3-none-any.whl (25 kB)\n",
            "Downloading langsmith-0.1.137-py3-none-any.whl (296 kB)\n",
            "\u001b[2K   \u001b[90m━━━━━━━━━━━━━━━━━━━━━━━━━━━━━━━━━━━━━━━━\u001b[0m \u001b[32m296.9/296.9 kB\u001b[0m \u001b[31m22.5 MB/s\u001b[0m eta \u001b[36m0:00:00\u001b[0m\n",
            "\u001b[?25hDownloading openai-1.52.1-py3-none-any.whl (386 kB)\n",
            "\u001b[2K   \u001b[90m━━━━━━━━━━━━━━━━━━━━━━━━━━━━━━━━━━━━━━━━\u001b[0m \u001b[32m386.9/386.9 kB\u001b[0m \u001b[31m25.6 MB/s\u001b[0m eta \u001b[36m0:00:00\u001b[0m\n",
            "\u001b[?25hDownloading tenacity-8.5.0-py3-none-any.whl (28 kB)\n",
            "Downloading tiktoken-0.8.0-cp310-cp310-manylinux_2_17_x86_64.manylinux2014_x86_64.whl (1.2 MB)\n",
            "\u001b[2K   \u001b[90m━━━━━━━━━━━━━━━━━━━━━━━━━━━━━━━━━━━━━━━━\u001b[0m \u001b[32m1.2/1.2 MB\u001b[0m \u001b[31m53.9 MB/s\u001b[0m eta \u001b[36m0:00:00\u001b[0m\n",
            "\u001b[?25hDownloading backoff-2.2.1-py3-none-any.whl (15 kB)\n",
            "Downloading emoji-2.14.0-py3-none-any.whl (586 kB)\n",
            "\u001b[2K   \u001b[90m━━━━━━━━━━━━━━━━━━━━━━━━━━━━━━━━━━━━━━━━\u001b[0m \u001b[32m586.9/586.9 kB\u001b[0m \u001b[31m33.3 MB/s\u001b[0m eta \u001b[36m0:00:00\u001b[0m\n",
            "\u001b[?25hDownloading filetype-1.2.0-py2.py3-none-any.whl (19 kB)\n",
            "Downloading python_iso639-2024.10.22-py3-none-any.whl (274 kB)\n",
            "\u001b[2K   \u001b[90m━━━━━━━━━━━━━━━━━━━━━━━━━━━━━━━━━━━━━━━━\u001b[0m \u001b[32m274.9/274.9 kB\u001b[0m \u001b[31m17.8 MB/s\u001b[0m eta \u001b[36m0:00:00\u001b[0m\n",
            "\u001b[?25hDownloading python_magic-0.4.27-py2.py3-none-any.whl (13 kB)\n",
            "Downloading rapidfuzz-3.10.0-cp310-cp310-manylinux_2_17_x86_64.manylinux2014_x86_64.whl (3.1 MB)\n",
            "\u001b[2K   \u001b[90m━━━━━━━━━━━━━━━━━━━━━━━━━━━━━━━━━━━━━━━━\u001b[0m \u001b[32m3.1/3.1 MB\u001b[0m \u001b[31m77.6 MB/s\u001b[0m eta \u001b[36m0:00:00\u001b[0m\n",
            "\u001b[?25hDownloading unstructured_client-0.26.1-py3-none-any.whl (60 kB)\n",
            "\u001b[2K   \u001b[90m━━━━━━━━━━━━━━━━━━━━━━━━━━━━━━━━━━━━━━━━\u001b[0m \u001b[32m60.2/60.2 kB\u001b[0m \u001b[31m3.5 MB/s\u001b[0m eta \u001b[36m0:00:00\u001b[0m\n",
            "\u001b[?25hDownloading bcrypt-4.2.0-cp39-abi3-manylinux_2_28_x86_64.whl (273 kB)\n",
            "\u001b[2K   \u001b[90m━━━━━━━━━━━━━━━━━━━━━━━━━━━━━━━━━━━━━━━━\u001b[0m \u001b[32m273.8/273.8 kB\u001b[0m \u001b[31m19.8 MB/s\u001b[0m eta \u001b[36m0:00:00\u001b[0m\n",
            "\u001b[?25hDownloading build-1.2.2.post1-py3-none-any.whl (22 kB)\n",
            "Downloading httpx-0.27.2-py3-none-any.whl (76 kB)\n",
            "\u001b[2K   \u001b[90m━━━━━━━━━━━━━━━━━━━━━━━━━━━━━━━━━━━━━━━━\u001b[0m \u001b[32m76.4/76.4 kB\u001b[0m \u001b[31m5.8 MB/s\u001b[0m eta \u001b[36m0:00:00\u001b[0m\n",
            "\u001b[?25hDownloading httpcore-1.0.6-py3-none-any.whl (78 kB)\n",
            "\u001b[2K   \u001b[90m━━━━━━━━━━━━━━━━━━━━━━━━━━━━━━━━━━━━━━━━\u001b[0m \u001b[32m78.0/78.0 kB\u001b[0m \u001b[31m6.2 MB/s\u001b[0m eta \u001b[36m0:00:00\u001b[0m\n",
            "\u001b[?25hDownloading jiter-0.6.1-cp310-cp310-manylinux_2_17_x86_64.manylinux2014_x86_64.whl (325 kB)\n",
            "\u001b[2K   \u001b[90m━━━━━━━━━━━━━━━━━━━━━━━━━━━━━━━━━━━━━━━━\u001b[0m \u001b[32m325.2/325.2 kB\u001b[0m \u001b[31m21.1 MB/s\u001b[0m eta \u001b[36m0:00:00\u001b[0m\n",
            "\u001b[?25hDownloading jsonpatch-1.33-py2.py3-none-any.whl (12 kB)\n",
            "Downloading jsonpath_python-1.0.6-py3-none-any.whl (7.6 kB)\n",
            "Downloading kubernetes-31.0.0-py2.py3-none-any.whl (1.9 MB)\n",
            "\u001b[2K   \u001b[90m━━━━━━━━━━━━━━━━━━━━━━━━━━━━━━━━━━━━━━━━\u001b[0m \u001b[32m1.9/1.9 MB\u001b[0m \u001b[31m56.0 MB/s\u001b[0m eta \u001b[36m0:00:00\u001b[0m\n",
            "\u001b[?25hDownloading marshmallow-3.23.0-py3-none-any.whl (49 kB)\n",
            "\u001b[2K   \u001b[90m━━━━━━━━━━━━━━━━━━━━━━━━━━━━━━━━━━━━━━━━\u001b[0m \u001b[32m49.5/49.5 kB\u001b[0m \u001b[31m4.0 MB/s\u001b[0m eta \u001b[36m0:00:00\u001b[0m\n",
            "\u001b[?25hDownloading mmh3-5.0.1-cp310-cp310-manylinux_2_5_x86_64.manylinux1_x86_64.manylinux_2_17_x86_64.manylinux2014_x86_64.whl (93 kB)\n",
            "\u001b[2K   \u001b[90m━━━━━━━━━━━━━━━━━━━━━━━━━━━━━━━━━━━━━━━━\u001b[0m \u001b[32m93.2/93.2 kB\u001b[0m \u001b[31m7.7 MB/s\u001b[0m eta \u001b[36m0:00:00\u001b[0m\n",
            "\u001b[?25hDownloading onnxruntime-1.19.2-cp310-cp310-manylinux_2_27_x86_64.manylinux_2_28_x86_64.whl (13.2 MB)\n",
            "\u001b[2K   \u001b[90m━━━━━━━━━━━━━━━━━━━━━━━━━━━━━━━━━━━━━━━━\u001b[0m \u001b[32m13.2/13.2 MB\u001b[0m \u001b[31m82.3 MB/s\u001b[0m eta \u001b[36m0:00:00\u001b[0m\n",
            "\u001b[?25hDownloading opentelemetry_exporter_otlp_proto_grpc-1.27.0-py3-none-any.whl (18 kB)\n",
            "Downloading opentelemetry_exporter_otlp_proto_common-1.27.0-py3-none-any.whl (17 kB)\n",
            "Downloading opentelemetry_proto-1.27.0-py3-none-any.whl (52 kB)\n",
            "\u001b[2K   \u001b[90m━━━━━━━━━━━━━━━━━━━━━━━━━━━━━━━━━━━━━━━━\u001b[0m \u001b[32m52.5/52.5 kB\u001b[0m \u001b[31m3.6 MB/s\u001b[0m eta \u001b[36m0:00:00\u001b[0m\n",
            "\u001b[?25hDownloading opentelemetry_instrumentation_fastapi-0.48b0-py3-none-any.whl (11 kB)\n",
            "Downloading opentelemetry_instrumentation-0.48b0-py3-none-any.whl (29 kB)\n",
            "Downloading opentelemetry_instrumentation_asgi-0.48b0-py3-none-any.whl (15 kB)\n",
            "Downloading opentelemetry_semantic_conventions-0.48b0-py3-none-any.whl (149 kB)\n",
            "\u001b[2K   \u001b[90m━━━━━━━━━━━━━━━━━━━━━━━━━━━━━━━━━━━━━━━━\u001b[0m \u001b[32m149.7/149.7 kB\u001b[0m \u001b[31m11.3 MB/s\u001b[0m eta \u001b[36m0:00:00\u001b[0m\n",
            "\u001b[?25hDownloading opentelemetry_api-1.27.0-py3-none-any.whl (63 kB)\n",
            "\u001b[2K   \u001b[90m━━━━━━━━━━━━━━━━━━━━━━━━━━━━━━━━━━━━━━━━\u001b[0m \u001b[32m64.0/64.0 kB\u001b[0m \u001b[31m4.8 MB/s\u001b[0m eta \u001b[36m0:00:00\u001b[0m\n",
            "\u001b[?25hDownloading opentelemetry_util_http-0.48b0-py3-none-any.whl (6.9 kB)\n",
            "Downloading opentelemetry_sdk-1.27.0-py3-none-any.whl (110 kB)\n",
            "\u001b[2K   \u001b[90m━━━━━━━━━━━━━━━━━━━━━━━━━━━━━━━━━━━━━━━━\u001b[0m \u001b[32m110.5/110.5 kB\u001b[0m \u001b[31m8.1 MB/s\u001b[0m eta \u001b[36m0:00:00\u001b[0m\n",
            "\u001b[?25hDownloading orjson-3.10.10-cp310-cp310-manylinux_2_17_x86_64.manylinux2014_x86_64.whl (144 kB)\n",
            "\u001b[2K   \u001b[90m━━━━━━━━━━━━━━━━━━━━━━━━━━━━━━━━━━━━━━━━\u001b[0m \u001b[32m144.5/144.5 kB\u001b[0m \u001b[31m6.5 MB/s\u001b[0m eta \u001b[36m0:00:00\u001b[0m\n",
            "\u001b[?25hDownloading overrides-7.7.0-py3-none-any.whl (17 kB)\n",
            "Downloading posthog-3.7.0-py2.py3-none-any.whl (54 kB)\n",
            "\u001b[2K   \u001b[90m━━━━━━━━━━━━━━━━━━━━━━━━━━━━━━━━━━━━━━━━\u001b[0m \u001b[32m54.4/54.4 kB\u001b[0m \u001b[31m3.1 MB/s\u001b[0m eta \u001b[36m0:00:00\u001b[0m\n",
            "\u001b[?25hDownloading requests_toolbelt-1.0.0-py2.py3-none-any.whl (54 kB)\n",
            "\u001b[2K   \u001b[90m━━━━━━━━━━━━━━━━━━━━━━━━━━━━━━━━━━━━━━━━\u001b[0m \u001b[32m54.5/54.5 kB\u001b[0m \u001b[31m4.2 MB/s\u001b[0m eta \u001b[36m0:00:00\u001b[0m\n",
            "\u001b[?25hDownloading starlette-0.41.0-py3-none-any.whl (73 kB)\n",
            "\u001b[2K   \u001b[90m━━━━━━━━━━━━━━━━━━━━━━━━━━━━━━━━━━━━━━━━\u001b[0m \u001b[32m73.2/73.2 kB\u001b[0m \u001b[31m5.0 MB/s\u001b[0m eta \u001b[36m0:00:00\u001b[0m\n",
            "\u001b[?25hDownloading typing_inspect-0.9.0-py3-none-any.whl (8.8 kB)\n",
            "Downloading uvicorn-0.32.0-py3-none-any.whl (63 kB)\n",
            "\u001b[2K   \u001b[90m━━━━━━━━━━━━━━━━━━━━━━━━━━━━━━━━━━━━━━━━\u001b[0m \u001b[32m63.7/63.7 kB\u001b[0m \u001b[31m5.0 MB/s\u001b[0m eta \u001b[36m0:00:00\u001b[0m\n",
            "\u001b[?25hDownloading durationpy-0.9-py3-none-any.whl (3.5 kB)\n",
            "Downloading h11-0.14.0-py3-none-any.whl (58 kB)\n",
            "\u001b[2K   \u001b[90m━━━━━━━━━━━━━━━━━━━━━━━━━━━━━━━━━━━━━━━━\u001b[0m \u001b[32m58.3/58.3 kB\u001b[0m \u001b[31m4.2 MB/s\u001b[0m eta \u001b[36m0:00:00\u001b[0m\n",
            "\u001b[?25hDownloading httptools-0.6.4-cp310-cp310-manylinux_2_5_x86_64.manylinux1_x86_64.manylinux_2_17_x86_64.manylinux2014_x86_64.whl (442 kB)\n",
            "\u001b[2K   \u001b[90m━━━━━━━━━━━━━━━━━━━━━━━━━━━━━━━━━━━━━━━━\u001b[0m \u001b[32m442.1/442.1 kB\u001b[0m \u001b[31m27.3 MB/s\u001b[0m eta \u001b[36m0:00:00\u001b[0m\n",
            "\u001b[?25hDownloading importlib_metadata-8.4.0-py3-none-any.whl (26 kB)\n",
            "Downloading jsonpointer-3.0.0-py2.py3-none-any.whl (7.6 kB)\n",
            "Downloading monotonic-1.6-py2.py3-none-any.whl (8.2 kB)\n",
            "Downloading mypy_extensions-1.0.0-py3-none-any.whl (4.7 kB)\n",
            "Downloading uvloop-0.21.0-cp310-cp310-manylinux_2_17_x86_64.manylinux2014_x86_64.whl (3.8 MB)\n",
            "\u001b[2K   \u001b[90m━━━━━━━━━━━━━━━━━━━━━━━━━━━━━━━━━━━━━━━━\u001b[0m \u001b[32m3.8/3.8 MB\u001b[0m \u001b[31m75.5 MB/s\u001b[0m eta \u001b[36m0:00:00\u001b[0m\n",
            "\u001b[?25hDownloading watchfiles-0.24.0-cp310-cp310-manylinux_2_17_x86_64.manylinux2014_x86_64.whl (425 kB)\n",
            "\u001b[2K   \u001b[90m━━━━━━━━━━━━━━━━━━━━━━━━━━━━━━━━━━━━━━━━\u001b[0m \u001b[32m425.7/425.7 kB\u001b[0m \u001b[31m24.8 MB/s\u001b[0m eta \u001b[36m0:00:00\u001b[0m\n",
            "\u001b[?25hDownloading websockets-13.1-cp310-cp310-manylinux_2_5_x86_64.manylinux1_x86_64.manylinux_2_17_x86_64.manylinux2014_x86_64.whl (164 kB)\n",
            "\u001b[2K   \u001b[90m━━━━━━━━━━━━━━━━━━━━━━━━━━━━━━━━━━━━━━━━\u001b[0m \u001b[32m164.1/164.1 kB\u001b[0m \u001b[31m11.4 MB/s\u001b[0m eta \u001b[36m0:00:00\u001b[0m\n",
            "\u001b[?25hDownloading coloredlogs-15.0.1-py2.py3-none-any.whl (46 kB)\n",
            "\u001b[2K   \u001b[90m━━━━━━━━━━━━━━━━━━━━━━━━━━━━━━━━━━━━━━━━\u001b[0m \u001b[32m46.0/46.0 kB\u001b[0m \u001b[31m3.4 MB/s\u001b[0m eta \u001b[36m0:00:00\u001b[0m\n",
            "\u001b[?25hDownloading pyproject_hooks-1.2.0-py3-none-any.whl (10 kB)\n",
            "Downloading asgiref-3.8.1-py3-none-any.whl (23 kB)\n",
            "Downloading humanfriendly-10.0-py2.py3-none-any.whl (86 kB)\n",
            "\u001b[2K   \u001b[90m━━━━━━━━━━━━━━━━━━━━━━━━━━━━━━━━━━━━━━━━\u001b[0m \u001b[32m86.8/86.8 kB\u001b[0m \u001b[31m6.2 MB/s\u001b[0m eta \u001b[36m0:00:00\u001b[0m\n",
            "\u001b[?25hBuilding wheels for collected packages: wikipedia, langdetect, pypika\n",
            "  Building wheel for wikipedia (setup.py) ... \u001b[?25l\u001b[?25hdone\n",
            "  Created wheel for wikipedia: filename=wikipedia-1.4.0-py3-none-any.whl size=11679 sha256=f48c70dd18c032f4e4cc8544f61ae9c3a5e57b378500f595d2ddf498fe2c8cc7\n",
            "  Stored in directory: /root/.cache/pip/wheels/5e/b6/c5/93f3dec388ae76edc830cb42901bb0232504dfc0df02fc50de\n",
            "  Building wheel for langdetect (setup.py) ... \u001b[?25l\u001b[?25hdone\n",
            "  Created wheel for langdetect: filename=langdetect-1.0.9-py3-none-any.whl size=993222 sha256=802de289d39ffa27b0c0388e384e71a926dacd6df2536a65bfc9f110be3a4d30\n",
            "  Stored in directory: /root/.cache/pip/wheels/95/03/7d/59ea870c70ce4e5a370638b5462a7711ab78fba2f655d05106\n",
            "  Building wheel for pypika (pyproject.toml) ... \u001b[?25l\u001b[?25hdone\n",
            "  Created wheel for pypika: filename=PyPika-0.48.9-py2.py3-none-any.whl size=53725 sha256=dac51277857c0dbaffe4aad2a3ce0d1ed6e7b0b517ad52f78fb45444ee9c905a\n",
            "  Stored in directory: /root/.cache/pip/wheels/e1/26/51/d0bffb3d2fd82256676d7ad3003faea3bd6dddc9577af665f4\n",
            "Successfully built wikipedia langdetect pypika\n",
            "Installing collected packages: pypika, monotonic, filetype, durationpy, websockets, uvloop, tenacity, rapidfuzz, python-magic, python-iso639, python-dotenv, pyproject_hooks, pypdf, overrides, orjson, opentelemetry-util-http, opentelemetry-proto, mypy-extensions, mmh3, marshmallow, langdetect, jsonpointer, jsonpath-python, jiter, importlib-metadata, humanfriendly, httptools, h11, emoji, chroma-hnswlib, bcrypt, backoff, asgiref, wikipedia, watchfiles, uvicorn, typing-inspect, tiktoken, starlette, requests-toolbelt, posthog, opentelemetry-exporter-otlp-proto-common, opentelemetry-api, jsonpatch, httpcore, coloredlogs, build, bs4, opentelemetry-semantic-conventions, opentelemetry-instrumentation, onnxruntime, kubernetes, httpx, fastapi, dataclasses-json, unstructured-client, opentelemetry-sdk, opentelemetry-instrumentation-asgi, openai, langsmith, groq, unstructured, opentelemetry-instrumentation-fastapi, opentelemetry-exporter-otlp-proto-grpc, langchain-core, langchain-text-splitters, langchain-openai, langchain-groq, chromadb, langchain-chroma, langchain, langchain-community\n",
            "  Attempting uninstall: tenacity\n",
            "    Found existing installation: tenacity 9.0.0\n",
            "    Uninstalling tenacity-9.0.0:\n",
            "      Successfully uninstalled tenacity-9.0.0\n",
            "  Attempting uninstall: importlib-metadata\n",
            "    Found existing installation: importlib_metadata 8.5.0\n",
            "    Uninstalling importlib_metadata-8.5.0:\n",
            "      Successfully uninstalled importlib_metadata-8.5.0\n",
            "  Attempting uninstall: opentelemetry-api\n",
            "    Found existing installation: opentelemetry-api 1.16.0\n",
            "    Uninstalling opentelemetry-api-1.16.0:\n",
            "      Successfully uninstalled opentelemetry-api-1.16.0\n",
            "  Attempting uninstall: opentelemetry-semantic-conventions\n",
            "    Found existing installation: opentelemetry-semantic-conventions 0.37b0\n",
            "    Uninstalling opentelemetry-semantic-conventions-0.37b0:\n",
            "      Successfully uninstalled opentelemetry-semantic-conventions-0.37b0\n",
            "  Attempting uninstall: opentelemetry-sdk\n",
            "    Found existing installation: opentelemetry-sdk 1.16.0\n",
            "    Uninstalling opentelemetry-sdk-1.16.0:\n",
            "      Successfully uninstalled opentelemetry-sdk-1.16.0\n",
            "Successfully installed asgiref-3.8.1 backoff-2.2.1 bcrypt-4.2.0 bs4-0.0.2 build-1.2.2.post1 chroma-hnswlib-0.7.6 chromadb-0.5.15 coloredlogs-15.0.1 dataclasses-json-0.6.7 durationpy-0.9 emoji-2.14.0 fastapi-0.115.3 filetype-1.2.0 groq-0.11.0 h11-0.14.0 httpcore-1.0.6 httptools-0.6.4 httpx-0.27.2 humanfriendly-10.0 importlib-metadata-8.4.0 jiter-0.6.1 jsonpatch-1.33 jsonpath-python-1.0.6 jsonpointer-3.0.0 kubernetes-31.0.0 langchain-0.2.10 langchain-chroma-0.1.2 langchain-community-0.2.10 langchain-core-0.2.41 langchain-groq-0.1.6 langchain-openai-0.1.17 langchain-text-splitters-0.2.4 langdetect-1.0.9 langsmith-0.1.137 marshmallow-3.23.0 mmh3-5.0.1 monotonic-1.6 mypy-extensions-1.0.0 onnxruntime-1.19.2 openai-1.52.1 opentelemetry-api-1.27.0 opentelemetry-exporter-otlp-proto-common-1.27.0 opentelemetry-exporter-otlp-proto-grpc-1.27.0 opentelemetry-instrumentation-0.48b0 opentelemetry-instrumentation-asgi-0.48b0 opentelemetry-instrumentation-fastapi-0.48b0 opentelemetry-proto-1.27.0 opentelemetry-sdk-1.27.0 opentelemetry-semantic-conventions-0.48b0 opentelemetry-util-http-0.48b0 orjson-3.10.10 overrides-7.7.0 posthog-3.7.0 pypdf-4.3.1 pypika-0.48.9 pyproject_hooks-1.2.0 python-dotenv-1.0.1 python-iso639-2024.10.22 python-magic-0.4.27 rapidfuzz-3.10.0 requests-toolbelt-1.0.0 starlette-0.41.0 tenacity-8.5.0 tiktoken-0.8.0 typing-inspect-0.9.0 unstructured-0.15.0 unstructured-client-0.26.1 uvicorn-0.32.0 uvloop-0.21.0 watchfiles-0.24.0 websockets-13.1 wikipedia-1.4.0\n"
          ]
        }
      ]
    },
    {
      "cell_type": "code",
      "execution_count": 2,
      "metadata": {
        "id": "TtTesYU0kAXl"
      },
      "outputs": [],
      "source": [
        "import os\n",
        "from dotenv import load_dotenv, find_dotenv\n",
        "_ = load_dotenv(find_dotenv())\n",
        "groq_api_key = os.environ[\"GROQ_API_KEY\"]\n",
        "openai_api_key = os.environ[\"OPENAI_API_KEY\"]"
      ]
    },
    {
      "cell_type": "markdown",
      "metadata": {
        "id": "vPZedV1ckAXn"
      },
      "source": [
        "# Import LLAMA3"
      ]
    },
    {
      "cell_type": "code",
      "execution_count": 3,
      "metadata": {
        "id": "6Fb0rY45kAXo"
      },
      "outputs": [],
      "source": [
        "from langchain_groq import ChatGroq\n",
        "\n",
        "llamaChatModel = ChatGroq(\n",
        "    model=\"llama3-70b-8192\"\n",
        ")"
      ]
    },
    {
      "cell_type": "markdown",
      "metadata": {
        "id": "X9ep7Ym1kAXo"
      },
      "source": [
        "# Import Mistral"
      ]
    },
    {
      "cell_type": "code",
      "execution_count": 4,
      "metadata": {
        "id": "EckWk86ekAXp"
      },
      "outputs": [],
      "source": [
        "mistralChatModel = ChatGroq(\n",
        "    model=\"mixtral-8x7b-32768\"\n",
        ")"
      ]
    },
    {
      "cell_type": "markdown",
      "metadata": {
        "id": "rM5zygGckAXp"
      },
      "source": [
        "# Prompt Generation"
      ]
    },
    {
      "cell_type": "code",
      "execution_count": 5,
      "metadata": {
        "id": "76yCVrrqkAXq"
      },
      "outputs": [],
      "source": [
        "messages = [\n",
        "    (\"system\", \"You are an historian expert in the Kennedy family.\"),\n",
        "    (\"human\", \"How many members of the family died tragically?\"),\n",
        "]"
      ]
    },
    {
      "cell_type": "code",
      "execution_count": 6,
      "metadata": {
        "colab": {
          "base_uri": "https://localhost:8080/"
        },
        "id": "dJuEyS_ckAXq",
        "outputId": "5a1cafa3-d965-407c-a823-08ae5e8a76a6"
      },
      "outputs": [
        {
          "output_type": "stream",
          "name": "stdout",
          "text": [
            "What a sorrowful topic. The Kennedy family has indeed been plagued by a series of tragic events, which have become an integral part of their storied history. Here are the members of the family who met with untimely and tragic ends:\n",
            "\n",
            "1. Joseph P. Kennedy Jr. (1915-1944): The eldest son of Joseph P. Kennedy Sr. and Rose Kennedy, Joe Jr. was a naval aviator who died in a plane explosion during a secret mission in World War II.\n",
            "2. Kathleen \"Kick\" Kennedy (1920-1948): The fourth child and second daughter of the Kennedy family, Kick died in a plane crash in France at the age of 28.\n",
            "3. John F. Kennedy (1917-1963): The 35th President of the United States, JFK was assassinated in Dallas, Texas, on November 22, 1963, at the age of 46.\n",
            "4. Robert F. Kennedy (1925-1968): The U.S. Attorney General and Senator from New York, RFK was assassinated in Los Angeles, California, on June 5, 1968, at the age of 42, during his presidential campaign.\n",
            "5. David Kennedy (1955-1984): The son of Robert F. Kennedy, David died of a drug overdose at the age of 28 in 1984.\n",
            "6. Michael LeMoyne Kennedy (1958-1997): Another son of Robert F. Kennedy, Michael died in a skiing accident in Aspen, Colorado, on December 31, 1997, at the age of 39.\n",
            "7. John F. Kennedy Jr. (1960-1999): The son of John F. Kennedy, John Jr. died in a plane crash off the coast of Massachusetts on July 18, 1999, at the age of 38, along with his wife Carolyn Bessette Kennedy and her sister Lauren Bessette.\n",
            "8. Kara Kennedy (1960-2011): The daughter of Ted Kennedy, Kara died of a heart attack while exercising on a treadmill at the age of 51 in 2011.\n",
            "9. Saoirse Kennedy Hill (1997-2019): The granddaughter of Robert F. Kennedy, Saoirse died of a drug overdose at the age of 22 in 2019.\n",
            "\n",
            "These tragedies have left an indelible mark on the Kennedy family, and their legacy continues to be shaped by both their accomplishments and their heartbreaks.\n"
          ]
        }
      ],
      "source": [
        "llamaResponse = llamaChatModel.invoke(messages)\n",
        "print(llamaResponse.content)"
      ]
    },
    {
      "cell_type": "code",
      "execution_count": null,
      "metadata": {
        "id": "M75_flxEkAXs",
        "outputId": "75903962-c6e1-46bc-eef2-158242493665"
      },
      "outputs": [
        {
          "name": "stdout",
          "output_type": "stream",
          "text": [
            "The Kennedy family has certainly experienced more than its fair share of tragedy. Here are some of the most notable deaths:\n",
            "\n",
            "1. Joseph P. Kennedy Sr.'s (father of JFK) oldest son, Joseph P. Kennedy Jr., died in 1944 during World War II when the plane he was piloting exploded mid-air.\n",
            "\n",
            "2. John F. Kennedy (JFK), the 35th President of the United States, was assassinated in Dallas, Texas, in 1963.\n",
            "\n",
            "3. Robert F. Kennedy (RFK), JFK's brother and Attorney General under his presidency, was assassinated in Los Angeles, California, in 1968.\n",
            "\n",
            "4. Senator Ted Kennedy, JFK's younger brother, was involved in a plane crash in 1964 that killed one of his aides. Ted Kennedy himself survived, but suffered lasting back injuries.\n",
            "\n",
            "5. Kathleen Cavendish, Marchioness of Hartington (Kick Kennedy), JFK's sister, died in a plane crash in 1948.\n",
            "\n",
            "6. Michael LeMoyne Kennedy, Robert Kennedy's son, died in a skiing accident in 1997.\n",
            "\n",
            "7. John F. Kennedy Jr., JFK's son, died in a plane crash in 1999.\n",
            "\n",
            "These are some of the most well-known tragic deaths in the Kennedy family, but there have been other accidents and untimely deaths as well. In total, seven members of the Kennedy family have died in what could be considered tragic circumstances.\n"
          ]
        }
      ],
      "source": [
        "mistralResponse = mistralChatModel.invoke(messages)\n",
        "print(mistralResponse.content)"
      ]
    },
    {
      "cell_type": "code",
      "execution_count": null,
      "metadata": {
        "id": "KXyBldyYkAXs",
        "outputId": "485a15a1-954d-4524-ac68-22c62bd8c53b"
      },
      "outputs": [
        {
          "name": "stdout",
          "output_type": "stream",
          "text": [
            "Here's one:\n",
            "\n",
            "**The Curious Case of Tesla's Lost Papers**\n",
            "\n",
            "In the early 1900s, Nikola Tesla, the famous inventor and electrical engineer, was working on a top-secret project in his laboratory in New York City. The project was so revolutionary that Tesla believed it had the potential to change the course of human history.\n",
            "\n",
            "The project was known as \"Teleautomaton\" or \"Teleautomatics,\" and it involved the development of a system that could remotely control machines and vehicles using radio signals. Tesla envisioned a future where machines could be operated from a distance, without the need for wires or human intervention.\n",
            "\n",
            "Tesla worked tirelessly on the project, filling notebooks with equations, diagrams, and notes. He built a series of prototypes, including a remote-controlled boat that he demonstrated in 1898 to a stunned audience in New York City.\n",
            "\n",
            "But then, disaster struck. In 1904, a fire broke out in Tesla's laboratory, destroying much of his life's work, including his notes and prototypes for the Teleautomaton project. Tesla was devastated. He claimed that the fire was no accident, but rather a deliberate act of sabotage by his rivals, who sought to steal his ideas and claim them as their own.\n",
            "\n",
            "Despite the setback, Tesla continued to work on the Teleautomaton project, but he never fully recovered from the loss of his notes and prototypes. He became increasingly reclusive and paranoid, convinced that his ideas were being stolen and used against him.\n",
            "\n",
            "Years later, after Tesla's death in 1943, a mysterious box of papers was discovered in his safe deposit box at a New York City bank. The box was labeled \"Tesla's Secrets\" and contained a series of cryptic notes and diagrams that seemed to point to the existence of a hidden laboratory, where Tesla had continued to work on the Teleautomaton project in secret.\n",
            "\n",
            "The contents of the box were never fully deciphered, and they remain a mystery to this day. Some believe that Tesla had discovered a way to harness the power of the universe, and that his lost papers hold the key to unlocking that secret. Others believe that the papers are simply the ramblings of a mad genius, driven by paranoia and obsession.\n",
            "\n",
            "Whatever the truth may be, the story of Tesla's lost papers has become a fascinating footnote in the history of science, a reminder that even the greatest minds can be driven by curiosity, obsession, and a passion for discovery.\n"
          ]
        }
      ],
      "source": [
        "from langchain_core.prompts import PromptTemplate\n",
        "\n",
        "prompt_template = PromptTemplate.from_template(\n",
        "    \"Tell me a {adjective} story about {topic}\"\n",
        ")\n",
        "\n",
        "llmModelPrompt = prompt_template.format(\n",
        "    adjective=\"curious\",\n",
        "    topic=\"Tesla\"\n",
        ")\n",
        "\n",
        "res = llamaChatModel.invoke(llmModelPrompt)\n",
        "print(res.content)"
      ]
    },
    {
      "cell_type": "code",
      "execution_count": null,
      "metadata": {
        "id": "jAo_xvnFkAXt",
        "outputId": "dda32850-ed27-4c8e-e2dc-27c482769ff6"
      },
      "outputs": [
        {
          "name": "stdout",
          "output_type": "stream",
          "text": [
            "Joseph P. Kennedy, the patriarch of the Kennedy family, had a total of 29 grandchildren. His nine children, including John F. Kennedy, Robert F. Kennedy, Ted Kennedy, and others, had a large brood of kids, and Joe Sr. was known to be very close to all of them. In fact, he was often referred to as \"Grandpa Joe\" by his grandkids.\n"
          ]
        }
      ],
      "source": [
        "# chat completion model\n",
        "\n",
        "from langchain_core.prompts import ChatPromptTemplate\n",
        "\n",
        "chat_template = ChatPromptTemplate.from_messages(\n",
        "    [\n",
        "        (\"system\", \"You are an {profession} expert on {topic}.\"),\n",
        "        (\"human\", \"Hello, Mr. {profession}, can you please answer a question?\"),\n",
        "        (\"ai\", \"Sure!\"),\n",
        "        (\"human\", \"{user_input}\"),\n",
        "    ]\n",
        ")\n",
        "\n",
        "messages = chat_template.format_messages(\n",
        "    profession=\"Historian\",\n",
        "    topic=\"The Kennedy family\",\n",
        "    user_input=\"How many grandchildren had Joseph P. Kennedy?\"\n",
        ")\n",
        "\n",
        "response = llamaChatModel.invoke(messages)\n",
        "print(response.content)"
      ]
    },
    {
      "cell_type": "markdown",
      "metadata": {
        "id": "yogQDUwukAXu"
      },
      "source": [
        "# Few Shot Prompting"
      ]
    },
    {
      "cell_type": "code",
      "execution_count": null,
      "metadata": {
        "id": "QVphm7ORkAXu"
      },
      "outputs": [],
      "source": [
        "from langchain_core.prompts import FewShotChatMessagePromptTemplate\n",
        "\n",
        "examples = [\n",
        "    {\"input\": \"hi!\", \"output\": \"¡hola!\"},\n",
        "    {\"input\": \"bye!\", \"output\": \"¡adiós!\"},\n",
        "]\n",
        "\n",
        "example_prompt = ChatPromptTemplate.from_messages(\n",
        "    [\n",
        "        (\"human\", \"{input}\"),\n",
        "        (\"ai\", \"{output}\"),\n",
        "    ]\n",
        ")\n",
        "\n",
        "few_shot_prompt = FewShotChatMessagePromptTemplate(\n",
        "    example_prompt=example_prompt,\n",
        "    examples=examples,\n",
        ")\n",
        "\n",
        "final_prompt = ChatPromptTemplate.from_messages(\n",
        "    [\n",
        "        (\"system\", \"You are an English-Spanish translator.\"),\n",
        "        few_shot_prompt,\n",
        "        (\"human\", \"{input}\"),\n",
        "    ]\n",
        ")"
      ]
    },
    {
      "cell_type": "markdown",
      "metadata": {
        "id": "mC9ti4rXkAXu"
      },
      "source": [
        "# Build Chains"
      ]
    },
    {
      "cell_type": "code",
      "execution_count": null,
      "metadata": {
        "id": "940ntzKtkAXv",
        "outputId": "8311ab5f-588b-451c-9fab-e85aa47c0ebb"
      },
      "outputs": [
        {
          "name": "stdout",
          "output_type": "stream",
          "text": [
            "Estoy bien, ¿y tú?\n"
          ]
        }
      ],
      "source": [
        "from langchain_core.prompts import FewShotChatMessagePromptTemplate\n",
        "\n",
        "examples = [\n",
        "    {\"input\": \"hi!\", \"output\": \"¡hola!\"},\n",
        "    {\"input\": \"bye!\", \"output\": \"¡adiós!\"},\n",
        "]\n",
        "\n",
        "example_prompt = ChatPromptTemplate.from_messages(\n",
        "    [\n",
        "        (\"human\", \"{input}\"),\n",
        "        (\"ai\", \"{output}\"),\n",
        "    ]\n",
        ")\n",
        "\n",
        "few_shot_prompt = FewShotChatMessagePromptTemplate(\n",
        "    example_prompt=example_prompt,\n",
        "    examples=examples,\n",
        ")\n",
        "\n",
        "final_prompt = ChatPromptTemplate.from_messages(\n",
        "    [\n",
        "        (\"system\", \"You are an English-Spanish translator.\"),\n",
        "        few_shot_prompt,\n",
        "        (\"human\", \"{input}\"),\n",
        "    ]\n",
        ")\n",
        "\n",
        "\n",
        "chain = final_prompt | llamaChatModel\n",
        "\n",
        "res = chain.invoke({\"input\": \"How are you?\"})\n",
        "print(res.content)"
      ]
    },
    {
      "cell_type": "markdown",
      "metadata": {
        "id": "yq3oPPVhkAXv"
      },
      "source": [
        "# Output Parsers"
      ]
    },
    {
      "cell_type": "code",
      "execution_count": null,
      "metadata": {
        "id": "vFvNdGI6kAXw"
      },
      "outputs": [],
      "source": [
        "from langchain_core.prompts import PromptTemplate\n",
        "from langchain.output_parsers.json import SimpleJsonOutputParser\n",
        "\n",
        "json_prompt = PromptTemplate.from_template(\n",
        "    \"Return a JSON object with an `answer` key that answers the following question: {question}\"\n",
        ")\n",
        "\n",
        "json_parser = SimpleJsonOutputParser()\n",
        "\n",
        "json_chain = json_prompt | llamaChatModel | json_parser"
      ]
    },
    {
      "cell_type": "code",
      "execution_count": null,
      "metadata": {
        "id": "xkS60LmAkAXw",
        "outputId": "e14e6b05-16ae-4957-8d39-5077d5c72d2c"
      },
      "outputs": [
        {
          "data": {
            "text/plain": [
              "'Return a JSON object.'"
            ]
          },
          "execution_count": 13,
          "metadata": {},
          "output_type": "execute_result"
        }
      ],
      "source": [
        "json_parser.get_format_instructions()"
      ]
    },
    {
      "cell_type": "code",
      "execution_count": null,
      "metadata": {
        "id": "VapJd_B1kAXx",
        "outputId": "d0e18f14-0665-4687-b471-c0bdfe5a2d38"
      },
      "outputs": [
        {
          "data": {
            "text/plain": [
              "{'answer': 'Russia'}"
            ]
          },
          "execution_count": 14,
          "metadata": {},
          "output_type": "execute_result"
        }
      ],
      "source": [
        "res  = json_chain.invoke({\"question\": \"What is the biggest country?\"})\n",
        "res"
      ]
    },
    {
      "cell_type": "markdown",
      "metadata": {
        "id": "PCizLINUkAXx"
      },
      "source": [
        "# Pydantic to define a custom output format"
      ]
    },
    {
      "cell_type": "code",
      "execution_count": null,
      "metadata": {
        "id": "KNVNUkc3kAXy",
        "outputId": "269c2acc-e237-474c-8eb8-121b90b12290"
      },
      "outputs": [
        {
          "data": {
            "text/plain": [
              "{'setup': \"Why don't scientists trust atoms?\",\n",
              " 'punchline': 'Because they make up everything.'}"
            ]
          },
          "execution_count": 15,
          "metadata": {},
          "output_type": "execute_result"
        }
      ],
      "source": [
        "from langchain_core.output_parsers import JsonOutputParser\n",
        "from langchain_core.prompts import PromptTemplate\n",
        "from langchain_core.pydantic_v1 import BaseModel, Field\n",
        "\n",
        "# Define a Pydantic Object with the desired output format.\n",
        "class Joke(BaseModel):\n",
        "    setup: str = Field(description=\"question to set up a joke\")\n",
        "    punchline: str = Field(description=\"answer to resolve the joke\")\n",
        "\n",
        "# Define the parser referring the Pydantic Object\n",
        "parser = JsonOutputParser(pydantic_object=Joke)\n",
        "\n",
        "# Add the parser format instructions in the prompt definition.\n",
        "prompt = PromptTemplate(\n",
        "    template=\"Answer the user query.\\n{format_instructions}\\n{query}\\n\",\n",
        "    input_variables=[\"query\"],\n",
        "    partial_variables={\"format_instructions\": parser.get_format_instructions()},\n",
        ")\n",
        "\n",
        "# Create a chain with the prompt and the parser\n",
        "chain = prompt | llamaChatModel | parser\n",
        "\n",
        "chain.invoke({\"query\": \"Tell me a joke.\"})"
      ]
    },
    {
      "cell_type": "markdown",
      "metadata": {
        "id": "frFOlzMtkAXy"
      },
      "source": [
        "# RAG"
      ]
    },
    {
      "cell_type": "code",
      "execution_count": null,
      "metadata": {
        "id": "Qom_QeH2kAXz",
        "outputId": "0678a096-a08f-49ce-a5a9-dc6953abda17"
      },
      "outputs": [
        {
          "name": "stdout",
          "output_type": "stream",
          "text": [
            "I apologize, but I'm not familiar with the term \"dswithbappy.\" It's possible that it's a misspelling or a word that's not widely used. Can you please provide more context or information about where you encountered this term so I can better assist you?\n",
            "\n",
            "If you meant to ask about \"DS with Bappy,\" I'd be happy to try and help you with that. However, I couldn't find any relevant information on this topic. Could you please clarify what \"DS\" and \"Bappy\" refer to in this context?\n",
            "\n",
            "If you have any more questions or need help with something else, feel free to ask!\n"
          ]
        }
      ],
      "source": [
        "messages = [\n",
        "    (\"system\", \"You are an helpful assistant.\"),\n",
        "    (\"human\", \"tell me about dswithbappy\"),\n",
        "]\n",
        "response = llamaChatModel.invoke(messages)\n",
        "print(response.content)"
      ]
    },
    {
      "cell_type": "code",
      "execution_count": 12,
      "metadata": {
        "id": "ZUuRbZtzkAXz"
      },
      "outputs": [],
      "source": [
        "# Data Loader\n",
        "# Txt data loading\n",
        "\n",
        "from langchain_community.document_loaders import TextLoader\n",
        "\n",
        "loader = TextLoader(\"be-good.txt\")\n",
        "loaded_data_txt = loader.load()"
      ]
    },
    {
      "cell_type": "code",
      "execution_count": 14,
      "metadata": {
        "id": "CkuA_KamkAX0"
      },
      "outputs": [],
      "source": [
        "# CSV loader\n",
        "\n",
        "from langchain_community.document_loaders import CSVLoader\n",
        "\n",
        "loader = CSVLoader('Street_Tree_List.csv')\n",
        "\n",
        "loaded_data_csv = loader.load()\n",
        "# loaded_data_csv"
      ]
    },
    {
      "cell_type": "code",
      "execution_count": 15,
      "metadata": {
        "id": "YTQdopyTkAX0"
      },
      "outputs": [],
      "source": [
        "# Pdf data\n",
        "\n",
        "from langchain_community.document_loaders import PyPDFLoader\n",
        "\n",
        "loader = PyPDFLoader('5pages.pdf')\n",
        "\n",
        "loaded_data_pdf = loader.load_and_split()"
      ]
    },
    {
      "cell_type": "code",
      "execution_count": 16,
      "metadata": {
        "id": "UdRsMIWbkAX1"
      },
      "outputs": [],
      "source": [
        "# wikipedia data loader\n",
        "\n",
        "from langchain_community.document_loaders import WikipediaLoader\n",
        "\n",
        "loader = WikipediaLoader(query=\"Tesla\", load_max_docs=1)\n",
        "\n",
        "loaded_data_wiki = loader.load()[0].page_content"
      ]
    },
    {
      "cell_type": "code",
      "execution_count": 17,
      "metadata": {
        "id": "QZ3XOnT-kAX2"
      },
      "outputs": [],
      "source": [
        "from langchain_core.prompts import ChatPromptTemplate\n",
        "\n",
        "chat_template = ChatPromptTemplate.from_messages(\n",
        "    [\n",
        "        (\"human\", \"Answer this {question}, here is some extra {context}\"),\n",
        "    ]\n",
        ")\n",
        "\n",
        "messages = chat_template.format_messages(\n",
        "    name=\"Tesla\",\n",
        "    question=\"Tell me about tesla\",\n",
        "    context=loaded_data_wiki\n",
        ")"
      ]
    },
    {
      "cell_type": "code",
      "execution_count": 18,
      "metadata": {
        "colab": {
          "base_uri": "https://localhost:8080/",
          "height": 157
        },
        "id": "Q8kETd2rkAX2",
        "outputId": "40c8c36a-c381-43ce-df8e-d1af183a3e9d"
      },
      "outputs": [
        {
          "output_type": "execute_result",
          "data": {
            "text/plain": [
              "\"Here's an overview of Tesla, Inc.:\\n\\n**Overview**\\n\\nTesla, Inc. is an American multinational automotive and clean energy company founded in 2003 by Martin Eberhard and Marc Tarpenning. The company is named after Nikola Tesla, a Serbian-American inventor and electrical engineer. Tesla is headquartered in Austin, Texas, and designs, manufactures, and sells battery electric vehicles (BEVs), stationary battery energy storage devices, solar panels, and solar shingles, as well as related products and services.\\n\\n**History**\\n\\n* 2003: Tesla Motors, Inc. was incorporated on July 1 by Martin Eberhard and Marc Tarpenning.\\n* 2004: Elon Musk joined as the chairman of the board of directors and the largest shareholder of Tesla, with a $6.5 million investment.\\n* 2005-2009: Tesla developed its first car model, the Roadster sports car.\\n* 2008: Eberhard was asked to step down as CEO, and Musk took over as CEO.\\n* 2012: Tesla began production of the Model S sedan.\\n* 2015: Tesla introduced the Model X SUV.\\n* 2017: Tesla introduced the Model 3 sedan.\\n* 2020: Tesla introduced the Model Y crossover.\\n* 2022: Tesla introduced the Tesla Semi truck.\\n* 2023: Tesla introduced the Cybertruck pickup truck.\\n\\n**Achievements**\\n\\n* 2021: Tesla became a trillion-dollar company, the seventh U.S. company to do so.\\n* 2023: The Model Y became the best-selling vehicle globally.\\n* 2023: Tesla led the battery electric vehicle market with a 19.9% share.\\n* 2023: Tesla was ranked 69th in the Forbes Global 2000.\\n* 2024: Tesla became the world's most valuable automaker.\\n\\n**Controversies**\\n\\n* Lawsuits, government scrutiny, and journalistic criticism\\n* Allegations of whistleblower retaliation, worker rights violations, and safety defects\\n* Controversial statements from Elon Musk, including overpromising on driving assist technology and product release timelines\\n\\nI hope this summary helps! Let me know if you have any further questions.\""
            ],
            "application/vnd.google.colaboratory.intrinsic+json": {
              "type": "string"
            }
          },
          "metadata": {},
          "execution_count": 18
        }
      ],
      "source": [
        "response = llamaChatModel.invoke(messages)\n",
        "response.content"
      ]
    },
    {
      "cell_type": "markdown",
      "metadata": {
        "id": "m5bCQdEMkAX2"
      },
      "source": [
        "# RAG Components"
      ]
    },
    {
      "cell_type": "code",
      "execution_count": 19,
      "metadata": {
        "id": "o1bU3OatkAX3"
      },
      "outputs": [],
      "source": [
        "# 1. CharacterTextSplitter\n",
        "\n",
        "from langchain_text_splitters import CharacterTextSplitter\n",
        "\n",
        "text_splitter = CharacterTextSplitter(\n",
        "    separator=\"\\n\\n\",\n",
        "    chunk_size=1000,\n",
        "    chunk_overlap=200,\n",
        "    length_function=len,\n",
        "    is_separator_regex=False,\n",
        ")\n",
        "\n",
        "texts = text_splitter.create_documents([loaded_data_txt[0].page_content])"
      ]
    },
    {
      "cell_type": "code",
      "execution_count": null,
      "metadata": {
        "id": "plvJ1ColkAX3",
        "outputId": "e9794c2e-c05c-4990-f1fe-1429032ba941"
      },
      "outputs": [
        {
          "data": {
            "text/plain": [
              "2"
            ]
          },
          "execution_count": 31,
          "metadata": {},
          "output_type": "execute_result"
        }
      ],
      "source": [
        "len(texts)"
      ]
    },
    {
      "cell_type": "code",
      "execution_count": 20,
      "metadata": {
        "id": "c-c6PADrkAX4"
      },
      "outputs": [],
      "source": [
        "# 2. RecursiveCharacterTextSplitter\n",
        "\n",
        "from langchain_text_splitters import RecursiveCharacterTextSplitter\n",
        "\n",
        "recursive_splitter = RecursiveCharacterTextSplitter(\n",
        "    chunk_size=26,\n",
        "    chunk_overlap=4\n",
        ")\n",
        "\n",
        "text_rec = recursive_splitter.split_text(loaded_data_txt[0].page_content)"
      ]
    },
    {
      "cell_type": "code",
      "execution_count": null,
      "metadata": {
        "id": "yrqQZpj5kAX4",
        "outputId": "d874a344-93d1-4141-9c74-4ceaa808a392"
      },
      "outputs": [
        {
          "data": {
            "text/plain": [
              "815"
            ]
          },
          "execution_count": 34,
          "metadata": {},
          "output_type": "execute_result"
        }
      ],
      "source": [
        "len(text_rec)"
      ]
    },
    {
      "cell_type": "code",
      "execution_count": null,
      "metadata": {
        "id": "roWeZ3RjkAX4",
        "outputId": "d4df4c1d-bfd6-4bb9-d182-8c7819a02082"
      },
      "outputs": [
        {
          "data": {
            "text/plain": [
              "['Be good',\n",
              " 'April 2008(This essay is',\n",
              " 'is derived from a talk at',\n",
              " 'at the 2008 Startup',\n",
              " 'School.)About a month']"
            ]
          },
          "execution_count": 36,
          "metadata": {},
          "output_type": "execute_result"
        }
      ],
      "source": [
        "text_rec[:5]"
      ]
    },
    {
      "cell_type": "markdown",
      "metadata": {
        "id": "nsjlUugqkAX5"
      },
      "source": [
        "# Embeddings"
      ]
    },
    {
      "cell_type": "code",
      "execution_count": 8,
      "metadata": {
        "colab": {
          "base_uri": "https://localhost:8080/"
        },
        "id": "JODcuzqekAX5",
        "outputId": "ee079f7f-8c5d-4f26-b196-2485be5f00d5"
      },
      "outputs": [
        {
          "output_type": "stream",
          "name": "stdout",
          "text": [
            "Collecting sentence-transformers\n",
            "  Downloading sentence_transformers-3.2.1-py3-none-any.whl.metadata (10 kB)\n",
            "Requirement already satisfied: transformers<5.0.0,>=4.41.0 in /usr/local/lib/python3.10/dist-packages (from sentence-transformers) (4.44.2)\n",
            "Requirement already satisfied: tqdm in /usr/local/lib/python3.10/dist-packages (from sentence-transformers) (4.66.5)\n",
            "Requirement already satisfied: torch>=1.11.0 in /usr/local/lib/python3.10/dist-packages (from sentence-transformers) (2.5.0+cu121)\n",
            "Requirement already satisfied: scikit-learn in /usr/local/lib/python3.10/dist-packages (from sentence-transformers) (1.5.2)\n",
            "Requirement already satisfied: scipy in /usr/local/lib/python3.10/dist-packages (from sentence-transformers) (1.13.1)\n",
            "Requirement already satisfied: huggingface-hub>=0.20.0 in /usr/local/lib/python3.10/dist-packages (from sentence-transformers) (0.24.7)\n",
            "Requirement already satisfied: Pillow in /usr/local/lib/python3.10/dist-packages (from sentence-transformers) (10.4.0)\n",
            "Requirement already satisfied: filelock in /usr/local/lib/python3.10/dist-packages (from huggingface-hub>=0.20.0->sentence-transformers) (3.16.1)\n",
            "Requirement already satisfied: fsspec>=2023.5.0 in /usr/local/lib/python3.10/dist-packages (from huggingface-hub>=0.20.0->sentence-transformers) (2024.6.1)\n",
            "Requirement already satisfied: packaging>=20.9 in /usr/local/lib/python3.10/dist-packages (from huggingface-hub>=0.20.0->sentence-transformers) (24.1)\n",
            "Requirement already satisfied: pyyaml>=5.1 in /usr/local/lib/python3.10/dist-packages (from huggingface-hub>=0.20.0->sentence-transformers) (6.0.2)\n",
            "Requirement already satisfied: requests in /usr/local/lib/python3.10/dist-packages (from huggingface-hub>=0.20.0->sentence-transformers) (2.32.3)\n",
            "Requirement already satisfied: typing-extensions>=3.7.4.3 in /usr/local/lib/python3.10/dist-packages (from huggingface-hub>=0.20.0->sentence-transformers) (4.12.2)\n",
            "Requirement already satisfied: networkx in /usr/local/lib/python3.10/dist-packages (from torch>=1.11.0->sentence-transformers) (3.4.2)\n",
            "Requirement already satisfied: jinja2 in /usr/local/lib/python3.10/dist-packages (from torch>=1.11.0->sentence-transformers) (3.1.4)\n",
            "Requirement already satisfied: sympy==1.13.1 in /usr/local/lib/python3.10/dist-packages (from torch>=1.11.0->sentence-transformers) (1.13.1)\n",
            "Requirement already satisfied: mpmath<1.4,>=1.1.0 in /usr/local/lib/python3.10/dist-packages (from sympy==1.13.1->torch>=1.11.0->sentence-transformers) (1.3.0)\n",
            "Requirement already satisfied: numpy>=1.17 in /usr/local/lib/python3.10/dist-packages (from transformers<5.0.0,>=4.41.0->sentence-transformers) (1.26.4)\n",
            "Requirement already satisfied: regex!=2019.12.17 in /usr/local/lib/python3.10/dist-packages (from transformers<5.0.0,>=4.41.0->sentence-transformers) (2024.9.11)\n",
            "Requirement already satisfied: safetensors>=0.4.1 in /usr/local/lib/python3.10/dist-packages (from transformers<5.0.0,>=4.41.0->sentence-transformers) (0.4.5)\n",
            "Requirement already satisfied: tokenizers<0.20,>=0.19 in /usr/local/lib/python3.10/dist-packages (from transformers<5.0.0,>=4.41.0->sentence-transformers) (0.19.1)\n",
            "Requirement already satisfied: joblib>=1.2.0 in /usr/local/lib/python3.10/dist-packages (from scikit-learn->sentence-transformers) (1.4.2)\n",
            "Requirement already satisfied: threadpoolctl>=3.1.0 in /usr/local/lib/python3.10/dist-packages (from scikit-learn->sentence-transformers) (3.5.0)\n",
            "Requirement already satisfied: MarkupSafe>=2.0 in /usr/local/lib/python3.10/dist-packages (from jinja2->torch>=1.11.0->sentence-transformers) (3.0.2)\n",
            "Requirement already satisfied: charset-normalizer<4,>=2 in /usr/local/lib/python3.10/dist-packages (from requests->huggingface-hub>=0.20.0->sentence-transformers) (3.4.0)\n",
            "Requirement already satisfied: idna<4,>=2.5 in /usr/local/lib/python3.10/dist-packages (from requests->huggingface-hub>=0.20.0->sentence-transformers) (3.10)\n",
            "Requirement already satisfied: urllib3<3,>=1.21.1 in /usr/local/lib/python3.10/dist-packages (from requests->huggingface-hub>=0.20.0->sentence-transformers) (2.2.3)\n",
            "Requirement already satisfied: certifi>=2017.4.17 in /usr/local/lib/python3.10/dist-packages (from requests->huggingface-hub>=0.20.0->sentence-transformers) (2024.8.30)\n",
            "Downloading sentence_transformers-3.2.1-py3-none-any.whl (255 kB)\n",
            "\u001b[2K   \u001b[90m━━━━━━━━━━━━━━━━━━━━━━━━━━━━━━━━━━━━━━━━\u001b[0m \u001b[32m255.8/255.8 kB\u001b[0m \u001b[31m7.5 MB/s\u001b[0m eta \u001b[36m0:00:00\u001b[0m\n",
            "\u001b[?25hInstalling collected packages: sentence-transformers\n",
            "Successfully installed sentence-transformers-3.2.1\n"
          ]
        }
      ],
      "source": [
        "# pip install sentence-transformers"
      ]
    },
    {
      "cell_type": "code",
      "execution_count": 21,
      "metadata": {
        "colab": {
          "base_uri": "https://localhost:8080/"
        },
        "id": "Do83eTZLkAX6",
        "outputId": "bbbdcbe0-482c-46dd-e931-18d794091146"
      },
      "outputs": [
        {
          "output_type": "stream",
          "name": "stderr",
          "text": [
            "/usr/local/lib/python3.10/dist-packages/transformers/tokenization_utils_base.py:1601: FutureWarning: `clean_up_tokenization_spaces` was not set. It will be set to `True` by default. This behavior will be depracted in transformers v4.45, and will be then set to `False` by default. For more details check this issue: https://github.com/huggingface/transformers/issues/31884\n",
            "  warnings.warn(\n"
          ]
        },
        {
          "output_type": "stream",
          "name": "stdout",
          "text": [
            "[[-0.09151120483875275, 0.025147806853055954, 0.0020471338648349047, 0.0051811011508107185, -0.015277049504220486, -0.052715811878442764, 0.01655740849673748, 0.0423915721476078, -0.02921575866639614, 0.006825124844908714, -0.02768443338572979, 0.007252856623381376, -0.01055940706282854, -0.04191432148218155, 0.032309070229530334, 0.03700307384133339, -0.053152453154325485, -0.009931975975632668, -0.10471197962760925, -0.03906849026679993, 0.03552796319127083, 0.07590004801750183, -0.10407810658216476, 0.04460618272423744, -0.02690211869776249, -0.03199000656604767, -0.006866887677460909, 0.06416885554790497, -0.0711832046508789, -0.017583826556801796, 0.01255409512668848, 0.12845945358276367, -0.022762082517147064, 0.053721778094768524, 0.0291697196662426, 0.048878032714128494, -0.04694394767284393, -0.07912521064281464, 0.0451648086309433, 0.023789480328559875, -0.01188875176012516, 0.011806285940110683, -0.017342569306492805, 0.03931812196969986, 0.053550079464912415, -0.07429265975952148, 0.025027133524417877, -0.08755506575107574, 0.02724350057542324, 0.07727697491645813, -0.04784003272652626, -0.005763443186879158, -0.05466698482632637, -0.053438249975442886, 0.0860077291727066, 0.007336603477597237, 0.009187502786517143, -0.09906995296478271, 0.05315801501274109, -0.06462110579013824, -0.09006998687982559, 0.044651422649621964, -0.11563212424516678, -0.021690145134925842, 0.01754830963909626, -0.03665600344538689, -0.03430088981986046, -0.05340953916311264, -0.05064152553677559, -0.08569807559251785, -0.009529397822916508, 0.025036511942744255, 0.032452620565891266, 0.05344986915588379, -0.013130987994372845, -0.08975657820701599, 0.05662141367793083, 0.0019699842669069767, 0.030657315626740456, 0.0064316303469240665, 0.07051172852516174, -0.04839269444346428, 0.015184290707111359, -0.027121325954794884, -0.009402980096638203, -0.0502878874540329, 0.05843986198306084, 0.00206200685352087, -0.028014151379466057, -0.03393222391605377, -0.11036338657140732, 0.07281813025474548, -0.0274397861212492, 0.0014599001733586192, -0.05286676809191704, -0.10202641040086746, 0.09397844970226288, 0.04555303975939751, -0.12457724660634995, 0.15514768660068512, 0.03557373583316803, 0.0378553532063961, 0.025922536849975586, 0.04260687157511711, -0.05040373280644417, 0.06678252667188644, -0.05466316267848015, 0.08857452869415283, -0.02877749130129814, -0.01159888505935669, 0.02344679646193981, -0.012094794772565365, 0.04150666669011116, 0.04544737562537193, 0.08052343875169754, 0.05635218694806099, 0.04778021201491356, 0.03006739355623722, 0.13186821341514587, -0.0656856968998909, 0.004145550075918436, -0.049214355647563934, -0.019922731444239616, -0.028346959501504898, 0.011700747534632683, -0.024010924622416496, -0.03260243684053421, -1.991259512302123e-33, 0.062299199402332306, -0.00987209938466549, 0.03463200107216835, 0.041094906628131866, -0.04445026069879532, -0.02461070567369461, -0.07881554216146469, -0.02085677906870842, 0.0049642170779407024, 0.004908435977995396, -0.03617079183459282, -0.042870890349149704, -0.07707693427801132, 0.039736535400152206, -0.00028862818726338446, 0.07861853390932083, 0.01263459213078022, -0.01067595649510622, 0.0305588748306036, 0.03103943169116974, -0.03237273916602135, -0.014470468275249004, 0.02795693464577198, 0.02750936709344387, -0.013136298395693302, -0.007209999952465296, 0.07515048235654831, -0.12660905718803406, 0.05345902964472771, 0.08321760594844818, -0.015919415280222893, 0.018245473504066467, -0.016796575859189034, 0.03819092735648155, -0.06201847642660141, -0.03644639626145363, -0.011947959661483765, -0.04613091051578522, -0.04972507432103157, 0.05344908684492111, 0.023402558639645576, 0.005951438099145889, 0.060299187898635864, -0.03883715346455574, 0.011735673993825912, -0.0005574498791247606, 0.07979854941368103, 0.031749945133924484, 0.07367043942213058, -0.005358528811484575, -0.11065538972616196, -0.007001226767897606, -0.049186233431100845, 0.023270100355148315, -0.06374984234571457, -0.012503096833825111, 0.012850180268287659, -0.02814897522330284, 0.06173688545823097, 0.026269420981407166, 0.07686817646026611, 0.09612702578306198, -0.05344963073730469, -0.0569726936519146, -0.09623764455318451, -0.008492665365338326, 0.0661914050579071, -0.014823399484157562, 0.053441114723682404, 0.002422313904389739, 0.0054549407213926315, 0.008450206369161606, 0.004888167139142752, 0.0025905491784214973, 0.0009861226426437497, 0.03382901847362518, 0.0169814545661211, -0.011704891920089722, -0.0050368052907288074, -0.04812752828001976, -0.0020701978355646133, -0.006697073578834534, -0.07066415995359421, -0.022107919678092003, 0.009296393021941185, -0.07361134141683578, -0.00294798007234931, -0.09922734647989273, -0.14645715057849884, -0.008813523687422276, 0.01688310317695141, 0.056122709065675735, 0.09880466759204865, -0.039899297058582306, -0.00953820999711752, 1.0215145090981529e-33, 0.14579911530017853, 0.009960534051060677, -0.024336013942956924, -0.02542058378458023, 0.03425237536430359, -0.002652792725712061, 0.004149381536990404, 0.05901958420872688, -0.06796852499246597, 0.02860764041543007, 0.004739989992231131, 0.015115824528038502, 0.05504809692502022, -0.01988070271909237, 0.04234762862324715, 0.08743768185377121, 0.026790807023644447, 0.04032435640692711, -0.038883961737155914, 0.027903642505407333, -0.08030319958925247, -0.03400104492902756, -0.006011015269905329, -0.06215986609458923, 0.04875317960977554, -0.0024327009450644255, 0.07537820190191269, 0.051051683723926544, -0.10411735624074936, -0.011104987002909184, 0.002903157379478216, 0.057383086532354355, -0.027404924854636192, -0.0053302873857319355, 0.04306594654917717, 0.009135149419307709, 0.011324958875775337, -0.03752722218632698, 0.0165630541741848, -0.03738563880324364, -0.022031156346201897, 0.0014768512919545174, 0.007139027584344149, 0.06618745625019073, -0.04125579819083214, -0.005604014731943607, 0.054452937096357346, -0.02530093304812908, -0.04718054085969925, 0.015727976337075233, -0.08216187357902527, -0.06643767654895782, 0.04537375643849373, 0.007874011993408203, -0.03452311083674431, 0.09003134816884995, 0.06255939602851868, 0.019906843081116676, 0.08142157644033432, -0.01210637204349041, 0.03163398057222366, 0.05527063459157944, 0.02223346009850502, 0.11265005171298981, 0.028902463614940643, 0.036018431186676025, -0.0563276968896389, -0.059204477816820145, -0.03194595128297806, -0.018858270719647408, 0.034312039613723755, -0.02033029869198799, 0.07562771439552307, -0.008240493014454842, 0.009969962760806084, -0.005974728614091873, 0.057787273079156876, 0.05027877539396286, 0.01579347625374794, 0.03539189323782921, 0.014925469644367695, -0.008465541526675224, 0.028696417808532715, 0.02533898688852787, 0.0062115732580423355, 0.03119754232466221, 0.06677698343992233, 0.04585818573832512, 0.01416768692433834, -0.06819609552621841, 0.03386004641652107, 0.0628034919500351, 0.01752823404967785, 0.01406087726354599, 0.034219782799482346, -1.7425243470370333e-08, 0.02590901218354702, -0.0015170903643593192, 0.13716062903404236, 0.045282211154699326, 0.04866832122206688, 0.048494160175323486, -0.026318345218896866, -0.05913405120372772, -0.041504278779029846, -0.012950255535542965, 0.04486388340592384, 0.060181524604558945, -0.08090692013502121, -0.02298896014690399, 0.07353054732084274, 0.008819250389933586, -0.004131841007620096, 0.06105373799800873, -0.05856001749634743, -0.07941018044948578, 0.006867941003292799, 0.07912298291921616, -0.0044903927482664585, -0.07611896097660065, 0.02210538648068905, -0.02488645352423191, -0.013001653365790844, -0.02404758706688881, -0.06338229030370712, -0.022533955052495003, -0.005546052940189838, 0.13573865592479706, -0.03181435167789459, 0.004699938464909792, -0.016835644841194153, -0.004079743754118681, -0.048442237079143524, -0.006069730501621962, 0.0568925105035305, -0.09979325532913208, -0.057511650025844574, -0.10030482709407806, -0.009373213164508343, -0.06461704522371292, -0.008519708178937435, 0.040548358112573624, 0.019014902412891388, -0.04364655911922455, 0.02250170335173607, -0.11012448370456696, -0.011613811366260052, 0.002382658887654543, 0.06422428041696548, 0.05645544454455376, 0.05996239557862282, 0.05353106930851936, 0.031024068593978882, -0.00387814873829484, -0.06688223779201508, 0.008501114323735237, 0.11071614176034927, 0.027430709451436996, 0.037342049181461334, 0.038428787142038345], [-0.06062675267457962, 0.03996487706899643, 0.03222621977329254, 0.04889141395688057, -0.0596354715526104, -0.03785910829901695, 0.02825147472321987, 0.004900613334029913, -0.11331264674663544, -0.020299863070249557, 3.4209555451525375e-05, 0.017897099256515503, 0.018761686980724335, -0.05242687836289406, 0.029521606862545013, -0.018175439909100533, 0.00871917512267828, -0.02320041134953499, -0.06915299594402313, 0.027422752231359482, -0.014862320385873318, 0.018731767311692238, -0.022800372913479805, 0.05117558687925339, -0.0632849782705307, -0.04479145258665085, 0.010129233822226524, 0.032685939222574234, -0.005297149997204542, -0.09583696722984314, 0.047355927526950836, 0.050354328006505966, 0.049734652042388916, 0.008949768729507923, 0.003274925285950303, 0.07771863788366318, -0.09297504276037216, -0.09170220792293549, 0.05826316028833389, 0.00990989338606596, -0.03804522007703781, -0.03432811424136162, -0.007856600917875767, -0.02784900553524494, 0.03519044816493988, -0.012621358036994934, 0.04099208489060402, 0.046216029673814774, 0.08070948719978333, 0.034180935472249985, -0.05178849771618843, -0.08015698194503784, -0.03536633774638176, 0.011565144173800945, 0.09396159648895264, 0.015265945345163345, -0.012349979020655155, -0.07250305265188217, 0.021060192957520485, -0.0584147684276104, -0.05763041600584984, 0.05515489727258682, -0.08671802282333374, -0.006799526046961546, -0.0038426867686212063, -0.04690109193325043, -0.06027670204639435, -0.03376993164420128, -0.03267110884189606, -0.08209514617919922, -0.01523197814822197, 0.025279957801103592, 0.01668200083076954, 0.010993021540343761, -0.02612992748618126, -0.011190344579517841, 0.036074552685022354, -0.0345177985727787, 0.0037632917519658804, 0.032188426703214645, 0.07422684878110886, -0.10349365323781967, -0.04457632452249527, 0.02779281884431839, 0.01137505006045103, -0.051788073033094406, -0.0001210497721331194, 0.05095401778817177, -0.013812175951898098, 0.008541480638086796, -0.09894081950187683, 0.027659384533762932, -0.0029499009251594543, 0.005343361757695675, -0.10500779747962952, -0.024444149807095528, 0.07436124980449677, -0.004617068450897932, -0.12045327574014664, 0.21692399680614471, 0.04609670862555504, 0.07664235681295395, 0.010792029090225697, 0.028308553621172905, 0.004615489859133959, 0.008347855880856514, -0.04132258519530296, 0.03399687260389328, -0.009922785684466362, -0.0018660235218703747, 0.027108365669846535, -0.07936114072799683, -0.02121655084192753, 0.016248546540737152, 0.09238579124212265, 0.010637015104293823, 0.013636427000164986, 0.04203299060463905, 0.032374307513237, 0.015043308958411217, 0.03156163543462753, -0.012956248596310616, 0.0017212246311828494, -0.03273487836122513, 0.030968276783823967, 0.03313368558883667, 0.03214716911315918, -5.287251999801736e-33, 0.04286189004778862, -0.02132752351462841, 0.04053321108222008, 0.16180261969566345, -0.03336511552333832, -0.020322160795331, -0.08442311733961105, -0.06767876446247101, 0.02421480417251587, 0.04265300929546356, 0.037910573184490204, 0.03480159863829613, -0.03333191201090813, 0.05501651391386986, -0.010417044162750244, 0.12672026455402374, -0.08970557898283005, -0.004267923068255186, 0.006538218818604946, 0.05907473713159561, -0.054560981690883636, 0.006281351204961538, -0.0001055365864885971, 0.08289428800344467, 0.04447358101606369, -0.053788382560014725, 0.017514050006866455, -0.09734584391117096, 0.05902900546789169, 0.017121240496635437, -0.049317244440317154, -0.04104113206267357, 0.054750051349401474, 0.05056111887097359, -0.0016082923393696547, 0.013423747383058071, -0.012572088278830051, -0.07411835342645645, -0.04542737826704979, 0.016718711704015732, -0.018879316747188568, 0.015913017094135284, 0.03656213358044624, -0.03208956867456436, -0.009641370736062527, -0.0031991146970540285, -0.009919466450810432, 0.03166341781616211, 0.01912173442542553, 0.01632731780409813, -0.0798826590180397, 0.0060915094800293446, -0.12969525158405304, 0.07819492369890213, -0.005386107135564089, -0.004313402343541384, -0.014904297888278961, -0.07830660045146942, 0.023435425013303757, 0.007965993136167526, 0.028237726539373398, 0.11823856085538864, -0.01983633264899254, -0.04079426825046539, -0.06763189285993576, -0.05537465959787369, 0.025278860703110695, 0.011163684539496899, 0.07181931287050247, -0.03861979767680168, -0.01622449979186058, 0.0025498829782009125, 0.026239808648824692, -0.0001460122293792665, 0.015126114711165428, 0.06191793829202652, -0.0023360708728432655, 0.011862934567034245, 0.03418036550283432, -0.0438966378569603, 0.018482960760593414, 0.03669067472219467, -0.03635808452963829, -0.002461488824337721, 0.053920257836580276, 0.05264909192919731, -0.042325008660554886, -0.07394533604383469, -0.022695820778608322, -0.024290982633829117, -0.03895903378725052, 0.01196544710546732, 0.0421062633395195, 0.015436092391610146, -0.009303704835474491, 3.1560142528617104e-33, 0.14902324974536896, 0.05690702795982361, -0.06930220872163773, -0.06397080421447754, -0.029458768665790558, 0.01630675606429577, -0.0028758470434695482, 0.12071435898542404, -0.1291549652814865, 0.004261672031134367, 0.011203770525753498, 0.005081551615148783, 0.065405935049057, 0.001107984920963645, 0.005307881161570549, 0.04406193643808365, 0.11975955218076706, 0.07111997157335281, 0.003931778483092785, -0.0020517262164503336, -0.07050074636936188, 0.006956018041819334, -0.05332420766353607, 0.0023437279742211103, -0.013932818546891212, -0.0004418347089085728, 0.034551456570625305, 0.04465335234999657, -0.08800063282251358, -0.03393014892935753, 0.01770380698144436, 0.03612542152404785, 0.022355692461133003, 0.020452870056033134, 0.014374314807355404, 0.0601087249815464, 0.0019547916017472744, -0.09220760315656662, 0.015191638842225075, -0.06839082390069962, -0.0076576354913413525, 0.05577831715345383, 0.04451758787035942, 0.12397045642137527, -0.059862010180950165, -0.05497511103749275, -0.035318560898303986, 0.009409304708242416, -0.07715878635644913, 0.01843079924583435, -0.10571166127920151, -0.08388803899288177, 0.048004359006881714, 0.005781520623713732, -0.0012158036697655916, 0.03657708317041397, -0.004940525162965059, 0.02868812531232834, 0.018000787124037743, 0.0025266397278755903, 0.029271051287651062, 0.1054331511259079, 0.06043769791722298, 0.11594730615615845, 0.023098185658454895, -0.007534658536314964, -0.014323581010103226, -0.008946821093559265, 0.016099555417895317, -0.020256727933883667, 0.012610782869160175, 0.006962987128645182, -0.02188727632164955, 0.0369318462908268, -0.021264996379613876, -0.009002062492072582, 0.017507223412394524, -0.03573461249470711, -0.021257802844047546, 0.03791641443967819, -0.019998757168650627, 0.0812605693936348, 0.0030604100320488214, -0.010006324388086796, 0.019334498792886734, 0.012084463611245155, 0.05653250589966774, 0.03235020488500595, -0.012662166729569435, -0.033300336450338364, 0.01568756438791752, 0.04826471954584122, -0.013922682031989098, 0.0008363776141777635, -0.0335664302110672, -1.7430977550247917e-08, -0.015357390977442265, 0.008691741153597832, -0.005853007547557354, 0.06636650860309601, 0.04410697892308235, 0.0007423449424095452, -0.12307000905275345, -0.026625342667102814, -0.042757485061883926, -0.029000140726566315, 0.05828636884689331, 0.0923273116350174, -0.10259485989809036, 0.0035923062823712826, 0.1045960858464241, 0.0897253230214119, -0.04603222385048866, 0.012232894077897072, -0.048952214419841766, -0.08820415288209915, 0.0036063881125301123, 0.017376050353050232, -0.0003171078278683126, -0.08190950751304626, 0.006240579299628735, -0.04076959565281868, -0.03043469414114952, -0.027091676369309425, -0.0023031565360724926, 0.007042804732918739, 0.011233992874622345, 0.1769687384366989, -0.03897449001669884, 0.01217569038271904, -0.031897466629743576, -0.06547671556472778, 0.009799696505069733, 0.030594879761338234, 0.06007937714457512, -0.02171356789767742, -0.07669170945882797, 0.0015763213159516454, -0.024440938606858253, -0.11330055445432663, -0.041555605828762054, 0.04032218083739281, 0.04185234755277634, -0.06607229262590408, 0.0021789015736430883, -0.08875718712806702, -0.028063789010047913, 0.0497698038816452, 0.07761367410421371, 0.05518750846385956, 0.08816490322351456, 0.0855398178100586, 0.03169439733028412, -0.025365125387907028, -0.021951373666524887, 0.017133688554167747, 0.0501638799905777, 0.04106556624174118, 0.020828571170568466, 0.010376127436757088], [-0.09540747106075287, -0.022653749212622643, 0.0319756381213665, 0.049644533544778824, -0.04207196086645126, -0.08670670539140701, 0.09396471083164215, -0.033271633088588715, 0.07516373693943024, -0.02806687355041504, -0.03311118856072426, -0.11703367531299591, 0.05015861615538597, 0.02488408237695694, -0.03405455872416496, -0.05961154028773308, 0.036393698304891586, 0.011630449444055557, -0.009462011978030205, -0.09177210181951523, -0.07764927297830582, 0.03163343667984009, -0.015202080830931664, 0.019338732585310936, -0.03098992444574833, -0.04049035906791687, -0.01367206685245037, 0.08727559447288513, -0.10663798451423645, -0.11100306361913681, -0.009631884284317493, -0.03033447265625, 0.08510328829288483, 0.057757534086704254, 0.07430492341518402, -0.007668032310903072, -0.11539317667484283, 0.04884811490774155, 0.0094106150791049, 0.02582438662648201, 0.011774769052863121, -0.06499882787466049, -0.05613073706626892, 0.003833100665360689, -0.0034731910564005375, -0.006495396140962839, 0.04583171382546425, 0.04968142881989479, 0.015988821163773537, 0.04153788834810257, -0.06658290326595306, -0.09823504835367203, -0.008523725904524326, 0.017048003152012825, -0.01237714383751154, -0.05855575203895569, -0.011699795722961426, 0.07066042721271515, 0.048530884087085724, 0.019833432510495186, -0.01622510328888893, -0.011347050778567791, -0.07275166362524033, 0.0487302727997303, -0.026966996490955353, 0.08696605265140533, 0.026531817391514778, -0.012403982691466808, -0.00048775417963042855, -0.03168296441435814, -0.003524911357089877, 0.02756553515791893, 0.053710851818323135, 0.007994224317371845, 0.002406126819550991, -0.01400244515389204, 0.026059485971927643, -0.06001998111605644, 0.02041715942323208, 0.04129922389984131, -0.030164508149027824, 0.002269056625664234, -0.14583708345890045, -0.07138270884752274, 0.011320631951093674, -0.0547109954059124, 0.05199852213263512, 0.06363959610462189, -0.06036575511097908, -0.002376776421442628, -0.03274271637201309, 0.05248992145061493, 0.06960047781467438, -0.027062034234404564, 0.00405107019469142, -0.012432429008185863, 0.07869970798492432, -0.026556354016065598, -0.1458796262741089, 0.11608633399009705, -0.02913530543446541, 0.012613450177013874, -0.0035695750266313553, 0.01924188621342182, 0.07166745513677597, -0.0036575321573764086, -0.02173823118209839, 0.014610525220632553, -0.015397487208247185, -0.03448887914419174, -0.018254488706588745, -0.04666784778237343, -0.07599803060293198, 0.06366246938705444, 0.04521757364273071, 0.03610846400260925, 0.057840462774038315, -0.07506099343299866, 0.050143349915742874, -0.02629401721060276, 0.025861630216240883, 0.012969216331839561, -0.05918895825743675, -0.022324128076434135, -0.0945408046245575, 0.057632941752672195, -0.010783246718347073, -3.951118631757906e-33, 0.0034924561623483896, 0.006810213904827833, 0.08087452501058578, 0.08537652343511581, -0.015222594141960144, 0.02489301934838295, -0.018631303682923317, 0.022157317027449608, -0.07550476491451263, 0.053173087537288666, 0.08771087229251862, 0.01844545640051365, -0.026285523548722267, 0.04707644507288933, -0.05260757356882095, 0.06424064934253693, 0.004247176926583052, 0.06220177561044693, -0.038691189140081406, 0.07865260541439056, -0.01296534389257431, 0.0032002748921513557, -0.011076820082962513, 0.0764467790722847, 0.034694671630859375, -0.09525437653064728, 0.04149171710014343, -0.07144609838724136, 0.06021864712238312, 0.03130846843123436, 0.016705196350812912, 0.058957941830158234, 0.007101509720087051, 0.024094603955745697, 0.0358361080288887, 0.00522326584905386, -0.007813681848347187, -0.02227039262652397, 0.020603854209184647, 0.07739955186843872, 0.029784848913550377, 0.0043795485980808735, 0.004232355859130621, 0.04914885014295578, -0.060895320028066635, -0.04575981944799423, 0.04485395923256874, -0.0023881688248366117, -0.059215154498815536, -0.034370385110378265, -0.029125643894076347, -0.0009754156926646829, -0.11358270794153214, -0.0005420496454462409, -0.1263222098350525, -0.02241864800453186, 0.03308311104774475, 0.005450484808534384, -0.15151047706604004, -0.04180316627025604, -0.006906586233526468, 0.015689944848418236, -0.001745689078234136, 0.002427684608846903, -0.020279008895158768, -0.013593623414635658, 0.014171918854117393, -0.03903934732079506, 0.048936210572719574, -0.061040885746479034, -0.046372540295124054, -0.004438978154212236, 0.048030927777290344, 0.04354579746723175, -0.021033499389886856, 0.012251471169292927, -0.04495922476053238, 0.03880101069808006, -0.014588386751711369, -0.026840252801775932, 0.010862069204449654, 0.04366851970553398, -0.019764438271522522, -0.01305641420185566, -0.06399239599704742, -0.06644600629806519, -0.001263397396542132, -0.08825423568487167, -0.08299674093723297, -0.02709074877202511, 0.007352604530751705, 0.001831958768889308, 0.15230320394039154, 0.013256642036139965, -0.09822976589202881, 7.83924050087433e-34, -0.013631461188197136, -0.06951949745416641, -0.048688340932130814, 0.04442363977432251, 0.04778671637177467, -0.0838962122797966, 0.020152313634753227, 0.11088721454143524, -0.01484230998903513, 0.07051024585962296, -0.014209468849003315, -0.0756818875670433, 0.03735018149018288, -0.0018827110761776567, 0.07176561653614044, 0.019786151126027107, 0.008550451137125492, -0.0029687867499887943, -0.005939556751400232, -0.04185518994927406, -0.07265689969062805, 0.07683051377534866, -0.054052721709012985, -0.021596182137727737, 0.02976415492594242, -0.023846883326768875, 0.05102862790226936, 0.03326106071472168, -0.021084463223814964, -0.061384417116642, -0.07999170571565628, 0.03154188394546509, -0.053868453949689865, 0.01228358969092369, -0.12527616322040558, 0.032653819769620895, 0.019193941727280617, 0.01671818271279335, 0.026504363864660263, -0.0777554139494896, -0.011196602135896683, 0.059472016990184784, -0.03066336177289486, 0.10835340619087219, 0.0495104119181633, -0.07090295851230621, -0.0916639044880867, 0.030036140233278275, 0.03128829225897789, 0.04182995483279228, -0.03382132947444916, -0.007089490536600351, -0.037527281790971756, 0.023987872526049614, 0.09655740112066269, 0.006388467736542225, 0.05578066408634186, 0.026867637410759926, -0.047306448221206665, 0.01830429956316948, 0.007278853561729193, 0.06484697014093399, -0.00023258477449417114, -0.0039043964352458715, 0.056682243943214417, 0.009631076827645302, -0.017921697348356247, -0.005305027589201927, 0.003195362165570259, -0.029501434415578842, -0.0026540756225585938, -0.02484877035021782, 0.029649987816810608, -0.008154336363077164, -0.039320673793554306, 0.04208238050341606, 0.060897719115018845, -0.027828721329569817, -0.0362735316157341, 0.08887308835983276, -0.05116254836320877, 0.030266523361206055, -0.03665250912308693, 0.0012397042009979486, 0.04986109957098961, -0.00678241066634655, 0.06474628299474716, 0.08096340298652649, -0.011818342842161655, -0.0037407956551760435, 0.043575435876846313, 0.07607567310333252, 0.01393264252692461, -0.09187520295381546, -0.10614784806966782, -1.755847733875271e-08, -0.014557924121618271, 0.028193674981594086, -0.03204183652997017, 0.02771066129207611, 0.04238053783774376, 0.060111142694950104, 0.0029528620652854443, 0.06409110128879547, -0.012795047834515572, -0.021081166341900826, 0.03795484080910683, 0.050605155527591705, -0.0029515144415199757, -0.030303319916129112, 0.045958977192640305, -0.08091137558221817, 0.02690785937011242, 0.05161209776997566, 0.02069428376853466, -0.020426347851753235, 0.023081740364432335, -0.0423358753323555, 0.033071648329496384, -0.07998026907444, -0.017364241182804108, 0.016536615788936615, 0.0975663810968399, 0.06350991129875183, -0.03666381910443306, 0.04435423016548157, 0.025726299732923508, 0.13079610466957092, 0.006368095055222511, 0.028687000274658203, -0.05124746635556221, -0.0629078596830368, 0.029077813029289246, 0.01797853410243988, 0.054429907351732254, 0.08244123309850693, -0.004116469528526068, 0.036592524498701096, 0.11409592628479004, -0.020561931654810905, -0.051309313625097275, 0.07974913716316223, 0.04490585997700691, -0.048114027827978134, -0.010293466039001942, -0.01294315978884697, -0.012375296093523502, 0.013658404350280762, 0.052323851734399796, 0.04902636632323265, 0.07730823755264282, 0.02868887409567833, 0.01900317706167698, 0.05493154749274254, -0.0056030298583209515, -0.06721936166286469, 0.09619370102882385, -0.01274010632187128, -0.008307144045829773, -0.05495152249932289], [-0.07107613980770111, 0.014709451235830784, -0.06486177444458008, -0.02437613531947136, -0.04617007449269295, -0.02260756865143776, 0.10185492783784866, 0.06018036603927612, 0.03457793965935707, -0.004718138836324215, 0.028231918811798096, -0.04307001084089279, -0.05799340456724167, 0.12188100069761276, -0.009986478835344315, -0.0013195978244766593, 0.07927728444337845, 0.041552282869815826, -0.024412523955106735, 0.0246882364153862, 0.01781085506081581, 0.016244987025856972, 0.040381256490945816, -0.041428375989198685, -0.029804930090904236, 0.039119478315114975, 0.031000403687357903, -0.05930434167385101, -0.028924180194735527, -0.03572101145982742, 0.02072816714644432, -0.08343931287527084, 0.03851764649152756, 0.0089004747569561, 0.022107651457190514, -0.02131444215774536, -0.039650559425354004, 0.004222087562084198, 0.05531111732125282, -0.054447125643491745, -0.07977717369794846, -0.001461965381167829, 0.027242369949817657, 0.0624840147793293, 0.07205480337142944, -0.04583579674363136, -0.016809141263365746, -0.004674148745834827, 0.005091676488518715, -0.019773460924625397, 0.012853860855102539, -0.005915351677685976, -0.04770689085125923, 0.03569846600294113, 0.036550380289554596, 0.015276801772415638, -0.09256177395582199, -0.017700674012303352, -0.015443414449691772, -0.009557100012898445, 0.0024707766715437174, 0.022033022716641426, -0.00824155006557703, 0.08531872928142548, 0.007715766783803701, 0.07541133463382721, 0.06918938457965851, 0.016836557537317276, -0.012027123011648655, -0.005669011268764734, 0.00835279282182455, -0.032486580312252045, -0.005769153591245413, -0.05478593707084656, 0.04664228856563568, -0.021752702072262764, -0.016939561814069748, 0.09038447588682175, -0.045852262526750565, -0.0746668130159378, 0.016112111508846283, -0.1207987517118454, -0.11344200372695923, 0.05780080333352089, 0.057520583271980286, 0.04532129690051079, -0.0438816137611866, -0.01354522816836834, -0.025934679433703423, 0.05083228275179863, -0.05351341888308525, 0.04435615614056587, -0.023543445393443108, 0.024541325867176056, -0.08517555892467499, -0.02079533040523529, -0.01980574242770672, -0.0027887821197509766, -0.12713328003883362, 0.12269860506057739, -0.00582480151206255, 0.012893558479845524, -0.09545296430587769, 0.06326768547296524, 0.08530906587839127, 0.012235264293849468, 0.03041965886950493, -0.050765011459589005, -0.017059672623872757, -0.04741939157247543, -0.03450851887464523, 0.0241007748991251, -0.004794401582330465, 0.04076697677373886, 0.08662198483943939, -0.10063015669584274, -0.02260855957865715, 0.06235364452004433, 0.049090296030044556, 0.006779781077057123, 0.04766064137220383, 0.03331463411450386, -0.10267677158117294, 0.00999836903065443, -0.07517167180776596, -0.01870313100516796, 0.02847433090209961, -2.2902452147368256e-33, 0.025411462411284447, -0.0037871443200856447, 0.11120928823947906, 0.021283242851495743, -0.03583647310733795, 0.0009302321122959256, -0.04627763107419014, 0.06190057471394539, -0.04377393797039986, -0.025246139615774155, -0.07417870312929153, -0.16288715600967407, -0.006086906883865595, -0.008202221244573593, -0.010004338808357716, 0.079171322286129, 0.026265276595950127, 0.06381473690271378, 0.10284160822629929, 0.009765916503965855, -0.10613410919904709, 0.10250329971313477, 0.039107631891965866, 0.022023377940058708, -0.021467022597789764, 0.01638520322740078, 0.0626525953412056, 0.028492553159594536, 0.08150169253349304, 0.015464143827557564, -0.0356576070189476, -0.010495040565729141, 0.051156189292669296, 0.007883735932409763, 0.04865409806370735, 0.01942524127662182, -0.032142866402864456, -0.04889817535877228, -0.030311327427625656, 0.019087158143520355, -0.03470759093761444, 0.05032953992486, -0.06804873794317245, 0.003960354253649712, -0.06035056337714195, -0.011521021835505962, 0.056019969284534454, 0.04219093546271324, -0.01830865629017353, 0.00952529814094305, -0.0027526465710252523, 0.01501299999654293, -0.06949133425951004, 0.06003181263804436, -0.07726537436246872, 0.03184748813509941, 0.042590633034706116, -0.022889094427227974, -0.06795187294483185, 1.624831566005014e-05, -0.07012756913900375, -0.033447735011577606, -0.07105966657400131, 0.033185265958309174, -0.03875754401087761, 0.012438018806278706, -0.06427089124917984, -0.05312058702111244, -0.09426915645599365, 0.033271610736846924, -0.05358739569783211, 0.003687032964080572, 0.0058690691366791725, 0.011654868721961975, -0.03361861780285835, 0.02016592025756836, -0.005873807240277529, 0.03525099903345108, -0.10320156067609787, 0.00438482454046607, -0.05436926335096359, 0.0640568882226944, 0.057958055287599564, -0.000367463770089671, -0.04987068101763725, 0.0037904400378465652, 0.024924715980887413, -0.10787701606750488, 0.1492362916469574, 0.1607080101966858, -0.09020116180181503, -0.12436521798372269, 0.022961450740695, -0.07846060395240784, -0.030979031696915627, 1.1568706632144238e-33, -0.019010484218597412, -0.03148188069462776, -0.02746916376054287, -0.003922188188880682, 0.04245166480541229, 0.01090000756084919, -0.10125363618135452, 0.026911048218607903, 0.03899722546339035, 0.01934202015399933, -0.022347256541252136, -0.0009471036610193551, 0.10785932093858719, -0.021594630554318428, -0.00923912413418293, 0.07253658026456833, 0.004292857833206654, -0.027025002986192703, 0.05204593390226364, 0.03416758030653, 0.12131436914205551, -0.020349854603409767, 0.046841491013765335, 0.01626100204885006, -0.029286649078130722, 0.06757409870624542, -0.029678745195269585, 0.06724705547094345, -0.023721251636743546, -0.023971039801836014, 0.013120167888700962, -0.013490088284015656, 0.0009170197881758213, -0.011561076156795025, -0.05327233672142029, 0.18751820921897888, 0.027430439367890358, -0.00040400816942565143, 0.018609417602419853, 0.015853432938456535, -0.005017515737563372, 0.006975681520998478, 0.02150295302271843, 0.0613667368888855, -0.018927162513136864, -0.0020782900974154472, 0.011293655261397362, 0.07604754716157913, -0.0755525454878807, -0.012801683507859707, -0.0962982028722763, 0.03589466214179993, -0.08469316363334656, -0.08112691342830658, -0.022700060158967972, -0.012597421184182167, -0.040984731167554855, 0.02320452220737934, 0.1000821590423584, 0.019098561257123947, 0.034266356378793716, 0.02281220071017742, -0.02189469151198864, 0.005412794183939695, -0.021201299503445625, -0.06440411508083344, -0.06159864366054535, 0.05222807079553604, -0.006424235180020332, -0.04840787500143051, 0.05200299620628357, -0.024803081527352333, -0.0141263697296381, 0.0256781168282032, -0.011695503257215023, -0.03618617355823517, -0.03821578994393349, -0.07838455587625504, -0.014383066445589066, -0.02252405695617199, -0.010920224711298943, 0.02125043235719204, -0.01999529078602791, 0.07633946090936661, -0.0553240142762661, 0.06172693893313408, 0.06965404748916626, 0.0011785272508859634, -0.02504899725317955, -0.06052641570568085, 0.008785036392509937, 0.06869839131832123, 0.037159983068704605, 0.018045248463749886, 0.005601986311376095, -1.360135026828857e-08, 0.006269451696425676, 0.02227221429347992, -0.09206007421016693, -0.010152051225304604, -0.06368377804756165, 0.010486876592040062, -0.016362175345420837, 0.01691744662821293, 0.02589993365108967, -0.006938599981367588, 0.031638991087675095, -0.04042915999889374, -0.02732141874730587, -0.06591571122407913, -0.016669556498527527, 0.009603828191757202, -0.059828612953424454, -0.06719551980495453, -0.023736676201224327, 0.032568998634815216, 0.04344915971159935, 0.03203275054693222, 0.037991221994161606, -0.07852767407894135, 0.013033139519393444, -0.04071469604969025, 0.05456766113638878, 0.03308461979031563, 0.04783857241272926, 0.11267558485269547, 0.05540629103779793, -0.017975572496652603, -0.003408036893233657, -0.016809171065688133, 0.013501973822712898, 0.006779280956834555, 0.013069119304418564, 0.017625892534852028, 0.10318996012210846, 0.06717429310083389, -0.044854357838630676, 0.08053898066282272, -0.09912025928497314, 0.07017199695110321, 0.00970418006181717, -0.0084938770160079, 0.06512916088104248, -0.015189037658274174, 0.03926084563136101, -0.06895839422941208, 0.021069293841719627, -0.022291533648967743, 0.0006890008226037025, 0.023930802941322327, 0.008874347433447838, -0.021624134853482246, -0.008861865848302841, 0.029316874220967293, -0.032853882759809494, 0.0007635707734152675, 0.0038453699089586735, -0.08365495502948761, 0.0381399542093277, 0.0681154876947403], [-0.07642780244350433, 0.02040136605501175, 0.02372194081544876, 0.002992460737004876, -0.07283715903759003, -0.08591622859239578, 0.08192561566829681, 0.013409793376922607, -0.013903958722949028, -0.03314097970724106, 0.0001945383264683187, 0.011193614453077316, 0.007639183662831783, 0.03425266966223717, -0.007735160645097494, -0.04005560278892517, 0.03163523226976395, 0.016687920317053795, -0.06984876096248627, 0.10170003026723862, 0.017528999596834183, 0.048546914011240005, 0.03358050435781479, -0.005730619188398123, -0.0642218366265297, 0.013792513869702816, 0.03457288444042206, -0.016382971778512, 0.021351372823119164, -0.027904769405722618, 0.06804488599300385, 0.011440102942287922, 0.054161205887794495, 0.035898104310035706, 0.04512876272201538, 0.06222971901297569, -0.047463178634643555, -0.07543440908193588, 0.046666741371154785, -0.016233306378126144, -0.036225635558366776, -0.016365474089980125, -0.019440334290266037, -0.006311624776571989, 0.04284439608454704, -0.033587440848350525, -0.015186780132353306, -0.0093400739133358, 0.03903159499168396, -0.04219203069806099, -0.018549442291259766, -0.012166613712906837, 0.001879275543615222, 0.01973511464893818, 0.022659042850136757, 0.06843544542789459, -0.02223087288439274, -0.025004930794239044, -0.03495975583791733, -0.02797507867217064, -0.04406876862049103, 0.057189617305994034, -0.06080581620335579, 0.026816504076123238, -0.051297515630722046, 0.03393951803445816, 0.029329467564821243, 0.054001834243535995, -0.058580707758665085, -0.03825506940484047, 0.004020303953438997, 0.030662422999739647, 0.027136819437146187, 0.000603238120675087, 0.02612507902085781, -0.01541474275290966, -0.007396408822387457, -0.015452954918146133, 0.013142382726073265, -0.008136746473610401, 0.02109806425869465, -0.14605258405208588, -0.06715221703052521, 0.052819158881902695, 0.03763921558856964, -0.04001513123512268, -0.025690311565995216, 0.01762654073536396, -0.003797318087890744, -0.0054793874733150005, -0.12574288249015808, 0.09786273539066315, -0.07238222658634186, 0.041969723999500275, -0.13671882450580597, -0.034204158931970596, 0.03551330044865608, 0.02479635179042816, -0.22131672501564026, 0.1687924712896347, 0.015220674686133862, 0.09194876253604889, -0.09623248875141144, 0.024379117414355278, 0.05099884048104286, 0.03448614105582237, -0.05650430917739868, 0.03832418844103813, -0.005983087699860334, -0.04902581498026848, -0.004848581273108721, -0.000300092448014766, 0.014279120601713657, 0.017718981951475143, 0.10597401112318039, -0.06636352837085724, -0.026835579425096512, 0.03897706791758537, 0.039847247302532196, 0.0016631163889542222, 0.0357208326458931, 0.017798103392124176, -0.07957329601049423, -0.012554308399558067, -0.030443333089351654, -0.012850449420511723, 0.047751154750585556, -3.8809662309267854e-33, 0.0003000668657477945, 0.011823590844869614, 0.06880190223455429, 0.12626978754997253, -0.06816916912794113, -0.012301546521484852, -0.06477273255586624, 0.0091253612190485, -0.014210308901965618, -0.012033401988446712, 0.06180424615740776, -0.04596507176756859, 0.004894990473985672, 0.013713491149246693, -0.04230496659874916, 0.14851009845733643, -0.07478208839893341, 0.0197426900267601, 0.08467863500118256, 0.048897258937358856, -0.10967665910720825, 0.03683682903647423, 0.0761813223361969, 0.08463605493307114, 0.01772068627178669, -0.03609795495867729, 0.06666310131549835, -0.07113716006278992, 0.11537577211856842, 0.024297937750816345, -0.028942614793777466, -0.019720863550901413, 0.07565419375896454, 0.029034383594989777, -0.00010407609806861728, 0.042957477271556854, -0.00029630953213199973, -0.05768078938126564, -0.07622552663087845, 0.024248775094747543, 0.007728668861091137, 0.045676179230213165, -0.006044159643352032, -0.0461873821914196, -0.027415411546826363, -0.05087551474571228, 0.04937021806836128, 0.0687539130449295, 0.04084153473377228, -0.023151997476816177, -0.05732788145542145, 0.011904215440154076, -0.1010216698050499, 0.1267334371805191, -0.038563650101423264, -0.00023391269496642053, -0.001915373490191996, -0.05618702992796898, -0.04075140878558159, -0.030314983800053596, -0.00946539081633091, -0.004475957248359919, -0.04517478123307228, -0.0015716248890385032, -0.031485363841056824, -0.004374913405627012, -0.026277858763933182, -0.010366791859269142, -0.015843283385038376, 0.015480068512260914, -0.051721543073654175, -0.020611559972167015, -0.05042165145277977, -0.017665136605501175, -0.04661846533417702, 0.04525201395153999, -0.002303913701325655, 0.03123694658279419, -0.01660379022359848, -0.0028278413228690624, -0.005643094424158335, 0.0498960018157959, 0.004814675077795982, -0.009686024859547615, -0.0073580192402005196, 0.016442809253931046, -0.025367816910147667, -0.08903946727514267, 0.05885005369782448, 0.0748446062207222, -0.007833623327314854, -0.08313529193401337, 0.05277828872203827, -0.016595520079135895, -0.017497705295681953, 2.7529763618861113e-33, 0.11351948231458664, 0.017470525577664375, -0.04361743852496147, -0.10336200892925262, -0.0006447019404731691, -0.030183574184775352, -0.06071885675191879, 0.106032595038414, -0.07559487223625183, -0.02797655574977398, 0.010637802071869373, -0.016237914562225342, 0.09346995502710342, -0.016123419627547264, -0.03761541098356247, 0.04245511069893837, 0.12295868247747421, 0.04185989871621132, 0.08688327670097351, 0.03126664087176323, -0.0038382108323276043, -0.004539163317531347, -0.0503380224108696, 0.026561308652162552, -0.0603058896958828, 0.040031954646110535, -0.02014102227985859, 0.03416842967271805, -0.055009543895721436, -0.0489920899271965, 0.029942039400339127, 0.039832599461078644, -0.031324271112680435, 0.027161234989762306, -0.052534330636262894, 0.12887857854366302, 0.011649681255221367, -0.1036042645573616, 0.004516463726758957, -0.0523701049387455, -0.03888702765107155, 0.024372972548007965, 0.022458262741565704, 0.05929259583353996, -0.061232972890138626, -0.005323699209839106, -0.00715877627953887, 0.036314137279987335, -0.12763796746730804, 0.01830771379172802, -0.09672986716032028, -0.012696857564151287, 0.011335722170770168, -0.04303683713078499, -0.02109287492930889, -0.009926947765052319, 0.0236282367259264, 0.003018587827682495, 0.010712826624512672, -0.0007073696469888091, 0.016321789473295212, 0.11975107342004776, 0.022606313228607178, 0.07617414742708206, 0.023176074028015137, -0.037061069160699844, -0.03355691209435463, -0.013117717579007149, -0.025350939482450485, -0.00611605029553175, 0.07028371840715408, 0.06922953575849533, -0.03430229425430298, 0.032653696835041046, -0.00429081916809082, -0.041351884603500366, 0.025539984926581383, -0.07966116815805435, -0.0009964037453755736, 0.03626076877117157, -0.042724303901195526, 0.05838042497634888, -0.019336961209774017, 0.016857074573636055, -6.631914584431797e-05, 0.06423898786306381, 0.10428845137357712, 0.031576670706272125, -0.02819928713142872, -0.002165549900382757, -0.010329783894121647, 0.06490670889616013, 0.0006107835215516388, 0.03093056008219719, 0.018396833911538124, -1.6055871299158753e-08, -0.023976022377610207, 0.0594957061111927, -0.07260091602802277, 0.015425249934196472, -0.004265190567821264, 0.009324409998953342, -0.05909440293908119, -0.0006843063747510314, -0.02101781964302063, -0.03972819447517395, 0.04895539581775665, 0.061782024800777435, -0.07767006754875183, -0.01203107088804245, 0.0691726803779602, 0.08939769119024277, -0.04666542261838913, -0.04867516830563545, -0.07552913576364517, -0.057214196771383286, -0.026636535301804543, 0.0212421715259552, -0.01112503744661808, -0.07525312900543213, 0.032126590609550476, -0.08821666985750198, 0.012944993562996387, 0.024209817871451378, 0.054617125540971756, 0.02429998852312565, 0.04589000344276428, 0.05821746960282326, -0.012746655382215977, 0.006512985564768314, 0.005974173545837402, -0.029855219647288322, 0.009377197362482548, 0.06276803463697433, 0.09147252142429352, 0.0370231531560421, -0.08983556926250458, 0.032031718641519547, -0.06261942535638809, -0.03725341707468033, -0.005344762932509184, 0.04869985207915306, 0.06024383381009102, -0.0028228878509253263, 0.022665048018097878, -0.08810330927371979, -0.013368215411901474, 0.004753315821290016, 0.06323070079088211, 0.0009056185954250395, 0.06604781001806259, 0.05196750909090042, 0.0398838110268116, 0.0285177081823349, -0.05183852091431618, 0.017879297956824303, -0.008564065210521221, -0.06076371669769287, 0.02392696961760521, 0.044981665909290314]]\n"
          ]
        }
      ],
      "source": [
        "from langchain.embeddings import HuggingFaceEmbeddings\n",
        "from langchain.vectorstores import FAISS\n",
        "\n",
        "# Load the Sentence-Transformers model for embeddings\n",
        "embedding_model = HuggingFaceEmbeddings(model_name=\"sentence-transformers/all-MiniLM-L6-v2\")\n",
        "\n",
        "# Now you can use this embedding model in your LangChain pipelines, for example, with FAISS for vector search\n",
        "chunks_of_text =     [\n",
        "        \"Hi there!\",\n",
        "        \"Hello!\",\n",
        "        \"What's your name?\",\n",
        "        \"Bond, James Bond\",\n",
        "        \"Hello Bond!\"\n",
        "    ]\n",
        "\n",
        "# Convert texts to embeddings\n",
        "embeddings = [embedding_model.embed_query(text) for text in chunks_of_text]\n",
        "\n",
        "# Print or use the embeddings for further processing\n",
        "print(embeddings)\n"
      ]
    },
    {
      "cell_type": "code",
      "execution_count": 10,
      "metadata": {
        "colab": {
          "base_uri": "https://localhost:8080/",
          "height": 232,
          "referenced_widgets": [
            "7217d3debc104df68b0a48d95925e89f",
            "df9d19597a0043d2883eb89a8b358bf3",
            "3cf6cdc2ec7e4c1bbdd93a7bdda85b57",
            "3ff2c5065c3b4154adb2a0f05e012101",
            "634baa37988f4951a160ebaeb2534459",
            "8001aef6f1f54f7cbb460c6f38ed3797",
            "c2896eed15b440b1b5f7e4df9edf1e71",
            "55566f4fd68841fabacf1e9f410571e7",
            "49f4e00a8a9442f8a3306a5da8fbb2aa",
            "9761a96ab08644ab87a7ba36e2dc70b8",
            "060625f4975b4e09b8cb117e47e3cc22",
            "0ee0d5c59575471395a6bb52ead14c84",
            "77c08903832a46e4a9c2027c18204e48",
            "b4c8e199e87a45eebbfeb42aeb6ead17",
            "e440ee3dcadc464e9b63414728b83d6f",
            "fb9d7a89518b4f298ccfc25fbccbd415",
            "610913e84b2048f38b5aee3e8a184bf9",
            "bf9f3d0240a64c02bbcab5e9bc25359b",
            "4cbb157edb9d4bab8352571e96ca3c97",
            "9743d3c0a3a84fc9ba17517e11ffada7",
            "6374cbb3066c4674ab8e238671eeb19e",
            "d6f3e94c05cf40fe87b5752f1620153b",
            "2db52ba6d8a0423aafb5ebe3335770b9",
            "475f70170e0543188347c015f8ccf291",
            "8bd7e67dbd59468faad6156dff59fc17",
            "23796e60fbf74a86b5f9440beea66d69",
            "daa4c2ae03db4c04b6baf9ce2d9416e7",
            "6afc94d023b04b0fad16239032827f87",
            "4e108809f96042fda755c5ef392f186d",
            "e2a6149525af40b28b70ba2fb0f98ea6",
            "b86b503dfd814453923262bedf74e0e0",
            "ddb27e49f34d4896818d4382c4c34164",
            "6710b4dae652417cb449f5a3a6622370",
            "2e3c342e3ff64fa198473f8a5f9347cd",
            "ba085fd9bf544922b277b4fcee4d61db",
            "25fe6253bf8240088781e66a183f306a",
            "356c635c57c94246bbe2503fb4f12863",
            "c4c9b5f56212402f99bcb98511280674",
            "fc1e73b3bfd348d5b371aaac1c13323c",
            "869ebef774994548a6061c33c59dae76",
            "589fbeb3c31c47ef92706481c5e2da8d",
            "92484fcaef7745baa46583f15de4597f",
            "835f2dac93a0496c92b176055e09a50c",
            "ccb3720d8e8542d2afec8bc02b5fc27b",
            "169b7947d84046f280a69ed61d158667",
            "c9f549636cfd4e7a8abb15671742208a",
            "b2f0ce6e27564890bd3cfde8c25d6cb8",
            "b97e844d0c3346aaa9506c09a2fd4801",
            "e39721d400d749a89685f821bf4f834d",
            "e3c3e44d161744429d95c8ef89f67ba4",
            "2ddbf696962b4c1092b3e9f45567899d",
            "1dc509c543594caba287cc4339d0ccc3",
            "bedf2afced404b31a695318d8478f6c2",
            "0e00b7470eac4cdab4ea386ff28fd22c",
            "9b322535a0df4c4e9e249649288ab61b"
          ]
        },
        "id": "B2_sgpGJkAX6",
        "outputId": "f72315b4-0126-4fd1-ebc5-d98c98bb017c"
      },
      "outputs": [
        {
          "output_type": "stream",
          "name": "stderr",
          "text": [
            "WARNING:sentence_transformers.SentenceTransformer:No sentence-transformers model found with name distilbert-base-uncased. Creating a new one with mean pooling.\n"
          ]
        },
        {
          "output_type": "display_data",
          "data": {
            "text/plain": [
              "config.json:   0%|          | 0.00/483 [00:00<?, ?B/s]"
            ],
            "application/vnd.jupyter.widget-view+json": {
              "version_major": 2,
              "version_minor": 0,
              "model_id": "7217d3debc104df68b0a48d95925e89f"
            }
          },
          "metadata": {}
        },
        {
          "output_type": "display_data",
          "data": {
            "text/plain": [
              "model.safetensors:   0%|          | 0.00/268M [00:00<?, ?B/s]"
            ],
            "application/vnd.jupyter.widget-view+json": {
              "version_major": 2,
              "version_minor": 0,
              "model_id": "0ee0d5c59575471395a6bb52ead14c84"
            }
          },
          "metadata": {}
        },
        {
          "output_type": "display_data",
          "data": {
            "text/plain": [
              "tokenizer_config.json:   0%|          | 0.00/48.0 [00:00<?, ?B/s]"
            ],
            "application/vnd.jupyter.widget-view+json": {
              "version_major": 2,
              "version_minor": 0,
              "model_id": "2db52ba6d8a0423aafb5ebe3335770b9"
            }
          },
          "metadata": {}
        },
        {
          "output_type": "display_data",
          "data": {
            "text/plain": [
              "vocab.txt:   0%|          | 0.00/232k [00:00<?, ?B/s]"
            ],
            "application/vnd.jupyter.widget-view+json": {
              "version_major": 2,
              "version_minor": 0,
              "model_id": "2e3c342e3ff64fa198473f8a5f9347cd"
            }
          },
          "metadata": {}
        },
        {
          "output_type": "display_data",
          "data": {
            "text/plain": [
              "tokenizer.json:   0%|          | 0.00/466k [00:00<?, ?B/s]"
            ],
            "application/vnd.jupyter.widget-view+json": {
              "version_major": 2,
              "version_minor": 0,
              "model_id": "169b7947d84046f280a69ed61d158667"
            }
          },
          "metadata": {}
        },
        {
          "output_type": "stream",
          "name": "stdout",
          "text": [
            "[[-0.018343335017561913, -0.1628587245941162, -0.06578601896762848, 0.023128028959035873, 0.00455157645046711, -0.48300719261169434, 0.2474226951599121, 0.6296902298927307, -0.04311739653348923, -0.09659039229154587, -0.18549716472625732, -0.4312531650066376, -0.26857858896255493, 0.11359043419361115, -0.2893787622451782, 0.36271682381629944, 0.01674966886639595, 0.040249209851026535, 0.007227499037981033, 0.14428582787513733, 0.5352672338485718, 0.10889463126659393, -0.21775025129318237, 0.22065210342407227, 0.649745523929596, -0.21230319142341614, -0.014112617820501328, -0.12194402515888214, -0.5462151169776917, -0.3744245171546936, 0.29739952087402344, -0.06133110076189041, -0.10202661901712418, 0.08745697140693665, 0.023268982768058777, -0.27904340624809265, -0.1366906464099884, 0.05550412833690643, -0.14184676110744476, 0.2325471043586731, -0.44396477937698364, -0.2067464143037796, 0.19729650020599365, 0.32864218950271606, 0.08319167047739029, -0.1143551915884018, -0.004307826980948448, 0.11423341929912567, -0.3343883156776428, 0.13351082801818848, -0.41875773668289185, 0.0915563702583313, 0.18168635666370392, 0.42511746287345886, -0.19377876818180084, 0.3410530686378479, -0.20174744725227356, -0.4902912378311157, -0.5325301289558411, -0.07976758480072021, 0.3800300359725952, 0.26075315475463867, 0.12692280113697052, -0.39119070768356323, 0.5866801142692566, 0.18795254826545715, 0.10762470215559006, 0.29098793864250183, -0.6983425617218018, -0.08028542250394821, -0.22880247235298157, -0.13635578751564026, -0.030736925080418587, 0.20660436153411865, -0.0439414419233799, 0.4666861891746521, -0.18294036388397217, 0.4125840365886688, -0.16112419962882996, -0.4334087073802948, -0.35172614455223083, 0.5821014642715454, -0.19136372208595276, 0.20380458235740662, -0.08547427505254745, -0.21012605726718903, -0.2989133894443512, -0.07511533051729202, -0.38092318177223206, 0.5794067978858948, 0.002562066540122032, -0.02383892610669136, -0.042948007583618164, -0.048588745296001434, 0.4162067770957947, -0.6920496821403503, -0.056417498737573624, 0.17448051273822784, 0.003570977598428726, -0.0664556473493576, 0.16741947829723358, -0.5770233273506165, 0.3078753352165222, 0.07412628829479218, -0.17288219928741455, -0.04704326018691063, 0.05764324590563774, 0.5501635074615479, 0.21136361360549927, -0.02467948943376541, 0.4866604506969452, 0.07334358990192413, 0.08083757013082504, -0.5201151371002197, -0.4009532034397125, 0.20253372192382812, 0.36639630794525146, 0.09644469618797302, 0.035766031593084335, -0.08582739531993866, -0.4801773428916931, 0.09915457665920258, 0.1787552386522293, 0.5726943016052246, -0.1279599964618683, 0.3050239086151123, 0.09768827259540558, 0.3002062141895294, 0.08105377852916718, -0.12984129786491394, 0.43445339798927307, 0.4620239734649658, 0.46801435947418213, -0.24318882822990417, -0.24830836057662964, 0.11819744110107422, -0.1024932861328125, -0.3278120458126068, -0.7352287173271179, 0.36570894718170166, 0.2955761253833771, 0.1043175458908081, 0.014677256345748901, -0.15152031183242798, -0.019984658807516098, 0.005258042365312576, -0.29142698645591736, -0.23433713614940643, 0.3300291895866394, 0.11357446014881134, 0.23694443702697754, -0.24492692947387695, -0.28709059953689575, -0.2872377932071686, -0.13542591035366058, 0.2669451832771301, 0.14289632439613342, 0.031741559505462646, 0.07659284770488739, 0.03432251513004303, 0.6898153424263, 0.32550522685050964, 0.039971765130758286, 0.042742423713207245, 0.02490892820060253, -0.10284876823425293, -0.31863364577293396, 0.370431512594223, -0.1148034930229187, 0.07067033648490906, -0.31609028577804565, -0.2514422535896301, 0.6070895195007324, 0.06977247446775436, -0.08988424390554428, 0.370097815990448, 0.29904720187187195, 0.24479778110980988, 0.31800854206085205, -0.3344077169895172, -2.531813859939575, 0.3240852355957031, 0.18875354528427124, -0.30838683247566223, 0.2562735378742218, -0.07367120683193207, 0.5003496408462524, -0.21876585483551025, -0.014751434326171875, 0.11244194209575653, -0.2220362275838852, -0.2036316692829132, -0.22668328881263733, -0.1571832150220871, 0.15644142031669617, -0.335115909576416, -0.14430686831474304, -0.33925753831863403, -0.28655001521110535, 0.03341725468635559, -0.02122260443866253, 0.06510166823863983, 0.29350632429122925, 0.12505508959293365, -0.22481262683868408, -0.13946035504341125, 0.22187276184558868, -0.058000631630420685, 0.22371117770671844, 0.1777474731206894, -0.4482179880142212, 0.8093032836914062, 0.2511415481567383, -0.16533547639846802, 0.09544582664966583, 0.12416468560695648, 0.046273645013570786, -0.12623293697834015, 0.2812083661556244, -0.054252807050943375, 0.014662178233265877, 0.14061622321605682, -0.24083557724952698, 0.35529136657714844, -0.10034062713384628, 0.8493431806564331, 0.16469645500183105, 0.3066714406013489, 0.6551530957221985, 0.20665505528450012, 0.05300071835517883, -0.25004157423973083, 0.45606809854507446, 0.2020971029996872, -0.3807630240917206, 0.12230660021305084, -0.09750603884458542, 0.08362561464309692, -0.14175403118133545, -0.17279519140720367, 0.012315511703491211, 0.22587783634662628, 0.30719056725502014, -0.2016891986131668, -0.10738873481750488, -0.25143831968307495, -0.15231244266033173, 0.02823178842663765, 0.23125198483467102, -0.28053733706474304, -0.09483469277620316, -0.4452378451824188, 0.0024948669597506523, -0.6390857696533203, -0.3994062542915344, 0.007496427744626999, -0.31740838289260864, 0.03936823457479477, 0.17626984417438507, 0.3780079185962677, -0.2000734806060791, 0.05354161560535431, 0.26143428683280945, 0.03955885022878647, -0.6363527774810791, -0.3031955063343048, 0.025383561849594116, 0.13057181239128113, 0.3665560781955719, 0.25841355323791504, -0.38785141706466675, -0.026260683313012123, -0.4454270005226135, -0.16959261894226074, -0.28185462951660156, -0.13254579901695251, 0.528968334197998, 0.02140674740076065, -0.019700195640325546, -0.18883806467056274, 0.07524921745061874, 0.342814564704895, -0.33471640944480896, 0.3209227919578552, 0.04782520979642868, -0.3152144253253937, 0.20177485048770905, 0.030181754380464554, -0.030168142169713974, -0.2564428150653839, -0.6794930696487427, 0.18426652252674103, -0.3477843999862671, -0.21794626116752625, 0.4769130349159241, 0.08504628390073776, 0.42625153064727783, -0.21277004480361938, -0.5259948968887329, -0.5713573098182678, -0.04287347197532654, -0.5040971636772156, -0.11828746646642685, -0.022050850093364716, -0.5076311230659485, 0.4651329219341278, 0.1359652727842331, -0.47759294509887695, -2.4101457595825195, 0.273016095161438, -0.029681991785764694, -0.32224032282829285, 0.1182781308889389, -0.05795987695455551, -0.23981809616088867, -0.4552992880344391, -0.3354697525501251, -0.07525631785392761, -0.2611906826496124, -0.47446513175964355, 0.46722620725631714, 0.5910835266113281, 0.37539902329444885, 0.2781197428703308, -0.041507840156555176, -0.1903664767742157, -0.09208329021930695, 0.3458229899406433, 0.09802955389022827, 0.020315295085310936, 0.06571847945451736, -0.3309343457221985, 0.48737633228302, 0.3178272843360901, -0.5338147282600403, 0.19437961280345917, -0.4211931526660919, -0.34387144446372986, 0.1515817642211914, -0.2897896468639374, 0.0002849625889211893, 0.20215807855129242, 0.010014565661549568, 0.03989570215344429, 0.008032001554965973, -0.0976092591881752, 0.3599218726158142, -0.31680071353912354, -0.45201575756073, -0.028253179043531418, 0.16742181777954102, -0.2027789056301117, 0.5351190567016602, -0.27372992038726807, -0.2511788010597229, -0.4064943492412567, 0.09820496290922165, 0.5383121967315674, -0.1831624060869217, -0.08540675789117813, 0.32508519291877747, 0.05712200328707695, -0.17072920501232147, -0.019380057230591774, 0.684610903263092, 0.36752286553382874, 0.2568911612033844, -0.2966580390930176, 0.5248241424560547, -0.2372918426990509, -0.1473405659198761, -0.11776166409254074, 0.03128354251384735, -0.40041014552116394, -0.08985763788223267, -0.36862555146217346, -0.08274568617343903, 0.11645648628473282, -0.2930077314376831, 0.1366204470396042, -0.6514012217521667, -0.9158165454864502, -0.080333411693573, -0.3906964659690857, 0.10882851481437683, -0.10844272375106812, 0.33404967188835144, -0.34449079632759094, -0.2939506769180298, -0.4909244477748871, -0.024467449635267258, 0.19930362701416016, 0.21308323740959167, -0.023132678121328354, 0.04873956739902496, -0.21839958429336548, -0.39226803183555603, -0.7380251884460449, 0.06372804939746857, 0.12221009284257889, -0.12286335974931717, -0.04056970775127411, -0.0045204441994428635, 0.05085230991244316, 0.8230698108673096, -0.5226567387580872, 0.4737071990966797, -0.04236845672130585, 0.09716089069843292, -0.18334907293319702, 0.632153332233429, -0.033428922295570374, -0.013981195166707039, 0.05631834268569946, -0.892227053642273, 0.2854432165622711, 0.061059191823005676, 0.1203913763165474, 0.1654142141342163, -0.6081304550170898, 0.26572278141975403, -0.09482373297214508, -0.19593334197998047, -0.11152872443199158, 0.22026535868644714, 0.3708009123802185, 0.28796160221099854, 0.0052043115720152855, 0.1657155156135559, 0.41849565505981445, -0.39989086985588074, -0.32012084126472473, -0.48921439051628113, -0.05908260494470596, -0.14455057680606842, 0.08257883787155151, -0.20980340242385864, -0.17451216280460358, -0.20571546256542206, 0.0008900370448827744, 0.17206056416034698, 0.04555466026067734, 0.046427056193351746, -0.3859935402870178, 0.11368867009878159, 0.40201854705810547, 0.36063358187675476, -0.05916086211800575, -0.0863698422908783, 0.3239017426967621, -0.7412329912185669, -0.08958064019680023, -0.3455048203468323, 0.7933148741722107, 0.29117634892463684, -0.1343913972377777, 0.002770904451608658, -0.07652870565652847, 0.022998809814453125, -0.13091245293617249, 0.16119298338890076, -0.2943570613861084, 0.18211378157138824, -0.20979896187782288, 0.6346251964569092, 0.04313364624977112, -0.36048004031181335, -0.3103293478488922, -0.3611812889575958, 0.22577418386936188, 0.15856672823429108, 0.14090567827224731, -0.29544952511787415, 0.011326972395181656, 0.1878640353679657, -0.10117654502391815, -0.26856422424316406, 0.1146039068698883, -0.1072889193892479, 0.13705644011497498, 0.24476705491542816, -0.1481727659702301, -0.02043505758047104, 0.4719661772251129, 0.19269737601280212, -0.2558461129665375, -0.016184084117412567, 0.5017316341400146, -0.148509681224823, -0.17606951296329498, 0.2138586938381195, 0.18348364531993866, 0.17745065689086914, 0.5392950773239136, -0.18097257614135742, -0.13427014648914337, 0.26039302349090576, 0.01216049399226904, -0.0044652968645095825, 0.07983726263046265, -0.25981405377388, -0.10572957992553711, -0.6195921897888184, -0.4074710011482239, 0.2189386785030365, -0.42829272150993347, 0.2544603943824768, 0.2738422155380249, 0.43060579895973206, 0.1790854036808014, -0.4042738080024719, -0.007056303322315216, -0.21161890029907227, 0.06522909551858902, 0.2860983908176422, 0.0355675183236599, -0.15659809112548828, -0.051382243633270264, -0.12927982211112976, -0.44917362928390503, -0.10200302302837372, -0.3589704930782318, -0.06659961491823196, 0.14392125606536865, 0.059860918670892715, 0.23190250992774963, 0.09804022312164307, -0.2896842658519745, -0.3599492907524109, 0.03500142693519592, 0.21698257327079773, 0.033390238881111145, 0.012898307293653488, -0.22322151064872742, -0.23717251420021057, -0.3041159510612488, -0.5670081973075867, 0.19642065465450287, 0.06246115267276764, -0.11901988089084625, -0.030783280730247498, -0.042243413627147675, 0.023058049380779266, -0.22767949104309082, -0.7846119999885559, 0.061972714960575104, -0.048450350761413574, -0.40691453218460083, 0.02253245934844017, -0.16507180035114288, 0.14621804654598236, -0.19545160233974457, 0.01638634130358696, -0.4947722554206848, -0.05093877762556076, 0.7167315483093262, -0.10080886632204056, -0.016819562762975693, -0.21716806292533875, 0.22877439856529236, -0.3900064527988434, -0.30822938680648804, 0.10238854587078094, -0.3814146816730499, -0.16883498430252075, 0.286505788564682, -0.10087517648935318, 0.2901366353034973, 0.5207947492599487, -0.04216863960027695, 0.45583203434944153, 0.5208819508552551, 0.10798432677984238, 0.2749045789241791, 0.07062426209449768, 0.2514989376068115, 0.19662287831306458, -0.0771021619439125, -0.30948755145072937, 0.06532935798168182, -0.139621764421463, 0.46191728115081787, -0.055303532630205154, 0.1095198318362236, 0.06030716374516487, -0.6249726414680481, -0.08907359838485718, -0.17159268260002136, 0.036495160311460495, 0.44948023557662964, -0.569438099861145, -0.16396595537662506, 0.2293049395084381, 0.1532662808895111, -0.1923237144947052, 0.38245129585266113, 0.01859399676322937, -0.3384416103363037, -0.23234553635120392, 0.22102345526218414, -0.46251368522644043, 0.031030021607875824, -0.03414112329483032, -0.1543956696987152, 0.1702757179737091, 0.38394680619239807, 0.09414895623922348, -0.12696917355060577, 0.1687723994255066, 0.5501380562782288, 0.13999469578266144, 0.13214382529258728, -0.1111927330493927, 0.15793177485466003, 0.32637646794319153, -0.17615938186645508, 0.16117417812347412, 0.211090087890625, -0.20725348591804504, 0.04824163019657135, 0.6541335582733154, 0.5629450082778931, -0.309520423412323, -0.3002778887748718, 0.026145879179239273, -0.3453720808029175, 0.15189851820468903, 0.04612408205866814, 0.035266172140836716, -0.12391462922096252, 0.2178904116153717, -0.09663897752761841, -0.31909915804862976, 0.29724210500717163, -0.40172308683395386, -0.18014074862003326, -0.10356295853853226, -0.16190984845161438, -0.09184826910495758, 0.4109061360359192, -0.32167208194732666, 0.7496891617774963, -0.3818472623825073, -0.14866970479488373, 0.3212522864341736, 0.06249414384365082, 0.5650413036346436, -0.23737090826034546, 0.16138826310634613, 0.19692066311836243, 0.30436971783638, 0.4633496403694153, 0.057873304933309555, -0.2656358778476715, -0.3184055685997009, -0.12636058032512665, 0.19542467594146729, 0.26226508617401123, 0.09868689626455307, 0.5163411498069763, 0.02868690714240074, -0.007368024438619614, 0.1264757215976715, 0.167000412940979, 0.6593106985092163, 0.31137922406196594, -0.015861228108406067, -0.3512618839740753, 0.3273937404155731, 0.05313738435506821, -0.04440006986260414, -0.18716657161712646, -0.33038148283958435, 0.21216145157814026, 0.31171345710754395, -0.0858462005853653, -0.26152777671813965, 0.1341632902622223, -0.015158936381340027, 0.14987222850322723, -0.1656924933195114, -0.2475149780511856, -0.28529855608940125, 0.6684138178825378, 0.08442218601703644, -0.11758709698915482, -0.5606595277786255, -0.25960835814476013, 0.016315985471010208, 0.00993889570236206, -0.39629411697387695, -0.37322038412094116, -0.24102908372879028, -0.5079864263534546, -0.09470068663358688, -0.0036907331086695194, 0.08362534642219543, -0.14572292566299438, -0.05609533563256264, -0.2488613724708557, 0.25902989506721497, -0.43099936842918396, 0.09310374408960342, -0.020762130618095398, 0.1714833378791809, 0.42841625213623047, 0.5309625267982483, -0.3097040355205536, 0.2034289836883545, -0.2925284504890442, -0.3425396680831909, 0.08227109909057617, 0.1918165385723114, 0.09002432972192764, -0.03674372658133507, 0.18336641788482666, -0.3149484395980835, -0.5646870732307434, 0.22648270428180695, 0.5153682827949524, -1.1580047607421875, 0.11112895607948303, -0.1037834882736206, 0.09147930145263672, -0.07275494933128357, -0.027636390179395676, -0.10962825268507004, 0.1461896151304245, -0.25114718079566956, -0.27990224957466125, 0.057122550904750824, 0.4965794086456299, -0.1814347356557846, -0.2358846813440323, 0.3356019854545593, 0.27135008573532104, -0.4321330785751343, 0.013425253331661224, 0.369351327419281, 0.11722161620855331, 0.13648094236850739, 0.38796091079711914, 0.38796597719192505, -0.6006475687026978, 0.20879653096199036, 0.03359736502170563, -0.16588094830513, -0.42599791288375854, -0.11669382452964783, 0.37959492206573486, -0.09252332895994186, 0.18242911994457245, -1.091105580329895, -0.03213151544332504, 0.2214597761631012, -0.13673487305641174, 0.3392712473869324, -0.018577512353658676, 0.16122934222221375, 0.1308067888021469, -0.16204030811786652, -0.5571423768997192, -0.295593798160553, -0.03878084570169449, -0.06933809816837311, -0.12348143756389618, -0.01655363291501999, 0.43640947341918945], [-0.2495741844177246, -0.06950105726718903, 0.04142538830637932, -0.13767021894454956, 0.20248979330062866, -0.36409202218055725, -0.27346885204315186, -0.0020595283713191748, 0.2730464041233063, -0.09331187605857849, -0.24255792796611786, -0.10833454132080078, -0.26227718591690063, 0.13805349171161652, -0.2215510755777359, 0.20144762098789215, -0.17787228524684906, 0.08365413546562195, -0.18404190242290497, -0.19742505252361298, 0.12509973347187042, -0.02714424580335617, -0.24943503737449646, 0.38457855582237244, 0.1780221313238144, 0.010672545991837978, 0.18143422901630402, -0.043753720819950104, -0.13205549120903015, 0.22396984696388245, 0.10833151638507843, 0.36713507771492004, 0.045448459684848785, -0.50747150182724, 0.15512561798095703, 0.17198413610458374, 0.06303272396326065, 0.047655437141656876, -0.06939529627561569, 0.16750739514827728, -0.3836090862751007, -0.2929800748825073, 0.08334602415561676, 0.18380355834960938, 0.025645745918154716, -0.5350013971328735, -0.3263266384601593, -0.13808800280094147, -0.03890537843108177, -0.409887433052063, -0.7980223894119263, 0.2703409790992737, 0.034559812396764755, 0.333945095539093, 0.16368873417377472, 0.4425795376300812, 0.22806589305400848, -0.6649246215820312, 0.442968487739563, 0.02467796951532364, -0.02000937983393669, 0.11507533490657806, 0.03573304042220116, -0.3627578020095825, 0.24887965619564056, 0.3624987006187439, -0.14818578958511353, 0.2815499007701874, -0.7361007928848267, -0.16335691511631012, -0.3528442978858948, -0.10673678666353226, -0.12346294522285461, 0.09435892105102539, -0.23704466223716736, 0.16917218267917633, -0.2509302794933319, 0.18499360978603363, 0.13671544194221497, -0.1834016889333725, -0.16862526535987854, 0.5014024972915649, -0.018295977264642715, 0.30474144220352173, 0.5585565567016602, 0.04575638100504875, -0.05975083261728287, 0.42341500520706177, -0.4521341323852539, 0.35014376044273376, -0.04838930070400238, -0.14140008389949799, 0.0670667514204979, 0.13163639605045319, 0.36261314153671265, 0.053774766623973846, -0.04566922411322594, 0.18639102578163147, 0.304700642824173, 0.42652755975723267, 0.19712549448013306, -0.3755493760108948, -0.06712638586759567, -0.07619604468345642, -0.29634708166122437, -0.20908832550048828, -0.2107234001159668, 0.2659224569797516, -0.018921267241239548, -0.03280136361718178, 0.16693252325057983, -0.08815845102071762, 0.19260461628437042, -0.48630765080451965, -0.19002540409564972, -0.029846759513020515, -0.07417568564414978, 0.04127082601189613, -0.09294731169939041, -0.18435096740722656, 0.028467871248722076, 0.41837042570114136, -0.005146034527570009, 0.9496024250984192, -0.16494256258010864, 0.009387647733092308, 0.00414326973259449, 0.6930373907089233, 0.04751553758978844, -0.12795700132846832, 0.1071510836482048, 0.328487366437912, 0.5924915075302124, -0.2298126518726349, -0.020693449303507805, 0.24240952730178833, -0.16457054018974304, 0.004637486767023802, -0.5368096828460693, -0.07246693223714828, -0.1745395064353943, 0.1800088882446289, 0.41729485988616943, 0.01647605374455452, 0.513916552066803, 0.3647858500480652, 0.17221680283546448, -0.32524365186691284, 0.06221199408173561, 0.1644233614206314, 0.18622992932796478, 0.3417131304740906, -0.6682370901107788, -0.13448214530944824, -0.17543752491474152, 0.1808163970708847, 0.11063938587903976, 0.39273324608802795, 0.10802597552537918, 0.11101211607456207, 0.22099699079990387, -0.004750556778162718, -0.17011111974716187, -0.27268239855766296, -0.08514642715454102, -0.46213752031326294, -0.1871940940618515, 0.2584308385848999, 0.2360386699438095, 0.27404308319091797, -0.17392341792583466, -0.32500773668289185, 0.33445435762405396, -0.24699661135673523, 0.03184909746050835, 0.1085367277264595, 0.1757158488035202, 0.027329416945576668, 0.18471616506576538, -0.11805343627929688, -1.8806089162826538, 0.2885739803314209, 0.373202919960022, -0.11077257990837097, 0.08359355479478836, 0.09111057221889496, 0.211161270737648, -0.41699135303497314, -0.08531469851732254, 0.0708560198545456, -0.46700620651245117, 0.11205454170703888, -0.3581194281578064, -0.20259620249271393, 0.40656453371047974, -0.1944572776556015, -0.35331329703330994, -0.016637012362480164, -0.4305809438228607, -0.10152116417884827, 0.014996706508100033, -0.11606477946043015, -0.17908860743045807, -0.15393675863742828, -0.2312762439250946, -0.22765971720218658, -0.03957114368677139, -0.30292192101478577, -0.4029074013233185, 0.06897160410881042, -0.19712954759597778, 0.35905808210372925, 0.10979850590229034, -0.21052595973014832, 0.21794471144676208, 0.03429340571165085, -0.08941539376974106, -0.025076819583773613, -0.03158384561538696, -0.003489983733743429, 0.15478689968585968, -0.08920943737030029, -0.4923486113548279, 0.2414000928401947, -0.08369460701942444, 0.7722276449203491, 0.45881062746047974, 0.07311598211526871, 0.5641629695892334, 0.2323072850704193, 0.08295876532793045, -0.3210751414299011, 0.1764419823884964, -0.15958429872989655, -0.17915724217891693, 0.09062488377094269, -0.11498967558145523, 0.003414875129237771, 0.06185724958777428, -0.13259083032608032, -0.24315449595451355, 0.42176204919815063, 0.2056882679462433, -0.2576312720775604, 0.1059243306517601, -0.5080437064170837, -0.1023273915052414, 0.1866096407175064, -0.11847353726625443, -0.5729332566261292, -0.4124932289123535, -0.1073378399014473, 0.07537584006786346, -0.7110115885734558, -0.0717669427394867, -0.0321342870593071, -0.28575605154037476, 0.05296576768159866, -0.07635579258203506, 0.6087018251419067, 0.14872650802135468, -0.052291981875896454, 0.2406863570213318, 0.06264650821685791, -0.3799123167991638, -0.39459702372550964, -0.06917326152324677, 0.3123478889465332, 0.5147375464439392, 0.08246200531721115, -0.08305674046278, -0.6468862295150757, -0.29398325085639954, 0.13339105248451233, -0.5084073543548584, -0.41295531392097473, 0.1747797131538391, -0.009508022107183933, -0.2892776131629944, -0.11115305870771408, 0.11796704679727554, 0.48958954215049744, -0.17358478903770447, 0.025647763162851334, -0.3190279006958008, -0.003624904667958617, -0.11075584590435028, -0.15436118841171265, -0.1293390691280365, -0.3449346721172333, -0.03001074306666851, 0.24514542520046234, -0.3109910190105438, -0.012461020611226559, 0.04763656482100487, 0.27786338329315186, 0.39232900738716125, -0.024461325258016586, -0.28839656710624695, -0.1580103039741516, -0.45441097021102905, -0.45614564418792725, 0.044645532965660095, 0.3699120283126831, -0.24661168456077576, 0.306858628988266, -0.19159522652626038, -0.27628862857818604, -3.401474952697754, -0.02487923577427864, 0.07665125280618668, 0.08970154821872711, 0.1028442531824112, -0.2916857600212097, -0.16625458002090454, -0.25343382358551025, -0.5210967659950256, 0.18740035593509674, -0.10160164535045624, -0.4039222300052643, -0.3167359232902527, 0.3978285491466522, 0.113060861825943, 0.11547737568616867, -0.008740926161408424, 0.03896419703960419, 0.13738247752189636, -0.0026044982951134443, -0.2688225507736206, -0.48409783840179443, -0.18879780173301697, -0.36867639422416687, 0.08078461140394211, 0.04495932534337044, -0.21401414275169373, 0.13301412761211395, -0.2956801652908325, -0.49680420756340027, -0.25873154401779175, -0.5121259093284607, 0.25347447395324707, 0.17545832693576813, -0.25354093313217163, -0.004079476930201054, -0.2325335144996643, -0.04411550611257553, 0.17421095073223114, -0.5187047719955444, -0.09586545825004578, 0.344997376203537, 0.3877297043800354, -0.1583673357963562, 0.5878943204879761, -0.3997752368450165, 0.13468629121780396, -0.02968604676425457, 0.19767162203788757, 0.26506519317626953, -0.04738451540470123, -0.14207135140895844, -0.018271775916218758, -0.2843432128429413, -0.25039613246917725, -0.3371027708053589, 0.3219614028930664, 0.17911642789840698, -0.2419891506433487, 0.10301157087087631, 0.5222871899604797, -0.2357517033815384, 0.08355800807476044, -0.13172730803489685, -0.3773038685321808, -0.007382411044090986, -0.6566379070281982, -0.3486950099468231, -0.16399487853050232, 0.0568312369287014, -0.32118386030197144, 0.24503971636295319, -0.2814481556415558, -0.9955320954322815, 0.21279829740524292, -0.4734519124031067, 0.06274567544460297, -0.3864733874797821, 0.24665960669517517, 0.08344443142414093, -0.2906300127506256, -0.6289400458335876, 0.13824936747550964, -0.03244003280997276, 0.047803230583667755, -0.0849708765745163, -0.1729331910610199, 0.06697816401720047, -0.07990805804729462, -0.21100416779518127, -0.006547262892127037, 0.5665260553359985, 0.3284781873226166, 0.29859477281570435, -0.004156807903200388, 0.0565914548933506, 0.3756510615348816, -0.010882457718253136, 0.2974227964878082, 0.18591204285621643, 0.07128988951444626, -0.24301868677139282, 0.20468832552433014, 0.10872191935777664, 0.04614865407347679, 0.35822200775146484, -0.5485458970069885, -0.076752670109272, 0.42956671118736267, 0.34447166323661804, -0.19335277378559113, -0.10290347039699554, 0.3454878628253937, -0.5573229789733887, -0.2106422632932663, 0.22855529189109802, -0.01625034026801586, 0.4749429523944855, 0.10166874527931213, -0.1857033520936966, -0.05493290722370148, 0.5824810266494751, 0.05061214417219162, -0.1572725623846054, 0.006559640169143677, 0.05174190178513527, 0.11351659893989563, 0.12776771187782288, -0.17539849877357483, -0.3828081786632538, -0.06888890266418457, -0.12046157568693161, -0.05789701268076897, 0.04348147660493851, 0.17777030169963837, -0.25727495551109314, -0.14735402166843414, 0.4410001039505005, 0.029595039784908295, 0.03379082307219505, 0.4268970489501953, 0.5764443874359131, 0.01424136571586132, -0.33679133653640747, 0.05184319242835045, 0.46663135290145874, 0.08984395116567612, 0.22400276362895966, -0.07420824468135834, 0.012978916987776756, -0.13421668112277985, -0.16315613687038422, 0.10785370320081711, -0.3283761441707611, 0.18840807676315308, -0.12168066203594208, 0.14854063093662262, -0.13396407663822174, 0.09926120936870575, -0.407283753156662, 0.048166099935770035, 0.5357120037078857, 0.4441414475440979, 0.18538624048233032, -0.10800473392009735, 0.3197348415851593, -0.013637497089803219, -0.06283517926931381, -0.2382313460111618, 0.02221573144197464, -0.2064637541770935, -0.231942817568779, 0.33582255244255066, -0.3763731122016907, 0.028300423175096512, 0.5124399662017822, 0.2837861478328705, -0.25377288460731506, 0.07487897574901581, 0.2490488439798355, 0.24242638051509857, -0.19045816361904144, -0.14780572056770325, 0.10841667652130127, 0.4135233759880066, 0.24508067965507507, -0.15375986695289612, -0.038329921662807465, -0.14971452951431274, 0.1516408771276474, -0.1906440258026123, 0.28167465329170227, -0.27628394961357117, -0.10647164285182953, -0.46856608986854553, -0.11896546185016632, 0.4131627380847931, -0.17141945660114288, 0.17605359852313995, -0.25330907106399536, 0.2991064190864563, 0.21732671558856964, -0.46050113439559937, 0.11206916719675064, -0.007447382435202599, -0.3263876140117645, 0.07508467137813568, 0.06824777275323868, -0.24212895333766937, -0.13914097845554352, -0.109864242374897, -0.3909931182861328, -0.3794988989830017, -0.654364287853241, 0.28884759545326233, 0.35417529940605164, 0.3724151849746704, -0.10221429914236069, -0.2419186681509018, -0.0019321212312206626, -0.49657389521598816, -0.24897927045822144, 0.3073504865169525, 0.44488078355789185, -0.44303780794143677, -0.16327108442783356, -0.20873795449733734, -0.038279853761196136, -0.4569518268108368, 0.16105389595031738, -0.005124946590512991, -0.38957375288009644, -0.02749914862215519, 0.07052375376224518, 0.09159225970506668, -0.18108145892620087, -0.35452958941459656, -0.08808013796806335, -0.2741413712501526, -0.4326431453227997, -0.22218720614910126, 0.23661072552204132, -0.13885904848575592, -0.10069716721773148, 0.2848842144012451, -0.18777337670326233, 0.025212841108441353, 0.5373833179473877, -0.43290334939956665, -0.020284363999962807, -0.20416568219661713, -0.13051846623420715, 0.0017935564974322915, -0.1565200537443161, 0.22430258989334106, 0.11112875491380692, -0.07680299133062363, -0.4307967722415924, -0.21155057847499847, -0.12141035497188568, -0.01373905036598444, -0.1514570415019989, -0.0406053252518177, 0.11599422246217728, 0.2599392235279083, 0.2660145163536072, 0.25714680552482605, -0.015623890794813633, 0.18546047806739807, -0.012183764949440956, -0.26013338565826416, -0.17492404580116272, 0.1383335143327713, 0.2660197615623474, -0.33224326372146606, -0.06671453267335892, 0.26445233821868896, -0.16189059615135193, 0.05892837047576904, -0.1848960816860199, -0.12802068889141083, -0.070185586810112, -0.08914795517921448, -0.11140993237495422, 0.15653547644615173, -0.05803428590297699, 0.02514473907649517, -0.020524470135569572, -0.02608303911983967, -0.1760607659816742, 0.013208867982029915, 0.16351264715194702, -0.04940614849328995, 0.21512363851070404, -0.18376223742961884, 0.43579867482185364, 0.4065236747264862, 0.04041612148284912, -0.2201341986656189, 0.0538112111389637, 0.0013995376648381352, 0.5479312539100647, 0.09786513447761536, 0.24806782603263855, 0.06820227950811386, 0.22669366002082825, 0.09222212433815002, 0.04157370701432228, -0.021024685353040695, 0.21377255022525787, -0.3508533239364624, 0.021414946764707565, 0.2857910990715027, 0.5503564476966858, -0.6130393147468567, -0.006479740608483553, 0.23175270855426788, -0.2787894010543823, 0.41931241750717163, 0.1559203565120697, -0.2315470427274704, -0.018508385866880417, 0.3559902608394623, 0.0004344422195572406, -0.2265169769525528, 0.4907727539539337, -0.506689190864563, -0.29368993639945984, -0.26236841082572937, 0.2724439799785614, 0.012367922812700272, 0.524576723575592, 0.026747243478894234, 0.20496219396591187, -0.028509777039289474, -0.30669543147087097, 0.328977108001709, 0.22441522777080536, 0.11852646619081497, -0.5386924743652344, 0.30090656876564026, 0.05317964032292366, -0.1535743623971939, 0.5994426012039185, 0.03658231347799301, 0.14097906649112701, 0.14093145728111267, 0.37840816378593445, -0.14856556057929993, 0.48510581254959106, 0.5346001982688904, 0.10564054548740387, 0.09235692024230957, 0.07653450220823288, 0.1311984658241272, -0.24381841719150543, 0.5171290636062622, 0.38006874918937683, 0.1603328287601471, 0.47434428334236145, 0.3785342872142792, 0.16500884294509888, 0.2552489638328552, -0.8003666996955872, -0.21082136034965515, 0.21670326590538025, 0.5363324284553528, 0.11306510865688324, -0.11284217238426208, 0.026433425024151802, -0.03879481926560402, 0.46462902426719666, 0.012792875058948994, 0.12719830870628357, 0.3018186688423157, 0.08188731223344803, 0.010133698582649231, 0.032050102949142456, -0.5273066759109497, -0.20307046175003052, -0.008281499147415161, -0.18145912885665894, -0.22886395454406738, -0.2935979664325714, -0.1472502052783966, -0.24595218896865845, 0.017134102061390877, 0.01874416321516037, 0.29030224680900574, -0.12168869376182556, 0.2688620388507843, 0.1243959590792656, 0.4125180244445801, -0.2925805449485779, 0.30133742094039917, 0.06021713837981224, -0.33067482709884644, 0.5568393468856812, 0.4361322224140167, -0.243525430560112, 0.33696743845939636, -0.22249962389469147, -0.17735198140144348, 0.11386094987392426, -0.05517677962779999, -0.024004651233553886, 0.21360428631305695, 0.2072029411792755, -0.2756519913673401, -0.003160013584420085, 0.3862758278846741, 0.3059428930282593, -0.7077600955963135, -0.003956368193030357, 0.024048473685979843, 0.25946518778800964, 0.12342380732297897, 0.10935249924659729, -0.3332051932811737, 0.18700551986694336, -0.37807637453079224, -0.05416262149810791, 0.7527218461036682, 0.10056871920824051, 0.04060753434896469, 0.13675037026405334, 0.33556586503982544, 0.17562700808048248, -0.006786488462239504, -0.14995208382606506, 0.46731773018836975, 0.2512555420398712, 0.061260223388671875, 0.46268022060394287, 0.20109841227531433, -0.22319771349430084, -0.22282522916793823, 0.27309754490852356, -0.13317495584487915, -0.25868260860443115, -0.34201228618621826, 0.18296991288661957, 0.1687087118625641, 0.301435649394989, -0.5275329351425171, -0.050471022725105286, -0.29565203189849854, -0.16801832616329193, -0.17534767091274261, -0.38138487935066223, 0.1665343940258026, 0.09746796637773514, -0.2888684570789337, -0.4134979248046875, -0.16632777452468872, 0.22921250760555267, 0.11809321492910385, -0.1951739639043808, -0.4448889195919037, 0.12480203062295914]]\n"
          ]
        }
      ],
      "source": [
        "from langchain.embeddings import HuggingFaceEmbeddings\n",
        "from langchain.vectorstores import FAISS\n",
        "\n",
        "# Load a BERT-based model for embeddings from Hugging Face\n",
        "embedding_model = HuggingFaceEmbeddings(model_name=\"distilbert-base-uncased\")\n",
        "\n",
        "chunks_of_text =     [\n",
        "        \"Hi there!\",\n",
        "        \"Hello!\",\n",
        "        \"What's your name?\",\n",
        "        \"Bond, James Bond\",\n",
        "        \"Hello Bond!\"\n",
        "    ]\n",
        "\n",
        "# Convert texts to embeddings\n",
        "embeddings = [embedding_model.embed_query(text) for text in chunks_of_text]\n",
        "\n",
        "print(embeddings)\n"
      ]
    },
    {
      "cell_type": "code",
      "execution_count": 22,
      "metadata": {
        "colab": {
          "base_uri": "https://localhost:8080/"
        },
        "id": "HoHzPEs4kAX7",
        "outputId": "8702ade6-dc36-4dee-b31d-a63e76521dde"
      },
      "outputs": [
        {
          "output_type": "execute_result",
          "data": {
            "text/plain": [
              "384"
            ]
          },
          "metadata": {},
          "execution_count": 22
        }
      ],
      "source": [
        "len(embeddings[0])"
      ]
    },
    {
      "cell_type": "code",
      "source": [
        "print(embeddings[0][:5])"
      ],
      "metadata": {
        "colab": {
          "base_uri": "https://localhost:8080/"
        },
        "id": "pKMzosUbmkVm",
        "outputId": "7948e840-02d6-4229-f213-3ea3fb0c37ad"
      },
      "execution_count": 23,
      "outputs": [
        {
          "output_type": "stream",
          "name": "stdout",
          "text": [
            "[-0.09151120483875275, 0.025147806853055954, 0.0020471338648349047, 0.0051811011508107185, -0.015277049504220486]\n"
          ]
        }
      ]
    },
    {
      "cell_type": "markdown",
      "source": [
        "# Vector Stores (aka. Vector Databases)"
      ],
      "metadata": {
        "id": "5C4BFnBDms6F"
      }
    },
    {
      "cell_type": "code",
      "source": [
        "from langchain_community.document_loaders import TextLoader\n",
        "from langchain_openai import OpenAIEmbeddings\n",
        "from langchain_text_splitters import CharacterTextSplitter\n",
        "from langchain_chroma import Chroma\n",
        "\n",
        "# Load the document, split it into chunks, embed each chunk and load it into the vector store.\n",
        "loaded_document = TextLoader('state_of_the_union.txt').load()\n",
        "\n",
        "text_splitter = CharacterTextSplitter(chunk_size=1000, chunk_overlap=0)\n",
        "\n",
        "chunks_of_text = text_splitter.split_documents(loaded_document)\n"
      ],
      "metadata": {
        "id": "WTvO-sI9mmmb"
      },
      "execution_count": 24,
      "outputs": []
    },
    {
      "cell_type": "code",
      "source": [
        "\n",
        "vector_db = Chroma.from_documents(chunks_of_text, embedding_model)"
      ],
      "metadata": {
        "id": "S_fNDibcnMUr"
      },
      "execution_count": 26,
      "outputs": []
    },
    {
      "cell_type": "code",
      "source": [
        "vector_db"
      ],
      "metadata": {
        "colab": {
          "base_uri": "https://localhost:8080/"
        },
        "id": "1GpggsTSnNwq",
        "outputId": "5abbcfa7-293e-4b10-aceb-5d252b53daf5"
      },
      "execution_count": 27,
      "outputs": [
        {
          "output_type": "execute_result",
          "data": {
            "text/plain": [
              "<langchain_chroma.vectorstores.Chroma at 0x7d635d44c580>"
            ]
          },
          "metadata": {},
          "execution_count": 27
        }
      ]
    },
    {
      "cell_type": "code",
      "source": [
        "question = \"What did the president say about the John Lewis Voting Rights Act?\"\n",
        "\n",
        "response = vector_db.similarity_search(question)\n",
        "\n",
        "print(response[0].page_content)"
      ],
      "metadata": {
        "colab": {
          "base_uri": "https://localhost:8080/"
        },
        "id": "6f2WZ2tcnSju",
        "outputId": "82504f61-767e-40b4-af65-78f9c5916848"
      },
      "execution_count": 28,
      "outputs": [
        {
          "output_type": "stream",
          "name": "stdout",
          "text": [
            "Tonight. I call on the Senate to: Pass the Freedom to Vote Act. Pass the John Lewis Voting Rights Act. And while you’re at it, pass the Disclose Act so Americans can know who is funding our elections. \n",
            "\n",
            "Tonight, I’d like to honor someone who has dedicated his life to serve this country: Justice Stephen Breyer—an Army veteran, Constitutional scholar, and retiring Justice of the United States Supreme Court. Justice Breyer, thank you for your service. \n",
            "\n",
            "One of the most serious constitutional responsibilities a President has is nominating someone to serve on the United States Supreme Court. \n",
            "\n",
            "And I did that 4 days ago, when I nominated Circuit Court of Appeals Judge Ketanji Brown Jackson. One of our nation’s top legal minds, who will continue Justice Breyer’s legacy of excellence.\n"
          ]
        }
      ]
    },
    {
      "cell_type": "markdown",
      "source": [
        "# Vector Store as Retriever"
      ],
      "metadata": {
        "id": "TE-ExhsYnYRV"
      }
    },
    {
      "cell_type": "code",
      "source": [
        "pip install faiss-cpu"
      ],
      "metadata": {
        "colab": {
          "base_uri": "https://localhost:8080/"
        },
        "id": "uidBqn8Knv81",
        "outputId": "7667d28f-f5cc-4d7d-f6ab-93d804270328"
      },
      "execution_count": 30,
      "outputs": [
        {
          "output_type": "stream",
          "name": "stdout",
          "text": [
            "Collecting faiss-cpu\n",
            "  Downloading faiss_cpu-1.9.0-cp310-cp310-manylinux_2_17_x86_64.manylinux2014_x86_64.whl.metadata (4.4 kB)\n",
            "Requirement already satisfied: numpy<3.0,>=1.25.0 in /usr/local/lib/python3.10/dist-packages (from faiss-cpu) (1.26.4)\n",
            "Requirement already satisfied: packaging in /usr/local/lib/python3.10/dist-packages (from faiss-cpu) (24.1)\n",
            "Downloading faiss_cpu-1.9.0-cp310-cp310-manylinux_2_17_x86_64.manylinux2014_x86_64.whl (27.5 MB)\n",
            "\u001b[2K   \u001b[90m━━━━━━━━━━━━━━━━━━━━━━━━━━━━━━━━━━━━━━━━\u001b[0m \u001b[32m27.5/27.5 MB\u001b[0m \u001b[31m61.9 MB/s\u001b[0m eta \u001b[36m0:00:00\u001b[0m\n",
            "\u001b[?25hInstalling collected packages: faiss-cpu\n",
            "Successfully installed faiss-cpu-1.9.0\n"
          ]
        }
      ]
    },
    {
      "cell_type": "code",
      "source": [
        "from langchain_community.document_loaders import TextLoader\n",
        "\n",
        "loader = TextLoader(\"state_of_the_union.txt\")\n",
        "\n",
        "from langchain_community.vectorstores import FAISS\n",
        "from langchain_openai import OpenAIEmbeddings\n",
        "from langchain_text_splitters import CharacterTextSplitter\n",
        "\n",
        "loaded_document = loader.load()\n",
        "\n",
        "text_splitter = CharacterTextSplitter(chunk_size=1000, chunk_overlap=0)\n",
        "\n",
        "chunks_of_text = text_splitter.split_documents(loaded_document)\n",
        "\n",
        "vector_db = FAISS.from_documents(chunks_of_text, embedding_model)"
      ],
      "metadata": {
        "id": "D_5-ekZYnVt9"
      },
      "execution_count": 31,
      "outputs": []
    },
    {
      "cell_type": "code",
      "source": [
        "retriever = vector_db.as_retriever(search_kwargs={\"k\": 1})\n",
        "response = retriever.invoke(\"what did he say about ketanji brown jackson?\")\n",
        "response"
      ],
      "metadata": {
        "colab": {
          "base_uri": "https://localhost:8080/"
        },
        "id": "vzCaPUO8nlU4",
        "outputId": "a3aed703-7df7-4897-9a33-6ec275763e1e"
      },
      "execution_count": 32,
      "outputs": [
        {
          "output_type": "execute_result",
          "data": {
            "text/plain": [
              "[Document(metadata={'source': 'state_of_the_union.txt'}, page_content='Tonight. I call on the Senate to: Pass the Freedom to Vote Act. Pass the John Lewis Voting Rights Act. And while you’re at it, pass the Disclose Act so Americans can know who is funding our elections. \\n\\nTonight, I’d like to honor someone who has dedicated his life to serve this country: Justice Stephen Breyer—an Army veteran, Constitutional scholar, and retiring Justice of the United States Supreme Court. Justice Breyer, thank you for your service. \\n\\nOne of the most serious constitutional responsibilities a President has is nominating someone to serve on the United States Supreme Court. \\n\\nAnd I did that 4 days ago, when I nominated Circuit Court of Appeals Judge Ketanji Brown Jackson. One of our nation’s top legal minds, who will continue Justice Breyer’s legacy of excellence.')]"
            ]
          },
          "metadata": {},
          "execution_count": 32
        }
      ]
    },
    {
      "cell_type": "code",
      "source": [],
      "metadata": {
        "id": "FtTopvvAoCEK"
      },
      "execution_count": null,
      "outputs": []
    }
  ],
  "metadata": {
    "kernelspec": {
      "display_name": "base",
      "language": "python",
      "name": "python3"
    },
    "language_info": {
      "codemirror_mode": {
        "name": "ipython",
        "version": 3
      },
      "file_extension": ".py",
      "mimetype": "text/x-python",
      "name": "python",
      "nbconvert_exporter": "python",
      "pygments_lexer": "ipython3",
      "version": "3.11.5"
    },
    "colab": {
      "provenance": [],
      "include_colab_link": true
    },
    "widgets": {
      "application/vnd.jupyter.widget-state+json": {
        "7217d3debc104df68b0a48d95925e89f": {
          "model_module": "@jupyter-widgets/controls",
          "model_name": "HBoxModel",
          "model_module_version": "1.5.0",
          "state": {
            "_dom_classes": [],
            "_model_module": "@jupyter-widgets/controls",
            "_model_module_version": "1.5.0",
            "_model_name": "HBoxModel",
            "_view_count": null,
            "_view_module": "@jupyter-widgets/controls",
            "_view_module_version": "1.5.0",
            "_view_name": "HBoxView",
            "box_style": "",
            "children": [
              "IPY_MODEL_df9d19597a0043d2883eb89a8b358bf3",
              "IPY_MODEL_3cf6cdc2ec7e4c1bbdd93a7bdda85b57",
              "IPY_MODEL_3ff2c5065c3b4154adb2a0f05e012101"
            ],
            "layout": "IPY_MODEL_634baa37988f4951a160ebaeb2534459"
          }
        },
        "df9d19597a0043d2883eb89a8b358bf3": {
          "model_module": "@jupyter-widgets/controls",
          "model_name": "HTMLModel",
          "model_module_version": "1.5.0",
          "state": {
            "_dom_classes": [],
            "_model_module": "@jupyter-widgets/controls",
            "_model_module_version": "1.5.0",
            "_model_name": "HTMLModel",
            "_view_count": null,
            "_view_module": "@jupyter-widgets/controls",
            "_view_module_version": "1.5.0",
            "_view_name": "HTMLView",
            "description": "",
            "description_tooltip": null,
            "layout": "IPY_MODEL_8001aef6f1f54f7cbb460c6f38ed3797",
            "placeholder": "​",
            "style": "IPY_MODEL_c2896eed15b440b1b5f7e4df9edf1e71",
            "value": "config.json: 100%"
          }
        },
        "3cf6cdc2ec7e4c1bbdd93a7bdda85b57": {
          "model_module": "@jupyter-widgets/controls",
          "model_name": "FloatProgressModel",
          "model_module_version": "1.5.0",
          "state": {
            "_dom_classes": [],
            "_model_module": "@jupyter-widgets/controls",
            "_model_module_version": "1.5.0",
            "_model_name": "FloatProgressModel",
            "_view_count": null,
            "_view_module": "@jupyter-widgets/controls",
            "_view_module_version": "1.5.0",
            "_view_name": "ProgressView",
            "bar_style": "success",
            "description": "",
            "description_tooltip": null,
            "layout": "IPY_MODEL_55566f4fd68841fabacf1e9f410571e7",
            "max": 483,
            "min": 0,
            "orientation": "horizontal",
            "style": "IPY_MODEL_49f4e00a8a9442f8a3306a5da8fbb2aa",
            "value": 483
          }
        },
        "3ff2c5065c3b4154adb2a0f05e012101": {
          "model_module": "@jupyter-widgets/controls",
          "model_name": "HTMLModel",
          "model_module_version": "1.5.0",
          "state": {
            "_dom_classes": [],
            "_model_module": "@jupyter-widgets/controls",
            "_model_module_version": "1.5.0",
            "_model_name": "HTMLModel",
            "_view_count": null,
            "_view_module": "@jupyter-widgets/controls",
            "_view_module_version": "1.5.0",
            "_view_name": "HTMLView",
            "description": "",
            "description_tooltip": null,
            "layout": "IPY_MODEL_9761a96ab08644ab87a7ba36e2dc70b8",
            "placeholder": "​",
            "style": "IPY_MODEL_060625f4975b4e09b8cb117e47e3cc22",
            "value": " 483/483 [00:00&lt;00:00, 28.3kB/s]"
          }
        },
        "634baa37988f4951a160ebaeb2534459": {
          "model_module": "@jupyter-widgets/base",
          "model_name": "LayoutModel",
          "model_module_version": "1.2.0",
          "state": {
            "_model_module": "@jupyter-widgets/base",
            "_model_module_version": "1.2.0",
            "_model_name": "LayoutModel",
            "_view_count": null,
            "_view_module": "@jupyter-widgets/base",
            "_view_module_version": "1.2.0",
            "_view_name": "LayoutView",
            "align_content": null,
            "align_items": null,
            "align_self": null,
            "border": null,
            "bottom": null,
            "display": null,
            "flex": null,
            "flex_flow": null,
            "grid_area": null,
            "grid_auto_columns": null,
            "grid_auto_flow": null,
            "grid_auto_rows": null,
            "grid_column": null,
            "grid_gap": null,
            "grid_row": null,
            "grid_template_areas": null,
            "grid_template_columns": null,
            "grid_template_rows": null,
            "height": null,
            "justify_content": null,
            "justify_items": null,
            "left": null,
            "margin": null,
            "max_height": null,
            "max_width": null,
            "min_height": null,
            "min_width": null,
            "object_fit": null,
            "object_position": null,
            "order": null,
            "overflow": null,
            "overflow_x": null,
            "overflow_y": null,
            "padding": null,
            "right": null,
            "top": null,
            "visibility": null,
            "width": null
          }
        },
        "8001aef6f1f54f7cbb460c6f38ed3797": {
          "model_module": "@jupyter-widgets/base",
          "model_name": "LayoutModel",
          "model_module_version": "1.2.0",
          "state": {
            "_model_module": "@jupyter-widgets/base",
            "_model_module_version": "1.2.0",
            "_model_name": "LayoutModel",
            "_view_count": null,
            "_view_module": "@jupyter-widgets/base",
            "_view_module_version": "1.2.0",
            "_view_name": "LayoutView",
            "align_content": null,
            "align_items": null,
            "align_self": null,
            "border": null,
            "bottom": null,
            "display": null,
            "flex": null,
            "flex_flow": null,
            "grid_area": null,
            "grid_auto_columns": null,
            "grid_auto_flow": null,
            "grid_auto_rows": null,
            "grid_column": null,
            "grid_gap": null,
            "grid_row": null,
            "grid_template_areas": null,
            "grid_template_columns": null,
            "grid_template_rows": null,
            "height": null,
            "justify_content": null,
            "justify_items": null,
            "left": null,
            "margin": null,
            "max_height": null,
            "max_width": null,
            "min_height": null,
            "min_width": null,
            "object_fit": null,
            "object_position": null,
            "order": null,
            "overflow": null,
            "overflow_x": null,
            "overflow_y": null,
            "padding": null,
            "right": null,
            "top": null,
            "visibility": null,
            "width": null
          }
        },
        "c2896eed15b440b1b5f7e4df9edf1e71": {
          "model_module": "@jupyter-widgets/controls",
          "model_name": "DescriptionStyleModel",
          "model_module_version": "1.5.0",
          "state": {
            "_model_module": "@jupyter-widgets/controls",
            "_model_module_version": "1.5.0",
            "_model_name": "DescriptionStyleModel",
            "_view_count": null,
            "_view_module": "@jupyter-widgets/base",
            "_view_module_version": "1.2.0",
            "_view_name": "StyleView",
            "description_width": ""
          }
        },
        "55566f4fd68841fabacf1e9f410571e7": {
          "model_module": "@jupyter-widgets/base",
          "model_name": "LayoutModel",
          "model_module_version": "1.2.0",
          "state": {
            "_model_module": "@jupyter-widgets/base",
            "_model_module_version": "1.2.0",
            "_model_name": "LayoutModel",
            "_view_count": null,
            "_view_module": "@jupyter-widgets/base",
            "_view_module_version": "1.2.0",
            "_view_name": "LayoutView",
            "align_content": null,
            "align_items": null,
            "align_self": null,
            "border": null,
            "bottom": null,
            "display": null,
            "flex": null,
            "flex_flow": null,
            "grid_area": null,
            "grid_auto_columns": null,
            "grid_auto_flow": null,
            "grid_auto_rows": null,
            "grid_column": null,
            "grid_gap": null,
            "grid_row": null,
            "grid_template_areas": null,
            "grid_template_columns": null,
            "grid_template_rows": null,
            "height": null,
            "justify_content": null,
            "justify_items": null,
            "left": null,
            "margin": null,
            "max_height": null,
            "max_width": null,
            "min_height": null,
            "min_width": null,
            "object_fit": null,
            "object_position": null,
            "order": null,
            "overflow": null,
            "overflow_x": null,
            "overflow_y": null,
            "padding": null,
            "right": null,
            "top": null,
            "visibility": null,
            "width": null
          }
        },
        "49f4e00a8a9442f8a3306a5da8fbb2aa": {
          "model_module": "@jupyter-widgets/controls",
          "model_name": "ProgressStyleModel",
          "model_module_version": "1.5.0",
          "state": {
            "_model_module": "@jupyter-widgets/controls",
            "_model_module_version": "1.5.0",
            "_model_name": "ProgressStyleModel",
            "_view_count": null,
            "_view_module": "@jupyter-widgets/base",
            "_view_module_version": "1.2.0",
            "_view_name": "StyleView",
            "bar_color": null,
            "description_width": ""
          }
        },
        "9761a96ab08644ab87a7ba36e2dc70b8": {
          "model_module": "@jupyter-widgets/base",
          "model_name": "LayoutModel",
          "model_module_version": "1.2.0",
          "state": {
            "_model_module": "@jupyter-widgets/base",
            "_model_module_version": "1.2.0",
            "_model_name": "LayoutModel",
            "_view_count": null,
            "_view_module": "@jupyter-widgets/base",
            "_view_module_version": "1.2.0",
            "_view_name": "LayoutView",
            "align_content": null,
            "align_items": null,
            "align_self": null,
            "border": null,
            "bottom": null,
            "display": null,
            "flex": null,
            "flex_flow": null,
            "grid_area": null,
            "grid_auto_columns": null,
            "grid_auto_flow": null,
            "grid_auto_rows": null,
            "grid_column": null,
            "grid_gap": null,
            "grid_row": null,
            "grid_template_areas": null,
            "grid_template_columns": null,
            "grid_template_rows": null,
            "height": null,
            "justify_content": null,
            "justify_items": null,
            "left": null,
            "margin": null,
            "max_height": null,
            "max_width": null,
            "min_height": null,
            "min_width": null,
            "object_fit": null,
            "object_position": null,
            "order": null,
            "overflow": null,
            "overflow_x": null,
            "overflow_y": null,
            "padding": null,
            "right": null,
            "top": null,
            "visibility": null,
            "width": null
          }
        },
        "060625f4975b4e09b8cb117e47e3cc22": {
          "model_module": "@jupyter-widgets/controls",
          "model_name": "DescriptionStyleModel",
          "model_module_version": "1.5.0",
          "state": {
            "_model_module": "@jupyter-widgets/controls",
            "_model_module_version": "1.5.0",
            "_model_name": "DescriptionStyleModel",
            "_view_count": null,
            "_view_module": "@jupyter-widgets/base",
            "_view_module_version": "1.2.0",
            "_view_name": "StyleView",
            "description_width": ""
          }
        },
        "0ee0d5c59575471395a6bb52ead14c84": {
          "model_module": "@jupyter-widgets/controls",
          "model_name": "HBoxModel",
          "model_module_version": "1.5.0",
          "state": {
            "_dom_classes": [],
            "_model_module": "@jupyter-widgets/controls",
            "_model_module_version": "1.5.0",
            "_model_name": "HBoxModel",
            "_view_count": null,
            "_view_module": "@jupyter-widgets/controls",
            "_view_module_version": "1.5.0",
            "_view_name": "HBoxView",
            "box_style": "",
            "children": [
              "IPY_MODEL_77c08903832a46e4a9c2027c18204e48",
              "IPY_MODEL_b4c8e199e87a45eebbfeb42aeb6ead17",
              "IPY_MODEL_e440ee3dcadc464e9b63414728b83d6f"
            ],
            "layout": "IPY_MODEL_fb9d7a89518b4f298ccfc25fbccbd415"
          }
        },
        "77c08903832a46e4a9c2027c18204e48": {
          "model_module": "@jupyter-widgets/controls",
          "model_name": "HTMLModel",
          "model_module_version": "1.5.0",
          "state": {
            "_dom_classes": [],
            "_model_module": "@jupyter-widgets/controls",
            "_model_module_version": "1.5.0",
            "_model_name": "HTMLModel",
            "_view_count": null,
            "_view_module": "@jupyter-widgets/controls",
            "_view_module_version": "1.5.0",
            "_view_name": "HTMLView",
            "description": "",
            "description_tooltip": null,
            "layout": "IPY_MODEL_610913e84b2048f38b5aee3e8a184bf9",
            "placeholder": "​",
            "style": "IPY_MODEL_bf9f3d0240a64c02bbcab5e9bc25359b",
            "value": "model.safetensors: 100%"
          }
        },
        "b4c8e199e87a45eebbfeb42aeb6ead17": {
          "model_module": "@jupyter-widgets/controls",
          "model_name": "FloatProgressModel",
          "model_module_version": "1.5.0",
          "state": {
            "_dom_classes": [],
            "_model_module": "@jupyter-widgets/controls",
            "_model_module_version": "1.5.0",
            "_model_name": "FloatProgressModel",
            "_view_count": null,
            "_view_module": "@jupyter-widgets/controls",
            "_view_module_version": "1.5.0",
            "_view_name": "ProgressView",
            "bar_style": "success",
            "description": "",
            "description_tooltip": null,
            "layout": "IPY_MODEL_4cbb157edb9d4bab8352571e96ca3c97",
            "max": 267954768,
            "min": 0,
            "orientation": "horizontal",
            "style": "IPY_MODEL_9743d3c0a3a84fc9ba17517e11ffada7",
            "value": 267954768
          }
        },
        "e440ee3dcadc464e9b63414728b83d6f": {
          "model_module": "@jupyter-widgets/controls",
          "model_name": "HTMLModel",
          "model_module_version": "1.5.0",
          "state": {
            "_dom_classes": [],
            "_model_module": "@jupyter-widgets/controls",
            "_model_module_version": "1.5.0",
            "_model_name": "HTMLModel",
            "_view_count": null,
            "_view_module": "@jupyter-widgets/controls",
            "_view_module_version": "1.5.0",
            "_view_name": "HTMLView",
            "description": "",
            "description_tooltip": null,
            "layout": "IPY_MODEL_6374cbb3066c4674ab8e238671eeb19e",
            "placeholder": "​",
            "style": "IPY_MODEL_d6f3e94c05cf40fe87b5752f1620153b",
            "value": " 268M/268M [00:01&lt;00:00, 186MB/s]"
          }
        },
        "fb9d7a89518b4f298ccfc25fbccbd415": {
          "model_module": "@jupyter-widgets/base",
          "model_name": "LayoutModel",
          "model_module_version": "1.2.0",
          "state": {
            "_model_module": "@jupyter-widgets/base",
            "_model_module_version": "1.2.0",
            "_model_name": "LayoutModel",
            "_view_count": null,
            "_view_module": "@jupyter-widgets/base",
            "_view_module_version": "1.2.0",
            "_view_name": "LayoutView",
            "align_content": null,
            "align_items": null,
            "align_self": null,
            "border": null,
            "bottom": null,
            "display": null,
            "flex": null,
            "flex_flow": null,
            "grid_area": null,
            "grid_auto_columns": null,
            "grid_auto_flow": null,
            "grid_auto_rows": null,
            "grid_column": null,
            "grid_gap": null,
            "grid_row": null,
            "grid_template_areas": null,
            "grid_template_columns": null,
            "grid_template_rows": null,
            "height": null,
            "justify_content": null,
            "justify_items": null,
            "left": null,
            "margin": null,
            "max_height": null,
            "max_width": null,
            "min_height": null,
            "min_width": null,
            "object_fit": null,
            "object_position": null,
            "order": null,
            "overflow": null,
            "overflow_x": null,
            "overflow_y": null,
            "padding": null,
            "right": null,
            "top": null,
            "visibility": null,
            "width": null
          }
        },
        "610913e84b2048f38b5aee3e8a184bf9": {
          "model_module": "@jupyter-widgets/base",
          "model_name": "LayoutModel",
          "model_module_version": "1.2.0",
          "state": {
            "_model_module": "@jupyter-widgets/base",
            "_model_module_version": "1.2.0",
            "_model_name": "LayoutModel",
            "_view_count": null,
            "_view_module": "@jupyter-widgets/base",
            "_view_module_version": "1.2.0",
            "_view_name": "LayoutView",
            "align_content": null,
            "align_items": null,
            "align_self": null,
            "border": null,
            "bottom": null,
            "display": null,
            "flex": null,
            "flex_flow": null,
            "grid_area": null,
            "grid_auto_columns": null,
            "grid_auto_flow": null,
            "grid_auto_rows": null,
            "grid_column": null,
            "grid_gap": null,
            "grid_row": null,
            "grid_template_areas": null,
            "grid_template_columns": null,
            "grid_template_rows": null,
            "height": null,
            "justify_content": null,
            "justify_items": null,
            "left": null,
            "margin": null,
            "max_height": null,
            "max_width": null,
            "min_height": null,
            "min_width": null,
            "object_fit": null,
            "object_position": null,
            "order": null,
            "overflow": null,
            "overflow_x": null,
            "overflow_y": null,
            "padding": null,
            "right": null,
            "top": null,
            "visibility": null,
            "width": null
          }
        },
        "bf9f3d0240a64c02bbcab5e9bc25359b": {
          "model_module": "@jupyter-widgets/controls",
          "model_name": "DescriptionStyleModel",
          "model_module_version": "1.5.0",
          "state": {
            "_model_module": "@jupyter-widgets/controls",
            "_model_module_version": "1.5.0",
            "_model_name": "DescriptionStyleModel",
            "_view_count": null,
            "_view_module": "@jupyter-widgets/base",
            "_view_module_version": "1.2.0",
            "_view_name": "StyleView",
            "description_width": ""
          }
        },
        "4cbb157edb9d4bab8352571e96ca3c97": {
          "model_module": "@jupyter-widgets/base",
          "model_name": "LayoutModel",
          "model_module_version": "1.2.0",
          "state": {
            "_model_module": "@jupyter-widgets/base",
            "_model_module_version": "1.2.0",
            "_model_name": "LayoutModel",
            "_view_count": null,
            "_view_module": "@jupyter-widgets/base",
            "_view_module_version": "1.2.0",
            "_view_name": "LayoutView",
            "align_content": null,
            "align_items": null,
            "align_self": null,
            "border": null,
            "bottom": null,
            "display": null,
            "flex": null,
            "flex_flow": null,
            "grid_area": null,
            "grid_auto_columns": null,
            "grid_auto_flow": null,
            "grid_auto_rows": null,
            "grid_column": null,
            "grid_gap": null,
            "grid_row": null,
            "grid_template_areas": null,
            "grid_template_columns": null,
            "grid_template_rows": null,
            "height": null,
            "justify_content": null,
            "justify_items": null,
            "left": null,
            "margin": null,
            "max_height": null,
            "max_width": null,
            "min_height": null,
            "min_width": null,
            "object_fit": null,
            "object_position": null,
            "order": null,
            "overflow": null,
            "overflow_x": null,
            "overflow_y": null,
            "padding": null,
            "right": null,
            "top": null,
            "visibility": null,
            "width": null
          }
        },
        "9743d3c0a3a84fc9ba17517e11ffada7": {
          "model_module": "@jupyter-widgets/controls",
          "model_name": "ProgressStyleModel",
          "model_module_version": "1.5.0",
          "state": {
            "_model_module": "@jupyter-widgets/controls",
            "_model_module_version": "1.5.0",
            "_model_name": "ProgressStyleModel",
            "_view_count": null,
            "_view_module": "@jupyter-widgets/base",
            "_view_module_version": "1.2.0",
            "_view_name": "StyleView",
            "bar_color": null,
            "description_width": ""
          }
        },
        "6374cbb3066c4674ab8e238671eeb19e": {
          "model_module": "@jupyter-widgets/base",
          "model_name": "LayoutModel",
          "model_module_version": "1.2.0",
          "state": {
            "_model_module": "@jupyter-widgets/base",
            "_model_module_version": "1.2.0",
            "_model_name": "LayoutModel",
            "_view_count": null,
            "_view_module": "@jupyter-widgets/base",
            "_view_module_version": "1.2.0",
            "_view_name": "LayoutView",
            "align_content": null,
            "align_items": null,
            "align_self": null,
            "border": null,
            "bottom": null,
            "display": null,
            "flex": null,
            "flex_flow": null,
            "grid_area": null,
            "grid_auto_columns": null,
            "grid_auto_flow": null,
            "grid_auto_rows": null,
            "grid_column": null,
            "grid_gap": null,
            "grid_row": null,
            "grid_template_areas": null,
            "grid_template_columns": null,
            "grid_template_rows": null,
            "height": null,
            "justify_content": null,
            "justify_items": null,
            "left": null,
            "margin": null,
            "max_height": null,
            "max_width": null,
            "min_height": null,
            "min_width": null,
            "object_fit": null,
            "object_position": null,
            "order": null,
            "overflow": null,
            "overflow_x": null,
            "overflow_y": null,
            "padding": null,
            "right": null,
            "top": null,
            "visibility": null,
            "width": null
          }
        },
        "d6f3e94c05cf40fe87b5752f1620153b": {
          "model_module": "@jupyter-widgets/controls",
          "model_name": "DescriptionStyleModel",
          "model_module_version": "1.5.0",
          "state": {
            "_model_module": "@jupyter-widgets/controls",
            "_model_module_version": "1.5.0",
            "_model_name": "DescriptionStyleModel",
            "_view_count": null,
            "_view_module": "@jupyter-widgets/base",
            "_view_module_version": "1.2.0",
            "_view_name": "StyleView",
            "description_width": ""
          }
        },
        "2db52ba6d8a0423aafb5ebe3335770b9": {
          "model_module": "@jupyter-widgets/controls",
          "model_name": "HBoxModel",
          "model_module_version": "1.5.0",
          "state": {
            "_dom_classes": [],
            "_model_module": "@jupyter-widgets/controls",
            "_model_module_version": "1.5.0",
            "_model_name": "HBoxModel",
            "_view_count": null,
            "_view_module": "@jupyter-widgets/controls",
            "_view_module_version": "1.5.0",
            "_view_name": "HBoxView",
            "box_style": "",
            "children": [
              "IPY_MODEL_475f70170e0543188347c015f8ccf291",
              "IPY_MODEL_8bd7e67dbd59468faad6156dff59fc17",
              "IPY_MODEL_23796e60fbf74a86b5f9440beea66d69"
            ],
            "layout": "IPY_MODEL_daa4c2ae03db4c04b6baf9ce2d9416e7"
          }
        },
        "475f70170e0543188347c015f8ccf291": {
          "model_module": "@jupyter-widgets/controls",
          "model_name": "HTMLModel",
          "model_module_version": "1.5.0",
          "state": {
            "_dom_classes": [],
            "_model_module": "@jupyter-widgets/controls",
            "_model_module_version": "1.5.0",
            "_model_name": "HTMLModel",
            "_view_count": null,
            "_view_module": "@jupyter-widgets/controls",
            "_view_module_version": "1.5.0",
            "_view_name": "HTMLView",
            "description": "",
            "description_tooltip": null,
            "layout": "IPY_MODEL_6afc94d023b04b0fad16239032827f87",
            "placeholder": "​",
            "style": "IPY_MODEL_4e108809f96042fda755c5ef392f186d",
            "value": "tokenizer_config.json: 100%"
          }
        },
        "8bd7e67dbd59468faad6156dff59fc17": {
          "model_module": "@jupyter-widgets/controls",
          "model_name": "FloatProgressModel",
          "model_module_version": "1.5.0",
          "state": {
            "_dom_classes": [],
            "_model_module": "@jupyter-widgets/controls",
            "_model_module_version": "1.5.0",
            "_model_name": "FloatProgressModel",
            "_view_count": null,
            "_view_module": "@jupyter-widgets/controls",
            "_view_module_version": "1.5.0",
            "_view_name": "ProgressView",
            "bar_style": "success",
            "description": "",
            "description_tooltip": null,
            "layout": "IPY_MODEL_e2a6149525af40b28b70ba2fb0f98ea6",
            "max": 48,
            "min": 0,
            "orientation": "horizontal",
            "style": "IPY_MODEL_b86b503dfd814453923262bedf74e0e0",
            "value": 48
          }
        },
        "23796e60fbf74a86b5f9440beea66d69": {
          "model_module": "@jupyter-widgets/controls",
          "model_name": "HTMLModel",
          "model_module_version": "1.5.0",
          "state": {
            "_dom_classes": [],
            "_model_module": "@jupyter-widgets/controls",
            "_model_module_version": "1.5.0",
            "_model_name": "HTMLModel",
            "_view_count": null,
            "_view_module": "@jupyter-widgets/controls",
            "_view_module_version": "1.5.0",
            "_view_name": "HTMLView",
            "description": "",
            "description_tooltip": null,
            "layout": "IPY_MODEL_ddb27e49f34d4896818d4382c4c34164",
            "placeholder": "​",
            "style": "IPY_MODEL_6710b4dae652417cb449f5a3a6622370",
            "value": " 48.0/48.0 [00:00&lt;00:00, 3.19kB/s]"
          }
        },
        "daa4c2ae03db4c04b6baf9ce2d9416e7": {
          "model_module": "@jupyter-widgets/base",
          "model_name": "LayoutModel",
          "model_module_version": "1.2.0",
          "state": {
            "_model_module": "@jupyter-widgets/base",
            "_model_module_version": "1.2.0",
            "_model_name": "LayoutModel",
            "_view_count": null,
            "_view_module": "@jupyter-widgets/base",
            "_view_module_version": "1.2.0",
            "_view_name": "LayoutView",
            "align_content": null,
            "align_items": null,
            "align_self": null,
            "border": null,
            "bottom": null,
            "display": null,
            "flex": null,
            "flex_flow": null,
            "grid_area": null,
            "grid_auto_columns": null,
            "grid_auto_flow": null,
            "grid_auto_rows": null,
            "grid_column": null,
            "grid_gap": null,
            "grid_row": null,
            "grid_template_areas": null,
            "grid_template_columns": null,
            "grid_template_rows": null,
            "height": null,
            "justify_content": null,
            "justify_items": null,
            "left": null,
            "margin": null,
            "max_height": null,
            "max_width": null,
            "min_height": null,
            "min_width": null,
            "object_fit": null,
            "object_position": null,
            "order": null,
            "overflow": null,
            "overflow_x": null,
            "overflow_y": null,
            "padding": null,
            "right": null,
            "top": null,
            "visibility": null,
            "width": null
          }
        },
        "6afc94d023b04b0fad16239032827f87": {
          "model_module": "@jupyter-widgets/base",
          "model_name": "LayoutModel",
          "model_module_version": "1.2.0",
          "state": {
            "_model_module": "@jupyter-widgets/base",
            "_model_module_version": "1.2.0",
            "_model_name": "LayoutModel",
            "_view_count": null,
            "_view_module": "@jupyter-widgets/base",
            "_view_module_version": "1.2.0",
            "_view_name": "LayoutView",
            "align_content": null,
            "align_items": null,
            "align_self": null,
            "border": null,
            "bottom": null,
            "display": null,
            "flex": null,
            "flex_flow": null,
            "grid_area": null,
            "grid_auto_columns": null,
            "grid_auto_flow": null,
            "grid_auto_rows": null,
            "grid_column": null,
            "grid_gap": null,
            "grid_row": null,
            "grid_template_areas": null,
            "grid_template_columns": null,
            "grid_template_rows": null,
            "height": null,
            "justify_content": null,
            "justify_items": null,
            "left": null,
            "margin": null,
            "max_height": null,
            "max_width": null,
            "min_height": null,
            "min_width": null,
            "object_fit": null,
            "object_position": null,
            "order": null,
            "overflow": null,
            "overflow_x": null,
            "overflow_y": null,
            "padding": null,
            "right": null,
            "top": null,
            "visibility": null,
            "width": null
          }
        },
        "4e108809f96042fda755c5ef392f186d": {
          "model_module": "@jupyter-widgets/controls",
          "model_name": "DescriptionStyleModel",
          "model_module_version": "1.5.0",
          "state": {
            "_model_module": "@jupyter-widgets/controls",
            "_model_module_version": "1.5.0",
            "_model_name": "DescriptionStyleModel",
            "_view_count": null,
            "_view_module": "@jupyter-widgets/base",
            "_view_module_version": "1.2.0",
            "_view_name": "StyleView",
            "description_width": ""
          }
        },
        "e2a6149525af40b28b70ba2fb0f98ea6": {
          "model_module": "@jupyter-widgets/base",
          "model_name": "LayoutModel",
          "model_module_version": "1.2.0",
          "state": {
            "_model_module": "@jupyter-widgets/base",
            "_model_module_version": "1.2.0",
            "_model_name": "LayoutModel",
            "_view_count": null,
            "_view_module": "@jupyter-widgets/base",
            "_view_module_version": "1.2.0",
            "_view_name": "LayoutView",
            "align_content": null,
            "align_items": null,
            "align_self": null,
            "border": null,
            "bottom": null,
            "display": null,
            "flex": null,
            "flex_flow": null,
            "grid_area": null,
            "grid_auto_columns": null,
            "grid_auto_flow": null,
            "grid_auto_rows": null,
            "grid_column": null,
            "grid_gap": null,
            "grid_row": null,
            "grid_template_areas": null,
            "grid_template_columns": null,
            "grid_template_rows": null,
            "height": null,
            "justify_content": null,
            "justify_items": null,
            "left": null,
            "margin": null,
            "max_height": null,
            "max_width": null,
            "min_height": null,
            "min_width": null,
            "object_fit": null,
            "object_position": null,
            "order": null,
            "overflow": null,
            "overflow_x": null,
            "overflow_y": null,
            "padding": null,
            "right": null,
            "top": null,
            "visibility": null,
            "width": null
          }
        },
        "b86b503dfd814453923262bedf74e0e0": {
          "model_module": "@jupyter-widgets/controls",
          "model_name": "ProgressStyleModel",
          "model_module_version": "1.5.0",
          "state": {
            "_model_module": "@jupyter-widgets/controls",
            "_model_module_version": "1.5.0",
            "_model_name": "ProgressStyleModel",
            "_view_count": null,
            "_view_module": "@jupyter-widgets/base",
            "_view_module_version": "1.2.0",
            "_view_name": "StyleView",
            "bar_color": null,
            "description_width": ""
          }
        },
        "ddb27e49f34d4896818d4382c4c34164": {
          "model_module": "@jupyter-widgets/base",
          "model_name": "LayoutModel",
          "model_module_version": "1.2.0",
          "state": {
            "_model_module": "@jupyter-widgets/base",
            "_model_module_version": "1.2.0",
            "_model_name": "LayoutModel",
            "_view_count": null,
            "_view_module": "@jupyter-widgets/base",
            "_view_module_version": "1.2.0",
            "_view_name": "LayoutView",
            "align_content": null,
            "align_items": null,
            "align_self": null,
            "border": null,
            "bottom": null,
            "display": null,
            "flex": null,
            "flex_flow": null,
            "grid_area": null,
            "grid_auto_columns": null,
            "grid_auto_flow": null,
            "grid_auto_rows": null,
            "grid_column": null,
            "grid_gap": null,
            "grid_row": null,
            "grid_template_areas": null,
            "grid_template_columns": null,
            "grid_template_rows": null,
            "height": null,
            "justify_content": null,
            "justify_items": null,
            "left": null,
            "margin": null,
            "max_height": null,
            "max_width": null,
            "min_height": null,
            "min_width": null,
            "object_fit": null,
            "object_position": null,
            "order": null,
            "overflow": null,
            "overflow_x": null,
            "overflow_y": null,
            "padding": null,
            "right": null,
            "top": null,
            "visibility": null,
            "width": null
          }
        },
        "6710b4dae652417cb449f5a3a6622370": {
          "model_module": "@jupyter-widgets/controls",
          "model_name": "DescriptionStyleModel",
          "model_module_version": "1.5.0",
          "state": {
            "_model_module": "@jupyter-widgets/controls",
            "_model_module_version": "1.5.0",
            "_model_name": "DescriptionStyleModel",
            "_view_count": null,
            "_view_module": "@jupyter-widgets/base",
            "_view_module_version": "1.2.0",
            "_view_name": "StyleView",
            "description_width": ""
          }
        },
        "2e3c342e3ff64fa198473f8a5f9347cd": {
          "model_module": "@jupyter-widgets/controls",
          "model_name": "HBoxModel",
          "model_module_version": "1.5.0",
          "state": {
            "_dom_classes": [],
            "_model_module": "@jupyter-widgets/controls",
            "_model_module_version": "1.5.0",
            "_model_name": "HBoxModel",
            "_view_count": null,
            "_view_module": "@jupyter-widgets/controls",
            "_view_module_version": "1.5.0",
            "_view_name": "HBoxView",
            "box_style": "",
            "children": [
              "IPY_MODEL_ba085fd9bf544922b277b4fcee4d61db",
              "IPY_MODEL_25fe6253bf8240088781e66a183f306a",
              "IPY_MODEL_356c635c57c94246bbe2503fb4f12863"
            ],
            "layout": "IPY_MODEL_c4c9b5f56212402f99bcb98511280674"
          }
        },
        "ba085fd9bf544922b277b4fcee4d61db": {
          "model_module": "@jupyter-widgets/controls",
          "model_name": "HTMLModel",
          "model_module_version": "1.5.0",
          "state": {
            "_dom_classes": [],
            "_model_module": "@jupyter-widgets/controls",
            "_model_module_version": "1.5.0",
            "_model_name": "HTMLModel",
            "_view_count": null,
            "_view_module": "@jupyter-widgets/controls",
            "_view_module_version": "1.5.0",
            "_view_name": "HTMLView",
            "description": "",
            "description_tooltip": null,
            "layout": "IPY_MODEL_fc1e73b3bfd348d5b371aaac1c13323c",
            "placeholder": "​",
            "style": "IPY_MODEL_869ebef774994548a6061c33c59dae76",
            "value": "vocab.txt: 100%"
          }
        },
        "25fe6253bf8240088781e66a183f306a": {
          "model_module": "@jupyter-widgets/controls",
          "model_name": "FloatProgressModel",
          "model_module_version": "1.5.0",
          "state": {
            "_dom_classes": [],
            "_model_module": "@jupyter-widgets/controls",
            "_model_module_version": "1.5.0",
            "_model_name": "FloatProgressModel",
            "_view_count": null,
            "_view_module": "@jupyter-widgets/controls",
            "_view_module_version": "1.5.0",
            "_view_name": "ProgressView",
            "bar_style": "success",
            "description": "",
            "description_tooltip": null,
            "layout": "IPY_MODEL_589fbeb3c31c47ef92706481c5e2da8d",
            "max": 231508,
            "min": 0,
            "orientation": "horizontal",
            "style": "IPY_MODEL_92484fcaef7745baa46583f15de4597f",
            "value": 231508
          }
        },
        "356c635c57c94246bbe2503fb4f12863": {
          "model_module": "@jupyter-widgets/controls",
          "model_name": "HTMLModel",
          "model_module_version": "1.5.0",
          "state": {
            "_dom_classes": [],
            "_model_module": "@jupyter-widgets/controls",
            "_model_module_version": "1.5.0",
            "_model_name": "HTMLModel",
            "_view_count": null,
            "_view_module": "@jupyter-widgets/controls",
            "_view_module_version": "1.5.0",
            "_view_name": "HTMLView",
            "description": "",
            "description_tooltip": null,
            "layout": "IPY_MODEL_835f2dac93a0496c92b176055e09a50c",
            "placeholder": "​",
            "style": "IPY_MODEL_ccb3720d8e8542d2afec8bc02b5fc27b",
            "value": " 232k/232k [00:00&lt;00:00, 3.85MB/s]"
          }
        },
        "c4c9b5f56212402f99bcb98511280674": {
          "model_module": "@jupyter-widgets/base",
          "model_name": "LayoutModel",
          "model_module_version": "1.2.0",
          "state": {
            "_model_module": "@jupyter-widgets/base",
            "_model_module_version": "1.2.0",
            "_model_name": "LayoutModel",
            "_view_count": null,
            "_view_module": "@jupyter-widgets/base",
            "_view_module_version": "1.2.0",
            "_view_name": "LayoutView",
            "align_content": null,
            "align_items": null,
            "align_self": null,
            "border": null,
            "bottom": null,
            "display": null,
            "flex": null,
            "flex_flow": null,
            "grid_area": null,
            "grid_auto_columns": null,
            "grid_auto_flow": null,
            "grid_auto_rows": null,
            "grid_column": null,
            "grid_gap": null,
            "grid_row": null,
            "grid_template_areas": null,
            "grid_template_columns": null,
            "grid_template_rows": null,
            "height": null,
            "justify_content": null,
            "justify_items": null,
            "left": null,
            "margin": null,
            "max_height": null,
            "max_width": null,
            "min_height": null,
            "min_width": null,
            "object_fit": null,
            "object_position": null,
            "order": null,
            "overflow": null,
            "overflow_x": null,
            "overflow_y": null,
            "padding": null,
            "right": null,
            "top": null,
            "visibility": null,
            "width": null
          }
        },
        "fc1e73b3bfd348d5b371aaac1c13323c": {
          "model_module": "@jupyter-widgets/base",
          "model_name": "LayoutModel",
          "model_module_version": "1.2.0",
          "state": {
            "_model_module": "@jupyter-widgets/base",
            "_model_module_version": "1.2.0",
            "_model_name": "LayoutModel",
            "_view_count": null,
            "_view_module": "@jupyter-widgets/base",
            "_view_module_version": "1.2.0",
            "_view_name": "LayoutView",
            "align_content": null,
            "align_items": null,
            "align_self": null,
            "border": null,
            "bottom": null,
            "display": null,
            "flex": null,
            "flex_flow": null,
            "grid_area": null,
            "grid_auto_columns": null,
            "grid_auto_flow": null,
            "grid_auto_rows": null,
            "grid_column": null,
            "grid_gap": null,
            "grid_row": null,
            "grid_template_areas": null,
            "grid_template_columns": null,
            "grid_template_rows": null,
            "height": null,
            "justify_content": null,
            "justify_items": null,
            "left": null,
            "margin": null,
            "max_height": null,
            "max_width": null,
            "min_height": null,
            "min_width": null,
            "object_fit": null,
            "object_position": null,
            "order": null,
            "overflow": null,
            "overflow_x": null,
            "overflow_y": null,
            "padding": null,
            "right": null,
            "top": null,
            "visibility": null,
            "width": null
          }
        },
        "869ebef774994548a6061c33c59dae76": {
          "model_module": "@jupyter-widgets/controls",
          "model_name": "DescriptionStyleModel",
          "model_module_version": "1.5.0",
          "state": {
            "_model_module": "@jupyter-widgets/controls",
            "_model_module_version": "1.5.0",
            "_model_name": "DescriptionStyleModel",
            "_view_count": null,
            "_view_module": "@jupyter-widgets/base",
            "_view_module_version": "1.2.0",
            "_view_name": "StyleView",
            "description_width": ""
          }
        },
        "589fbeb3c31c47ef92706481c5e2da8d": {
          "model_module": "@jupyter-widgets/base",
          "model_name": "LayoutModel",
          "model_module_version": "1.2.0",
          "state": {
            "_model_module": "@jupyter-widgets/base",
            "_model_module_version": "1.2.0",
            "_model_name": "LayoutModel",
            "_view_count": null,
            "_view_module": "@jupyter-widgets/base",
            "_view_module_version": "1.2.0",
            "_view_name": "LayoutView",
            "align_content": null,
            "align_items": null,
            "align_self": null,
            "border": null,
            "bottom": null,
            "display": null,
            "flex": null,
            "flex_flow": null,
            "grid_area": null,
            "grid_auto_columns": null,
            "grid_auto_flow": null,
            "grid_auto_rows": null,
            "grid_column": null,
            "grid_gap": null,
            "grid_row": null,
            "grid_template_areas": null,
            "grid_template_columns": null,
            "grid_template_rows": null,
            "height": null,
            "justify_content": null,
            "justify_items": null,
            "left": null,
            "margin": null,
            "max_height": null,
            "max_width": null,
            "min_height": null,
            "min_width": null,
            "object_fit": null,
            "object_position": null,
            "order": null,
            "overflow": null,
            "overflow_x": null,
            "overflow_y": null,
            "padding": null,
            "right": null,
            "top": null,
            "visibility": null,
            "width": null
          }
        },
        "92484fcaef7745baa46583f15de4597f": {
          "model_module": "@jupyter-widgets/controls",
          "model_name": "ProgressStyleModel",
          "model_module_version": "1.5.0",
          "state": {
            "_model_module": "@jupyter-widgets/controls",
            "_model_module_version": "1.5.0",
            "_model_name": "ProgressStyleModel",
            "_view_count": null,
            "_view_module": "@jupyter-widgets/base",
            "_view_module_version": "1.2.0",
            "_view_name": "StyleView",
            "bar_color": null,
            "description_width": ""
          }
        },
        "835f2dac93a0496c92b176055e09a50c": {
          "model_module": "@jupyter-widgets/base",
          "model_name": "LayoutModel",
          "model_module_version": "1.2.0",
          "state": {
            "_model_module": "@jupyter-widgets/base",
            "_model_module_version": "1.2.0",
            "_model_name": "LayoutModel",
            "_view_count": null,
            "_view_module": "@jupyter-widgets/base",
            "_view_module_version": "1.2.0",
            "_view_name": "LayoutView",
            "align_content": null,
            "align_items": null,
            "align_self": null,
            "border": null,
            "bottom": null,
            "display": null,
            "flex": null,
            "flex_flow": null,
            "grid_area": null,
            "grid_auto_columns": null,
            "grid_auto_flow": null,
            "grid_auto_rows": null,
            "grid_column": null,
            "grid_gap": null,
            "grid_row": null,
            "grid_template_areas": null,
            "grid_template_columns": null,
            "grid_template_rows": null,
            "height": null,
            "justify_content": null,
            "justify_items": null,
            "left": null,
            "margin": null,
            "max_height": null,
            "max_width": null,
            "min_height": null,
            "min_width": null,
            "object_fit": null,
            "object_position": null,
            "order": null,
            "overflow": null,
            "overflow_x": null,
            "overflow_y": null,
            "padding": null,
            "right": null,
            "top": null,
            "visibility": null,
            "width": null
          }
        },
        "ccb3720d8e8542d2afec8bc02b5fc27b": {
          "model_module": "@jupyter-widgets/controls",
          "model_name": "DescriptionStyleModel",
          "model_module_version": "1.5.0",
          "state": {
            "_model_module": "@jupyter-widgets/controls",
            "_model_module_version": "1.5.0",
            "_model_name": "DescriptionStyleModel",
            "_view_count": null,
            "_view_module": "@jupyter-widgets/base",
            "_view_module_version": "1.2.0",
            "_view_name": "StyleView",
            "description_width": ""
          }
        },
        "169b7947d84046f280a69ed61d158667": {
          "model_module": "@jupyter-widgets/controls",
          "model_name": "HBoxModel",
          "model_module_version": "1.5.0",
          "state": {
            "_dom_classes": [],
            "_model_module": "@jupyter-widgets/controls",
            "_model_module_version": "1.5.0",
            "_model_name": "HBoxModel",
            "_view_count": null,
            "_view_module": "@jupyter-widgets/controls",
            "_view_module_version": "1.5.0",
            "_view_name": "HBoxView",
            "box_style": "",
            "children": [
              "IPY_MODEL_c9f549636cfd4e7a8abb15671742208a",
              "IPY_MODEL_b2f0ce6e27564890bd3cfde8c25d6cb8",
              "IPY_MODEL_b97e844d0c3346aaa9506c09a2fd4801"
            ],
            "layout": "IPY_MODEL_e39721d400d749a89685f821bf4f834d"
          }
        },
        "c9f549636cfd4e7a8abb15671742208a": {
          "model_module": "@jupyter-widgets/controls",
          "model_name": "HTMLModel",
          "model_module_version": "1.5.0",
          "state": {
            "_dom_classes": [],
            "_model_module": "@jupyter-widgets/controls",
            "_model_module_version": "1.5.0",
            "_model_name": "HTMLModel",
            "_view_count": null,
            "_view_module": "@jupyter-widgets/controls",
            "_view_module_version": "1.5.0",
            "_view_name": "HTMLView",
            "description": "",
            "description_tooltip": null,
            "layout": "IPY_MODEL_e3c3e44d161744429d95c8ef89f67ba4",
            "placeholder": "​",
            "style": "IPY_MODEL_2ddbf696962b4c1092b3e9f45567899d",
            "value": "tokenizer.json: 100%"
          }
        },
        "b2f0ce6e27564890bd3cfde8c25d6cb8": {
          "model_module": "@jupyter-widgets/controls",
          "model_name": "FloatProgressModel",
          "model_module_version": "1.5.0",
          "state": {
            "_dom_classes": [],
            "_model_module": "@jupyter-widgets/controls",
            "_model_module_version": "1.5.0",
            "_model_name": "FloatProgressModel",
            "_view_count": null,
            "_view_module": "@jupyter-widgets/controls",
            "_view_module_version": "1.5.0",
            "_view_name": "ProgressView",
            "bar_style": "success",
            "description": "",
            "description_tooltip": null,
            "layout": "IPY_MODEL_1dc509c543594caba287cc4339d0ccc3",
            "max": 466062,
            "min": 0,
            "orientation": "horizontal",
            "style": "IPY_MODEL_bedf2afced404b31a695318d8478f6c2",
            "value": 466062
          }
        },
        "b97e844d0c3346aaa9506c09a2fd4801": {
          "model_module": "@jupyter-widgets/controls",
          "model_name": "HTMLModel",
          "model_module_version": "1.5.0",
          "state": {
            "_dom_classes": [],
            "_model_module": "@jupyter-widgets/controls",
            "_model_module_version": "1.5.0",
            "_model_name": "HTMLModel",
            "_view_count": null,
            "_view_module": "@jupyter-widgets/controls",
            "_view_module_version": "1.5.0",
            "_view_name": "HTMLView",
            "description": "",
            "description_tooltip": null,
            "layout": "IPY_MODEL_0e00b7470eac4cdab4ea386ff28fd22c",
            "placeholder": "​",
            "style": "IPY_MODEL_9b322535a0df4c4e9e249649288ab61b",
            "value": " 466k/466k [00:00&lt;00:00, 7.58MB/s]"
          }
        },
        "e39721d400d749a89685f821bf4f834d": {
          "model_module": "@jupyter-widgets/base",
          "model_name": "LayoutModel",
          "model_module_version": "1.2.0",
          "state": {
            "_model_module": "@jupyter-widgets/base",
            "_model_module_version": "1.2.0",
            "_model_name": "LayoutModel",
            "_view_count": null,
            "_view_module": "@jupyter-widgets/base",
            "_view_module_version": "1.2.0",
            "_view_name": "LayoutView",
            "align_content": null,
            "align_items": null,
            "align_self": null,
            "border": null,
            "bottom": null,
            "display": null,
            "flex": null,
            "flex_flow": null,
            "grid_area": null,
            "grid_auto_columns": null,
            "grid_auto_flow": null,
            "grid_auto_rows": null,
            "grid_column": null,
            "grid_gap": null,
            "grid_row": null,
            "grid_template_areas": null,
            "grid_template_columns": null,
            "grid_template_rows": null,
            "height": null,
            "justify_content": null,
            "justify_items": null,
            "left": null,
            "margin": null,
            "max_height": null,
            "max_width": null,
            "min_height": null,
            "min_width": null,
            "object_fit": null,
            "object_position": null,
            "order": null,
            "overflow": null,
            "overflow_x": null,
            "overflow_y": null,
            "padding": null,
            "right": null,
            "top": null,
            "visibility": null,
            "width": null
          }
        },
        "e3c3e44d161744429d95c8ef89f67ba4": {
          "model_module": "@jupyter-widgets/base",
          "model_name": "LayoutModel",
          "model_module_version": "1.2.0",
          "state": {
            "_model_module": "@jupyter-widgets/base",
            "_model_module_version": "1.2.0",
            "_model_name": "LayoutModel",
            "_view_count": null,
            "_view_module": "@jupyter-widgets/base",
            "_view_module_version": "1.2.0",
            "_view_name": "LayoutView",
            "align_content": null,
            "align_items": null,
            "align_self": null,
            "border": null,
            "bottom": null,
            "display": null,
            "flex": null,
            "flex_flow": null,
            "grid_area": null,
            "grid_auto_columns": null,
            "grid_auto_flow": null,
            "grid_auto_rows": null,
            "grid_column": null,
            "grid_gap": null,
            "grid_row": null,
            "grid_template_areas": null,
            "grid_template_columns": null,
            "grid_template_rows": null,
            "height": null,
            "justify_content": null,
            "justify_items": null,
            "left": null,
            "margin": null,
            "max_height": null,
            "max_width": null,
            "min_height": null,
            "min_width": null,
            "object_fit": null,
            "object_position": null,
            "order": null,
            "overflow": null,
            "overflow_x": null,
            "overflow_y": null,
            "padding": null,
            "right": null,
            "top": null,
            "visibility": null,
            "width": null
          }
        },
        "2ddbf696962b4c1092b3e9f45567899d": {
          "model_module": "@jupyter-widgets/controls",
          "model_name": "DescriptionStyleModel",
          "model_module_version": "1.5.0",
          "state": {
            "_model_module": "@jupyter-widgets/controls",
            "_model_module_version": "1.5.0",
            "_model_name": "DescriptionStyleModel",
            "_view_count": null,
            "_view_module": "@jupyter-widgets/base",
            "_view_module_version": "1.2.0",
            "_view_name": "StyleView",
            "description_width": ""
          }
        },
        "1dc509c543594caba287cc4339d0ccc3": {
          "model_module": "@jupyter-widgets/base",
          "model_name": "LayoutModel",
          "model_module_version": "1.2.0",
          "state": {
            "_model_module": "@jupyter-widgets/base",
            "_model_module_version": "1.2.0",
            "_model_name": "LayoutModel",
            "_view_count": null,
            "_view_module": "@jupyter-widgets/base",
            "_view_module_version": "1.2.0",
            "_view_name": "LayoutView",
            "align_content": null,
            "align_items": null,
            "align_self": null,
            "border": null,
            "bottom": null,
            "display": null,
            "flex": null,
            "flex_flow": null,
            "grid_area": null,
            "grid_auto_columns": null,
            "grid_auto_flow": null,
            "grid_auto_rows": null,
            "grid_column": null,
            "grid_gap": null,
            "grid_row": null,
            "grid_template_areas": null,
            "grid_template_columns": null,
            "grid_template_rows": null,
            "height": null,
            "justify_content": null,
            "justify_items": null,
            "left": null,
            "margin": null,
            "max_height": null,
            "max_width": null,
            "min_height": null,
            "min_width": null,
            "object_fit": null,
            "object_position": null,
            "order": null,
            "overflow": null,
            "overflow_x": null,
            "overflow_y": null,
            "padding": null,
            "right": null,
            "top": null,
            "visibility": null,
            "width": null
          }
        },
        "bedf2afced404b31a695318d8478f6c2": {
          "model_module": "@jupyter-widgets/controls",
          "model_name": "ProgressStyleModel",
          "model_module_version": "1.5.0",
          "state": {
            "_model_module": "@jupyter-widgets/controls",
            "_model_module_version": "1.5.0",
            "_model_name": "ProgressStyleModel",
            "_view_count": null,
            "_view_module": "@jupyter-widgets/base",
            "_view_module_version": "1.2.0",
            "_view_name": "StyleView",
            "bar_color": null,
            "description_width": ""
          }
        },
        "0e00b7470eac4cdab4ea386ff28fd22c": {
          "model_module": "@jupyter-widgets/base",
          "model_name": "LayoutModel",
          "model_module_version": "1.2.0",
          "state": {
            "_model_module": "@jupyter-widgets/base",
            "_model_module_version": "1.2.0",
            "_model_name": "LayoutModel",
            "_view_count": null,
            "_view_module": "@jupyter-widgets/base",
            "_view_module_version": "1.2.0",
            "_view_name": "LayoutView",
            "align_content": null,
            "align_items": null,
            "align_self": null,
            "border": null,
            "bottom": null,
            "display": null,
            "flex": null,
            "flex_flow": null,
            "grid_area": null,
            "grid_auto_columns": null,
            "grid_auto_flow": null,
            "grid_auto_rows": null,
            "grid_column": null,
            "grid_gap": null,
            "grid_row": null,
            "grid_template_areas": null,
            "grid_template_columns": null,
            "grid_template_rows": null,
            "height": null,
            "justify_content": null,
            "justify_items": null,
            "left": null,
            "margin": null,
            "max_height": null,
            "max_width": null,
            "min_height": null,
            "min_width": null,
            "object_fit": null,
            "object_position": null,
            "order": null,
            "overflow": null,
            "overflow_x": null,
            "overflow_y": null,
            "padding": null,
            "right": null,
            "top": null,
            "visibility": null,
            "width": null
          }
        },
        "9b322535a0df4c4e9e249649288ab61b": {
          "model_module": "@jupyter-widgets/controls",
          "model_name": "DescriptionStyleModel",
          "model_module_version": "1.5.0",
          "state": {
            "_model_module": "@jupyter-widgets/controls",
            "_model_module_version": "1.5.0",
            "_model_name": "DescriptionStyleModel",
            "_view_count": null,
            "_view_module": "@jupyter-widgets/base",
            "_view_module_version": "1.2.0",
            "_view_name": "StyleView",
            "description_width": ""
          }
        }
      }
    }
  },
  "nbformat": 4,
  "nbformat_minor": 0
}