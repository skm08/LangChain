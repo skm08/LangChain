{
  "cells": [
    {
      "cell_type": "markdown",
      "metadata": {
        "id": "view-in-github",
        "colab_type": "text"
      },
      "source": [
        "<a href=\"https://colab.research.google.com/github/skm08/LangChain/blob/main/LangChain.ipynb\" target=\"_parent\"><img src=\"https://colab.research.google.com/assets/colab-badge.svg\" alt=\"Open In Colab\"/></a>"
      ]
    },
    {
      "cell_type": "markdown",
      "metadata": {
        "id": "XTXETlT8kAXi"
      },
      "source": [
        "# Import Groq API Key"
      ]
    },
    {
      "cell_type": "code",
      "execution_count": 78,
      "metadata": {
        "colab": {
          "base_uri": "https://localhost:8080/"
        },
        "id": "VCWbaWoTkMrH",
        "outputId": "38d20bab-1e29-4146-d8fe-72861f3520ff"
      },
      "outputs": [
        {
          "output_type": "stream",
          "name": "stdout",
          "text": [
            "Requirement already satisfied: langchain==0.2.10 in /usr/local/lib/python3.10/dist-packages (from -r requirements.txt (line 1)) (0.2.10)\n",
            "Requirement already satisfied: langchain-openai==0.1.17 in /usr/local/lib/python3.10/dist-packages (from -r requirements.txt (line 2)) (0.1.17)\n",
            "Requirement already satisfied: python-dotenv==1.0.1 in /usr/local/lib/python3.10/dist-packages (from -r requirements.txt (line 3)) (1.0.1)\n",
            "Requirement already satisfied: langchain-groq==0.1.6 in /usr/local/lib/python3.10/dist-packages (from -r requirements.txt (line 4)) (0.1.6)\n",
            "Requirement already satisfied: langchain-community==0.2.10 in /usr/local/lib/python3.10/dist-packages (from -r requirements.txt (line 5)) (0.2.10)\n",
            "Requirement already satisfied: bs4==0.0.2 in /usr/local/lib/python3.10/dist-packages (from -r requirements.txt (line 6)) (0.0.2)\n",
            "Requirement already satisfied: unstructured==0.15.0 in /usr/local/lib/python3.10/dist-packages (from -r requirements.txt (line 7)) (0.15.0)\n",
            "Requirement already satisfied: pypdf==4.3.1 in /usr/local/lib/python3.10/dist-packages (from -r requirements.txt (line 8)) (4.3.1)\n",
            "Requirement already satisfied: wikipedia==1.4.0 in /usr/local/lib/python3.10/dist-packages (from -r requirements.txt (line 9)) (1.4.0)\n",
            "Requirement already satisfied: langchain-chroma==0.1.2 in /usr/local/lib/python3.10/dist-packages (from -r requirements.txt (line 10)) (0.1.2)\n",
            "Requirement already satisfied: PyYAML>=5.3 in /usr/local/lib/python3.10/dist-packages (from langchain==0.2.10->-r requirements.txt (line 1)) (6.0.2)\n",
            "Requirement already satisfied: SQLAlchemy<3,>=1.4 in /usr/local/lib/python3.10/dist-packages (from langchain==0.2.10->-r requirements.txt (line 1)) (2.0.36)\n",
            "Requirement already satisfied: aiohttp<4.0.0,>=3.8.3 in /usr/local/lib/python3.10/dist-packages (from langchain==0.2.10->-r requirements.txt (line 1)) (3.10.10)\n",
            "Requirement already satisfied: async-timeout<5.0.0,>=4.0.0 in /usr/local/lib/python3.10/dist-packages (from langchain==0.2.10->-r requirements.txt (line 1)) (4.0.3)\n",
            "Requirement already satisfied: langchain-core<0.3.0,>=0.2.22 in /usr/local/lib/python3.10/dist-packages (from langchain==0.2.10->-r requirements.txt (line 1)) (0.2.41)\n",
            "Requirement already satisfied: langchain-text-splitters<0.3.0,>=0.2.0 in /usr/local/lib/python3.10/dist-packages (from langchain==0.2.10->-r requirements.txt (line 1)) (0.2.4)\n",
            "Requirement already satisfied: langsmith<0.2.0,>=0.1.17 in /usr/local/lib/python3.10/dist-packages (from langchain==0.2.10->-r requirements.txt (line 1)) (0.1.137)\n",
            "Requirement already satisfied: numpy<2,>=1 in /usr/local/lib/python3.10/dist-packages (from langchain==0.2.10->-r requirements.txt (line 1)) (1.26.4)\n",
            "Requirement already satisfied: pydantic<3,>=1 in /usr/local/lib/python3.10/dist-packages (from langchain==0.2.10->-r requirements.txt (line 1)) (2.9.2)\n",
            "Requirement already satisfied: requests<3,>=2 in /usr/local/lib/python3.10/dist-packages (from langchain==0.2.10->-r requirements.txt (line 1)) (2.32.3)\n",
            "Requirement already satisfied: tenacity!=8.4.0,<9.0.0,>=8.1.0 in /usr/local/lib/python3.10/dist-packages (from langchain==0.2.10->-r requirements.txt (line 1)) (8.5.0)\n",
            "Requirement already satisfied: openai<2.0.0,>=1.32.0 in /usr/local/lib/python3.10/dist-packages (from langchain-openai==0.1.17->-r requirements.txt (line 2)) (1.52.2)\n",
            "Requirement already satisfied: tiktoken<1,>=0.7 in /usr/local/lib/python3.10/dist-packages (from langchain-openai==0.1.17->-r requirements.txt (line 2)) (0.8.0)\n",
            "Requirement already satisfied: groq<1,>=0.4.1 in /usr/local/lib/python3.10/dist-packages (from langchain-groq==0.1.6->-r requirements.txt (line 4)) (0.11.0)\n",
            "Requirement already satisfied: dataclasses-json<0.7,>=0.5.7 in /usr/local/lib/python3.10/dist-packages (from langchain-community==0.2.10->-r requirements.txt (line 5)) (0.6.7)\n",
            "Requirement already satisfied: beautifulsoup4 in /usr/local/lib/python3.10/dist-packages (from bs4==0.0.2->-r requirements.txt (line 6)) (4.12.3)\n",
            "Requirement already satisfied: chardet in /usr/local/lib/python3.10/dist-packages (from unstructured==0.15.0->-r requirements.txt (line 7)) (5.2.0)\n",
            "Requirement already satisfied: filetype in /usr/local/lib/python3.10/dist-packages (from unstructured==0.15.0->-r requirements.txt (line 7)) (1.2.0)\n",
            "Requirement already satisfied: python-magic in /usr/local/lib/python3.10/dist-packages (from unstructured==0.15.0->-r requirements.txt (line 7)) (0.4.27)\n",
            "Requirement already satisfied: lxml in /usr/local/lib/python3.10/dist-packages (from unstructured==0.15.0->-r requirements.txt (line 7)) (4.9.4)\n",
            "Requirement already satisfied: nltk in /usr/local/lib/python3.10/dist-packages (from unstructured==0.15.0->-r requirements.txt (line 7)) (3.8.1)\n",
            "Requirement already satisfied: tabulate in /usr/local/lib/python3.10/dist-packages (from unstructured==0.15.0->-r requirements.txt (line 7)) (0.9.0)\n",
            "Requirement already satisfied: emoji in /usr/local/lib/python3.10/dist-packages (from unstructured==0.15.0->-r requirements.txt (line 7)) (2.14.0)\n",
            "Requirement already satisfied: python-iso639 in /usr/local/lib/python3.10/dist-packages (from unstructured==0.15.0->-r requirements.txt (line 7)) (2024.10.22)\n",
            "Requirement already satisfied: langdetect in /usr/local/lib/python3.10/dist-packages (from unstructured==0.15.0->-r requirements.txt (line 7)) (1.0.9)\n",
            "Requirement already satisfied: rapidfuzz in /usr/local/lib/python3.10/dist-packages (from unstructured==0.15.0->-r requirements.txt (line 7)) (3.10.0)\n",
            "Requirement already satisfied: backoff in /usr/local/lib/python3.10/dist-packages (from unstructured==0.15.0->-r requirements.txt (line 7)) (2.2.1)\n",
            "Requirement already satisfied: typing-extensions in /usr/local/lib/python3.10/dist-packages (from unstructured==0.15.0->-r requirements.txt (line 7)) (4.12.2)\n",
            "Requirement already satisfied: unstructured-client in /usr/local/lib/python3.10/dist-packages (from unstructured==0.15.0->-r requirements.txt (line 7)) (0.26.1)\n",
            "Requirement already satisfied: wrapt in /usr/local/lib/python3.10/dist-packages (from unstructured==0.15.0->-r requirements.txt (line 7)) (1.16.0)\n",
            "Requirement already satisfied: tqdm in /usr/local/lib/python3.10/dist-packages (from unstructured==0.15.0->-r requirements.txt (line 7)) (4.66.5)\n",
            "Requirement already satisfied: psutil in /usr/local/lib/python3.10/dist-packages (from unstructured==0.15.0->-r requirements.txt (line 7)) (5.9.5)\n",
            "Requirement already satisfied: chromadb<0.6.0,>=0.4.0 in /usr/local/lib/python3.10/dist-packages (from langchain-chroma==0.1.2->-r requirements.txt (line 10)) (0.5.15)\n",
            "Requirement already satisfied: fastapi<1,>=0.95.2 in /usr/local/lib/python3.10/dist-packages (from langchain-chroma==0.1.2->-r requirements.txt (line 10)) (0.115.3)\n",
            "Requirement already satisfied: aiohappyeyeballs>=2.3.0 in /usr/local/lib/python3.10/dist-packages (from aiohttp<4.0.0,>=3.8.3->langchain==0.2.10->-r requirements.txt (line 1)) (2.4.3)\n",
            "Requirement already satisfied: aiosignal>=1.1.2 in /usr/local/lib/python3.10/dist-packages (from aiohttp<4.0.0,>=3.8.3->langchain==0.2.10->-r requirements.txt (line 1)) (1.3.1)\n",
            "Requirement already satisfied: attrs>=17.3.0 in /usr/local/lib/python3.10/dist-packages (from aiohttp<4.0.0,>=3.8.3->langchain==0.2.10->-r requirements.txt (line 1)) (24.2.0)\n",
            "Requirement already satisfied: frozenlist>=1.1.1 in /usr/local/lib/python3.10/dist-packages (from aiohttp<4.0.0,>=3.8.3->langchain==0.2.10->-r requirements.txt (line 1)) (1.4.1)\n",
            "Requirement already satisfied: multidict<7.0,>=4.5 in /usr/local/lib/python3.10/dist-packages (from aiohttp<4.0.0,>=3.8.3->langchain==0.2.10->-r requirements.txt (line 1)) (6.1.0)\n",
            "Requirement already satisfied: yarl<2.0,>=1.12.0 in /usr/local/lib/python3.10/dist-packages (from aiohttp<4.0.0,>=3.8.3->langchain==0.2.10->-r requirements.txt (line 1)) (1.16.0)\n",
            "Requirement already satisfied: build>=1.0.3 in /usr/local/lib/python3.10/dist-packages (from chromadb<0.6.0,>=0.4.0->langchain-chroma==0.1.2->-r requirements.txt (line 10)) (1.2.2.post1)\n",
            "Requirement already satisfied: chroma-hnswlib==0.7.6 in /usr/local/lib/python3.10/dist-packages (from chromadb<0.6.0,>=0.4.0->langchain-chroma==0.1.2->-r requirements.txt (line 10)) (0.7.6)\n",
            "Requirement already satisfied: uvicorn>=0.18.3 in /usr/local/lib/python3.10/dist-packages (from uvicorn[standard]>=0.18.3->chromadb<0.6.0,>=0.4.0->langchain-chroma==0.1.2->-r requirements.txt (line 10)) (0.32.0)\n",
            "Requirement already satisfied: posthog>=2.4.0 in /usr/local/lib/python3.10/dist-packages (from chromadb<0.6.0,>=0.4.0->langchain-chroma==0.1.2->-r requirements.txt (line 10)) (3.7.0)\n",
            "Requirement already satisfied: onnxruntime>=1.14.1 in /usr/local/lib/python3.10/dist-packages (from chromadb<0.6.0,>=0.4.0->langchain-chroma==0.1.2->-r requirements.txt (line 10)) (1.19.2)\n",
            "Requirement already satisfied: opentelemetry-api>=1.2.0 in /usr/local/lib/python3.10/dist-packages (from chromadb<0.6.0,>=0.4.0->langchain-chroma==0.1.2->-r requirements.txt (line 10)) (1.27.0)\n",
            "Requirement already satisfied: opentelemetry-exporter-otlp-proto-grpc>=1.2.0 in /usr/local/lib/python3.10/dist-packages (from chromadb<0.6.0,>=0.4.0->langchain-chroma==0.1.2->-r requirements.txt (line 10)) (1.27.0)\n",
            "Requirement already satisfied: opentelemetry-instrumentation-fastapi>=0.41b0 in /usr/local/lib/python3.10/dist-packages (from chromadb<0.6.0,>=0.4.0->langchain-chroma==0.1.2->-r requirements.txt (line 10)) (0.48b0)\n",
            "Requirement already satisfied: opentelemetry-sdk>=1.2.0 in /usr/local/lib/python3.10/dist-packages (from chromadb<0.6.0,>=0.4.0->langchain-chroma==0.1.2->-r requirements.txt (line 10)) (1.27.0)\n",
            "Requirement already satisfied: tokenizers>=0.13.2 in /usr/local/lib/python3.10/dist-packages (from chromadb<0.6.0,>=0.4.0->langchain-chroma==0.1.2->-r requirements.txt (line 10)) (0.19.1)\n",
            "Requirement already satisfied: pypika>=0.48.9 in /usr/local/lib/python3.10/dist-packages (from chromadb<0.6.0,>=0.4.0->langchain-chroma==0.1.2->-r requirements.txt (line 10)) (0.48.9)\n",
            "Requirement already satisfied: overrides>=7.3.1 in /usr/local/lib/python3.10/dist-packages (from chromadb<0.6.0,>=0.4.0->langchain-chroma==0.1.2->-r requirements.txt (line 10)) (7.7.0)\n",
            "Requirement already satisfied: importlib-resources in /usr/local/lib/python3.10/dist-packages (from chromadb<0.6.0,>=0.4.0->langchain-chroma==0.1.2->-r requirements.txt (line 10)) (6.4.5)\n",
            "Requirement already satisfied: grpcio>=1.58.0 in /usr/local/lib/python3.10/dist-packages (from chromadb<0.6.0,>=0.4.0->langchain-chroma==0.1.2->-r requirements.txt (line 10)) (1.64.1)\n",
            "Requirement already satisfied: bcrypt>=4.0.1 in /usr/local/lib/python3.10/dist-packages (from chromadb<0.6.0,>=0.4.0->langchain-chroma==0.1.2->-r requirements.txt (line 10)) (4.2.0)\n",
            "Requirement already satisfied: typer>=0.9.0 in /usr/local/lib/python3.10/dist-packages (from chromadb<0.6.0,>=0.4.0->langchain-chroma==0.1.2->-r requirements.txt (line 10)) (0.12.5)\n",
            "Requirement already satisfied: kubernetes>=28.1.0 in /usr/local/lib/python3.10/dist-packages (from chromadb<0.6.0,>=0.4.0->langchain-chroma==0.1.2->-r requirements.txt (line 10)) (31.0.0)\n",
            "Requirement already satisfied: mmh3>=4.0.1 in /usr/local/lib/python3.10/dist-packages (from chromadb<0.6.0,>=0.4.0->langchain-chroma==0.1.2->-r requirements.txt (line 10)) (5.0.1)\n",
            "Requirement already satisfied: orjson>=3.9.12 in /usr/local/lib/python3.10/dist-packages (from chromadb<0.6.0,>=0.4.0->langchain-chroma==0.1.2->-r requirements.txt (line 10)) (3.10.10)\n",
            "Requirement already satisfied: httpx>=0.27.0 in /usr/local/lib/python3.10/dist-packages (from chromadb<0.6.0,>=0.4.0->langchain-chroma==0.1.2->-r requirements.txt (line 10)) (0.27.2)\n",
            "Requirement already satisfied: rich>=10.11.0 in /usr/local/lib/python3.10/dist-packages (from chromadb<0.6.0,>=0.4.0->langchain-chroma==0.1.2->-r requirements.txt (line 10)) (13.9.2)\n",
            "Requirement already satisfied: marshmallow<4.0.0,>=3.18.0 in /usr/local/lib/python3.10/dist-packages (from dataclasses-json<0.7,>=0.5.7->langchain-community==0.2.10->-r requirements.txt (line 5)) (3.23.0)\n",
            "Requirement already satisfied: typing-inspect<1,>=0.4.0 in /usr/local/lib/python3.10/dist-packages (from dataclasses-json<0.7,>=0.5.7->langchain-community==0.2.10->-r requirements.txt (line 5)) (0.9.0)\n",
            "Requirement already satisfied: starlette<0.42.0,>=0.40.0 in /usr/local/lib/python3.10/dist-packages (from fastapi<1,>=0.95.2->langchain-chroma==0.1.2->-r requirements.txt (line 10)) (0.41.0)\n",
            "Requirement already satisfied: anyio<5,>=3.5.0 in /usr/local/lib/python3.10/dist-packages (from groq<1,>=0.4.1->langchain-groq==0.1.6->-r requirements.txt (line 4)) (3.7.1)\n",
            "Requirement already satisfied: distro<2,>=1.7.0 in /usr/lib/python3/dist-packages (from groq<1,>=0.4.1->langchain-groq==0.1.6->-r requirements.txt (line 4)) (1.7.0)\n",
            "Requirement already satisfied: sniffio in /usr/local/lib/python3.10/dist-packages (from groq<1,>=0.4.1->langchain-groq==0.1.6->-r requirements.txt (line 4)) (1.3.1)\n",
            "Requirement already satisfied: jsonpatch<2.0,>=1.33 in /usr/local/lib/python3.10/dist-packages (from langchain-core<0.3.0,>=0.2.22->langchain==0.2.10->-r requirements.txt (line 1)) (1.33)\n",
            "Requirement already satisfied: packaging<25,>=23.2 in /usr/local/lib/python3.10/dist-packages (from langchain-core<0.3.0,>=0.2.22->langchain==0.2.10->-r requirements.txt (line 1)) (24.1)\n",
            "Requirement already satisfied: requests-toolbelt<2.0.0,>=1.0.0 in /usr/local/lib/python3.10/dist-packages (from langsmith<0.2.0,>=0.1.17->langchain==0.2.10->-r requirements.txt (line 1)) (1.0.0)\n",
            "Requirement already satisfied: jiter<1,>=0.4.0 in /usr/local/lib/python3.10/dist-packages (from openai<2.0.0,>=1.32.0->langchain-openai==0.1.17->-r requirements.txt (line 2)) (0.6.1)\n",
            "Requirement already satisfied: annotated-types>=0.6.0 in /usr/local/lib/python3.10/dist-packages (from pydantic<3,>=1->langchain==0.2.10->-r requirements.txt (line 1)) (0.7.0)\n",
            "Requirement already satisfied: pydantic-core==2.23.4 in /usr/local/lib/python3.10/dist-packages (from pydantic<3,>=1->langchain==0.2.10->-r requirements.txt (line 1)) (2.23.4)\n",
            "Requirement already satisfied: charset-normalizer<4,>=2 in /usr/local/lib/python3.10/dist-packages (from requests<3,>=2->langchain==0.2.10->-r requirements.txt (line 1)) (3.4.0)\n",
            "Requirement already satisfied: idna<4,>=2.5 in /usr/local/lib/python3.10/dist-packages (from requests<3,>=2->langchain==0.2.10->-r requirements.txt (line 1)) (3.10)\n",
            "Requirement already satisfied: urllib3<3,>=1.21.1 in /usr/local/lib/python3.10/dist-packages (from requests<3,>=2->langchain==0.2.10->-r requirements.txt (line 1)) (2.2.3)\n",
            "Requirement already satisfied: certifi>=2017.4.17 in /usr/local/lib/python3.10/dist-packages (from requests<3,>=2->langchain==0.2.10->-r requirements.txt (line 1)) (2024.8.30)\n",
            "Requirement already satisfied: greenlet!=0.4.17 in /usr/local/lib/python3.10/dist-packages (from SQLAlchemy<3,>=1.4->langchain==0.2.10->-r requirements.txt (line 1)) (3.1.1)\n",
            "Requirement already satisfied: regex>=2022.1.18 in /usr/local/lib/python3.10/dist-packages (from tiktoken<1,>=0.7->langchain-openai==0.1.17->-r requirements.txt (line 2)) (2024.9.11)\n",
            "Requirement already satisfied: soupsieve>1.2 in /usr/local/lib/python3.10/dist-packages (from beautifulsoup4->bs4==0.0.2->-r requirements.txt (line 6)) (2.6)\n",
            "Requirement already satisfied: six in /usr/local/lib/python3.10/dist-packages (from langdetect->unstructured==0.15.0->-r requirements.txt (line 7)) (1.16.0)\n",
            "Requirement already satisfied: click in /usr/local/lib/python3.10/dist-packages (from nltk->unstructured==0.15.0->-r requirements.txt (line 7)) (8.1.7)\n",
            "Requirement already satisfied: joblib in /usr/local/lib/python3.10/dist-packages (from nltk->unstructured==0.15.0->-r requirements.txt (line 7)) (1.4.2)\n",
            "Requirement already satisfied: cryptography>=3.1 in /usr/local/lib/python3.10/dist-packages (from unstructured-client->unstructured==0.15.0->-r requirements.txt (line 7)) (43.0.3)\n",
            "Requirement already satisfied: eval-type-backport<0.3.0,>=0.2.0 in /usr/local/lib/python3.10/dist-packages (from unstructured-client->unstructured==0.15.0->-r requirements.txt (line 7)) (0.2.0)\n",
            "Requirement already satisfied: jsonpath-python<2.0.0,>=1.0.6 in /usr/local/lib/python3.10/dist-packages (from unstructured-client->unstructured==0.15.0->-r requirements.txt (line 7)) (1.0.6)\n",
            "Requirement already satisfied: nest-asyncio>=1.6.0 in /usr/local/lib/python3.10/dist-packages (from unstructured-client->unstructured==0.15.0->-r requirements.txt (line 7)) (1.6.0)\n",
            "Requirement already satisfied: python-dateutil==2.8.2 in /usr/local/lib/python3.10/dist-packages (from unstructured-client->unstructured==0.15.0->-r requirements.txt (line 7)) (2.8.2)\n",
            "Requirement already satisfied: exceptiongroup in /usr/local/lib/python3.10/dist-packages (from anyio<5,>=3.5.0->groq<1,>=0.4.1->langchain-groq==0.1.6->-r requirements.txt (line 4)) (1.2.2)\n",
            "Requirement already satisfied: pyproject_hooks in /usr/local/lib/python3.10/dist-packages (from build>=1.0.3->chromadb<0.6.0,>=0.4.0->langchain-chroma==0.1.2->-r requirements.txt (line 10)) (1.2.0)\n",
            "Requirement already satisfied: tomli>=1.1.0 in /usr/local/lib/python3.10/dist-packages (from build>=1.0.3->chromadb<0.6.0,>=0.4.0->langchain-chroma==0.1.2->-r requirements.txt (line 10)) (2.0.2)\n",
            "Requirement already satisfied: cffi>=1.12 in /usr/local/lib/python3.10/dist-packages (from cryptography>=3.1->unstructured-client->unstructured==0.15.0->-r requirements.txt (line 7)) (1.17.1)\n",
            "Requirement already satisfied: httpcore==1.* in /usr/local/lib/python3.10/dist-packages (from httpx>=0.27.0->chromadb<0.6.0,>=0.4.0->langchain-chroma==0.1.2->-r requirements.txt (line 10)) (1.0.6)\n",
            "Requirement already satisfied: h11<0.15,>=0.13 in /usr/local/lib/python3.10/dist-packages (from httpcore==1.*->httpx>=0.27.0->chromadb<0.6.0,>=0.4.0->langchain-chroma==0.1.2->-r requirements.txt (line 10)) (0.14.0)\n",
            "Requirement already satisfied: jsonpointer>=1.9 in /usr/local/lib/python3.10/dist-packages (from jsonpatch<2.0,>=1.33->langchain-core<0.3.0,>=0.2.22->langchain==0.2.10->-r requirements.txt (line 1)) (3.0.0)\n",
            "Requirement already satisfied: google-auth>=1.0.1 in /usr/local/lib/python3.10/dist-packages (from kubernetes>=28.1.0->chromadb<0.6.0,>=0.4.0->langchain-chroma==0.1.2->-r requirements.txt (line 10)) (2.27.0)\n",
            "Requirement already satisfied: websocket-client!=0.40.0,!=0.41.*,!=0.42.*,>=0.32.0 in /usr/local/lib/python3.10/dist-packages (from kubernetes>=28.1.0->chromadb<0.6.0,>=0.4.0->langchain-chroma==0.1.2->-r requirements.txt (line 10)) (1.8.0)\n",
            "Requirement already satisfied: requests-oauthlib in /usr/local/lib/python3.10/dist-packages (from kubernetes>=28.1.0->chromadb<0.6.0,>=0.4.0->langchain-chroma==0.1.2->-r requirements.txt (line 10)) (1.3.1)\n",
            "Requirement already satisfied: oauthlib>=3.2.2 in /usr/local/lib/python3.10/dist-packages (from kubernetes>=28.1.0->chromadb<0.6.0,>=0.4.0->langchain-chroma==0.1.2->-r requirements.txt (line 10)) (3.2.2)\n",
            "Requirement already satisfied: durationpy>=0.7 in /usr/local/lib/python3.10/dist-packages (from kubernetes>=28.1.0->chromadb<0.6.0,>=0.4.0->langchain-chroma==0.1.2->-r requirements.txt (line 10)) (0.9)\n",
            "Requirement already satisfied: coloredlogs in /usr/local/lib/python3.10/dist-packages (from onnxruntime>=1.14.1->chromadb<0.6.0,>=0.4.0->langchain-chroma==0.1.2->-r requirements.txt (line 10)) (15.0.1)\n",
            "Requirement already satisfied: flatbuffers in /usr/local/lib/python3.10/dist-packages (from onnxruntime>=1.14.1->chromadb<0.6.0,>=0.4.0->langchain-chroma==0.1.2->-r requirements.txt (line 10)) (24.3.25)\n",
            "Requirement already satisfied: protobuf in /usr/local/lib/python3.10/dist-packages (from onnxruntime>=1.14.1->chromadb<0.6.0,>=0.4.0->langchain-chroma==0.1.2->-r requirements.txt (line 10)) (3.20.3)\n",
            "Requirement already satisfied: sympy in /usr/local/lib/python3.10/dist-packages (from onnxruntime>=1.14.1->chromadb<0.6.0,>=0.4.0->langchain-chroma==0.1.2->-r requirements.txt (line 10)) (1.13.1)\n",
            "Requirement already satisfied: deprecated>=1.2.6 in /usr/local/lib/python3.10/dist-packages (from opentelemetry-api>=1.2.0->chromadb<0.6.0,>=0.4.0->langchain-chroma==0.1.2->-r requirements.txt (line 10)) (1.2.14)\n",
            "Requirement already satisfied: importlib-metadata<=8.4.0,>=6.0 in /usr/local/lib/python3.10/dist-packages (from opentelemetry-api>=1.2.0->chromadb<0.6.0,>=0.4.0->langchain-chroma==0.1.2->-r requirements.txt (line 10)) (8.4.0)\n",
            "Requirement already satisfied: googleapis-common-protos~=1.52 in /usr/local/lib/python3.10/dist-packages (from opentelemetry-exporter-otlp-proto-grpc>=1.2.0->chromadb<0.6.0,>=0.4.0->langchain-chroma==0.1.2->-r requirements.txt (line 10)) (1.65.0)\n",
            "Requirement already satisfied: opentelemetry-exporter-otlp-proto-common==1.27.0 in /usr/local/lib/python3.10/dist-packages (from opentelemetry-exporter-otlp-proto-grpc>=1.2.0->chromadb<0.6.0,>=0.4.0->langchain-chroma==0.1.2->-r requirements.txt (line 10)) (1.27.0)\n",
            "Requirement already satisfied: opentelemetry-proto==1.27.0 in /usr/local/lib/python3.10/dist-packages (from opentelemetry-exporter-otlp-proto-grpc>=1.2.0->chromadb<0.6.0,>=0.4.0->langchain-chroma==0.1.2->-r requirements.txt (line 10)) (1.27.0)\n",
            "Requirement already satisfied: opentelemetry-instrumentation-asgi==0.48b0 in /usr/local/lib/python3.10/dist-packages (from opentelemetry-instrumentation-fastapi>=0.41b0->chromadb<0.6.0,>=0.4.0->langchain-chroma==0.1.2->-r requirements.txt (line 10)) (0.48b0)\n",
            "Requirement already satisfied: opentelemetry-instrumentation==0.48b0 in /usr/local/lib/python3.10/dist-packages (from opentelemetry-instrumentation-fastapi>=0.41b0->chromadb<0.6.0,>=0.4.0->langchain-chroma==0.1.2->-r requirements.txt (line 10)) (0.48b0)\n",
            "Requirement already satisfied: opentelemetry-semantic-conventions==0.48b0 in /usr/local/lib/python3.10/dist-packages (from opentelemetry-instrumentation-fastapi>=0.41b0->chromadb<0.6.0,>=0.4.0->langchain-chroma==0.1.2->-r requirements.txt (line 10)) (0.48b0)\n",
            "Requirement already satisfied: opentelemetry-util-http==0.48b0 in /usr/local/lib/python3.10/dist-packages (from opentelemetry-instrumentation-fastapi>=0.41b0->chromadb<0.6.0,>=0.4.0->langchain-chroma==0.1.2->-r requirements.txt (line 10)) (0.48b0)\n",
            "Requirement already satisfied: setuptools>=16.0 in /usr/local/lib/python3.10/dist-packages (from opentelemetry-instrumentation==0.48b0->opentelemetry-instrumentation-fastapi>=0.41b0->chromadb<0.6.0,>=0.4.0->langchain-chroma==0.1.2->-r requirements.txt (line 10)) (75.1.0)\n",
            "Requirement already satisfied: asgiref~=3.0 in /usr/local/lib/python3.10/dist-packages (from opentelemetry-instrumentation-asgi==0.48b0->opentelemetry-instrumentation-fastapi>=0.41b0->chromadb<0.6.0,>=0.4.0->langchain-chroma==0.1.2->-r requirements.txt (line 10)) (3.8.1)\n",
            "Requirement already satisfied: monotonic>=1.5 in /usr/local/lib/python3.10/dist-packages (from posthog>=2.4.0->chromadb<0.6.0,>=0.4.0->langchain-chroma==0.1.2->-r requirements.txt (line 10)) (1.6)\n",
            "Requirement already satisfied: markdown-it-py>=2.2.0 in /usr/local/lib/python3.10/dist-packages (from rich>=10.11.0->chromadb<0.6.0,>=0.4.0->langchain-chroma==0.1.2->-r requirements.txt (line 10)) (3.0.0)\n",
            "Requirement already satisfied: pygments<3.0.0,>=2.13.0 in /usr/local/lib/python3.10/dist-packages (from rich>=10.11.0->chromadb<0.6.0,>=0.4.0->langchain-chroma==0.1.2->-r requirements.txt (line 10)) (2.18.0)\n",
            "Requirement already satisfied: huggingface-hub<1.0,>=0.16.4 in /usr/local/lib/python3.10/dist-packages (from tokenizers>=0.13.2->chromadb<0.6.0,>=0.4.0->langchain-chroma==0.1.2->-r requirements.txt (line 10)) (0.24.7)\n",
            "Requirement already satisfied: shellingham>=1.3.0 in /usr/local/lib/python3.10/dist-packages (from typer>=0.9.0->chromadb<0.6.0,>=0.4.0->langchain-chroma==0.1.2->-r requirements.txt (line 10)) (1.5.4)\n",
            "Requirement already satisfied: mypy-extensions>=0.3.0 in /usr/local/lib/python3.10/dist-packages (from typing-inspect<1,>=0.4.0->dataclasses-json<0.7,>=0.5.7->langchain-community==0.2.10->-r requirements.txt (line 5)) (1.0.0)\n",
            "Requirement already satisfied: httptools>=0.5.0 in /usr/local/lib/python3.10/dist-packages (from uvicorn[standard]>=0.18.3->chromadb<0.6.0,>=0.4.0->langchain-chroma==0.1.2->-r requirements.txt (line 10)) (0.6.4)\n",
            "Requirement already satisfied: uvloop!=0.15.0,!=0.15.1,>=0.14.0 in /usr/local/lib/python3.10/dist-packages (from uvicorn[standard]>=0.18.3->chromadb<0.6.0,>=0.4.0->langchain-chroma==0.1.2->-r requirements.txt (line 10)) (0.21.0)\n",
            "Requirement already satisfied: watchfiles>=0.13 in /usr/local/lib/python3.10/dist-packages (from uvicorn[standard]>=0.18.3->chromadb<0.6.0,>=0.4.0->langchain-chroma==0.1.2->-r requirements.txt (line 10)) (0.24.0)\n",
            "Requirement already satisfied: websockets>=10.4 in /usr/local/lib/python3.10/dist-packages (from uvicorn[standard]>=0.18.3->chromadb<0.6.0,>=0.4.0->langchain-chroma==0.1.2->-r requirements.txt (line 10)) (13.1)\n",
            "Requirement already satisfied: propcache>=0.2.0 in /usr/local/lib/python3.10/dist-packages (from yarl<2.0,>=1.12.0->aiohttp<4.0.0,>=3.8.3->langchain==0.2.10->-r requirements.txt (line 1)) (0.2.0)\n",
            "Requirement already satisfied: pycparser in /usr/local/lib/python3.10/dist-packages (from cffi>=1.12->cryptography>=3.1->unstructured-client->unstructured==0.15.0->-r requirements.txt (line 7)) (2.22)\n",
            "Requirement already satisfied: cachetools<6.0,>=2.0.0 in /usr/local/lib/python3.10/dist-packages (from google-auth>=1.0.1->kubernetes>=28.1.0->chromadb<0.6.0,>=0.4.0->langchain-chroma==0.1.2->-r requirements.txt (line 10)) (5.5.0)\n",
            "Requirement already satisfied: pyasn1-modules>=0.2.1 in /usr/local/lib/python3.10/dist-packages (from google-auth>=1.0.1->kubernetes>=28.1.0->chromadb<0.6.0,>=0.4.0->langchain-chroma==0.1.2->-r requirements.txt (line 10)) (0.4.1)\n",
            "Requirement already satisfied: rsa<5,>=3.1.4 in /usr/local/lib/python3.10/dist-packages (from google-auth>=1.0.1->kubernetes>=28.1.0->chromadb<0.6.0,>=0.4.0->langchain-chroma==0.1.2->-r requirements.txt (line 10)) (4.9)\n",
            "Requirement already satisfied: filelock in /usr/local/lib/python3.10/dist-packages (from huggingface-hub<1.0,>=0.16.4->tokenizers>=0.13.2->chromadb<0.6.0,>=0.4.0->langchain-chroma==0.1.2->-r requirements.txt (line 10)) (3.16.1)\n",
            "Requirement already satisfied: fsspec>=2023.5.0 in /usr/local/lib/python3.10/dist-packages (from huggingface-hub<1.0,>=0.16.4->tokenizers>=0.13.2->chromadb<0.6.0,>=0.4.0->langchain-chroma==0.1.2->-r requirements.txt (line 10)) (2024.6.1)\n",
            "Requirement already satisfied: zipp>=0.5 in /usr/local/lib/python3.10/dist-packages (from importlib-metadata<=8.4.0,>=6.0->opentelemetry-api>=1.2.0->chromadb<0.6.0,>=0.4.0->langchain-chroma==0.1.2->-r requirements.txt (line 10)) (3.20.2)\n",
            "Requirement already satisfied: mdurl~=0.1 in /usr/local/lib/python3.10/dist-packages (from markdown-it-py>=2.2.0->rich>=10.11.0->chromadb<0.6.0,>=0.4.0->langchain-chroma==0.1.2->-r requirements.txt (line 10)) (0.1.2)\n",
            "Requirement already satisfied: humanfriendly>=9.1 in /usr/local/lib/python3.10/dist-packages (from coloredlogs->onnxruntime>=1.14.1->chromadb<0.6.0,>=0.4.0->langchain-chroma==0.1.2->-r requirements.txt (line 10)) (10.0)\n",
            "Requirement already satisfied: mpmath<1.4,>=1.1.0 in /usr/local/lib/python3.10/dist-packages (from sympy->onnxruntime>=1.14.1->chromadb<0.6.0,>=0.4.0->langchain-chroma==0.1.2->-r requirements.txt (line 10)) (1.3.0)\n",
            "Requirement already satisfied: pyasn1<0.7.0,>=0.4.6 in /usr/local/lib/python3.10/dist-packages (from pyasn1-modules>=0.2.1->google-auth>=1.0.1->kubernetes>=28.1.0->chromadb<0.6.0,>=0.4.0->langchain-chroma==0.1.2->-r requirements.txt (line 10)) (0.6.1)\n"
          ]
        }
      ],
      "source": [
        "pip install -r requirements.txt"
      ]
    },
    {
      "cell_type": "code",
      "execution_count": null,
      "metadata": {
        "id": "TtTesYU0kAXl"
      },
      "outputs": [],
      "source": [
        "import os\n",
        "from dotenv import load_dotenv, find_dotenv\n",
        "_ = load_dotenv(find_dotenv())\n",
        "groq_api_key = os.environ[\"GROQ_API_KEY\"]\n",
        "openai_api_key = os.environ[\"OPENAI_API_KEY\"]"
      ]
    },
    {
      "cell_type": "markdown",
      "metadata": {
        "id": "vPZedV1ckAXn"
      },
      "source": [
        "# Import LLAMA3"
      ]
    },
    {
      "cell_type": "code",
      "execution_count": null,
      "metadata": {
        "id": "6Fb0rY45kAXo"
      },
      "outputs": [],
      "source": [
        "from langchain_groq import ChatGroq\n",
        "\n",
        "llamaChatModel = ChatGroq(\n",
        "    model=\"llama3-70b-8192\"\n",
        ")"
      ]
    },
    {
      "cell_type": "markdown",
      "metadata": {
        "id": "X9ep7Ym1kAXo"
      },
      "source": [
        "# Import Mistral"
      ]
    },
    {
      "cell_type": "code",
      "execution_count": null,
      "metadata": {
        "id": "EckWk86ekAXp"
      },
      "outputs": [],
      "source": [
        "mistralChatModel = ChatGroq(\n",
        "    model=\"mixtral-8x7b-32768\"\n",
        ")"
      ]
    },
    {
      "cell_type": "markdown",
      "metadata": {
        "id": "rM5zygGckAXp"
      },
      "source": [
        "# Prompt Generation"
      ]
    },
    {
      "cell_type": "code",
      "execution_count": null,
      "metadata": {
        "id": "76yCVrrqkAXq"
      },
      "outputs": [],
      "source": [
        "messages = [\n",
        "    (\"system\", \"You are an historian expert in the Kennedy family.\"),\n",
        "    (\"human\", \"How many members of the family died tragically?\"),\n",
        "]"
      ]
    },
    {
      "cell_type": "code",
      "execution_count": null,
      "metadata": {
        "colab": {
          "base_uri": "https://localhost:8080/"
        },
        "id": "dJuEyS_ckAXq",
        "outputId": "5ed5bae8-3897-4628-e356-e616c7c211ed"
      },
      "outputs": [
        {
          "output_type": "stream",
          "name": "stdout",
          "text": [
            "The Kennedy family has indeed been plagued by a series of tragic events and untimely deaths. Here's a list of some of the most notable ones:\n",
            "\n",
            "1. Joseph P. Kennedy Jr. (1915-1944): The eldest son of Joseph P. Kennedy Sr. and Rose Kennedy, Joseph Jr. was a naval aviator who died in a plane crash during a secret mission in World War II.\n",
            "\n",
            "2. Kathleen Kennedy (1920-1948): Known as \"Kick,\" Kathleen was the fourth child and second daughter of the Kennedy family. She died in a plane crash in France at the age of 28.\n",
            "\n",
            "3. John F. Kennedy (1917-1963): The 35th President of the United States, John F. Kennedy was assassinated in Dallas, Texas, on November 22, 1963.\n",
            "\n",
            "4. Robert F. Kennedy (1925-1968): John's younger brother and Attorney General of the United States, Robert was assassinated on June 5, 1968, during his presidential campaign.\n",
            "\n",
            "5. David Kennedy (1955-1984): The 12th of the 11 Kennedy siblings, David died of a drug overdose in a hotel room in Palm Beach, Florida, at the age of 28.\n",
            "\n",
            "6. Michael LeMoyne Kennedy (1958-1997): The sixth child of Robert F. Kennedy, Michael died in a skiing accident in Aspen, Colorado, on New Year's Eve 1997.\n",
            "\n",
            "7. John F. Kennedy Jr. (1960-1999): The son of John F. Kennedy and Jacqueline Kennedy Onassis, John Jr. died in a plane crash off the coast of Massachusetts on July 16, 1999, along with his wife Carolyn Bessette Kennedy and her sister Lauren Bessette.\n",
            "\n",
            "8. Kara Kennedy (1960-2011): The daughter of Edward M. Kennedy and Virginia Joan Bennett, Kara died of a heart attack at the age of 51.\n",
            "\n",
            "These tragic events have led to the notion of a \"Kennedy Curse,\" although it's worth noting that the family has also experienced many triumphs and accomplishments throughout their history.\n"
          ]
        }
      ],
      "source": [
        "llamaResponse = llamaChatModel.invoke(messages)\n",
        "print(llamaResponse.content)"
      ]
    },
    {
      "cell_type": "code",
      "execution_count": null,
      "metadata": {
        "colab": {
          "base_uri": "https://localhost:8080/"
        },
        "id": "M75_flxEkAXs",
        "outputId": "d076383b-1f20-48c5-dd2b-687d0d0a51f6"
      },
      "outputs": [
        {
          "output_type": "stream",
          "name": "stdout",
          "text": [
            "The Kennedy family has experienced a significant amount of tragedy throughout its history. Here are some of the most notable deaths:\n",
            "\n",
            "1. Joseph P. Kennedy Sr.'s son, Joseph P. Kennedy Jr., died in a plane explosion during World War II in 1944.\n",
            "2. Joseph P. Kennedy Sr.'s daughter, Kathleen Cavendish, died in a plane crash in 1948.\n",
            "3. President John F. Kennedy was assassinated in Dallas, Texas, in 1963.\n",
            "4. Senator Robert F. Kennedy was assassinated in Los Angeles, California, in 1968.\n",
            "5. President John F. Kennedy's son, Patrick Bouvier Kennedy, died two days after his premature birth in 1963.\n",
            "6. Senator Edward M. Kennedy's daughter, Kara Kennedy Allen, died of a heart attack in 2011.\n",
            "7. Robert F. Kennedy's son, David Anthony Kennedy, died of a drug overdose in 1984.\n",
            "8. Robert F. Kennedy's son, Michael LeMoyne Kennedy, died in a skiing accident in 1997.\n",
            "9. John F. Kennedy's nephew, William Smith, died in a skiing accident in 1996.\n",
            "\n",
            "In total, nine members of the Kennedy family have died tragically.\n"
          ]
        }
      ],
      "source": [
        "mistralResponse = mistralChatModel.invoke(messages)\n",
        "print(mistralResponse.content)"
      ]
    },
    {
      "cell_type": "code",
      "execution_count": null,
      "metadata": {
        "colab": {
          "base_uri": "https://localhost:8080/"
        },
        "id": "KXyBldyYkAXs",
        "outputId": "48224ded-ca8f-4e18-bbc8-79661d4a8b42"
      },
      "outputs": [
        {
          "output_type": "stream",
          "name": "stdout",
          "text": [
            "Here's a curious story about Nikola Tesla:\n",
            "\n",
            "**The Curious Case of Tesla's Death Ray**\n",
            "\n",
            "Nikola Tesla, the brilliant inventor and electrical engineer, was known for his groundbreaking work on alternating current (AC) systems. However, few people know about his lesser-known experiments with a mysterious device he called the \"Death Ray.\"\n",
            "\n",
            "In the 1930s, Tesla claimed to have developed a machine that could transmit electrical energy wirelessly over long distances, without the need for wires. He believed this technology had the potential to revolutionize the world, but he also saw its potential for destruction.\n",
            "\n",
            "Tesla's Death Ray, also known as the \"Teleforce,\" was a device that could allegedly shoot a beam of energy capable of destroying enemy aircraft and even entire cities. According to Tesla, the device used a combination of electromagnetic pulses and X-rays to create an invisible beam of energy that could be directed at a target.\n",
            "\n",
            "The story goes that Tesla had built a prototype of the Death Ray in his laboratory in New York City, and he was preparing to demonstrate it to the US military. However, before he could do so, he received a mysterious visit from a group of agents from the Soviet Union.\n",
            "\n",
            "According to Tesla's own accounts, the Soviet agents offered him a large sum of money to hand over the plans for the Death Ray, but Tesla refused. He believed that the technology was too powerful to fall into the wrong hands, and he was determined to keep it out of the hands of any government or military organization.\n",
            "\n",
            "Tragically, Tesla died in 1943, and his laboratory was raided by the US government. All of his research and papers were seized, including the plans for the Death Ray. The device itself was never found, and many believe that it was either destroyed or hidden away by the government.\n",
            "\n",
            "To this day, the existence of the Death Ray remains a mystery. Some believe that it was just a wild exaggeration by Tesla, while others think that it may have been a real device that was lost to history.\n",
            "\n",
            "The story of Tesla's Death Ray has sparked the imagination of many, and it continues to be a fascinating footnote in the life of one of the most brilliant inventors of the 20th century.\n"
          ]
        }
      ],
      "source": [
        "from langchain_core.prompts import PromptTemplate\n",
        "\n",
        "prompt_template = PromptTemplate.from_template(\n",
        "    \"Tell me a {adjective} story about {topic}\"\n",
        ")\n",
        "\n",
        "llmModelPrompt = prompt_template.format(\n",
        "    adjective=\"curious\",\n",
        "    topic=\"Tesla\"\n",
        ")\n",
        "\n",
        "res = llamaChatModel.invoke(llmModelPrompt)\n",
        "print(res.content)"
      ]
    },
    {
      "cell_type": "code",
      "execution_count": null,
      "metadata": {
        "colab": {
          "base_uri": "https://localhost:8080/"
        },
        "id": "jAo_xvnFkAXt",
        "outputId": "ee4250c2-4c3f-4bc5-95a2-7ab3be0234a1"
      },
      "outputs": [
        {
          "output_type": "stream",
          "name": "stdout",
          "text": [
            "Joseph P. Kennedy, the patriarch of the Kennedy family, had a total of 29 grandchildren. His nine children, including John F. Kennedy, Robert F. Kennedy, Ted Kennedy, and others, had a large brood of kids, making him a proud grandfather of 29!\n"
          ]
        }
      ],
      "source": [
        "# chat completion model\n",
        "\n",
        "from langchain_core.prompts import ChatPromptTemplate\n",
        "\n",
        "chat_template = ChatPromptTemplate.from_messages(\n",
        "    [\n",
        "        (\"system\", \"You are an {profession} expert on {topic}.\"),\n",
        "        (\"human\", \"Hello, Mr. {profession}, can you please answer a question?\"),\n",
        "        (\"ai\", \"Sure!\"),\n",
        "        (\"human\", \"{user_input}\"),\n",
        "    ]\n",
        ")\n",
        "\n",
        "messages = chat_template.format_messages(\n",
        "    profession=\"Historian\",\n",
        "    topic=\"The Kennedy family\",\n",
        "    user_input=\"How many grandchildren had Joseph P. Kennedy?\"\n",
        ")\n",
        "\n",
        "response = llamaChatModel.invoke(messages)\n",
        "print(response.content)"
      ]
    },
    {
      "cell_type": "markdown",
      "metadata": {
        "id": "yogQDUwukAXu"
      },
      "source": [
        "# Few Shot Prompting"
      ]
    },
    {
      "cell_type": "code",
      "execution_count": null,
      "metadata": {
        "id": "QVphm7ORkAXu"
      },
      "outputs": [],
      "source": [
        "from langchain_core.prompts import FewShotChatMessagePromptTemplate\n",
        "\n",
        "examples = [\n",
        "    {\"input\": \"hi!\", \"output\": \"¡hola!\"},\n",
        "    {\"input\": \"bye!\", \"output\": \"¡adiós!\"},\n",
        "]\n",
        "\n",
        "example_prompt = ChatPromptTemplate.from_messages(\n",
        "    [\n",
        "        (\"human\", \"{input}\"),\n",
        "        (\"ai\", \"{output}\"),\n",
        "    ]\n",
        ")\n",
        "\n",
        "few_shot_prompt = FewShotChatMessagePromptTemplate(\n",
        "    example_prompt=example_prompt,\n",
        "    examples=examples,\n",
        ")\n",
        "\n",
        "final_prompt = ChatPromptTemplate.from_messages(\n",
        "    [\n",
        "        (\"system\", \"You are an English-Spanish translator.\"),\n",
        "        few_shot_prompt,\n",
        "        (\"human\", \"{input}\"),\n",
        "    ]\n",
        ")"
      ]
    },
    {
      "cell_type": "markdown",
      "metadata": {
        "id": "mC9ti4rXkAXu"
      },
      "source": [
        "# Build Chains"
      ]
    },
    {
      "cell_type": "code",
      "execution_count": null,
      "metadata": {
        "colab": {
          "base_uri": "https://localhost:8080/"
        },
        "id": "940ntzKtkAXv",
        "outputId": "ad6ea554-d913-463b-aed1-a0f925d68a8e"
      },
      "outputs": [
        {
          "output_type": "stream",
          "name": "stdout",
          "text": [
            "Estoy bien, ¿y tú?\n"
          ]
        }
      ],
      "source": [
        "from langchain_core.prompts import FewShotChatMessagePromptTemplate\n",
        "\n",
        "examples = [\n",
        "    {\"input\": \"hi!\", \"output\": \"¡hola!\"},\n",
        "    {\"input\": \"bye!\", \"output\": \"¡adiós!\"},\n",
        "]\n",
        "\n",
        "example_prompt = ChatPromptTemplate.from_messages(\n",
        "    [\n",
        "        (\"human\", \"{input}\"),\n",
        "        (\"ai\", \"{output}\"),\n",
        "    ]\n",
        ")\n",
        "\n",
        "few_shot_prompt = FewShotChatMessagePromptTemplate(\n",
        "    example_prompt=example_prompt,\n",
        "    examples=examples,\n",
        ")\n",
        "\n",
        "final_prompt = ChatPromptTemplate.from_messages(\n",
        "    [\n",
        "        (\"system\", \"You are an English-Spanish translator.\"),\n",
        "        few_shot_prompt,\n",
        "        (\"human\", \"{input}\"),\n",
        "    ]\n",
        ")\n",
        "\n",
        "\n",
        "chain = final_prompt | llamaChatModel\n",
        "\n",
        "res = chain.invoke({\"input\": \"How are you?\"})\n",
        "print(res.content)"
      ]
    },
    {
      "cell_type": "markdown",
      "metadata": {
        "id": "yq3oPPVhkAXv"
      },
      "source": [
        "# Output Parsers"
      ]
    },
    {
      "cell_type": "code",
      "execution_count": null,
      "metadata": {
        "id": "vFvNdGI6kAXw"
      },
      "outputs": [],
      "source": [
        "from langchain_core.prompts import PromptTemplate\n",
        "from langchain.output_parsers.json import SimpleJsonOutputParser\n",
        "\n",
        "json_prompt = PromptTemplate.from_template(\n",
        "    \"Return a JSON object with an `answer` key that answers the following question: {question}\"\n",
        ")\n",
        "\n",
        "json_parser = SimpleJsonOutputParser()\n",
        "\n",
        "json_chain = json_prompt | llamaChatModel | json_parser"
      ]
    },
    {
      "cell_type": "code",
      "execution_count": null,
      "metadata": {
        "colab": {
          "base_uri": "https://localhost:8080/",
          "height": 35
        },
        "id": "xkS60LmAkAXw",
        "outputId": "fd208532-b427-4328-895f-4f26a5a2bcd8"
      },
      "outputs": [
        {
          "output_type": "execute_result",
          "data": {
            "text/plain": [
              "'Return a JSON object.'"
            ],
            "application/vnd.google.colaboratory.intrinsic+json": {
              "type": "string"
            }
          },
          "metadata": {},
          "execution_count": 28
        }
      ],
      "source": [
        "json_parser.get_format_instructions()"
      ]
    },
    {
      "cell_type": "code",
      "execution_count": null,
      "metadata": {
        "colab": {
          "base_uri": "https://localhost:8080/"
        },
        "id": "VapJd_B1kAXx",
        "outputId": "9ce6c838-7e71-463b-9759-c0cb53d6991a"
      },
      "outputs": [
        {
          "output_type": "execute_result",
          "data": {
            "text/plain": [
              "{'answer': 'Russia'}"
            ]
          },
          "metadata": {},
          "execution_count": 29
        }
      ],
      "source": [
        "res  = json_chain.invoke({\"question\": \"What is the biggest country?\"})\n",
        "res"
      ]
    },
    {
      "cell_type": "markdown",
      "metadata": {
        "id": "PCizLINUkAXx"
      },
      "source": [
        "# Pydantic to define a custom output format"
      ]
    },
    {
      "cell_type": "code",
      "execution_count": null,
      "metadata": {
        "colab": {
          "base_uri": "https://localhost:8080/"
        },
        "id": "KNVNUkc3kAXy",
        "outputId": "6bc0b89d-f53a-4f5e-9b86-2ff5b5c95fd6"
      },
      "outputs": [
        {
          "output_type": "execute_result",
          "data": {
            "text/plain": [
              "{'setup': \"Why don't scientists trust atoms?\",\n",
              " 'punchline': 'Because they make up everything!'}"
            ]
          },
          "metadata": {},
          "execution_count": 30
        }
      ],
      "source": [
        "from langchain_core.output_parsers import JsonOutputParser\n",
        "from langchain_core.prompts import PromptTemplate\n",
        "from langchain_core.pydantic_v1 import BaseModel, Field\n",
        "\n",
        "# Define a Pydantic Object with the desired output format.\n",
        "class Joke(BaseModel):\n",
        "    setup: str = Field(description=\"question to set up a joke\")\n",
        "    punchline: str = Field(description=\"answer to resolve the joke\")\n",
        "\n",
        "# Define the parser referring the Pydantic Object\n",
        "parser = JsonOutputParser(pydantic_object=Joke)\n",
        "\n",
        "# Add the parser format instructions in the prompt definition.\n",
        "prompt = PromptTemplate(\n",
        "    template=\"Answer the user query.\\n{format_instructions}\\n{query}\\n\",\n",
        "    input_variables=[\"query\"],\n",
        "    partial_variables={\"format_instructions\": parser.get_format_instructions()},\n",
        ")\n",
        "\n",
        "# Create a chain with the prompt and the parser\n",
        "chain = prompt | llamaChatModel | parser\n",
        "\n",
        "chain.invoke({\"query\": \"Tell me a joke.\"})"
      ]
    },
    {
      "cell_type": "markdown",
      "metadata": {
        "id": "frFOlzMtkAXy"
      },
      "source": [
        "# RAG"
      ]
    },
    {
      "cell_type": "code",
      "execution_count": null,
      "metadata": {
        "colab": {
          "base_uri": "https://localhost:8080/"
        },
        "id": "Qom_QeH2kAXz",
        "outputId": "5443ccb9-6524-4ba8-a71b-89da377343af"
      },
      "outputs": [
        {
          "output_type": "stream",
          "name": "stdout",
          "text": [
            "I'm not familiar with \"dswithbappy\". Could you please provide more context or information about what \"dswithbappy\" is or what it refers to? Is it a username, a hashtag, a brand, or something else entirely?\n",
            "\n",
            "If you meant to ask about \"DSWITHBAPPY\", I did some research and found that it's a popular YouTube channel created by a gamer and content creator named Bappy. The channel is known for its entertaining and informative content focused on various games, walkthroughs, and tutorials.\n",
            "\n",
            "If this is not what you were looking for, please provide more details, and I'll do my best to help you out!\n"
          ]
        }
      ],
      "source": [
        "messages = [\n",
        "    (\"system\", \"You are an helpful assistant.\"),\n",
        "    (\"human\", \"tell me about dswithbappy\"),\n",
        "]\n",
        "response = llamaChatModel.invoke(messages)\n",
        "print(response.content)"
      ]
    },
    {
      "cell_type": "code",
      "execution_count": null,
      "metadata": {
        "id": "ZUuRbZtzkAXz"
      },
      "outputs": [],
      "source": [
        "# Data Loader\n",
        "# Txt data loading\n",
        "\n",
        "from langchain_community.document_loaders import TextLoader\n",
        "\n",
        "loader = TextLoader(\"be-good.txt\")\n",
        "loaded_data_txt = loader.load()"
      ]
    },
    {
      "cell_type": "code",
      "execution_count": null,
      "metadata": {
        "id": "CkuA_KamkAX0"
      },
      "outputs": [],
      "source": [
        "# CSV loader\n",
        "\n",
        "from langchain_community.document_loaders import CSVLoader\n",
        "\n",
        "loader = CSVLoader('Street_Tree_List.csv')\n",
        "\n",
        "loaded_data_csv = loader.load()\n",
        "# loaded_data_csv"
      ]
    },
    {
      "cell_type": "code",
      "execution_count": null,
      "metadata": {
        "id": "YTQdopyTkAX0"
      },
      "outputs": [],
      "source": [
        "# Pdf data\n",
        "\n",
        "from langchain_community.document_loaders import PyPDFLoader\n",
        "\n",
        "loader = PyPDFLoader('5pages.pdf')\n",
        "\n",
        "loaded_data_pdf = loader.load_and_split()"
      ]
    },
    {
      "cell_type": "code",
      "execution_count": null,
      "metadata": {
        "id": "UdRsMIWbkAX1"
      },
      "outputs": [],
      "source": [
        "# wikipedia data loader\n",
        "\n",
        "from langchain_community.document_loaders import WikipediaLoader\n",
        "\n",
        "loader = WikipediaLoader(query=\"Tesla\", load_max_docs=1)\n",
        "\n",
        "loaded_data_wiki = loader.load()[0].page_content"
      ]
    },
    {
      "cell_type": "code",
      "execution_count": null,
      "metadata": {
        "id": "QZ3XOnT-kAX2"
      },
      "outputs": [],
      "source": [
        "from langchain_core.prompts import ChatPromptTemplate\n",
        "\n",
        "chat_template = ChatPromptTemplate.from_messages(\n",
        "    [\n",
        "        (\"human\", \"Answer this {question}, here is some extra {context}\"),\n",
        "    ]\n",
        ")\n",
        "\n",
        "messages = chat_template.format_messages(\n",
        "    name=\"Tesla\",\n",
        "    question=\"Tell me about tesla\",\n",
        "    context=loaded_data_wiki\n",
        ")"
      ]
    },
    {
      "cell_type": "code",
      "execution_count": null,
      "metadata": {
        "id": "Q8kETd2rkAX2",
        "colab": {
          "base_uri": "https://localhost:8080/",
          "height": 157
        },
        "outputId": "8438d89d-8917-4fe7-d581-c13edbad633a"
      },
      "outputs": [
        {
          "output_type": "execute_result",
          "data": {
            "text/plain": [
              "\"Here's an overview of Tesla, Inc.:\\n\\n**What is Tesla?**\\nTesla, Inc. is an American multinational automotive and clean energy company that designs, manufactures, and sells electric vehicles, energy storage systems, solar panels, and related products and services.\\n\\n**Founding and History**\\nTesla was founded in July 2003 by Martin Eberhard and Marc Tarpenning as Tesla Motors. The company was named after inventor and electrical engineer Nikola Tesla. In February 2004, Elon Musk joined as Tesla's largest shareholder and became the chairman of the board of directors. Musk took an active role in the company and led several funding rounds, eventually becoming CEO in 2008.\\n\\n**Products and Services**\\nTesla's products and services include:\\n\\n* Battery electric vehicles (BEVs): Roadster, Model S, Model X, Model 3, Model Y, Cybertruck, and Tesla Semi\\n* Stationary battery energy storage devices: Powerwall and Powerpack\\n* Solar panels and solar shingles\\n* Related products and services, such as Autopilot driver assistance technology and Supercharger networks\\n\\n**Milestones and Achievements**\\n* 2008: Production of the first car model, the Roadster sports car\\n* 2012: Launch of the Model S sedan\\n* 2015: Launch of the Model X SUV\\n* 2017: Launch of the Model 3 sedan\\n* 2020: Launch of the Model Y crossover\\n* 2022: Launch of the Tesla Semi truck\\n* 2023: Launch of the Cybertruck pickup truck\\n* 2021: Model 3 becomes the first electric car to sell 1 million units globally\\n* 2023: Model Y becomes the best-selling vehicle globally\\n* 2021: Tesla becomes a trillion-dollar company, the seventh U.S. company to do so\\n* 2023: Tesla leads the battery electric vehicle market with a 19.9% share\\n* 2023: Ranked 69th in the Forbes Global 2000\\n* 2024: Becomes the world's most valuable automaker\\n\\n**Controversies and Criticisms**\\nTesla has faced lawsuits, government scrutiny, and journalistic criticism due to allegations of:\\n\\n* Whistleblower retaliation\\n* Worker rights violations, including sexual harassment and anti-union activities\\n* Safety defects leading to dozens of recalls\\n* Lack of a public relations department\\n* Controversial statements from Elon Musk, including overpromising on driving assist technology and product release timelines.\""
            ],
            "application/vnd.google.colaboratory.intrinsic+json": {
              "type": "string"
            }
          },
          "metadata": {},
          "execution_count": 37
        }
      ],
      "source": [
        "response = llamaChatModel.invoke(messages)\n",
        "response.content"
      ]
    },
    {
      "cell_type": "markdown",
      "metadata": {
        "id": "m5bCQdEMkAX2"
      },
      "source": [
        "# RAG Components"
      ]
    },
    {
      "cell_type": "code",
      "execution_count": null,
      "metadata": {
        "id": "o1bU3OatkAX3"
      },
      "outputs": [],
      "source": [
        "# 1. CharacterTextSplitter\n",
        "\n",
        "from langchain_text_splitters import CharacterTextSplitter\n",
        "\n",
        "text_splitter = CharacterTextSplitter(\n",
        "    separator=\"\\n\\n\",\n",
        "    chunk_size=1000,\n",
        "    chunk_overlap=200,\n",
        "    length_function=len,\n",
        "    is_separator_regex=False,\n",
        ")\n",
        "\n",
        "texts = text_splitter.create_documents([loaded_data_txt[0].page_content])"
      ]
    },
    {
      "cell_type": "code",
      "execution_count": null,
      "metadata": {
        "id": "plvJ1ColkAX3",
        "colab": {
          "base_uri": "https://localhost:8080/"
        },
        "outputId": "cd57c43c-1305-488b-9b83-65ebf98d8cc3"
      },
      "outputs": [
        {
          "output_type": "execute_result",
          "data": {
            "text/plain": [
              "2"
            ]
          },
          "metadata": {},
          "execution_count": 39
        }
      ],
      "source": [
        "len(texts)"
      ]
    },
    {
      "cell_type": "code",
      "execution_count": null,
      "metadata": {
        "id": "c-c6PADrkAX4"
      },
      "outputs": [],
      "source": [
        "# 2. RecursiveCharacterTextSplitter\n",
        "\n",
        "from langchain_text_splitters import RecursiveCharacterTextSplitter\n",
        "\n",
        "recursive_splitter = RecursiveCharacterTextSplitter(\n",
        "    chunk_size=26,\n",
        "    chunk_overlap=4\n",
        ")\n",
        "\n",
        "text_rec = recursive_splitter.split_text(loaded_data_txt[0].page_content)"
      ]
    },
    {
      "cell_type": "code",
      "execution_count": null,
      "metadata": {
        "id": "yrqQZpj5kAX4",
        "colab": {
          "base_uri": "https://localhost:8080/"
        },
        "outputId": "76980ef4-b2e6-411d-8cff-954a2226ea2b"
      },
      "outputs": [
        {
          "output_type": "execute_result",
          "data": {
            "text/plain": [
              "815"
            ]
          },
          "metadata": {},
          "execution_count": 41
        }
      ],
      "source": [
        "len(text_rec)"
      ]
    },
    {
      "cell_type": "code",
      "execution_count": null,
      "metadata": {
        "id": "roWeZ3RjkAX4",
        "colab": {
          "base_uri": "https://localhost:8080/"
        },
        "outputId": "0519b862-5797-4058-d3b6-5f57392175c6"
      },
      "outputs": [
        {
          "output_type": "execute_result",
          "data": {
            "text/plain": [
              "['Be good',\n",
              " 'April 2008(This essay is',\n",
              " 'is derived from a talk at',\n",
              " 'at the 2008 Startup',\n",
              " 'School.)About a month']"
            ]
          },
          "metadata": {},
          "execution_count": 42
        }
      ],
      "source": [
        "text_rec[:5]"
      ]
    },
    {
      "cell_type": "markdown",
      "metadata": {
        "id": "nsjlUugqkAX5"
      },
      "source": [
        "# Embeddings"
      ]
    },
    {
      "cell_type": "code",
      "execution_count": null,
      "metadata": {
        "id": "JODcuzqekAX5",
        "colab": {
          "base_uri": "https://localhost:8080/"
        },
        "outputId": "3dff9826-eaa9-40bc-df35-d895b73867c7"
      },
      "outputs": [
        {
          "output_type": "stream",
          "name": "stdout",
          "text": [
            "Collecting sentence-transformers\n",
            "  Downloading sentence_transformers-3.2.1-py3-none-any.whl.metadata (10 kB)\n",
            "Requirement already satisfied: transformers<5.0.0,>=4.41.0 in /usr/local/lib/python3.10/dist-packages (from sentence-transformers) (4.44.2)\n",
            "Requirement already satisfied: tqdm in /usr/local/lib/python3.10/dist-packages (from sentence-transformers) (4.66.5)\n",
            "Requirement already satisfied: torch>=1.11.0 in /usr/local/lib/python3.10/dist-packages (from sentence-transformers) (2.5.0+cu121)\n",
            "Requirement already satisfied: scikit-learn in /usr/local/lib/python3.10/dist-packages (from sentence-transformers) (1.5.2)\n",
            "Requirement already satisfied: scipy in /usr/local/lib/python3.10/dist-packages (from sentence-transformers) (1.13.1)\n",
            "Requirement already satisfied: huggingface-hub>=0.20.0 in /usr/local/lib/python3.10/dist-packages (from sentence-transformers) (0.24.7)\n",
            "Requirement already satisfied: Pillow in /usr/local/lib/python3.10/dist-packages (from sentence-transformers) (10.4.0)\n",
            "Requirement already satisfied: filelock in /usr/local/lib/python3.10/dist-packages (from huggingface-hub>=0.20.0->sentence-transformers) (3.16.1)\n",
            "Requirement already satisfied: fsspec>=2023.5.0 in /usr/local/lib/python3.10/dist-packages (from huggingface-hub>=0.20.0->sentence-transformers) (2024.6.1)\n",
            "Requirement already satisfied: packaging>=20.9 in /usr/local/lib/python3.10/dist-packages (from huggingface-hub>=0.20.0->sentence-transformers) (24.1)\n",
            "Requirement already satisfied: pyyaml>=5.1 in /usr/local/lib/python3.10/dist-packages (from huggingface-hub>=0.20.0->sentence-transformers) (6.0.2)\n",
            "Requirement already satisfied: requests in /usr/local/lib/python3.10/dist-packages (from huggingface-hub>=0.20.0->sentence-transformers) (2.32.3)\n",
            "Requirement already satisfied: typing-extensions>=3.7.4.3 in /usr/local/lib/python3.10/dist-packages (from huggingface-hub>=0.20.0->sentence-transformers) (4.12.2)\n",
            "Requirement already satisfied: networkx in /usr/local/lib/python3.10/dist-packages (from torch>=1.11.0->sentence-transformers) (3.4.2)\n",
            "Requirement already satisfied: jinja2 in /usr/local/lib/python3.10/dist-packages (from torch>=1.11.0->sentence-transformers) (3.1.4)\n",
            "Requirement already satisfied: sympy==1.13.1 in /usr/local/lib/python3.10/dist-packages (from torch>=1.11.0->sentence-transformers) (1.13.1)\n",
            "Requirement already satisfied: mpmath<1.4,>=1.1.0 in /usr/local/lib/python3.10/dist-packages (from sympy==1.13.1->torch>=1.11.0->sentence-transformers) (1.3.0)\n",
            "Requirement already satisfied: numpy>=1.17 in /usr/local/lib/python3.10/dist-packages (from transformers<5.0.0,>=4.41.0->sentence-transformers) (1.26.4)\n",
            "Requirement already satisfied: regex!=2019.12.17 in /usr/local/lib/python3.10/dist-packages (from transformers<5.0.0,>=4.41.0->sentence-transformers) (2024.9.11)\n",
            "Requirement already satisfied: safetensors>=0.4.1 in /usr/local/lib/python3.10/dist-packages (from transformers<5.0.0,>=4.41.0->sentence-transformers) (0.4.5)\n",
            "Requirement already satisfied: tokenizers<0.20,>=0.19 in /usr/local/lib/python3.10/dist-packages (from transformers<5.0.0,>=4.41.0->sentence-transformers) (0.19.1)\n",
            "Requirement already satisfied: joblib>=1.2.0 in /usr/local/lib/python3.10/dist-packages (from scikit-learn->sentence-transformers) (1.4.2)\n",
            "Requirement already satisfied: threadpoolctl>=3.1.0 in /usr/local/lib/python3.10/dist-packages (from scikit-learn->sentence-transformers) (3.5.0)\n",
            "Requirement already satisfied: MarkupSafe>=2.0 in /usr/local/lib/python3.10/dist-packages (from jinja2->torch>=1.11.0->sentence-transformers) (3.0.2)\n",
            "Requirement already satisfied: charset-normalizer<4,>=2 in /usr/local/lib/python3.10/dist-packages (from requests->huggingface-hub>=0.20.0->sentence-transformers) (3.4.0)\n",
            "Requirement already satisfied: idna<4,>=2.5 in /usr/local/lib/python3.10/dist-packages (from requests->huggingface-hub>=0.20.0->sentence-transformers) (3.10)\n",
            "Requirement already satisfied: urllib3<3,>=1.21.1 in /usr/local/lib/python3.10/dist-packages (from requests->huggingface-hub>=0.20.0->sentence-transformers) (2.2.3)\n",
            "Requirement already satisfied: certifi>=2017.4.17 in /usr/local/lib/python3.10/dist-packages (from requests->huggingface-hub>=0.20.0->sentence-transformers) (2024.8.30)\n",
            "Downloading sentence_transformers-3.2.1-py3-none-any.whl (255 kB)\n",
            "\u001b[2K   \u001b[90m━━━━━━━━━━━━━━━━━━━━━━━━━━━━━━━━━━━━━━━━\u001b[0m \u001b[32m255.8/255.8 kB\u001b[0m \u001b[31m18.5 MB/s\u001b[0m eta \u001b[36m0:00:00\u001b[0m\n",
            "\u001b[?25hInstalling collected packages: sentence-transformers\n",
            "Successfully installed sentence-transformers-3.2.1\n"
          ]
        }
      ],
      "source": [
        "pip install sentence-transformers"
      ]
    },
    {
      "cell_type": "code",
      "execution_count": null,
      "metadata": {
        "id": "Do83eTZLkAX6",
        "colab": {
          "base_uri": "https://localhost:8080/",
          "height": 615,
          "referenced_widgets": [
            "48a49e5cea244614a370e828e551d3a6",
            "add3b85b2d764be6915a2f853cbbe74d",
            "5e89f2977ce54186b33e7e39b33d6d43",
            "acf4a8c8085741e68b91db14a968ad31",
            "cd4342761c75400b965472eae99d1643",
            "8ae06b19c9d74771a2cf4d16485e6594",
            "b4edc8279cae4a808e08676639ca8379",
            "01c1547b6faa4849a25a3ebebd4d8f7f",
            "f9c8f71e2f304f4185f29a51906bb4c3",
            "e83797e7a0354a43b7c6c8fbbb2e636b",
            "02e5608a63544a25829172593b04848d",
            "4a40399635a0432da5af773c662f3b37",
            "6e785cb9687644d79939187d342beaa2",
            "2b5fb4c372154ded87222847848ed5ab",
            "cea621c0a370426b82a37b04e30f67e8",
            "424edd9be3fe4e0ab7cdf2f42e93197c",
            "d9073fac5aee4669a518a167265495ec",
            "7dbf9f32c8014bf9899211efdaf5a758",
            "e322ceb639684a7cba22b7c57c39aeba",
            "43a2f7c9c1484d26945123a559a974d5",
            "db1e87f7fbaa4be4a071f37c8662bb2c",
            "26bd62b17b1a43baa91dbf3cf3e49a11",
            "2eea23c6a8604b008bfb0d1fc3de8db4",
            "589422397ce441dabfff05157621b2a3",
            "93173f6809204c7bad4594caeef83477",
            "720de8f7e6474760b11153f7c916c281",
            "0b1ac271bbf14b84b5458dd772d2b2cf",
            "2533bb584344427eac3b1cdbce0461b4",
            "59e6f81ff8864106a667ca768dc213a1",
            "f7f1e7f7084b49bfb102e087b3c64c64",
            "8ca9e3fbaa9c4aff8df7e419298a45b6",
            "ae5d5978c26147e79b8357957bf43027",
            "a853498651f443d7a15eb2cd9e7e33bd",
            "fcf84ce22b76431e9a4794932e60cfca",
            "84d7e26c45864909a87587e8329ea92d",
            "4507f9e4e1d94ed78a73f2f97e0246bb",
            "165db0338ba54b5abb0e13ecd21f4740",
            "e271bf49c8a944ae84bc008cb9279550",
            "2f7a4f3cebbf47be996aea812a7d8ffa",
            "a1ec9db37b7843abb140e883a0893457",
            "4bca528592304aceaa9e5eed3f672460",
            "3ec0e72f5053457889ed04b033c1d65b",
            "73e45388dee34f43973dafbe76b66cf1",
            "4724f0a5bfc94824a578eb0a4e1ecf34",
            "cdfe68acea9e466e83b94eefdaea81bf",
            "e5d4a43a257f4e4ab04b175235d62986",
            "16bc346db0f745cf992249417b84960a",
            "a72e774d78a04fe8a7241e2ec8cf84bd",
            "a334fa749a3246de8f42b9e6d42efbd3",
            "bc15dec3d82143fe8511d7439a419743",
            "3335b26f9e3f45fdae10c1ede49307c2",
            "f894e9a420c4486989c28567f3663db2",
            "0e68940d6f6f49169492bfa982ab0b0d",
            "c381cb0914ec4204ac05165fcde6c9ca",
            "b3a801a1e17a45fe80cb38dd002529c5",
            "70b7efd3a70746a5b35fbd956ed22a83",
            "18ef9ae7c01c4eeaaa032ae851f954bb",
            "6cb7a84a8c46436bb80efbd2f9d2f349",
            "b2e112766cef4f2f85db49c6a7c8d889",
            "8133f06d9b1d4a4988a45d533265373e",
            "3776044a446e48b0b8962dec3b130ce1",
            "a67bb736444b47a5b09966003cdc0d05",
            "2888b416359d490f8df7dc24182318eb",
            "a8b9a09c817c4bf6a5c393ce43e8a29f",
            "acba0e56053a4cf69d1cd57ec1bd7b02",
            "3f754d039b8a4da9b47497e45a3173da",
            "72355413f085480db35a3c68a8ce5c36",
            "0f9eec80df6e48a4820d0c84300dd48a",
            "b3419a6a65ba4bdab47f599db35be55e",
            "ebc8e1bc2298459e80788a4695d297e8",
            "97c84211c69646998555c551677f25d6",
            "2b5aafbb51a94b468524b136600d3f5e",
            "7f5d5720f8b34d81823008044fa15dd8",
            "4605d773f20d48899263ca94042d71b9",
            "8a342b34655c481f9e853598ebd482a9",
            "150cdbb1ed5147da8eecf5a1f809aba6",
            "571e6f11ee10482a8aa3e2059e33ae9f",
            "716aabb7f36d4948bc30704745d7e5d6",
            "0fe10943fc974fe4841a1b2fc58045e2",
            "6b29ec233e814fd6b68e3c99074ca5ea",
            "c9ae17ce59c54506856908c5b1aac350",
            "827add6137c040b58b65a01764517630",
            "4cd710718acd4fbba3b7b18627f2a2d6",
            "abdc9e9a9c944a7daa01c697d49ed80f",
            "b03e830ecedc4efaabb4d3e530664c57",
            "37771013a41049e1bf11452e9012d799",
            "7daabcc6b62e49a7a35f0210621c4d09",
            "383d5580a7e74f4b9893f3546bc7d759",
            "ac56e5fcf1624199b38904a6dc991ec9",
            "beefb8fb350243a4aa84fe09213b308d",
            "9915c53c57e8425493eb8a95a9b8b2e5",
            "fd01dcb8e72640a8b1f7e6e58981f70e",
            "c6631499bcab47c3b38317a01a0c5481",
            "b0d96506a8cc49e99886f260934b7a7e",
            "c006e63ebfda439dbb543f71aecd3dac",
            "360756c9667e41d5b1be140f637ec413",
            "90762a04a61042ee8fdbb4c3be25da1a",
            "1f844411d31f499bab84631800888bbf",
            "494667db7061482e9cd7584302511f26",
            "5eda0f63ed514c5ba844003e56399466",
            "a5b09937cfa7487a9d8423eb713b4c83",
            "154f31407bf84c4686cdd0f1475d9162",
            "db66e6bf584a466fadf5f1de751bfbf1",
            "491a423714ab4b8faf3cd1e3783e48bc",
            "fb9a4369784f4fdfbc519aa6b3e948dd",
            "1df0db967f1149659a1e286143384002",
            "f9cc376c6cc94bd3aa2369bd700791ce",
            "526205080a464230ba6ac2db91ab5828",
            "ffa83cf027754de3a231177e6cc3ec8c",
            "4d48bc953eb2434db805ea0546e15ced",
            "ae16c30cae9b4716a19ed0afa734ab17",
            "37c1b832803842f6b6621e9ff7696967",
            "c9dd762259ab46f6bb7ab6502454c664",
            "6af245d27d034fc39e5f20792520d3ec",
            "d3c1158274be42908984542927d7f780",
            "9be22847cbbc42dd97097f08715de077",
            "9d368e8fae0644469d7c230ffb19b2c8",
            "970d032fdd364604b8dd89ef3c91832d",
            "aa12da08f4ef482089340e9513683d45",
            "30ce32e5f89a439ebbbbae314663f519",
            "c1a6f3c265d3491299177b25452d4624"
          ]
        },
        "outputId": "5a03a529-e000-4150-c270-9587d31ee5b9"
      },
      "outputs": [
        {
          "output_type": "stream",
          "name": "stderr",
          "text": [
            "<ipython-input-44-9d475b5c6d6d>:5: LangChainDeprecationWarning: The class `HuggingFaceEmbeddings` was deprecated in LangChain 0.2.2 and will be removed in 0.3.0. An updated version of the class exists in the langchain-huggingface package and should be used instead. To use it run `pip install -U langchain-huggingface` and import as `from langchain_huggingface import HuggingFaceEmbeddings`.\n",
            "  embedding_model_st = HuggingFaceEmbeddings(model_name=\"sentence-transformers/all-MiniLM-L6-v2\")\n",
            "/usr/local/lib/python3.10/dist-packages/sentence_transformers/cross_encoder/CrossEncoder.py:13: TqdmExperimentalWarning: Using `tqdm.autonotebook.tqdm` in notebook mode. Use `tqdm.tqdm` instead to force console mode (e.g. in jupyter console)\n",
            "  from tqdm.autonotebook import tqdm, trange\n",
            "/usr/local/lib/python3.10/dist-packages/huggingface_hub/utils/_token.py:89: UserWarning: \n",
            "The secret `HF_TOKEN` does not exist in your Colab secrets.\n",
            "To authenticate with the Hugging Face Hub, create a token in your settings tab (https://huggingface.co/settings/tokens), set it as secret in your Google Colab and restart your session.\n",
            "You will be able to reuse this secret in all of your notebooks.\n",
            "Please note that authentication is recommended but still optional to access public models or datasets.\n",
            "  warnings.warn(\n"
          ]
        },
        {
          "output_type": "display_data",
          "data": {
            "text/plain": [
              "modules.json:   0%|          | 0.00/349 [00:00<?, ?B/s]"
            ],
            "application/vnd.jupyter.widget-view+json": {
              "version_major": 2,
              "version_minor": 0,
              "model_id": "48a49e5cea244614a370e828e551d3a6"
            }
          },
          "metadata": {}
        },
        {
          "output_type": "display_data",
          "data": {
            "text/plain": [
              "config_sentence_transformers.json:   0%|          | 0.00/116 [00:00<?, ?B/s]"
            ],
            "application/vnd.jupyter.widget-view+json": {
              "version_major": 2,
              "version_minor": 0,
              "model_id": "4a40399635a0432da5af773c662f3b37"
            }
          },
          "metadata": {}
        },
        {
          "output_type": "display_data",
          "data": {
            "text/plain": [
              "README.md:   0%|          | 0.00/10.7k [00:00<?, ?B/s]"
            ],
            "application/vnd.jupyter.widget-view+json": {
              "version_major": 2,
              "version_minor": 0,
              "model_id": "2eea23c6a8604b008bfb0d1fc3de8db4"
            }
          },
          "metadata": {}
        },
        {
          "output_type": "display_data",
          "data": {
            "text/plain": [
              "sentence_bert_config.json:   0%|          | 0.00/53.0 [00:00<?, ?B/s]"
            ],
            "application/vnd.jupyter.widget-view+json": {
              "version_major": 2,
              "version_minor": 0,
              "model_id": "fcf84ce22b76431e9a4794932e60cfca"
            }
          },
          "metadata": {}
        },
        {
          "output_type": "display_data",
          "data": {
            "text/plain": [
              "config.json:   0%|          | 0.00/612 [00:00<?, ?B/s]"
            ],
            "application/vnd.jupyter.widget-view+json": {
              "version_major": 2,
              "version_minor": 0,
              "model_id": "cdfe68acea9e466e83b94eefdaea81bf"
            }
          },
          "metadata": {}
        },
        {
          "output_type": "display_data",
          "data": {
            "text/plain": [
              "model.safetensors:   0%|          | 0.00/90.9M [00:00<?, ?B/s]"
            ],
            "application/vnd.jupyter.widget-view+json": {
              "version_major": 2,
              "version_minor": 0,
              "model_id": "70b7efd3a70746a5b35fbd956ed22a83"
            }
          },
          "metadata": {}
        },
        {
          "output_type": "display_data",
          "data": {
            "text/plain": [
              "tokenizer_config.json:   0%|          | 0.00/350 [00:00<?, ?B/s]"
            ],
            "application/vnd.jupyter.widget-view+json": {
              "version_major": 2,
              "version_minor": 0,
              "model_id": "72355413f085480db35a3c68a8ce5c36"
            }
          },
          "metadata": {}
        },
        {
          "output_type": "display_data",
          "data": {
            "text/plain": [
              "vocab.txt:   0%|          | 0.00/232k [00:00<?, ?B/s]"
            ],
            "application/vnd.jupyter.widget-view+json": {
              "version_major": 2,
              "version_minor": 0,
              "model_id": "716aabb7f36d4948bc30704745d7e5d6"
            }
          },
          "metadata": {}
        },
        {
          "output_type": "display_data",
          "data": {
            "text/plain": [
              "tokenizer.json:   0%|          | 0.00/466k [00:00<?, ?B/s]"
            ],
            "application/vnd.jupyter.widget-view+json": {
              "version_major": 2,
              "version_minor": 0,
              "model_id": "ac56e5fcf1624199b38904a6dc991ec9"
            }
          },
          "metadata": {}
        },
        {
          "output_type": "display_data",
          "data": {
            "text/plain": [
              "special_tokens_map.json:   0%|          | 0.00/112 [00:00<?, ?B/s]"
            ],
            "application/vnd.jupyter.widget-view+json": {
              "version_major": 2,
              "version_minor": 0,
              "model_id": "5eda0f63ed514c5ba844003e56399466"
            }
          },
          "metadata": {}
        },
        {
          "output_type": "stream",
          "name": "stderr",
          "text": [
            "/usr/local/lib/python3.10/dist-packages/transformers/tokenization_utils_base.py:1601: FutureWarning: `clean_up_tokenization_spaces` was not set. It will be set to `True` by default. This behavior will be depracted in transformers v4.45, and will be then set to `False` by default. For more details check this issue: https://github.com/huggingface/transformers/issues/31884\n",
            "  warnings.warn(\n"
          ]
        },
        {
          "output_type": "display_data",
          "data": {
            "text/plain": [
              "1_Pooling/config.json:   0%|          | 0.00/190 [00:00<?, ?B/s]"
            ],
            "application/vnd.jupyter.widget-view+json": {
              "version_major": 2,
              "version_minor": 0,
              "model_id": "ae16c30cae9b4716a19ed0afa734ab17"
            }
          },
          "metadata": {}
        },
        {
          "output_type": "stream",
          "name": "stdout",
          "text": [
            "[[-0.09151120483875275, 0.025147806853055954, 0.0020471338648349047, 0.0051811011508107185, -0.015277049504220486, -0.052715811878442764, 0.01655740849673748, 0.0423915721476078, -0.02921575866639614, 0.006825124844908714, -0.02768443338572979, 0.007252856623381376, -0.01055940706282854, -0.04191432148218155, 0.032309070229530334, 0.03700307384133339, -0.053152453154325485, -0.009931975975632668, -0.10471197962760925, -0.03906849026679993, 0.03552796319127083, 0.07590004801750183, -0.10407810658216476, 0.04460618272423744, -0.02690211869776249, -0.03199000656604767, -0.006866887677460909, 0.06416885554790497, -0.0711832046508789, -0.017583826556801796, 0.01255409512668848, 0.12845945358276367, -0.022762082517147064, 0.053721778094768524, 0.0291697196662426, 0.048878032714128494, -0.04694394767284393, -0.07912521064281464, 0.0451648086309433, 0.023789480328559875, -0.01188875176012516, 0.011806285940110683, -0.017342569306492805, 0.03931812196969986, 0.053550079464912415, -0.07429265975952148, 0.025027133524417877, -0.08755506575107574, 0.02724350057542324, 0.07727697491645813, -0.04784003272652626, -0.005763443186879158, -0.05466698482632637, -0.053438249975442886, 0.0860077291727066, 0.007336603477597237, 0.009187502786517143, -0.09906995296478271, 0.05315801501274109, -0.06462110579013824, -0.09006998687982559, 0.044651422649621964, -0.11563212424516678, -0.021690145134925842, 0.01754830963909626, -0.03665600344538689, -0.03430088981986046, -0.05340953916311264, -0.05064152553677559, -0.08569807559251785, -0.009529397822916508, 0.025036511942744255, 0.032452620565891266, 0.05344986915588379, -0.013130987994372845, -0.08975657820701599, 0.05662141367793083, 0.0019699842669069767, 0.030657315626740456, 0.0064316303469240665, 0.07051172852516174, -0.04839269444346428, 0.015184290707111359, -0.027121325954794884, -0.009402980096638203, -0.0502878874540329, 0.05843986198306084, 0.00206200685352087, -0.028014151379466057, -0.03393222391605377, -0.11036338657140732, 0.07281813025474548, -0.0274397861212492, 0.0014599001733586192, -0.05286676809191704, -0.10202641040086746, 0.09397844970226288, 0.04555303975939751, -0.12457724660634995, 0.15514768660068512, 0.03557373583316803, 0.0378553532063961, 0.025922536849975586, 0.04260687157511711, -0.05040373280644417, 0.06678252667188644, -0.05466316267848015, 0.08857452869415283, -0.02877749130129814, -0.01159888505935669, 0.02344679646193981, -0.012094794772565365, 0.04150666669011116, 0.04544737562537193, 0.08052343875169754, 0.05635218694806099, 0.04778021201491356, 0.03006739355623722, 0.13186821341514587, -0.0656856968998909, 0.004145550075918436, -0.049214355647563934, -0.019922731444239616, -0.028346959501504898, 0.011700747534632683, -0.024010924622416496, -0.03260243684053421, -1.991259512302123e-33, 0.062299199402332306, -0.00987209938466549, 0.03463200107216835, 0.041094906628131866, -0.04445026069879532, -0.02461070567369461, -0.07881554216146469, -0.02085677906870842, 0.0049642170779407024, 0.004908435977995396, -0.03617079183459282, -0.042870890349149704, -0.07707693427801132, 0.039736535400152206, -0.00028862818726338446, 0.07861853390932083, 0.01263459213078022, -0.01067595649510622, 0.0305588748306036, 0.03103943169116974, -0.03237273916602135, -0.014470468275249004, 0.02795693464577198, 0.02750936709344387, -0.013136298395693302, -0.007209999952465296, 0.07515048235654831, -0.12660905718803406, 0.05345902964472771, 0.08321760594844818, -0.015919415280222893, 0.018245473504066467, -0.016796575859189034, 0.03819092735648155, -0.06201847642660141, -0.03644639626145363, -0.011947959661483765, -0.04613091051578522, -0.04972507432103157, 0.05344908684492111, 0.023402558639645576, 0.005951438099145889, 0.060299187898635864, -0.03883715346455574, 0.011735673993825912, -0.0005574498791247606, 0.07979854941368103, 0.031749945133924484, 0.07367043942213058, -0.005358528811484575, -0.11065538972616196, -0.007001226767897606, -0.049186233431100845, 0.023270100355148315, -0.06374984234571457, -0.012503096833825111, 0.012850180268287659, -0.02814897522330284, 0.06173688545823097, 0.026269420981407166, 0.07686817646026611, 0.09612702578306198, -0.05344963073730469, -0.0569726936519146, -0.09623764455318451, -0.008492665365338326, 0.0661914050579071, -0.014823399484157562, 0.053441114723682404, 0.002422313904389739, 0.0054549407213926315, 0.008450206369161606, 0.004888167139142752, 0.0025905491784214973, 0.0009861226426437497, 0.03382901847362518, 0.0169814545661211, -0.011704891920089722, -0.0050368052907288074, -0.04812752828001976, -0.0020701978355646133, -0.006697073578834534, -0.07066415995359421, -0.022107919678092003, 0.009296393021941185, -0.07361134141683578, -0.00294798007234931, -0.09922734647989273, -0.14645715057849884, -0.008813523687422276, 0.01688310317695141, 0.056122709065675735, 0.09880466759204865, -0.039899297058582306, -0.00953820999711752, 1.0215145090981529e-33, 0.14579911530017853, 0.009960534051060677, -0.024336013942956924, -0.02542058378458023, 0.03425237536430359, -0.002652792725712061, 0.004149381536990404, 0.05901958420872688, -0.06796852499246597, 0.02860764041543007, 0.004739989992231131, 0.015115824528038502, 0.05504809692502022, -0.01988070271909237, 0.04234762862324715, 0.08743768185377121, 0.026790807023644447, 0.04032435640692711, -0.038883961737155914, 0.027903642505407333, -0.08030319958925247, -0.03400104492902756, -0.006011015269905329, -0.06215986609458923, 0.04875317960977554, -0.0024327009450644255, 0.07537820190191269, 0.051051683723926544, -0.10411735624074936, -0.011104987002909184, 0.002903157379478216, 0.057383086532354355, -0.027404924854636192, -0.0053302873857319355, 0.04306594654917717, 0.009135149419307709, 0.011324958875775337, -0.03752722218632698, 0.0165630541741848, -0.03738563880324364, -0.022031156346201897, 0.0014768512919545174, 0.007139027584344149, 0.06618745625019073, -0.04125579819083214, -0.005604014731943607, 0.054452937096357346, -0.02530093304812908, -0.04718054085969925, 0.015727976337075233, -0.08216187357902527, -0.06643767654895782, 0.04537375643849373, 0.007874011993408203, -0.03452311083674431, 0.09003134816884995, 0.06255939602851868, 0.019906843081116676, 0.08142157644033432, -0.01210637204349041, 0.03163398057222366, 0.05527063459157944, 0.02223346009850502, 0.11265005171298981, 0.028902463614940643, 0.036018431186676025, -0.0563276968896389, -0.059204477816820145, -0.03194595128297806, -0.018858270719647408, 0.034312039613723755, -0.02033029869198799, 0.07562771439552307, -0.008240493014454842, 0.009969962760806084, -0.005974728614091873, 0.057787273079156876, 0.05027877539396286, 0.01579347625374794, 0.03539189323782921, 0.014925469644367695, -0.008465541526675224, 0.028696417808532715, 0.02533898688852787, 0.0062115732580423355, 0.03119754232466221, 0.06677698343992233, 0.04585818573832512, 0.01416768692433834, -0.06819609552621841, 0.03386004641652107, 0.0628034919500351, 0.01752823404967785, 0.01406087726354599, 0.034219782799482346, -1.7425243470370333e-08, 0.02590901218354702, -0.0015170903643593192, 0.13716062903404236, 0.045282211154699326, 0.04866832122206688, 0.048494160175323486, -0.026318345218896866, -0.05913405120372772, -0.041504278779029846, -0.012950255535542965, 0.04486388340592384, 0.060181524604558945, -0.08090692013502121, -0.02298896014690399, 0.07353054732084274, 0.008819250389933586, -0.004131841007620096, 0.06105373799800873, -0.05856001749634743, -0.07941018044948578, 0.006867941003292799, 0.07912298291921616, -0.0044903927482664585, -0.07611896097660065, 0.02210538648068905, -0.02488645352423191, -0.013001653365790844, -0.02404758706688881, -0.06338229030370712, -0.022533955052495003, -0.005546052940189838, 0.13573865592479706, -0.03181435167789459, 0.004699938464909792, -0.016835644841194153, -0.004079743754118681, -0.048442237079143524, -0.006069730501621962, 0.0568925105035305, -0.09979325532913208, -0.057511650025844574, -0.10030482709407806, -0.009373213164508343, -0.06461704522371292, -0.008519708178937435, 0.040548358112573624, 0.019014902412891388, -0.04364655911922455, 0.02250170335173607, -0.11012448370456696, -0.011613811366260052, 0.002382658887654543, 0.06422428041696548, 0.05645544454455376, 0.05996239557862282, 0.05353106930851936, 0.031024068593978882, -0.00387814873829484, -0.06688223779201508, 0.008501114323735237, 0.11071614176034927, 0.027430709451436996, 0.037342049181461334, 0.038428787142038345], [-0.06062675267457962, 0.03996487706899643, 0.03222621977329254, 0.04889141395688057, -0.0596354715526104, -0.03785910829901695, 0.02825147472321987, 0.004900613334029913, -0.11331264674663544, -0.020299863070249557, 3.4209555451525375e-05, 0.017897099256515503, 0.018761686980724335, -0.05242687836289406, 0.029521606862545013, -0.018175439909100533, 0.00871917512267828, -0.02320041134953499, -0.06915299594402313, 0.027422752231359482, -0.014862320385873318, 0.018731767311692238, -0.022800372913479805, 0.05117558687925339, -0.0632849782705307, -0.04479145258665085, 0.010129233822226524, 0.032685939222574234, -0.005297149997204542, -0.09583696722984314, 0.047355927526950836, 0.050354328006505966, 0.049734652042388916, 0.008949768729507923, 0.003274925285950303, 0.07771863788366318, -0.09297504276037216, -0.09170220792293549, 0.05826316028833389, 0.00990989338606596, -0.03804522007703781, -0.03432811424136162, -0.007856600917875767, -0.02784900553524494, 0.03519044816493988, -0.012621358036994934, 0.04099208489060402, 0.046216029673814774, 0.08070948719978333, 0.034180935472249985, -0.05178849771618843, -0.08015698194503784, -0.03536633774638176, 0.011565144173800945, 0.09396159648895264, 0.015265945345163345, -0.012349979020655155, -0.07250305265188217, 0.021060192957520485, -0.0584147684276104, -0.05763041600584984, 0.05515489727258682, -0.08671802282333374, -0.006799526046961546, -0.0038426867686212063, -0.04690109193325043, -0.06027670204639435, -0.03376993164420128, -0.03267110884189606, -0.08209514617919922, -0.01523197814822197, 0.025279957801103592, 0.01668200083076954, 0.010993021540343761, -0.02612992748618126, -0.011190344579517841, 0.036074552685022354, -0.0345177985727787, 0.0037632917519658804, 0.032188426703214645, 0.07422684878110886, -0.10349365323781967, -0.04457632452249527, 0.02779281884431839, 0.01137505006045103, -0.051788073033094406, -0.0001210497721331194, 0.05095401778817177, -0.013812175951898098, 0.008541480638086796, -0.09894081950187683, 0.027659384533762932, -0.0029499009251594543, 0.005343361757695675, -0.10500779747962952, -0.024444149807095528, 0.07436124980449677, -0.004617068450897932, -0.12045327574014664, 0.21692399680614471, 0.04609670862555504, 0.07664235681295395, 0.010792029090225697, 0.028308553621172905, 0.004615489859133959, 0.008347855880856514, -0.04132258519530296, 0.03399687260389328, -0.009922785684466362, -0.0018660235218703747, 0.027108365669846535, -0.07936114072799683, -0.02121655084192753, 0.016248546540737152, 0.09238579124212265, 0.010637015104293823, 0.013636427000164986, 0.04203299060463905, 0.032374307513237, 0.015043308958411217, 0.03156163543462753, -0.012956248596310616, 0.0017212246311828494, -0.03273487836122513, 0.030968276783823967, 0.03313368558883667, 0.03214716911315918, -5.287251999801736e-33, 0.04286189004778862, -0.02132752351462841, 0.04053321108222008, 0.16180261969566345, -0.03336511552333832, -0.020322160795331, -0.08442311733961105, -0.06767876446247101, 0.02421480417251587, 0.04265300929546356, 0.037910573184490204, 0.03480159863829613, -0.03333191201090813, 0.05501651391386986, -0.010417044162750244, 0.12672026455402374, -0.08970557898283005, -0.004267923068255186, 0.006538218818604946, 0.05907473713159561, -0.054560981690883636, 0.006281351204961538, -0.0001055365864885971, 0.08289428800344467, 0.04447358101606369, -0.053788382560014725, 0.017514050006866455, -0.09734584391117096, 0.05902900546789169, 0.017121240496635437, -0.049317244440317154, -0.04104113206267357, 0.054750051349401474, 0.05056111887097359, -0.0016082923393696547, 0.013423747383058071, -0.012572088278830051, -0.07411835342645645, -0.04542737826704979, 0.016718711704015732, -0.018879316747188568, 0.015913017094135284, 0.03656213358044624, -0.03208956867456436, -0.009641370736062527, -0.0031991146970540285, -0.009919466450810432, 0.03166341781616211, 0.01912173442542553, 0.01632731780409813, -0.0798826590180397, 0.0060915094800293446, -0.12969525158405304, 0.07819492369890213, -0.005386107135564089, -0.004313402343541384, -0.014904297888278961, -0.07830660045146942, 0.023435425013303757, 0.007965993136167526, 0.028237726539373398, 0.11823856085538864, -0.01983633264899254, -0.04079426825046539, -0.06763189285993576, -0.05537465959787369, 0.025278860703110695, 0.011163684539496899, 0.07181931287050247, -0.03861979767680168, -0.01622449979186058, 0.0025498829782009125, 0.026239808648824692, -0.0001460122293792665, 0.015126114711165428, 0.06191793829202652, -0.0023360708728432655, 0.011862934567034245, 0.03418036550283432, -0.0438966378569603, 0.018482960760593414, 0.03669067472219467, -0.03635808452963829, -0.002461488824337721, 0.053920257836580276, 0.05264909192919731, -0.042325008660554886, -0.07394533604383469, -0.022695820778608322, -0.024290982633829117, -0.03895903378725052, 0.01196544710546732, 0.0421062633395195, 0.015436092391610146, -0.009303704835474491, 3.1560142528617104e-33, 0.14902324974536896, 0.05690702795982361, -0.06930220872163773, -0.06397080421447754, -0.029458768665790558, 0.01630675606429577, -0.0028758470434695482, 0.12071435898542404, -0.1291549652814865, 0.004261672031134367, 0.011203770525753498, 0.005081551615148783, 0.065405935049057, 0.001107984920963645, 0.005307881161570549, 0.04406193643808365, 0.11975955218076706, 0.07111997157335281, 0.003931778483092785, -0.0020517262164503336, -0.07050074636936188, 0.006956018041819334, -0.05332420766353607, 0.0023437279742211103, -0.013932818546891212, -0.0004418347089085728, 0.034551456570625305, 0.04465335234999657, -0.08800063282251358, -0.03393014892935753, 0.01770380698144436, 0.03612542152404785, 0.022355692461133003, 0.020452870056033134, 0.014374314807355404, 0.0601087249815464, 0.0019547916017472744, -0.09220760315656662, 0.015191638842225075, -0.06839082390069962, -0.0076576354913413525, 0.05577831715345383, 0.04451758787035942, 0.12397045642137527, -0.059862010180950165, -0.05497511103749275, -0.035318560898303986, 0.009409304708242416, -0.07715878635644913, 0.01843079924583435, -0.10571166127920151, -0.08388803899288177, 0.048004359006881714, 0.005781520623713732, -0.0012158036697655916, 0.03657708317041397, -0.004940525162965059, 0.02868812531232834, 0.018000787124037743, 0.0025266397278755903, 0.029271051287651062, 0.1054331511259079, 0.06043769791722298, 0.11594730615615845, 0.023098185658454895, -0.007534658536314964, -0.014323581010103226, -0.008946821093559265, 0.016099555417895317, -0.020256727933883667, 0.012610782869160175, 0.006962987128645182, -0.02188727632164955, 0.0369318462908268, -0.021264996379613876, -0.009002062492072582, 0.017507223412394524, -0.03573461249470711, -0.021257802844047546, 0.03791641443967819, -0.019998757168650627, 0.0812605693936348, 0.0030604100320488214, -0.010006324388086796, 0.019334498792886734, 0.012084463611245155, 0.05653250589966774, 0.03235020488500595, -0.012662166729569435, -0.033300336450338364, 0.01568756438791752, 0.04826471954584122, -0.013922682031989098, 0.0008363776141777635, -0.0335664302110672, -1.7430977550247917e-08, -0.015357390977442265, 0.008691741153597832, -0.005853007547557354, 0.06636650860309601, 0.04410697892308235, 0.0007423449424095452, -0.12307000905275345, -0.026625342667102814, -0.042757485061883926, -0.029000140726566315, 0.05828636884689331, 0.0923273116350174, -0.10259485989809036, 0.0035923062823712826, 0.1045960858464241, 0.0897253230214119, -0.04603222385048866, 0.012232894077897072, -0.048952214419841766, -0.08820415288209915, 0.0036063881125301123, 0.017376050353050232, -0.0003171078278683126, -0.08190950751304626, 0.006240579299628735, -0.04076959565281868, -0.03043469414114952, -0.027091676369309425, -0.0023031565360724926, 0.007042804732918739, 0.011233992874622345, 0.1769687384366989, -0.03897449001669884, 0.01217569038271904, -0.031897466629743576, -0.06547671556472778, 0.009799696505069733, 0.030594879761338234, 0.06007937714457512, -0.02171356789767742, -0.07669170945882797, 0.0015763213159516454, -0.024440938606858253, -0.11330055445432663, -0.041555605828762054, 0.04032218083739281, 0.04185234755277634, -0.06607229262590408, 0.0021789015736430883, -0.08875718712806702, -0.028063789010047913, 0.0497698038816452, 0.07761367410421371, 0.05518750846385956, 0.08816490322351456, 0.0855398178100586, 0.03169439733028412, -0.025365125387907028, -0.021951373666524887, 0.017133688554167747, 0.0501638799905777, 0.04106556624174118, 0.020828571170568466, 0.010376127436757088], [-0.09540747106075287, -0.022653749212622643, 0.0319756381213665, 0.049644533544778824, -0.04207196086645126, -0.08670670539140701, 0.09396471083164215, -0.033271633088588715, 0.07516373693943024, -0.02806687355041504, -0.03311118856072426, -0.11703367531299591, 0.05015861615538597, 0.02488408237695694, -0.03405455872416496, -0.05961154028773308, 0.036393698304891586, 0.011630449444055557, -0.009462011978030205, -0.09177210181951523, -0.07764927297830582, 0.03163343667984009, -0.015202080830931664, 0.019338732585310936, -0.03098992444574833, -0.04049035906791687, -0.01367206685245037, 0.08727559447288513, -0.10663798451423645, -0.11100306361913681, -0.009631884284317493, -0.03033447265625, 0.08510328829288483, 0.057757534086704254, 0.07430492341518402, -0.007668032310903072, -0.11539317667484283, 0.04884811490774155, 0.0094106150791049, 0.02582438662648201, 0.011774769052863121, -0.06499882787466049, -0.05613073706626892, 0.003833100665360689, -0.0034731910564005375, -0.006495396140962839, 0.04583171382546425, 0.04968142881989479, 0.015988821163773537, 0.04153788834810257, -0.06658290326595306, -0.09823504835367203, -0.008523725904524326, 0.017048003152012825, -0.01237714383751154, -0.05855575203895569, -0.011699795722961426, 0.07066042721271515, 0.048530884087085724, 0.019833432510495186, -0.01622510328888893, -0.011347050778567791, -0.07275166362524033, 0.0487302727997303, -0.026966996490955353, 0.08696605265140533, 0.026531817391514778, -0.012403982691466808, -0.00048775417963042855, -0.03168296441435814, -0.003524911357089877, 0.02756553515791893, 0.053710851818323135, 0.007994224317371845, 0.002406126819550991, -0.01400244515389204, 0.026059485971927643, -0.06001998111605644, 0.02041715942323208, 0.04129922389984131, -0.030164508149027824, 0.002269056625664234, -0.14583708345890045, -0.07138270884752274, 0.011320631951093674, -0.0547109954059124, 0.05199852213263512, 0.06363959610462189, -0.06036575511097908, -0.002376776421442628, -0.03274271637201309, 0.05248992145061493, 0.06960047781467438, -0.027062034234404564, 0.00405107019469142, -0.012432429008185863, 0.07869970798492432, -0.026556354016065598, -0.1458796262741089, 0.11608633399009705, -0.02913530543446541, 0.012613450177013874, -0.0035695750266313553, 0.01924188621342182, 0.07166745513677597, -0.0036575321573764086, -0.02173823118209839, 0.014610525220632553, -0.015397487208247185, -0.03448887914419174, -0.018254488706588745, -0.04666784778237343, -0.07599803060293198, 0.06366246938705444, 0.04521757364273071, 0.03610846400260925, 0.057840462774038315, -0.07506099343299866, 0.050143349915742874, -0.02629401721060276, 0.025861630216240883, 0.012969216331839561, -0.05918895825743675, -0.022324128076434135, -0.0945408046245575, 0.057632941752672195, -0.010783246718347073, -3.951118631757906e-33, 0.0034924561623483896, 0.006810213904827833, 0.08087452501058578, 0.08537652343511581, -0.015222594141960144, 0.02489301934838295, -0.018631303682923317, 0.022157317027449608, -0.07550476491451263, 0.053173087537288666, 0.08771087229251862, 0.01844545640051365, -0.026285523548722267, 0.04707644507288933, -0.05260757356882095, 0.06424064934253693, 0.004247176926583052, 0.06220177561044693, -0.038691189140081406, 0.07865260541439056, -0.01296534389257431, 0.0032002748921513557, -0.011076820082962513, 0.0764467790722847, 0.034694671630859375, -0.09525437653064728, 0.04149171710014343, -0.07144609838724136, 0.06021864712238312, 0.03130846843123436, 0.016705196350812912, 0.058957941830158234, 0.007101509720087051, 0.024094603955745697, 0.0358361080288887, 0.00522326584905386, -0.007813681848347187, -0.02227039262652397, 0.020603854209184647, 0.07739955186843872, 0.029784848913550377, 0.0043795485980808735, 0.004232355859130621, 0.04914885014295578, -0.060895320028066635, -0.04575981944799423, 0.04485395923256874, -0.0023881688248366117, -0.059215154498815536, -0.034370385110378265, -0.029125643894076347, -0.0009754156926646829, -0.11358270794153214, -0.0005420496454462409, -0.1263222098350525, -0.02241864800453186, 0.03308311104774475, 0.005450484808534384, -0.15151047706604004, -0.04180316627025604, -0.006906586233526468, 0.015689944848418236, -0.001745689078234136, 0.002427684608846903, -0.020279008895158768, -0.013593623414635658, 0.014171918854117393, -0.03903934732079506, 0.048936210572719574, -0.061040885746479034, -0.046372540295124054, -0.004438978154212236, 0.048030927777290344, 0.04354579746723175, -0.021033499389886856, 0.012251471169292927, -0.04495922476053238, 0.03880101069808006, -0.014588386751711369, -0.026840252801775932, 0.010862069204449654, 0.04366851970553398, -0.019764438271522522, -0.01305641420185566, -0.06399239599704742, -0.06644600629806519, -0.001263397396542132, -0.08825423568487167, -0.08299674093723297, -0.02709074877202511, 0.007352604530751705, 0.001831958768889308, 0.15230320394039154, 0.013256642036139965, -0.09822976589202881, 7.83924050087433e-34, -0.013631461188197136, -0.06951949745416641, -0.048688340932130814, 0.04442363977432251, 0.04778671637177467, -0.0838962122797966, 0.020152313634753227, 0.11088721454143524, -0.01484230998903513, 0.07051024585962296, -0.014209468849003315, -0.0756818875670433, 0.03735018149018288, -0.0018827110761776567, 0.07176561653614044, 0.019786151126027107, 0.008550451137125492, -0.0029687867499887943, -0.005939556751400232, -0.04185518994927406, -0.07265689969062805, 0.07683051377534866, -0.054052721709012985, -0.021596182137727737, 0.02976415492594242, -0.023846883326768875, 0.05102862790226936, 0.03326106071472168, -0.021084463223814964, -0.061384417116642, -0.07999170571565628, 0.03154188394546509, -0.053868453949689865, 0.01228358969092369, -0.12527616322040558, 0.032653819769620895, 0.019193941727280617, 0.01671818271279335, 0.026504363864660263, -0.0777554139494896, -0.011196602135896683, 0.059472016990184784, -0.03066336177289486, 0.10835340619087219, 0.0495104119181633, -0.07090295851230621, -0.0916639044880867, 0.030036140233278275, 0.03128829225897789, 0.04182995483279228, -0.03382132947444916, -0.007089490536600351, -0.037527281790971756, 0.023987872526049614, 0.09655740112066269, 0.006388467736542225, 0.05578066408634186, 0.026867637410759926, -0.047306448221206665, 0.01830429956316948, 0.007278853561729193, 0.06484697014093399, -0.00023258477449417114, -0.0039043964352458715, 0.056682243943214417, 0.009631076827645302, -0.017921697348356247, -0.005305027589201927, 0.003195362165570259, -0.029501434415578842, -0.0026540756225585938, -0.02484877035021782, 0.029649987816810608, -0.008154336363077164, -0.039320673793554306, 0.04208238050341606, 0.060897719115018845, -0.027828721329569817, -0.0362735316157341, 0.08887308835983276, -0.05116254836320877, 0.030266523361206055, -0.03665250912308693, 0.0012397042009979486, 0.04986109957098961, -0.00678241066634655, 0.06474628299474716, 0.08096340298652649, -0.011818342842161655, -0.0037407956551760435, 0.043575435876846313, 0.07607567310333252, 0.01393264252692461, -0.09187520295381546, -0.10614784806966782, -1.755847733875271e-08, -0.014557924121618271, 0.028193674981594086, -0.03204183652997017, 0.02771066129207611, 0.04238053783774376, 0.060111142694950104, 0.0029528620652854443, 0.06409110128879547, -0.012795047834515572, -0.021081166341900826, 0.03795484080910683, 0.050605155527591705, -0.0029515144415199757, -0.030303319916129112, 0.045958977192640305, -0.08091137558221817, 0.02690785937011242, 0.05161209776997566, 0.02069428376853466, -0.020426347851753235, 0.023081740364432335, -0.0423358753323555, 0.033071648329496384, -0.07998026907444, -0.017364241182804108, 0.016536615788936615, 0.0975663810968399, 0.06350991129875183, -0.03666381910443306, 0.04435423016548157, 0.025726299732923508, 0.13079610466957092, 0.006368095055222511, 0.028687000274658203, -0.05124746635556221, -0.0629078596830368, 0.029077813029289246, 0.01797853410243988, 0.054429907351732254, 0.08244123309850693, -0.004116469528526068, 0.036592524498701096, 0.11409592628479004, -0.020561931654810905, -0.051309313625097275, 0.07974913716316223, 0.04490585997700691, -0.048114027827978134, -0.010293466039001942, -0.01294315978884697, -0.012375296093523502, 0.013658404350280762, 0.052323851734399796, 0.04902636632323265, 0.07730823755264282, 0.02868887409567833, 0.01900317706167698, 0.05493154749274254, -0.0056030298583209515, -0.06721936166286469, 0.09619370102882385, -0.01274010632187128, -0.008307144045829773, -0.05495152249932289], [-0.07107613980770111, 0.014709451235830784, -0.06486177444458008, -0.02437613531947136, -0.04617007449269295, -0.02260756865143776, 0.10185492783784866, 0.06018036603927612, 0.03457793965935707, -0.004718138836324215, 0.028231918811798096, -0.04307001084089279, -0.05799340456724167, 0.12188100069761276, -0.009986478835344315, -0.0013195978244766593, 0.07927728444337845, 0.041552282869815826, -0.024412523955106735, 0.0246882364153862, 0.01781085506081581, 0.016244987025856972, 0.040381256490945816, -0.041428375989198685, -0.029804930090904236, 0.039119478315114975, 0.031000403687357903, -0.05930434167385101, -0.028924180194735527, -0.03572101145982742, 0.02072816714644432, -0.08343931287527084, 0.03851764649152756, 0.0089004747569561, 0.022107651457190514, -0.02131444215774536, -0.039650559425354004, 0.004222087562084198, 0.05531111732125282, -0.054447125643491745, -0.07977717369794846, -0.001461965381167829, 0.027242369949817657, 0.0624840147793293, 0.07205480337142944, -0.04583579674363136, -0.016809141263365746, -0.004674148745834827, 0.005091676488518715, -0.019773460924625397, 0.012853860855102539, -0.005915351677685976, -0.04770689085125923, 0.03569846600294113, 0.036550380289554596, 0.015276801772415638, -0.09256177395582199, -0.017700674012303352, -0.015443414449691772, -0.009557100012898445, 0.0024707766715437174, 0.022033022716641426, -0.00824155006557703, 0.08531872928142548, 0.007715766783803701, 0.07541133463382721, 0.06918938457965851, 0.016836557537317276, -0.012027123011648655, -0.005669011268764734, 0.00835279282182455, -0.032486580312252045, -0.005769153591245413, -0.05478593707084656, 0.04664228856563568, -0.021752702072262764, -0.016939561814069748, 0.09038447588682175, -0.045852262526750565, -0.0746668130159378, 0.016112111508846283, -0.1207987517118454, -0.11344200372695923, 0.05780080333352089, 0.057520583271980286, 0.04532129690051079, -0.0438816137611866, -0.01354522816836834, -0.025934679433703423, 0.05083228275179863, -0.05351341888308525, 0.04435615614056587, -0.023543445393443108, 0.024541325867176056, -0.08517555892467499, -0.02079533040523529, -0.01980574242770672, -0.0027887821197509766, -0.12713328003883362, 0.12269860506057739, -0.00582480151206255, 0.012893558479845524, -0.09545296430587769, 0.06326768547296524, 0.08530906587839127, 0.012235264293849468, 0.03041965886950493, -0.050765011459589005, -0.017059672623872757, -0.04741939157247543, -0.03450851887464523, 0.0241007748991251, -0.004794401582330465, 0.04076697677373886, 0.08662198483943939, -0.10063015669584274, -0.02260855957865715, 0.06235364452004433, 0.049090296030044556, 0.006779781077057123, 0.04766064137220383, 0.03331463411450386, -0.10267677158117294, 0.00999836903065443, -0.07517167180776596, -0.01870313100516796, 0.02847433090209961, -2.2902452147368256e-33, 0.025411462411284447, -0.0037871443200856447, 0.11120928823947906, 0.021283242851495743, -0.03583647310733795, 0.0009302321122959256, -0.04627763107419014, 0.06190057471394539, -0.04377393797039986, -0.025246139615774155, -0.07417870312929153, -0.16288715600967407, -0.006086906883865595, -0.008202221244573593, -0.010004338808357716, 0.079171322286129, 0.026265276595950127, 0.06381473690271378, 0.10284160822629929, 0.009765916503965855, -0.10613410919904709, 0.10250329971313477, 0.039107631891965866, 0.022023377940058708, -0.021467022597789764, 0.01638520322740078, 0.0626525953412056, 0.028492553159594536, 0.08150169253349304, 0.015464143827557564, -0.0356576070189476, -0.010495040565729141, 0.051156189292669296, 0.007883735932409763, 0.04865409806370735, 0.01942524127662182, -0.032142866402864456, -0.04889817535877228, -0.030311327427625656, 0.019087158143520355, -0.03470759093761444, 0.05032953992486, -0.06804873794317245, 0.003960354253649712, -0.06035056337714195, -0.011521021835505962, 0.056019969284534454, 0.04219093546271324, -0.01830865629017353, 0.00952529814094305, -0.0027526465710252523, 0.01501299999654293, -0.06949133425951004, 0.06003181263804436, -0.07726537436246872, 0.03184748813509941, 0.042590633034706116, -0.022889094427227974, -0.06795187294483185, 1.624831566005014e-05, -0.07012756913900375, -0.033447735011577606, -0.07105966657400131, 0.033185265958309174, -0.03875754401087761, 0.012438018806278706, -0.06427089124917984, -0.05312058702111244, -0.09426915645599365, 0.033271610736846924, -0.05358739569783211, 0.003687032964080572, 0.0058690691366791725, 0.011654868721961975, -0.03361861780285835, 0.02016592025756836, -0.005873807240277529, 0.03525099903345108, -0.10320156067609787, 0.00438482454046607, -0.05436926335096359, 0.0640568882226944, 0.057958055287599564, -0.000367463770089671, -0.04987068101763725, 0.0037904400378465652, 0.024924715980887413, -0.10787701606750488, 0.1492362916469574, 0.1607080101966858, -0.09020116180181503, -0.12436521798372269, 0.022961450740695, -0.07846060395240784, -0.030979031696915627, 1.1568706632144238e-33, -0.019010484218597412, -0.03148188069462776, -0.02746916376054287, -0.003922188188880682, 0.04245166480541229, 0.01090000756084919, -0.10125363618135452, 0.026911048218607903, 0.03899722546339035, 0.01934202015399933, -0.022347256541252136, -0.0009471036610193551, 0.10785932093858719, -0.021594630554318428, -0.00923912413418293, 0.07253658026456833, 0.004292857833206654, -0.027025002986192703, 0.05204593390226364, 0.03416758030653, 0.12131436914205551, -0.020349854603409767, 0.046841491013765335, 0.01626100204885006, -0.029286649078130722, 0.06757409870624542, -0.029678745195269585, 0.06724705547094345, -0.023721251636743546, -0.023971039801836014, 0.013120167888700962, -0.013490088284015656, 0.0009170197881758213, -0.011561076156795025, -0.05327233672142029, 0.18751820921897888, 0.027430439367890358, -0.00040400816942565143, 0.018609417602419853, 0.015853432938456535, -0.005017515737563372, 0.006975681520998478, 0.02150295302271843, 0.0613667368888855, -0.018927162513136864, -0.0020782900974154472, 0.011293655261397362, 0.07604754716157913, -0.0755525454878807, -0.012801683507859707, -0.0962982028722763, 0.03589466214179993, -0.08469316363334656, -0.08112691342830658, -0.022700060158967972, -0.012597421184182167, -0.040984731167554855, 0.02320452220737934, 0.1000821590423584, 0.019098561257123947, 0.034266356378793716, 0.02281220071017742, -0.02189469151198864, 0.005412794183939695, -0.021201299503445625, -0.06440411508083344, -0.06159864366054535, 0.05222807079553604, -0.006424235180020332, -0.04840787500143051, 0.05200299620628357, -0.024803081527352333, -0.0141263697296381, 0.0256781168282032, -0.011695503257215023, -0.03618617355823517, -0.03821578994393349, -0.07838455587625504, -0.014383066445589066, -0.02252405695617199, -0.010920224711298943, 0.02125043235719204, -0.01999529078602791, 0.07633946090936661, -0.0553240142762661, 0.06172693893313408, 0.06965404748916626, 0.0011785272508859634, -0.02504899725317955, -0.06052641570568085, 0.008785036392509937, 0.06869839131832123, 0.037159983068704605, 0.018045248463749886, 0.005601986311376095, -1.360135026828857e-08, 0.006269451696425676, 0.02227221429347992, -0.09206007421016693, -0.010152051225304604, -0.06368377804756165, 0.010486876592040062, -0.016362175345420837, 0.01691744662821293, 0.02589993365108967, -0.006938599981367588, 0.031638991087675095, -0.04042915999889374, -0.02732141874730587, -0.06591571122407913, -0.016669556498527527, 0.009603828191757202, -0.059828612953424454, -0.06719551980495453, -0.023736676201224327, 0.032568998634815216, 0.04344915971159935, 0.03203275054693222, 0.037991221994161606, -0.07852767407894135, 0.013033139519393444, -0.04071469604969025, 0.05456766113638878, 0.03308461979031563, 0.04783857241272926, 0.11267558485269547, 0.05540629103779793, -0.017975572496652603, -0.003408036893233657, -0.016809171065688133, 0.013501973822712898, 0.006779280956834555, 0.013069119304418564, 0.017625892534852028, 0.10318996012210846, 0.06717429310083389, -0.044854357838630676, 0.08053898066282272, -0.09912025928497314, 0.07017199695110321, 0.00970418006181717, -0.0084938770160079, 0.06512916088104248, -0.015189037658274174, 0.03926084563136101, -0.06895839422941208, 0.021069293841719627, -0.022291533648967743, 0.0006890008226037025, 0.023930802941322327, 0.008874347433447838, -0.021624134853482246, -0.008861865848302841, 0.029316874220967293, -0.032853882759809494, 0.0007635707734152675, 0.0038453699089586735, -0.08365495502948761, 0.0381399542093277, 0.0681154876947403], [-0.07642780244350433, 0.02040136605501175, 0.02372194081544876, 0.002992460737004876, -0.07283715903759003, -0.08591622859239578, 0.08192561566829681, 0.013409793376922607, -0.013903958722949028, -0.03314097970724106, 0.0001945383264683187, 0.011193614453077316, 0.007639183662831783, 0.03425266966223717, -0.007735160645097494, -0.04005560278892517, 0.03163523226976395, 0.016687920317053795, -0.06984876096248627, 0.10170003026723862, 0.017528999596834183, 0.048546914011240005, 0.03358050435781479, -0.005730619188398123, -0.0642218366265297, 0.013792513869702816, 0.03457288444042206, -0.016382971778512, 0.021351372823119164, -0.027904769405722618, 0.06804488599300385, 0.011440102942287922, 0.054161205887794495, 0.035898104310035706, 0.04512876272201538, 0.06222971901297569, -0.047463178634643555, -0.07543440908193588, 0.046666741371154785, -0.016233306378126144, -0.036225635558366776, -0.016365474089980125, -0.019440334290266037, -0.006311624776571989, 0.04284439608454704, -0.033587440848350525, -0.015186780132353306, -0.0093400739133358, 0.03903159499168396, -0.04219203069806099, -0.018549442291259766, -0.012166613712906837, 0.001879275543615222, 0.01973511464893818, 0.022659042850136757, 0.06843544542789459, -0.02223087288439274, -0.025004930794239044, -0.03495975583791733, -0.02797507867217064, -0.04406876862049103, 0.057189617305994034, -0.06080581620335579, 0.026816504076123238, -0.051297515630722046, 0.03393951803445816, 0.029329467564821243, 0.054001834243535995, -0.058580707758665085, -0.03825506940484047, 0.004020303953438997, 0.030662422999739647, 0.027136819437146187, 0.000603238120675087, 0.02612507902085781, -0.01541474275290966, -0.007396408822387457, -0.015452954918146133, 0.013142382726073265, -0.008136746473610401, 0.02109806425869465, -0.14605258405208588, -0.06715221703052521, 0.052819158881902695, 0.03763921558856964, -0.04001513123512268, -0.025690311565995216, 0.01762654073536396, -0.003797318087890744, -0.0054793874733150005, -0.12574288249015808, 0.09786273539066315, -0.07238222658634186, 0.041969723999500275, -0.13671882450580597, -0.034204158931970596, 0.03551330044865608, 0.02479635179042816, -0.22131672501564026, 0.1687924712896347, 0.015220674686133862, 0.09194876253604889, -0.09623248875141144, 0.024379117414355278, 0.05099884048104286, 0.03448614105582237, -0.05650430917739868, 0.03832418844103813, -0.005983087699860334, -0.04902581498026848, -0.004848581273108721, -0.000300092448014766, 0.014279120601713657, 0.017718981951475143, 0.10597401112318039, -0.06636352837085724, -0.026835579425096512, 0.03897706791758537, 0.039847247302532196, 0.0016631163889542222, 0.0357208326458931, 0.017798103392124176, -0.07957329601049423, -0.012554308399558067, -0.030443333089351654, -0.012850449420511723, 0.047751154750585556, -3.8809662309267854e-33, 0.0003000668657477945, 0.011823590844869614, 0.06880190223455429, 0.12626978754997253, -0.06816916912794113, -0.012301546521484852, -0.06477273255586624, 0.0091253612190485, -0.014210308901965618, -0.012033401988446712, 0.06180424615740776, -0.04596507176756859, 0.004894990473985672, 0.013713491149246693, -0.04230496659874916, 0.14851009845733643, -0.07478208839893341, 0.0197426900267601, 0.08467863500118256, 0.048897258937358856, -0.10967665910720825, 0.03683682903647423, 0.0761813223361969, 0.08463605493307114, 0.01772068627178669, -0.03609795495867729, 0.06666310131549835, -0.07113716006278992, 0.11537577211856842, 0.024297937750816345, -0.028942614793777466, -0.019720863550901413, 0.07565419375896454, 0.029034383594989777, -0.00010407609806861728, 0.042957477271556854, -0.00029630953213199973, -0.05768078938126564, -0.07622552663087845, 0.024248775094747543, 0.007728668861091137, 0.045676179230213165, -0.006044159643352032, -0.0461873821914196, -0.027415411546826363, -0.05087551474571228, 0.04937021806836128, 0.0687539130449295, 0.04084153473377228, -0.023151997476816177, -0.05732788145542145, 0.011904215440154076, -0.1010216698050499, 0.1267334371805191, -0.038563650101423264, -0.00023391269496642053, -0.001915373490191996, -0.05618702992796898, -0.04075140878558159, -0.030314983800053596, -0.00946539081633091, -0.004475957248359919, -0.04517478123307228, -0.0015716248890385032, -0.031485363841056824, -0.004374913405627012, -0.026277858763933182, -0.010366791859269142, -0.015843283385038376, 0.015480068512260914, -0.051721543073654175, -0.020611559972167015, -0.05042165145277977, -0.017665136605501175, -0.04661846533417702, 0.04525201395153999, -0.002303913701325655, 0.03123694658279419, -0.01660379022359848, -0.0028278413228690624, -0.005643094424158335, 0.0498960018157959, 0.004814675077795982, -0.009686024859547615, -0.0073580192402005196, 0.016442809253931046, -0.025367816910147667, -0.08903946727514267, 0.05885005369782448, 0.0748446062207222, -0.007833623327314854, -0.08313529193401337, 0.05277828872203827, -0.016595520079135895, -0.017497705295681953, 2.7529763618861113e-33, 0.11351948231458664, 0.017470525577664375, -0.04361743852496147, -0.10336200892925262, -0.0006447019404731691, -0.030183574184775352, -0.06071885675191879, 0.106032595038414, -0.07559487223625183, -0.02797655574977398, 0.010637802071869373, -0.016237914562225342, 0.09346995502710342, -0.016123419627547264, -0.03761541098356247, 0.04245511069893837, 0.12295868247747421, 0.04185989871621132, 0.08688327670097351, 0.03126664087176323, -0.0038382108323276043, -0.004539163317531347, -0.0503380224108696, 0.026561308652162552, -0.0603058896958828, 0.040031954646110535, -0.02014102227985859, 0.03416842967271805, -0.055009543895721436, -0.0489920899271965, 0.029942039400339127, 0.039832599461078644, -0.031324271112680435, 0.027161234989762306, -0.052534330636262894, 0.12887857854366302, 0.011649681255221367, -0.1036042645573616, 0.004516463726758957, -0.0523701049387455, -0.03888702765107155, 0.024372972548007965, 0.022458262741565704, 0.05929259583353996, -0.061232972890138626, -0.005323699209839106, -0.00715877627953887, 0.036314137279987335, -0.12763796746730804, 0.01830771379172802, -0.09672986716032028, -0.012696857564151287, 0.011335722170770168, -0.04303683713078499, -0.02109287492930889, -0.009926947765052319, 0.0236282367259264, 0.003018587827682495, 0.010712826624512672, -0.0007073696469888091, 0.016321789473295212, 0.11975107342004776, 0.022606313228607178, 0.07617414742708206, 0.023176074028015137, -0.037061069160699844, -0.03355691209435463, -0.013117717579007149, -0.025350939482450485, -0.00611605029553175, 0.07028371840715408, 0.06922953575849533, -0.03430229425430298, 0.032653696835041046, -0.00429081916809082, -0.041351884603500366, 0.025539984926581383, -0.07966116815805435, -0.0009964037453755736, 0.03626076877117157, -0.042724303901195526, 0.05838042497634888, -0.019336961209774017, 0.016857074573636055, -6.631914584431797e-05, 0.06423898786306381, 0.10428845137357712, 0.031576670706272125, -0.02819928713142872, -0.002165549900382757, -0.010329783894121647, 0.06490670889616013, 0.0006107835215516388, 0.03093056008219719, 0.018396833911538124, -1.6055871299158753e-08, -0.023976022377610207, 0.0594957061111927, -0.07260091602802277, 0.015425249934196472, -0.004265190567821264, 0.009324409998953342, -0.05909440293908119, -0.0006843063747510314, -0.02101781964302063, -0.03972819447517395, 0.04895539581775665, 0.061782024800777435, -0.07767006754875183, -0.01203107088804245, 0.0691726803779602, 0.08939769119024277, -0.04666542261838913, -0.04867516830563545, -0.07552913576364517, -0.057214196771383286, -0.026636535301804543, 0.0212421715259552, -0.01112503744661808, -0.07525312900543213, 0.032126590609550476, -0.08821666985750198, 0.012944993562996387, 0.024209817871451378, 0.054617125540971756, 0.02429998852312565, 0.04589000344276428, 0.05821746960282326, -0.012746655382215977, 0.006512985564768314, 0.005974173545837402, -0.029855219647288322, 0.009377197362482548, 0.06276803463697433, 0.09147252142429352, 0.0370231531560421, -0.08983556926250458, 0.032031718641519547, -0.06261942535638809, -0.03725341707468033, -0.005344762932509184, 0.04869985207915306, 0.06024383381009102, -0.0028228878509253263, 0.022665048018097878, -0.08810330927371979, -0.013368215411901474, 0.004753315821290016, 0.06323070079088211, 0.0009056185954250395, 0.06604781001806259, 0.05196750909090042, 0.0398838110268116, 0.0285177081823349, -0.05183852091431618, 0.017879297956824303, -0.008564065210521221, -0.06076371669769287, 0.02392696961760521, 0.044981665909290314]]\n"
          ]
        }
      ],
      "source": [
        "from langchain.embeddings import HuggingFaceEmbeddings\n",
        "from langchain.vectorstores import FAISS\n",
        "\n",
        "# Load the Sentence-Transformers model for embeddings\n",
        "embedding_model_st = HuggingFaceEmbeddings(model_name=\"sentence-transformers/all-MiniLM-L6-v2\")\n",
        "\n",
        "# Now you can use this embedding model in your LangChain pipelines, for example, with FAISS for vector search\n",
        "chunks_of_text =     [\n",
        "        \"Hi there!\",\n",
        "        \"Hello!\",\n",
        "        \"What's your name?\",\n",
        "        \"Bond, James Bond\",\n",
        "        \"Hello Bond!\"\n",
        "    ]\n",
        "\n",
        "# Convert texts to embeddings\n",
        "embeddings_st = [embedding_model_st.embed_query(text) for text in chunks_of_text]\n",
        "\n",
        "# Print or use the embeddings for further processing\n",
        "print(embeddings_st)\n"
      ]
    },
    {
      "cell_type": "code",
      "execution_count": null,
      "metadata": {
        "id": "B2_sgpGJkAX6",
        "colab": {
          "base_uri": "https://localhost:8080/",
          "height": 232,
          "referenced_widgets": [
            "2a3fd274ace244538cd4802b19e55332",
            "cf3190841030435e9a708105333c8a35",
            "137dd196eaf845b9af45de560f99864f",
            "eed5547397cc46eda48779905950007a",
            "05a79b0cf2754ac0a360d987ae50a2f0",
            "c5374ee135d244c5bd0a6a5e38c571cd",
            "39a0e65fb8e44231aebb042806d0a92c",
            "45581bf711334121893acd72b02c28bf",
            "772ad8dcee7c44a6afb5c70fb5a10334",
            "2334d3da90494eb0b475c760a6f552b1",
            "d15273b3071343df82cb6f3360ab9638",
            "53bddb719ea44faba7b45323d3cb487a",
            "c0ed442a9f4e4c15ba71dec7a5862978",
            "5856f265d6924858811a3ad673265fde",
            "ffb10e1fe02e4af385ae23be81fee2ea",
            "389ec304650b4f03ae11035f5d7169a8",
            "beb00cf1e3824729abff48bc769feba8",
            "0a8f6429b7d247b8887236791330a47f",
            "582538dd0ced49c89ff55a8f348b2997",
            "0137f8609f9b489bb912e6722cbdda2f",
            "963a44e2d39e46eeaf164a7cd30635b2",
            "3d83292ff0524043807ecc9fc11c9d40",
            "34c83bb6cdef4223acd3c92153c2e8fb",
            "5d8fdca32beb462999f5aa4b5eb5e5b2",
            "212d82ded6ae491da308c1531c69a6ff",
            "410d9f3056c94311b46034bde5b408ab",
            "88e28f6529b442638ec36275a6041f38",
            "49bece8f9c934f529a16b4a71abd438d",
            "7562fdf71bdf4a77a4cbfce3ee430b5c",
            "6c8a73851ce2490cbe487014990274ea",
            "1bf5ca67cf4640fa9b77492b9e2f8c1a",
            "1e7afe924bd94b889fed69a32c06bb21",
            "fb87f24ff8214f99b62d7df4861acaf3",
            "017b8eaf2176467daa57465cadd135d5",
            "ac4d3e32d87c4f878a737b35a68c3df2",
            "8fb5c408311d46fb9df2b6f8c7e6a2ec",
            "e695b55d58fc47998e99743505c674ca",
            "0d4316c67f4a4aff801bd1e7188e4013",
            "2570437e62ee4fe0936d85046bd372b3",
            "0ed81269a4c942a9bb3600ba0d1dabd0",
            "54734a62206541ed8a901ce75ee3799d",
            "8eda841e01b24d0e91c42e128c4ef108",
            "4bc0f9f8ec5b43af984081b4dc54a0c3",
            "f0e4de4aac7a43f8a0043115afb3ced1",
            "64ab76c878864009989e5f7051468cfd",
            "b2d60e0b5c714161a73ba545639558f3",
            "3d3c8623d08841ac81a3764e0d0acec3",
            "e5d564e9ab7d48e6b352dfb9c23a31a6",
            "796142e73b844a7b9cce331b1c32bc7d",
            "9176c4a5174d438b99c0a727744c5452",
            "3ffb27c87a57429588bcaef0a3437f6d",
            "f8488dd1ca224d749d800dd264db7dc1",
            "c53dbceeea7242bea85efd70c77c5f59",
            "da77e24ddb3b4780afeb8e1923661fd0",
            "992ece918e6f46ab8ed42b23a7c45a9a"
          ]
        },
        "outputId": "d020e80a-cad9-48fb-b652-c81344a5b558"
      },
      "outputs": [
        {
          "output_type": "stream",
          "name": "stderr",
          "text": [
            "WARNING:sentence_transformers.SentenceTransformer:No sentence-transformers model found with name distilbert-base-uncased. Creating a new one with mean pooling.\n"
          ]
        },
        {
          "output_type": "display_data",
          "data": {
            "text/plain": [
              "config.json:   0%|          | 0.00/483 [00:00<?, ?B/s]"
            ],
            "application/vnd.jupyter.widget-view+json": {
              "version_major": 2,
              "version_minor": 0,
              "model_id": "2a3fd274ace244538cd4802b19e55332"
            }
          },
          "metadata": {}
        },
        {
          "output_type": "display_data",
          "data": {
            "text/plain": [
              "model.safetensors:   0%|          | 0.00/268M [00:00<?, ?B/s]"
            ],
            "application/vnd.jupyter.widget-view+json": {
              "version_major": 2,
              "version_minor": 0,
              "model_id": "53bddb719ea44faba7b45323d3cb487a"
            }
          },
          "metadata": {}
        },
        {
          "output_type": "display_data",
          "data": {
            "text/plain": [
              "tokenizer_config.json:   0%|          | 0.00/48.0 [00:00<?, ?B/s]"
            ],
            "application/vnd.jupyter.widget-view+json": {
              "version_major": 2,
              "version_minor": 0,
              "model_id": "34c83bb6cdef4223acd3c92153c2e8fb"
            }
          },
          "metadata": {}
        },
        {
          "output_type": "display_data",
          "data": {
            "text/plain": [
              "vocab.txt:   0%|          | 0.00/232k [00:00<?, ?B/s]"
            ],
            "application/vnd.jupyter.widget-view+json": {
              "version_major": 2,
              "version_minor": 0,
              "model_id": "017b8eaf2176467daa57465cadd135d5"
            }
          },
          "metadata": {}
        },
        {
          "output_type": "display_data",
          "data": {
            "text/plain": [
              "tokenizer.json:   0%|          | 0.00/466k [00:00<?, ?B/s]"
            ],
            "application/vnd.jupyter.widget-view+json": {
              "version_major": 2,
              "version_minor": 0,
              "model_id": "64ab76c878864009989e5f7051468cfd"
            }
          },
          "metadata": {}
        },
        {
          "output_type": "stream",
          "name": "stdout",
          "text": [
            "[[0.043302714824676514, 0.07282765209674835, 0.16166849434375763, -0.3486582934856415, -0.024115581065416336, -0.31397485733032227, 0.32148322463035583, 0.42597776651382446, -0.2753341794013977, -0.32014912366867065, -0.03730107098817825, -0.46943122148513794, -0.18424303829669952, 0.4363982081413269, -0.3839734196662903, 0.2270778864622116, 0.13165687024593353, 0.07688860595226288, -0.0677403062582016, 0.13083824515342712, 0.020823229104280472, -0.21274904906749725, 0.03311450406908989, 0.005593401379883289, 0.08854980021715164, -0.3636147081851959, -0.07902736961841583, 0.04999571293592453, -0.02211691066622734, -0.21809005737304688, 0.15175478160381317, -0.074879951775074, -0.23426933586597443, 0.02281130477786064, -0.4931112825870514, 0.12065137922763824, 0.1814056634902954, 0.23314175009727478, -0.394642174243927, -0.17279204726219177, -0.36847299337387085, -0.630205512046814, 0.44428229331970215, 0.22169402241706848, -0.4493870139122009, -0.706207275390625, -0.07275674492120743, -0.042638521641492844, -0.029824409633874893, -0.04946253448724747, 0.32188859581947327, 0.2320050448179245, -0.4683367609977722, -0.1436104029417038, 0.19554339349269867, 0.25698691606521606, -0.20201054215431213, -0.14039237797260284, -0.1529144048690796, 0.14230243861675262, 0.04551374912261963, -0.18423697352409363, 0.2079622447490692, -0.3341621458530426, 0.02196376956999302, 0.39142271876335144, 0.21464121341705322, 0.43281835317611694, -0.6325225234031677, 0.006641578860580921, -0.2859935462474823, -0.45965415239334106, 0.1024235263466835, -0.00445441622287035, -0.04474812373518944, -0.07849986851215363, -0.12328056246042252, 0.4600091576576233, -0.10325197130441666, -0.0025734424125403166, 0.007539537735283375, 0.11922601610422134, 0.2073715478181839, 0.571740984916687, 0.08858317136764526, -0.3672572076320648, -0.22360262274742126, 0.09230227768421173, -0.08727725595235825, 0.6418426036834717, -0.23317953944206238, -0.22923719882965088, 0.12754225730895996, 0.07672560214996338, 0.25034454464912415, -0.38933777809143066, 0.14142978191375732, 0.23059718310832977, 0.0858110636472702, 0.15379482507705688, 0.3210826516151428, -0.41613516211509705, 0.25135108828544617, 0.04350022226572037, -0.32817167043685913, -0.037244781851768494, 0.321489155292511, -0.3092326521873474, 0.02086242474615574, -0.3508830666542053, 0.3097169101238251, -0.2246006280183792, -6.705522537231445e-06, -0.41812562942504883, -0.1967899054288864, 0.4953128397464752, 0.45188823342323303, 0.06767614185810089, 0.07537291944026947, -0.11415767669677734, -0.35734477639198303, -0.08463247865438461, 0.18582069873809814, 0.5854781270027161, 0.2166072577238083, 0.2801941931247711, -0.14740242063999176, 0.017887091264128685, -0.07586107403039932, -0.29473528265953064, -0.005783581640571356, 0.3198128044605255, 0.4045317769050598, -0.1471782624721527, -0.11661691963672638, 0.16642218828201294, 0.1023201122879982, -0.10892367362976074, -0.7848628163337708, -0.13867828249931335, 0.18902328610420227, 0.48604369163513184, -0.5037739872932434, 0.07910209894180298, 0.28651708364486694, 0.3666861653327942, -0.2925281822681427, -0.006125173531472683, -0.04932166263461113, -0.09926128387451172, 0.18537846207618713, -0.20619483292102814, -0.1952902227640152, -0.05065310746431351, -0.2535109519958496, -0.228174090385437, -0.4236763119697571, 0.044782716780900955, -0.0070934416726231575, 0.6331141591072083, 0.384111225605011, 0.0022917569149285555, -0.040024444460868835, 0.6586664915084839, -0.33163002133369446, 0.036582086235284805, 0.08251430094242096, 0.3296840190887451, 0.3939885199069977, 0.149775892496109, 0.0031998991034924984, -0.13866686820983887, 0.5087330937385559, 0.3870605528354645, 0.09278932213783264, 0.12586501240730286, 0.5332635641098022, 0.08393488824367523, -0.13845953345298767, -0.026435941457748413, -2.321363687515259, 0.053914763033390045, 0.14380978047847748, 0.24667870998382568, 0.4666389524936676, 0.14599329233169556, 0.35745561122894287, -0.5195980072021484, 0.0775827020406723, 0.18755601346492767, -0.043441835790872574, -0.08967667818069458, -0.5799640417098999, 0.17363213002681732, 0.31361961364746094, -0.0671292245388031, 0.06868068873882294, -0.5128298997879028, 0.15964443981647491, 0.22497312724590302, 0.3980552852153778, -0.037785112857818604, 0.34599700570106506, 0.3319129943847656, -0.20933273434638977, 0.6193274259567261, 0.032923322170972824, -0.03859599679708481, 0.11407522857189178, 0.4874013066291809, -0.7280508875846863, 0.3794547915458679, 0.12196918576955795, 0.18200291693210602, 0.15858620405197144, -0.007513612508773804, 0.23159241676330566, -0.3147721588611603, -0.13960154354572296, -0.18568560481071472, 0.14978328347206116, 0.08467219024896622, -0.2314169853925705, 0.05444875359535217, 0.14708812534809113, 0.22171780467033386, 0.815731406211853, -0.11663718521595001, 0.3036368787288666, -0.119076207280159, 0.06349984556436539, -0.35506415367126465, 0.6026257276535034, 0.11698400974273682, -0.20383456349372864, 0.18593603372573853, -0.15491700172424316, -0.36020416021347046, -0.08503782749176025, -0.43565648794174194, -0.28879594802856445, 0.3438365161418915, 0.26546138525009155, 0.1835833638906479, -0.2558400630950928, -0.02898978628218174, 0.2877029776573181, -0.028289401903748512, 0.08633746206760406, -0.0934448093175888, 0.07451625168323517, -0.7767068147659302, -0.10528532415628433, -0.7170975804328918, 0.2148953378200531, -0.3719969391822815, -0.19395986199378967, 0.19107772409915924, 0.15019850432872772, -0.08658634126186371, 0.3845880627632141, 0.1937766969203949, 0.5595265030860901, 0.09536527097225189, -0.6251755952835083, 0.16697469353675842, 0.03097044862806797, 0.2597205340862274, 0.08149729669094086, 0.024082327261567116, -0.034157685935497284, 0.16897010803222656, 0.05777537822723389, -0.08192966133356094, -0.06827531009912491, -0.46251335740089417, 0.33819204568862915, 0.0652693510055542, 0.10685139894485474, -0.6242142915725708, -0.19415365159511566, 0.5308679342269897, -0.8297625780105591, -0.023934584110975266, 0.28285035490989685, -0.05255187302827835, -0.12395141273736954, -0.04180357977747917, 0.035977184772491455, 0.04559818655252457, -0.060243915766477585, -0.02914522960782051, -0.29261815547943115, 0.07564003020524979, 0.2891206741333008, -0.2065684050321579, 0.5158489942550659, 0.44055938720703125, -0.47353315353393555, -0.08760940283536911, 0.07634416967630386, 0.03459073230624199, -0.11826735734939575, -0.12788750231266022, -0.19027402997016907, 0.19013698399066925, -0.006686103530228138, -0.51813805103302, -2.398798704147339, -0.2296130359172821, 0.22640080749988556, -0.22006340324878693, 0.14707425236701965, -0.2984693646430969, 0.11255031824111938, 0.0019379176665097475, -0.1669308841228485, -0.3067168593406677, 0.06964723765850067, -0.2595427334308624, 0.22570526599884033, 0.10092951357364655, 0.1341116726398468, -0.19243015348911285, 0.15912115573883057, -0.4058397710323334, -0.35820746421813965, 0.22687771916389465, -0.12247351557016373, -0.25783461332321167, -0.040346723049879074, -0.22172360122203827, 0.518436074256897, 0.15877597033977509, 0.17454275488853455, -0.24422061443328857, -0.6209809184074402, 0.14880195260047913, -0.3082736134529114, -0.4973786473274231, -0.0793059691786766, 0.2748900055885315, 0.1370978057384491, -0.046514738351106644, 0.2506631016731262, -0.3138524889945984, -0.11950600147247314, -0.20801377296447754, 0.1597580462694168, -0.5032836198806763, 0.10101060569286346, 0.0718851238489151, 0.6100333333015442, -0.2972755432128906, -0.3871181607246399, -0.6571640372276306, -0.24886393547058105, 0.07925400882959366, -0.12419102340936661, 0.037456247955560684, 0.14463703334331512, -0.38670942187309265, 0.12070699036121368, -0.23325467109680176, 0.3304036259651184, 0.7919992208480835, 0.1200600415468216, -0.40244174003601074, 0.34925174713134766, 0.16920970380306244, -0.1719028800725937, -0.10775236785411835, -0.41738200187683105, -0.1831943392753601, -0.36357346177101135, 0.12996722757816315, -0.09519054740667343, -0.12059732526540756, -0.20141442120075226, -0.2416204959154129, -0.20628592371940613, -1.130054235458374, -0.5357287526130676, 0.15553519129753113, -0.11577671766281128, -0.1885772943496704, 0.23899893462657928, 0.015268835239112377, -0.1796984076499939, -0.06269735097885132, 0.056116312742233276, 0.0781954750418663, -0.01564858853816986, -0.5018134713172913, -0.020609885454177856, -0.4021976590156555, -0.06340758502483368, -0.08292202651500702, 0.19033008813858032, 0.22717265784740448, 0.05542151257395744, 0.3051564693450928, 0.21998170018196106, 0.0860561728477478, 0.24985475838184357, -0.15512236952781677, 0.3864598572254181, 0.022544318810105324, -0.18796183168888092, -0.12401439994573593, 0.5646729469299316, 0.09262252599000931, 0.3928006589412689, 0.028035331517457962, -0.5483230948448181, 0.03415738418698311, -0.1908901184797287, 0.15706218779087067, 0.1495221108198166, -0.5486037731170654, -0.14398494362831116, -0.000810024153906852, 0.034316979348659515, -0.30711326003074646, 0.22643747925758362, 0.6775086522102356, -0.3191155791282654, 0.3446374833583832, 0.16407155990600586, 0.7473303079605103, -0.25691109895706177, 0.22452692687511444, -0.17714647948741913, 0.18091440200805664, -0.0630587711930275, 0.1333858072757721, -0.1541244089603424, -0.24790363013744354, 0.12906165421009064, -0.12422674894332886, 0.07445414364337921, -0.22226610779762268, 0.17472338676452637, 0.18773706257343292, 0.04807180166244507, -0.5836023092269897, 0.15688738226890564, 0.3328858017921448, 0.21395531296730042, 0.3595983386039734, -0.3197823464870453, 0.16174860298633575, 0.5197532773017883, 0.610909104347229, -0.14168021082878113, 0.057658493518829346, -0.04295748472213745, 0.18874147534370422, -0.0317666232585907, -0.5640063881874084, 0.1726200133562088, -0.4156876504421234, -0.11419352144002914, 0.01982177421450615, 0.3062596917152405, -0.17484304308891296, -0.30086833238601685, -0.3247772455215454, 0.09661970287561417, 0.008381091058254242, -0.23169246315956116, 0.4794285297393799, 0.1084781065583229, 0.4639829993247986, 0.07868348807096481, -0.0988244041800499, -0.4230746626853943, -0.0013867259258404374, -0.13196349143981934, 0.15224844217300415, 0.16594798862934113, -0.20086583495140076, -0.3158852458000183, 0.34802937507629395, 0.04105645418167114, -0.05683467537164688, 0.12259749323129654, -0.05635898560285568, 0.101435087621212, -0.3245513141155243, -0.15180961787700653, 0.23029467463493347, 0.29500848054885864, 0.04808879643678665, -0.02248593047261238, -0.2434144914150238, 0.2490071803331375, 0.0648379996418953, -0.05984311178326607, 0.3700554370880127, -0.4464753270149231, -0.46411460638046265, -0.5815427303314209, -0.3036510646343231, 0.06061006709933281, -0.4865151047706604, 0.14689049124717712, 0.15737387537956238, 0.12822355329990387, -0.043746210634708405, -0.30929863452911377, 0.18996542692184448, 0.06893107295036316, -0.0816773772239685, 0.28212711215019226, 0.1399894654750824, -0.20406410098075867, 0.2807188034057617, 0.10047540813684464, -0.6503405570983887, -0.023148715496063232, 0.1323341280221939, 0.02438434399664402, -0.09587965160608292, -0.029876163229346275, -0.17839081585407257, 0.05688372999429703, -0.20862190425395966, -0.5903574228286743, 0.025402430444955826, 0.1257019340991974, -0.1624341756105423, -0.5420357584953308, -0.7843545079231262, -0.1702943742275238, -0.023020535707473755, -0.299387127161026, -0.5146220326423645, 0.1889941394329071, -0.30294179916381836, 0.19653818011283875, -0.14891307055950165, -0.23279504477977753, 0.22487954795360565, 0.0054798186756670475, 0.1732672154903412, 0.0807119607925415, 0.6474358439445496, 0.050723444670438766, -0.1909862607717514, -0.12375123798847198, -0.08859053999185562, 0.028572803363204002, 0.14750531315803528, -0.013055997900664806, 0.4901857376098633, 0.2510673403739929, -0.00957490224391222, -0.014193156734108925, 0.31945353746414185, 0.12311673164367676, -0.21604833006858826, -0.1177135705947876, -0.464475154876709, -0.3653479516506195, 0.19378504157066345, -0.17278195917606354, -0.14014899730682373, -0.32448360323905945, 0.013141518458724022, 0.1975947916507721, -0.05170835182070732, 0.30639585852622986, 0.05247872322797775, 0.09908727556467056, -0.07556035369634628, 0.44767704606056213, 0.18180504441261292, -0.4576510488986969, 0.06406532227993011, 0.07012475281953812, -0.1906663179397583, 0.13966074585914612, -0.046194594353437424, 0.1477569192647934, -0.5922876596450806, -0.1183161735534668, -0.10083812475204468, 0.320708692073822, 0.7048153877258301, -0.04688217490911484, -0.08143757283687592, 0.3105691969394684, -0.4580519199371338, -0.0771639347076416, 0.187517911195755, 0.14611276984214783, 0.18898987770080566, -0.007841217331588268, 0.4504792094230652, -0.0152770159766078, 0.5595606565475464, 0.14158785343170166, 0.11481805145740509, 0.31253430247306824, 0.31763237714767456, -0.5814501643180847, 0.08316728472709656, -0.07187944650650024, 0.3236422538757324, 0.05616273730993271, -0.10587428510189056, 0.18030297756195068, 0.11044949293136597, 0.17874127626419067, -0.21528904139995575, -0.0929902195930481, 0.23440277576446533, -0.2997078001499176, -0.10768160969018936, 0.1559431403875351, 0.5293797254562378, -0.605300784111023, 0.3553665280342102, 0.21572408080101013, -0.5132731795310974, -0.18706364929676056, 0.1527968943119049, 0.1285361796617508, -0.3204570710659027, 0.21551969647407532, 0.21890190243721008, 0.25339430570602417, 0.4002930223941803, -0.6709638833999634, -0.2943444848060608, 0.21922104060649872, 0.8954431414604187, 0.10416028648614883, 0.28495869040489197, -0.14980584383010864, 0.5313860774040222, -0.3227963447570801, -0.3407878577709198, 0.216146782040596, -0.09109878540039062, -0.03715978190302849, 0.0744408592581749, -0.09224869310855865, 0.2771865725517273, 0.3286607563495636, 0.3780836760997772, 0.4118582606315613, 0.04063060134649277, -0.023920509964227676, 0.0343489870429039, 0.3608095645904541, -0.23791173100471497, 0.17999592423439026, 0.387172132730484, -0.008196902461349964, -0.2507176399230957, 0.275926411151886, -0.11676372587680817, -0.19658473134040833, 0.04838535189628601, -0.2990650534629822, -0.5428506731987, -0.15706641972064972, -0.055736564099788666, -0.1321096569299698, -0.17290019989013672, -0.08608351647853851, 0.0783749595284462, 0.29727745056152344, 0.04926000535488129, -0.3662187159061432, 0.05932425707578659, 0.07296489179134369, 0.3753078877925873, 0.2439727783203125, 0.4900999963283539, -0.1444621980190277, 0.2549135386943817, -0.18167909979820251, -0.43839961290359497, -0.319760799407959, -0.11055602133274078, 0.017180651426315308, 0.06148211285471916, -0.3698823153972626, -0.1176455169916153, 0.4068078100681305, -0.559406578540802, -0.264512836933136, -0.1430014818906784, -0.11028919368982315, -0.15827903151512146, 0.21252325177192688, -0.5451741218566895, -0.11121894419193268, -0.18671958148479462, 0.054032910615205765, -0.5407629013061523, 0.18501028418540955, 0.1767171323299408, 0.15250834822654724, 0.18827208876609802, 1.1327106952667236, -0.2930157780647278, -0.23298077285289764, 0.270089328289032, 0.1764553338289261, 0.06851626932621002, 0.021047616377472878, 0.06632863730192184, 0.27638304233551025, -0.2761923372745514, 0.03753167390823364, 0.5018593072891235, -1.050438642501831, 0.19678503274917603, -0.18081149458885193, -0.38128215074539185, -0.021212905645370483, 0.029211759567260742, -0.42533889412879944, 0.20960327982902527, -0.14314217865467072, -0.07954172790050507, 0.3449726402759552, -0.15057697892189026, 0.07008674740791321, 0.12692412734031677, -0.01987471431493759, 0.47586116194725037, 0.04693603515625, -0.37865060567855835, 0.43209561705589294, 0.30225038528442383, 0.3170000910758972, -0.15805789828300476, 0.03246195241808891, 0.20388689637184143, -0.054715435951948166, -0.32006174325942993, 0.2582075893878937, -0.5505223274230957, 0.6787281632423401, 0.10597379505634308, -0.24076147377490997, 0.04464091360569, -1.721978783607483, -0.4093138575553894, -0.08331859111785889, -0.1644345074892044, 0.07803298532962799, -0.47195369005203247, -0.14907559752464294, -0.24914665520191193, 0.15512162446975708, -0.697516143321991, -0.06160994619131088, -0.14629621803760529, -0.17221228778362274, 0.0157103780657053, 0.11430150270462036, -0.18665137887001038], [-0.032415956258773804, -0.14308911561965942, 0.18040680885314941, -0.22569449245929718, -0.1019313707947731, -0.30940473079681396, 0.34518375992774963, 0.1224091500043869, -0.22597768902778625, -0.29122376441955566, -0.21438254415988922, -0.27490562200546265, -0.1488618701696396, 0.32098737359046936, -0.2709864377975464, -0.13111716508865356, 0.029032206162810326, 0.11035387217998505, -0.039015959948301315, 0.16468703746795654, -0.05427296459674835, -0.1471533179283142, 0.1079355925321579, 0.06067749857902527, 0.13009624183177948, -0.06405084580183029, -0.21233458817005157, -0.03070588782429695, -0.2215181589126587, -0.2876437306404114, 0.13136595487594604, -0.18910515308380127, 0.03783206269145012, 0.14006981253623962, -0.5444740653038025, -0.09454359114170074, 0.012692257761955261, 0.2948955297470093, -0.42003682255744934, -0.05617278814315796, -0.16356778144836426, -0.38966694474220276, 0.38304612040519714, 0.19058404862880707, -0.2061690241098404, -0.6450207233428955, -0.3534984588623047, 0.0002719312906265259, -0.16943201422691345, 0.10564467310905457, 0.18337330222129822, 0.387215256690979, -0.42799124121665955, 0.11379516124725342, 0.19703428447246552, 0.11759219318628311, -0.09769797325134277, -0.211936816573143, -0.10904708504676819, 0.05738396197557449, -0.1537373661994934, -0.14276203513145447, 0.06330720335245132, -0.24676679074764252, -0.00744280219078064, 0.4522736072540283, 0.3392517566680908, 0.22222311794757843, -0.6300774216651917, 0.3496948182582855, -0.07866974920034409, -0.31715619564056396, 0.15926676988601685, 0.06349242478609085, 0.12621864676475525, -0.1197342723608017, -0.06385167688131332, 0.45533066987991333, -0.1077265739440918, 0.13179466128349304, -0.10922664403915405, 0.2377689778804779, 0.3618716895580292, 0.3560410439968109, 0.034473974257707596, -0.2281360924243927, -0.0735604465007782, 0.03606187179684639, 0.07141511142253876, 0.29231053590774536, -0.22868992388248444, -0.18620289862155914, 0.029276646673679352, 0.08269979059696198, 0.288045197725296, -0.4502333700656891, -0.1970614790916443, 0.0813901275396347, 0.04014085605740547, 0.046515099704265594, -0.027936546131968498, -0.3986983895301819, 0.0663105696439743, 0.16576461493968964, -0.354938805103302, -0.015899542719125748, 0.16866430640220642, -0.20328867435455322, -0.041814327239990234, -0.477881520986557, 0.32768136262893677, -0.02843206375837326, 0.05872209370136261, -0.3854438066482544, -0.23111441731452942, 0.29541507363319397, 0.4344153106212616, 0.054817747324705124, 0.12494408339262009, -0.14940300583839417, -0.35787391662597656, -0.025581002235412598, 0.14943426847457886, 0.6524402499198914, 0.11526362597942352, 0.2996748089790344, -0.1707150638103485, 0.013042449951171875, 0.04920317605137825, -0.3303939402103424, -0.12846584618091583, 0.4043595790863037, 0.3125409483909607, 0.028365790843963623, -0.15154263377189636, 0.17621099948883057, 0.07930079102516174, -0.04783937707543373, -0.7605752348899841, -0.12283269315958023, 0.011222269386053085, 0.6428395509719849, -0.6110820770263672, -0.08194522559642792, 0.43559929728507996, 0.2964325547218323, -0.136076882481575, 0.046488068997859955, 0.06649834662675858, -0.19368836283683777, 0.13082285225391388, -0.1032237708568573, -0.2606649100780487, -0.2536267042160034, -0.2744002938270569, -0.056244947016239166, -0.299903929233551, 0.06815298646688461, 0.36368900537490845, 0.5426941514015198, 0.47377610206604004, 0.257122665643692, -0.1751876175403595, 0.5290940999984741, -0.23114123940467834, 0.1368667036294937, 0.04817973077297211, 0.5144968032836914, 0.3680493235588074, 0.04852651432156563, -0.08340929448604584, -0.29498064517974854, 0.3018113076686859, 0.28328782320022583, 0.06978157162666321, 0.25318223237991333, 0.4718065559864044, 0.10081559419631958, -0.1728917956352234, -0.22831687331199646, -2.759748935699463, -0.06808757781982422, 0.02488522417843342, 0.0777534767985344, 0.34988653659820557, 0.2043582946062088, 0.2687222957611084, -0.39992088079452515, 0.06585007905960083, 0.11657238006591797, -0.14224974811077118, -0.10154926776885986, -0.3986766040325165, 0.09876574575901031, 0.4847961366176605, -0.010415751487016678, 0.18407200276851654, -0.2257024347782135, 0.11119459569454193, 0.21159860491752625, 0.29027339816093445, 0.05301855504512787, 0.16726259887218475, 0.3525007367134094, -0.0673467367887497, 0.7184217572212219, 0.06375115364789963, -0.044435836374759674, 0.06298508495092392, 0.32010117173194885, -0.8118624687194824, 0.30729910731315613, 0.30160173773765564, 0.0107150599360466, 0.29432398080825806, -0.010154083371162415, 0.28160399198532104, -0.35834580659866333, -0.3659806251525879, -0.047053296118974686, 0.1046595573425293, 0.0005749166011810303, -0.1545039266347885, 0.1500801146030426, 0.07815655320882797, -0.049059510231018066, 0.6189879179000854, 0.28923600912094116, 0.3536364436149597, -0.2974121868610382, 0.05912762135267258, -0.315076619386673, 0.4565585255622864, 0.17517270147800446, -0.34891560673713684, 0.1375039964914322, -0.0389644056558609, -0.3450906276702881, -0.03329835832118988, -0.44706296920776367, -0.16035546362400055, 0.2559616267681122, 0.17838841676712036, 0.24332928657531738, -0.45253056287765503, -0.11330164968967438, 0.23561999201774597, 0.1350710391998291, 0.23252370953559875, -0.059634625911712646, 0.021116100251674652, -0.6874657273292542, 0.08256987482309341, -0.49636635184288025, 0.3800937533378601, -0.12321975827217102, -0.10930371284484863, 0.20153343677520752, 0.13779573142528534, -0.09209021925926208, 0.21555301547050476, 0.09974697977304459, 0.5940693616867065, 0.11689972877502441, -0.5123459696769714, 0.23864124715328217, 0.20039817690849304, 0.11690546572208405, 0.02898181602358818, 0.15964031219482422, -0.04479261860251427, -0.02049584686756134, 0.03760721534490585, -0.593773603439331, -0.02919939160346985, -0.4300153851509094, 0.33449819684028625, 0.03387436643242836, 0.15400788187980652, -0.4656412899494171, -0.3658950626850128, 0.28583845496177673, -0.7157573103904724, 0.08563288301229477, 0.5239863395690918, -0.23285731673240662, -0.1502634733915329, -0.1943906992673874, -0.017598919570446014, 0.05120542645454407, -0.17559830844402313, -0.11467661708593369, -0.10225018858909607, 0.1936223804950714, 0.4631660580635071, -0.035999443382024765, 0.5222712755203247, 0.25174906849861145, -0.3785035014152527, -0.013933297246694565, 0.07587393373250961, -0.0032530128955841064, -0.2199448049068451, -0.27142417430877686, -0.16098052263259888, 0.15800270438194275, 0.09466896951198578, -0.28920137882232666, -2.1426854133605957, -0.20505328476428986, 0.18812447786331177, -0.28649407625198364, 0.14149147272109985, -0.1791248321533203, 0.31943362951278687, 0.007266253232955933, -0.09569311141967773, -0.055644430220127106, 0.06767221540212631, -0.10766559839248657, 0.25592711567878723, 0.1262832134962082, -0.002290802076458931, -0.10645280033349991, 0.18165339529514313, -0.3185795545578003, -0.347281813621521, 0.1300605684518814, -0.06900332868099213, -0.27723944187164307, 0.0991930440068245, -0.22239217162132263, 0.4502136707305908, 0.38933199644088745, 0.14524725079536438, -0.15369032323360443, -0.2192358374595642, 0.19276705384254456, -0.21207952499389648, -0.3542061448097229, -0.2111285775899887, 0.2362232804298401, -0.0951012372970581, -0.029164733365178108, 0.3245638608932495, -0.10547616332769394, 0.31063684821128845, -0.1783532053232193, 0.19669406116008759, -0.11262724548578262, 0.04000569134950638, -0.02824312448501587, 0.26570236682891846, -0.25509992241859436, -0.09010116755962372, -0.4195556044578552, -0.09286140650510788, 0.1344856321811676, -0.054401978850364685, 0.064646415412426, 0.3142058849334717, -0.2919039726257324, 0.15676453709602356, -0.19636084139347076, 0.3046237826347351, 0.4653417468070984, 0.025784917175769806, -0.41685789823532104, 0.3877550959587097, 0.13898980617523193, 0.06523963063955307, -0.057869985699653625, -0.3678674101829529, -0.2157251238822937, -0.3897550702095032, -0.12174132466316223, -0.15926110744476318, -0.09480219334363937, -0.1713656634092331, -0.19104161858558655, -0.18845264613628387, -1.0455130338668823, -0.6450458765029907, 0.15572190284729004, -0.36027640104293823, -0.11078555881977081, 0.38953572511672974, -0.10616502165794373, -0.13052421808242798, -0.21080763638019562, 0.008634860627353191, 0.28410178422927856, -0.1218070462346077, -0.16723138093948364, 0.20047427713871002, -0.3873518705368042, -0.12452923506498337, 0.02207276225090027, 0.0052850618958473206, 0.19869057834148407, 0.13342984020709991, 0.25342097878456116, 0.078163743019104, 0.18570685386657715, 0.2509610056877136, -0.2694300711154938, 0.22615593671798706, 0.05226293206214905, -0.16142624616622925, -0.2614314556121826, 0.23255783319473267, 0.03919713944196701, 0.3870294690132141, -0.024636372923851013, -0.7041392922401428, 0.06321173906326294, -0.048399969935417175, 0.18587209284305573, 0.06533798575401306, -0.3495827317237854, -0.20654205977916718, -0.02588394284248352, 0.12807346880435944, -0.09664420038461685, 0.07753671705722809, 0.4375700354576111, -0.10660595446825027, 0.20606276392936707, 0.1510269045829773, 0.7448453903198242, -0.22398072481155396, 0.16349434852600098, -0.02857135608792305, 0.01359900925308466, -0.06073659658432007, 0.08247174322605133, -0.020515933632850647, -0.20030125975608826, 0.15505969524383545, -0.05965583771467209, -0.13463012874126434, -0.43574613332748413, 0.1667514145374298, 0.02060578763484955, 0.04854004085063934, -0.14852824807167053, -0.053008466958999634, 0.3643326759338379, 0.19308435916900635, 0.342888742685318, -0.5783207416534424, 0.05124592036008835, 0.12376119941473007, 0.4086489677429199, -0.2515283226966858, 0.0728432834148407, 0.05349929630756378, 0.27302491664886475, 0.004021488130092621, -0.5154592394828796, 0.1995241641998291, -0.45343488454818726, -0.19182364642620087, -0.03821585327386856, 0.3546278774738312, -0.15839892625808716, -0.4137019217014313, -0.22660085558891296, 0.06616249680519104, -0.038257259875535965, -0.2564006447792053, 0.40885812044143677, -0.09974607080221176, 0.32640451192855835, -0.05055005103349686, 0.03103160858154297, -0.49956730008125305, 0.04499043524265289, 0.02167028933763504, 0.08226576447486877, 0.31236863136291504, -0.12207672744989395, -0.10241339355707169, 0.10153896361589432, -0.01164230052381754, -0.21478262543678284, 0.13088184595108032, -0.021672476083040237, 0.181351900100708, -0.41906797885894775, -0.06336189061403275, 0.32835233211517334, 0.3033738434314728, -0.10960490256547928, 0.022698020562529564, -0.21615281701087952, 0.34852322936058044, 0.09433402866125107, -0.07899138331413269, 0.2490808665752411, -0.2802206575870514, -0.512667715549469, -0.5336065292358398, -0.2872313857078552, 0.21390444040298462, -0.2375704050064087, 0.2580639123916626, 0.26853832602500916, 0.034992121160030365, -0.06760881841182709, -0.4930398166179657, 0.10884213447570801, 0.018427100032567978, -0.10052298754453659, 0.2764553725719452, 0.004598677158355713, -0.28545814752578735, 0.13434499502182007, 0.03295104205608368, -0.44210368394851685, -0.13136836886405945, -0.35738158226013184, -0.15737633407115936, 0.017161492258310318, -0.06216300651431084, -0.11648440361022949, 0.08835901319980621, -0.1413426697254181, -0.5869068503379822, 0.04210434481501579, 0.31022822856903076, 0.02735133469104767, -0.3470394015312195, -0.4999544620513916, -0.2889690399169922, -0.1632513552904129, -0.2423117458820343, -0.3555666208267212, 0.08163240551948547, -0.08986850082874298, 0.20624710619449615, -0.017220016568899155, -0.16538895666599274, 0.1567205935716629, -0.37895146012306213, 0.050403594970703125, -0.09024743735790253, 0.4831685721874237, 0.09375977516174316, -0.4602620005607605, -0.042133644223213196, -0.1771106719970703, 0.1253376454114914, 0.12722161412239075, -0.067610964179039, 0.4314939081668854, 0.42670875787734985, -0.06170685589313507, 0.11223872005939484, 0.37556931376457214, -0.010642014443874359, -0.11537488549947739, -0.062040507793426514, -0.7063973546028137, -0.22125953435897827, 0.07180868089199066, -0.18954624235630035, -0.2421785444021225, -0.22707118093967438, 0.19602051377296448, 0.1418871283531189, 0.12372136116027832, 0.3212035596370697, 0.2528108060359955, 0.09074230492115021, 0.11572379618883133, 0.1970810443162918, 0.46440431475639343, -0.5065318942070007, 0.13154387474060059, -0.0740709975361824, 0.1843995749950409, -0.09747369587421417, -0.2217138111591339, 0.4035705626010895, -0.5562075972557068, -0.1224047914147377, -0.1527758091688156, 0.6290473937988281, 0.7183781862258911, -0.12244835495948792, -0.050391484051942825, 0.2265133261680603, -0.24922630190849304, 0.021224604919552803, -0.009248800575733185, 0.00020972639322280884, 0.2538644075393677, -0.008436232805252075, 0.45799756050109863, -0.3180080056190491, 0.5326719284057617, 0.02546999230980873, 0.17858803272247314, 0.0001896396279335022, 0.2657302916049957, -0.7073808908462524, 0.14920301735401154, -0.17612865567207336, 0.3511616587638855, 0.2071332335472107, 0.015967004001140594, -0.0434446856379509, 0.05845656245946884, 0.099480040371418, -0.07383249700069427, -0.01462741568684578, -0.06072969734668732, -0.3680466413497925, -0.08732248097658157, 0.1047593504190445, 0.5838652849197388, -0.3258460760116577, 0.2694911062717438, 0.028143461793661118, -0.6025993824005127, -0.19791799783706665, 0.2832234799861908, 0.17386505007743835, -0.10093104839324951, 0.15159279108047485, 0.2639472484588623, 0.22145116329193115, 0.37662720680236816, -0.6528860330581665, -0.30406224727630615, 0.16757075488567352, 0.526253879070282, 0.20107734203338623, 0.20411919057369232, -0.06709763407707214, 0.35334500670433044, -0.02338191121816635, -0.31789064407348633, 0.2132686972618103, -0.09670637547969818, -0.09995681047439575, 0.0799465924501419, -0.03367507457733154, 0.20048758387565613, 0.1346464455127716, 0.038103364408016205, 0.2046458125114441, -0.019498310983181, 0.036300502717494965, 0.14692917466163635, 0.2124710977077484, -0.059665948152542114, 0.20789854228496552, 0.18897892534732819, -0.18624281883239746, -0.24341711401939392, 0.2143041044473648, -0.23107950389385223, -0.08403711766004562, 0.0650872066617012, 0.03799597918987274, -0.9122766256332397, -0.0879502147436142, -0.1775861531496048, -0.04287315905094147, -0.029014334082603455, 0.09400627017021179, 0.3759746551513672, 0.26803165674209595, 0.1911908984184265, -0.2419108748435974, 0.21438199281692505, 0.012706518173217773, 0.31628769636154175, 0.012545321136713028, 0.3179422914981842, -0.07635357230901718, 0.2993795871734619, -0.14419585466384888, -0.3662978410720825, -0.2541464567184448, -0.2815520465373993, 0.045311134308576584, 0.03816387057304382, -0.1702536791563034, -0.16608241200447083, 0.2002079039812088, -0.4289674162864685, -0.2532494068145752, -0.11988525092601776, 0.04960482940077782, -0.2659952938556671, 0.3503507375717163, -0.6123385429382324, -0.2055872678756714, -0.0425153523683548, 0.11181504279375076, -0.30603858828544617, 0.10776597261428833, 0.23029620945453644, 0.3422009348869324, 0.1966000348329544, 0.8794692158699036, -0.26750046014785767, -0.07037711143493652, 0.16194279491901398, 0.13840770721435547, 0.0674513578414917, 0.15939804911613464, 0.0913136899471283, 0.05259103327989578, -0.3516151010990143, 0.21019883453845978, 0.35950130224227905, -1.1851592063903809, 0.1901341676712036, 0.000508628785610199, -0.14844629168510437, 0.00991065800189972, 0.07186198979616165, -0.19393931329250336, -0.1258232295513153, 0.047140829265117645, -0.10818865895271301, 0.1304836869239807, 0.0027749910950660706, -0.016848377883434296, 0.02391926199197769, -0.046950388699769974, 0.09682135283946991, 0.007204526104032993, -0.3360258638858795, 0.3067084848880768, 0.3076213598251343, 0.30243703722953796, -0.16275650262832642, -0.005989730358123779, -0.050279997289180756, -0.006452128291130066, -0.27115491032600403, 0.28632938861846924, -0.41163820028305054, 0.22542181611061096, 0.22414174675941467, -0.16029024124145508, 0.06559549272060394, -2.6321537494659424, -0.1517752707004547, 0.141219824552536, -0.12217780202627182, -0.09922467917203903, -0.4988587498664856, 0.1666099727153778, -0.20391345024108887, 0.33577752113342285, -0.4436272084712982, 0.06611199676990509, -0.34120696783065796, -0.11176874488592148, 0.062243517488241196, 0.18538185954093933, 0.010906912386417389], [0.3294009566307068, -0.049800798296928406, -0.12561582028865814, -0.2839926481246948, 0.14748407900333405, -0.16656717658042908, 0.18117022514343262, 0.5047808289527893, -0.3841906785964966, -0.00857241079211235, 0.19543033838272095, -0.5067213773727417, -0.230506032705307, 0.4019675552845001, -0.48968949913978577, 0.3802625238895416, 0.14136245846748352, 0.23203051090240479, -0.18209804594516754, 0.44748881459236145, 0.11767082661390305, -0.05414486303925514, -0.021065354347229004, 0.24858543276786804, 0.31016963720321655, 0.5044375061988831, -0.1583554744720459, -0.2253735512495041, -0.004285477101802826, -0.43248051404953003, 0.26345425844192505, -0.05753253772854805, -0.33210039138793945, -0.02775588631629944, -0.08860895782709122, -0.07903414219617844, -0.17740488052368164, -0.09553177654743195, -0.38344767689704895, 0.058875590562820435, -0.8343313932418823, -0.10602016746997833, -0.24934695661067963, 0.06847646832466125, -0.21018759906291962, -0.6549138426780701, 0.08528252691030502, -0.005812741816043854, -0.3261328637599945, -0.08548533916473389, 0.08466443419456482, 0.1068568155169487, -0.3673379123210907, -0.017841950058937073, 0.11439287662506104, 0.41177478432655334, 0.07095901668071747, -0.5637809634208679, -0.4143534302711487, 0.1652856171131134, 0.06733584403991699, -0.054614946246147156, 0.12216848134994507, -0.1816607117652893, 0.29856595396995544, 0.5174630284309387, 0.1358819454908371, 0.32125139236450195, -0.7845467925071716, 0.023215055465698242, -0.2872191071510315, -0.2272547483444214, 0.11322187632322311, -0.019431253895163536, 0.19708043336868286, 0.2447512000799179, -0.23841315507888794, 0.5758699774742126, -0.2212820053100586, 0.21482409536838531, 0.01930278353393078, 0.5879806876182556, -0.06968757510185242, 0.38351887464523315, 0.16172069311141968, -0.3579210638999939, -0.9452528953552246, 0.06333238631486893, 0.02919606678187847, 0.28447720408439636, -0.1769750416278839, -0.1986701339483261, 0.2498159557580948, 0.21312864124774933, 0.2942453920841217, -0.46681711077690125, -0.1459791362285614, 0.07000798732042313, 0.12848268449306488, 0.5662111639976501, 0.1435769647359848, -0.638949990272522, 0.3386806845664978, 0.30926939845085144, -0.449401319026947, -0.007700036279857159, 0.05983077734708786, 0.4400012493133545, 0.30596983432769775, 0.04986584186553955, 0.26615700125694275, -0.2127036452293396, -0.013411365449428558, -0.03939451649785042, -0.13569173216819763, 0.19893932342529297, 0.36375486850738525, -0.10634914040565491, 0.0016239769756793976, 0.02740400657057762, -0.4512670636177063, -0.34097641706466675, 0.3249898850917816, 0.6968778371810913, 0.23260609805583954, 0.5215368270874023, -0.4261014461517334, -0.09119978547096252, 0.017365597188472748, -0.35035356879234314, 0.0033224038779735565, 0.4661650061607361, 0.5788284540176392, -0.009823814034461975, -0.34967780113220215, 0.39699381589889526, -0.0003412403166294098, -0.005227316170930862, -0.6032636761665344, -0.0732160359621048, 0.011555139906704426, 0.5382368564605713, -0.4083991050720215, -0.14009055495262146, 0.3939895033836365, 0.0734732449054718, -0.17370878159999847, -0.3775777220726013, 0.43292418122291565, -0.00348040834069252, 0.3910551071166992, -0.1681859791278839, 0.2859880328178406, -0.2672799229621887, -0.38346147537231445, -0.09294874966144562, -0.4803417921066284, -0.12701883912086487, 0.460183322429657, 0.28613442182540894, 0.3099310100078583, -0.28792524337768555, 0.0546858049929142, 0.5897477865219116, -0.1225249394774437, 0.05035513639450073, -0.16387051343917847, 0.19177143275737762, 0.18308532238006592, 0.17610901594161987, -0.30352479219436646, -0.007674620021134615, 0.9654680490493774, 0.2627148926258087, -0.10702936351299286, -0.08078876882791519, 0.1251813769340515, 0.07644259184598923, 0.24945038557052612, 0.0848432332277298, -2.739457130432129, 0.1543506681919098, 0.12440451234579086, 0.33952730894088745, 0.04878372699022293, 0.3061465322971344, 0.36409714818000793, -0.36544784903526306, -0.12250593304634094, 0.19786027073860168, -0.06232597306370735, 0.01983010210096836, -0.25357845425605774, 0.17869511246681213, 0.24921227991580963, -0.7615340352058411, -0.36199474334716797, -0.41331395506858826, -0.04886161535978317, 0.02201751619577408, -0.0575825460255146, -0.327852725982666, 0.10326516628265381, 0.16404326260089874, -0.3203980326652527, 0.19492177665233612, 0.09404709935188293, -0.17315462231636047, 0.01699206233024597, 0.41917139291763306, -0.5960245132446289, 0.31861695647239685, 0.018853724002838135, -0.05096728354692459, 0.3807704448699951, -0.024583982303738594, 0.27118241786956787, -0.29076817631721497, -0.30412471294403076, -0.005655061453580856, 0.15990659594535828, -0.2532463073730469, -0.5138584971427917, 0.13201820850372314, -0.20691218972206116, 0.3899388015270233, 0.2501881420612335, 0.03467303141951561, 0.13938874006271362, -0.22382095456123352, -0.14793381094932556, -0.3149110674858093, 0.43400588631629944, 0.16872112452983856, -0.19792968034744263, -0.06223192811012268, -0.2416781485080719, -0.13714686036109924, 0.06696529686450958, -0.37365156412124634, -0.31143584847450256, 0.3855680227279663, 0.440786749124527, 0.25922155380249023, -0.005187086760997772, 0.3432905972003937, 0.10996786504983902, -0.042433224618434906, 0.037522122263908386, -0.03939628601074219, -0.41324421763420105, -0.633470356464386, -0.08555687963962555, -0.4397311210632324, -0.07039925456047058, -0.04758830741047859, -0.15246447920799255, 0.2000257968902588, 0.17470921576023102, -0.06293561309576035, 0.22809797525405884, 0.28832709789276123, 0.521945059299469, 0.2952837347984314, -0.4632425010204315, -0.0876876637339592, 0.236378476023674, 0.2646261155605316, 0.21882587671279907, 0.020693466067314148, 0.18169307708740234, 0.12227439135313034, 0.12319277226924896, -0.11884118616580963, -0.19748246669769287, -0.28701314330101013, 0.31282302737236023, -0.007044807076454163, 0.12855064868927002, -0.03191076219081879, -0.2923857867717743, 0.6068010926246643, -0.663809597492218, 0.2989753186702728, -0.003224791958928108, 0.006005693227052689, 0.1481543928384781, 0.17449146509170532, 0.0034439079463481903, -0.6321345567703247, -0.32296478748321533, -0.08733145892620087, 0.08396132290363312, 0.12547072768211365, 0.45338165760040283, -0.40991559624671936, 0.6256262063980103, -0.0007352316752076149, -0.21261627972126007, -0.10254386067390442, 0.10259416699409485, -0.4423348307609558, 0.07818017899990082, 0.13624316453933716, -0.5208967328071594, 0.12839378416538239, -0.031980954110622406, -0.29168087244033813, -2.219820499420166, -0.07828948646783829, 0.46699589490890503, -0.3417944312095642, 0.1810843050479889, -0.038694825023412704, -0.026165546849370003, -0.17944876849651337, -0.5246875286102295, -0.18809780478477478, -0.1554005891084671, -0.49122291803359985, 0.42779844999313354, 0.3260396718978882, 0.34395310282707214, -0.3499024510383606, 0.22064834833145142, -0.3293217718601227, -0.5765480995178223, 0.2629145383834839, -0.13379821181297302, 0.04106873273849487, 0.3024381995201111, -0.22111287713050842, 0.42000967264175415, 0.8165575861930847, -0.10674358904361725, -0.26309555768966675, -0.29944178462028503, 0.08989107608795166, -0.44989943504333496, -0.4232792258262634, 0.07181534171104431, 0.12282958626747131, 0.11735016107559204, 0.001430591568350792, -0.11514663696289062, -0.2610398232936859, 0.17437386512756348, -0.17016929388046265, -0.25990116596221924, -0.2389642596244812, 0.2570461630821228, -0.04930349439382553, 0.6316817998886108, -0.05994030460715294, -0.20149758458137512, -0.6836925745010376, -0.093314990401268, 0.312284916639328, -0.050734661519527435, -0.2094799131155014, 0.056268516927957535, -0.11464155465364456, -0.03205680102109909, -0.47613048553466797, 0.32873567938804626, 0.30835869908332825, -0.03931817412376404, -0.7530822157859802, 0.3719225823879242, 0.04131610691547394, -0.03093031793832779, -0.09379489719867706, 0.09380778670310974, -0.545242190361023, -0.44341138005256653, -0.5306036472320557, 0.17455580830574036, 0.14249621331691742, -0.33962351083755493, 0.09692512452602386, -0.6362325549125671, -1.0411895513534546, -0.3388502299785614, 0.02383490838110447, 0.14602091908454895, -0.029362546280026436, 0.013772301375865936, -0.0284043587744236, -0.21645455062389374, -0.23864734172821045, -0.1812785118818283, 0.3067290186882019, -0.33302295207977295, -0.6496695280075073, 0.06401661038398743, -0.34459108114242554, -0.04416721686720848, -0.1356002688407898, 0.41394826769828796, 0.34363269805908203, 0.05431033670902252, 0.41711699962615967, -0.04789036139845848, -0.06210336461663246, 0.43870311975479126, -0.3676218092441559, 0.20488767325878143, 0.040360718965530396, 0.01746397465467453, -0.3393445312976837, 0.32038116455078125, 0.022654708474874496, 0.4497947096824646, 0.1322742998600006, -0.6137070059776306, -0.024248160421848297, 0.017100468277931213, 0.19743750989437103, -0.2295263260602951, -0.5721990466117859, 0.11519472301006317, -0.20958910882472992, -0.14820490777492523, -0.5142968893051147, 0.2912835478782654, 0.6670698523521423, -0.008663414046168327, 0.29552268981933594, 0.19126805663108826, 0.7743499279022217, 0.14106425642967224, -0.29691216349601746, -0.3230765461921692, -0.05653464049100876, -0.050376806408166885, -0.37525415420532227, 0.1294875591993332, -0.09586329758167267, 0.05621945112943649, -0.09796623140573502, -0.14465869963169098, -0.17381657660007477, 0.23722554743289948, 0.30691033601760864, -0.07496190071105957, -0.11378145217895508, 0.11259394139051437, 0.17836415767669678, 0.19237717986106873, 0.24069803953170776, -0.17813067138195038, -0.021645113825798035, -0.09370268881320953, 0.5817500352859497, -0.09162749350070953, -0.2270011305809021, 0.1051112562417984, 0.18483564257621765, -0.1579514741897583, -0.28558778762817383, -0.08637730777263641, -0.4016655385494232, -0.0038511622697114944, -0.11543644219636917, 0.45718586444854736, -0.3150498569011688, -0.35518524050712585, -0.30802834033966064, -0.14233244955539703, 0.07234346866607666, 0.07301536202430725, 0.6309813857078552, -0.06998739391565323, -0.006803199648857117, 0.24345269799232483, -0.08453362435102463, -0.21288029849529266, 0.21258364617824554, -0.13943660259246826, -0.1605326384305954, 0.2503756880760193, -0.3433924913406372, -0.40925440192222595, 0.4704987704753876, 0.1262955367565155, -0.1888168752193451, -0.007937896996736526, -0.19100624322891235, -0.15624721348285675, -0.24902009963989258, -0.12580710649490356, 0.08941291272640228, 0.17935329675674438, 0.15131020545959473, -0.004152137320488691, -0.464916467666626, 0.011302977800369263, 0.066320039331913, -0.19136953353881836, 0.29414084553718567, -0.4525097608566284, -0.18379423022270203, -0.8408244848251343, -0.23892651498317719, 0.32984688878059387, -0.21974197030067444, 0.4196511507034302, 0.4905017912387848, 0.4067004919052124, 0.15289154648780823, -0.35978031158447266, 0.13290935754776, -0.0499652661383152, 0.012681907042860985, 0.3235240876674652, 0.08470144867897034, -0.11985699087381363, -0.03350482136011124, -0.18598972260951996, -0.174330934882164, -0.412218302488327, -0.15015260875225067, 0.24533334374427795, -0.07709056884050369, 0.09227113425731659, -0.12970544397830963, 0.157870352268219, -0.0317668542265892, -0.5265316963195801, -0.04637601226568222, 0.39590656757354736, 0.030529454350471497, -0.594334065914154, -0.28820866346359253, -0.23802028596401215, 0.3695477843284607, 0.02206823229789734, 0.1729360669851303, 0.1621209979057312, -0.5284636616706848, 0.09079098701477051, -0.06111719459295273, 0.08755514025688171, 0.27020227909088135, -0.2805304229259491, 0.07718820869922638, -0.038639768958091736, 0.3657033443450928, -0.08479446917772293, -0.0456315353512764, -0.03380843251943588, -0.14361228048801422, 0.2406376153230667, -0.006377106532454491, 0.0535525307059288, 0.6789275407791138, -0.21964815258979797, -0.22199293971061707, -0.18850211799144745, 0.205306738615036, -0.20901931822299957, -0.295256644487381, -0.03176935389637947, -0.3447551131248474, -0.4257626533508301, 0.030656833201646805, -0.010377896018326283, 0.013585692271590233, 0.03377069532871246, 0.12189453840255737, 0.28522634506225586, 0.3281113803386688, 0.06466472148895264, -0.13484404981136322, 0.012328766286373138, 0.4639674127101898, 0.35534539818763733, -0.045928239822387695, -0.26948583126068115, -0.04817746952176094, -0.07259034365415573, 0.1604142040014267, -0.26638349890708923, -0.03199729323387146, 0.06879346817731857, -0.6317698955535889, -0.19225266575813293, -0.4020780026912689, 0.33584460616111755, 0.7096547484397888, -0.00291457399725914, 0.03204214200377464, 0.10008061677217484, -0.0937904641032219, 0.17434529960155487, 0.4293324649333954, -0.12874673306941986, 0.2672061324119568, 0.04689881205558777, 0.30090489983558655, -0.14961346983909607, 0.3074415624141693, 0.10606551170349121, -0.06372752040624619, 0.4795079231262207, 0.4152209460735321, -0.021483883261680603, 0.04641112685203552, -0.1220838725566864, 0.6697016358375549, 0.36431407928466797, 0.3016796410083771, -0.13046379387378693, 0.0292607843875885, 0.16121600568294525, -0.34940290451049805, 0.18417765200138092, 0.3527848720550537, -0.20353595912456512, -0.01383388414978981, 0.5306297540664673, 0.47207024693489075, -0.6229227781295776, -0.05107675492763519, 0.22654381394386292, -0.5158762335777283, -0.44933781027793884, 0.20017538964748383, 0.04738733917474747, -0.339861661195755, 0.4403175711631775, 0.24553462862968445, 0.08674730360507965, 0.5226560235023499, -0.5088621377944946, -0.46064233779907227, 0.0967647135257721, 0.4780328869819641, 0.28887680172920227, 0.34509745240211487, -0.3738073408603668, 0.34240487217903137, -0.28645139932632446, -0.37856215238571167, -0.1031021699309349, 0.10039079934358597, 0.27428627014160156, 0.0018454939126968384, -0.019807375967502594, 0.4134172797203064, 0.44463467597961426, 0.3079313039779663, 0.3927473723888397, 0.3698577284812927, 0.13270339369773865, -0.30139610171318054, 0.570749044418335, 0.1166011318564415, 0.17286896705627441, 0.0828581303358078, -0.3371169865131378, -0.1764671504497528, -0.036936771124601364, -0.0006368127651512623, 0.195973202586174, 0.15991151332855225, -0.3542746305465698, -0.4927576184272766, 0.03507891297340393, -0.31973719596862793, 0.375759482383728, -0.40289226174354553, 0.09934668242931366, 0.5316617488861084, 0.19747617840766907, -0.3822947144508362, -0.3346112072467804, 0.15686112642288208, -0.09553372114896774, 0.3133166432380676, -0.09110375493764877, 0.17609256505966187, -0.1860378384590149, 0.4694507122039795, 0.10535673052072525, -0.27214157581329346, -0.5310486555099487, -0.255802720785141, 0.362055242061615, -0.02425961382687092, -0.7146667838096619, -0.6818206906318665, 0.25533899664878845, -0.5602172613143921, -0.034787677228450775, -0.14938843250274658, 0.07315415143966675, -0.2589944899082184, 0.4494207203388214, -0.5352376699447632, 0.17939169704914093, -0.3826446235179901, -0.027637742459774017, -0.20823466777801514, 0.37825655937194824, 0.31759828329086304, 0.6551946997642517, -0.16479887068271637, 0.7898322343826294, -0.3444296717643738, -0.22661280632019043, 0.23157325387001038, -0.061619505286216736, 0.03747513145208359, 0.3022138178348541, 0.04171769320964813, -0.1147197037935257, -0.3103953003883362, -0.03909886255860329, 0.4424348473548889, -1.2626819610595703, 0.1333780288696289, -0.21084697544574738, -0.06060078740119934, 0.2878356873989105, 0.15877889096736908, -0.223560631275177, 0.1910838633775711, -0.08355315029621124, 0.03713519498705864, -0.13284751772880554, 0.25457072257995605, -0.13082921504974365, -0.17519479990005493, 0.25098559260368347, 0.3726922571659088, -0.18604004383087158, -0.39020928740501404, -0.02298649400472641, 0.2953146994113922, 0.21641391515731812, 0.02560046687722206, 0.05423600226640701, -0.14574676752090454, 0.3272428512573242, -0.02735113352537155, -0.1181844025850296, -0.6169447898864746, 0.570622444152832, 0.10174732655286789, 0.10353866219520569, -0.09975478053092957, -1.2793155908584595, 0.040274132043123245, -0.22500041127204895, -0.6831457614898682, 0.32997140288352966, -0.29357942938804626, -0.23635981976985931, -0.14872953295707703, 0.20235660672187805, -0.48392367362976074, -0.10470465570688248, -0.2224881500005722, -0.05949288606643677, -0.12746217846870422, 0.16005635261535645, 0.04318248853087425], [0.3469729423522949, 0.009823762811720371, -0.24366681277751923, -0.34103548526763916, 0.10220703482627869, -0.2469986230134964, 0.48328670859336853, -0.016662543639540672, -0.22942741215229034, -0.27248021960258484, -0.1175299882888794, -0.28678998351097107, -0.09716275334358215, 0.677265465259552, 0.08752861618995667, 0.4329500198364258, 0.23596017062664032, 0.21685050427913666, -0.208068385720253, -0.4158758819103241, -0.08293605595827103, 0.13496871292591095, 0.05125190690159798, 0.19432254135608673, 0.00035187540925107896, -0.05509437248110771, -0.1938038468360901, 0.2423648089170456, 0.13953030109405518, -0.10188629478216171, 0.42146024107933044, -0.14618174731731415, -0.22778122127056122, 0.16828739643096924, -0.13146471977233887, -0.3331475555896759, -0.21541225910186768, -0.016993293538689613, -0.6151438355445862, -0.2516532838344574, -0.14542712271213531, -0.3389398157596588, 0.3413600027561188, -0.14556153118610382, -0.010810685344040394, -0.40978947281837463, 0.28124794363975525, 0.06623662263154984, 0.04188069701194763, -0.43199288845062256, 0.0113712502643466, 0.08829184621572495, 0.3077264130115509, -0.22329215705394745, 0.313696950674057, 0.7604812979698181, -0.21969957649707794, -0.2410743236541748, -0.023578917607665062, -0.02863135375082493, 0.3912130892276764, 0.09929785877466202, 0.26746150851249695, -0.06771335750818253, 0.026160022243857384, 0.0835711732506752, 0.1378030776977539, 0.3109097480773926, -0.39289724826812744, -0.08588964492082596, -0.5022745132446289, 0.2620640695095062, -0.05310983955860138, 0.15231232345104218, -0.14230503141880035, -0.06115660071372986, 0.07180296629667282, 0.3642774522304535, -0.2316247969865799, -0.24043720960617065, -0.09961897134780884, 0.6993885040283203, -0.001925674849189818, 0.1259058117866516, 0.021922839805483818, -0.34005245566368103, -0.30800196528434753, -0.1520872712135315, 0.1151837706565857, 0.6845287680625916, -0.13685549795627594, 0.005254959221929312, -0.3318665325641632, 0.19759292900562286, -0.002742064418271184, -0.27851030230522156, -0.28085318207740784, 0.019578997045755386, 0.32202407717704773, 0.07676570862531662, 0.14894543588161469, -0.48289790749549866, -0.16010500490665436, 0.14989668130874634, -0.3963972330093384, 0.07180250436067581, 0.285565048456192, -0.21381120383739471, -0.044228699058294296, -0.5053836703300476, 0.234239861369133, -0.27863162755966187, 0.4039931297302246, -0.49290403723716736, -0.4387359917163849, 0.034989167004823685, 0.42258715629577637, -0.14260314404964447, -0.2604835331439972, 0.19697557389736176, -0.30691206455230713, -0.0808030366897583, -0.10814177244901657, 0.6535823345184326, -0.01873631589114666, -0.06802099943161011, 0.22770291566848755, -0.05473603680729866, -0.4238004982471466, -0.4845302104949951, 0.1702018529176712, 0.35105130076408386, -0.1993187665939331, 0.08711344748735428, -0.49489858746528625, -0.02607554942369461, 0.03751005604863167, 0.11937595158815384, -0.4105251729488373, -0.10935452580451965, 0.1473783403635025, 0.2701525390148163, -0.6539807319641113, 0.40482988953590393, 0.5079903602600098, 0.19314832985401154, -0.2524764835834503, -0.09010090678930283, 0.19839543104171753, 0.33723437786102295, 0.12127208709716797, -0.16688203811645508, -0.010862189345061779, -0.11868178099393845, -0.2200237661600113, 0.06241832673549652, 0.20771978795528412, 0.4446437656879425, 0.06853125244379044, 0.25076350569725037, 0.5505934953689575, -0.2789863049983978, -0.040354110300540924, 0.6118205189704895, -0.04204421117901802, 0.002936768112704158, -0.17545528709888458, 0.17027556896209717, -0.14206834137439728, 0.0587799958884716, -0.19377191364765167, -0.17491526901721954, 0.610840916633606, -0.16376842558383942, 0.07907769829034805, 0.13623610138893127, -0.16872596740722656, 0.5906721949577332, -0.19363342225551605, 0.0844818577170372, -1.7278733253479004, 0.07527012377977371, 0.4147648513317108, -0.11562889814376831, 0.48211339116096497, 0.0023413647431880236, -0.2148059606552124, -0.5122277736663818, 0.11890730261802673, -0.13525545597076416, -0.23077702522277832, -0.09103665500879288, -0.41534972190856934, -0.05683472752571106, 0.3888877332210541, -0.3322392404079437, 0.1412586122751236, -0.7984235882759094, -0.028009595349431038, -0.2807280421257019, -0.1135478988289833, -0.280876487493515, 0.20144124329090118, 0.2761882543563843, -0.17309503257274628, 0.7403865456581116, 0.3194878101348877, -0.29405006766319275, -0.008389219641685486, 0.15963880717754364, -0.4143542945384979, 0.2767290472984314, 0.0758044421672821, -0.28585219383239746, 0.28349319100379944, -0.009743660688400269, 0.055298659950494766, -0.17430393397808075, -0.14067526161670685, 0.2657645344734192, 0.048923421651124954, 0.28240880370140076, -0.41680797934532166, 0.4665880501270294, -0.14438076317310333, 0.7119128108024597, 0.011359875090420246, 0.020990192890167236, 0.022223135456442833, 0.07701615989208221, -0.1000872477889061, -0.10909182578325272, 0.5436897873878479, 0.19521526992321014, -0.059825435280799866, -0.1663994938135147, -0.21571320295333862, -0.3111007511615753, -0.2415248304605484, -0.37863874435424805, 0.08690688759088516, 0.12399224191904068, 0.07737497985363007, 0.5877335071563721, 0.05952879786491394, -0.06475009769201279, 0.2495722770690918, 0.012272884137928486, -0.05662718415260315, -0.1322757750749588, -0.2429143786430359, -0.2600162625312805, 0.33959388732910156, -0.3361102044582367, 0.07472006231546402, -0.3987736403942108, 0.012787953019142151, -0.23150497674942017, 0.016623714938759804, 0.012710352428257465, 0.060740407556295395, 0.24464599788188934, 0.641541063785553, 0.010464360006153584, -0.7016768455505371, -0.47713565826416016, -0.1338420808315277, 0.12822461128234863, 0.11731750518083572, 0.24152745306491852, 0.08282197266817093, 0.1436348706483841, -0.39198097586631775, -0.491769403219223, 0.053085844963788986, -0.28463807702064514, 0.47456157207489014, -0.19961686432361603, 0.31847548484802246, -0.1240818127989769, 0.020258625969290733, 0.4269312620162964, -0.0965593159198761, 0.021493980661034584, 0.3387816846370697, -0.5059099197387695, 0.08518073707818985, 0.1338362842798233, 0.03469898924231529, -0.18956464529037476, -0.25708213448524475, 0.23199500143527985, -0.22500377893447876, -0.1853332370519638, 0.18716762959957123, 0.15509957075119019, 0.1644739955663681, 0.5336342453956604, 0.18487881124019623, -0.3046971261501312, 0.2115202099084854, 0.012228448875248432, 0.2755450904369354, -0.18401877582073212, 0.4333609640598297, 0.3416052758693695, -0.007431397680193186, -0.05030597373843193, -2.4383461475372314, 0.2077549546957016, 0.26302143931388855, -0.19788026809692383, 0.48109087347984314, 0.03973303362727165, 0.5006860494613647, -0.2732752859592438, -0.44318732619285583, -0.5840560793876648, -0.2918339669704437, -0.4397001564502716, 0.2202925682067871, -0.08345934003591537, 0.04163646325469017, -0.09580608457326889, -0.11663508415222168, -0.20358209311962128, -0.1373632401227951, 0.6169503927230835, -0.16161571443080902, -0.12060607224702835, 0.07488687336444855, -0.4798392951488495, 0.25105050206184387, 0.212494894862175, -0.8816613554954529, -0.23320285975933075, -0.2222534418106079, 0.44658198952674866, -0.6051650643348694, -0.14674963057041168, 0.03233689069747925, 0.0261380597949028, -0.022520890459418297, 0.0899762213230133, -0.3037421703338623, -0.17994125187397003, 0.05949829891324043, -0.15986593067646027, -0.1679222583770752, -0.007883419282734394, -0.20328760147094727, 0.3114813566207886, 0.43502020835876465, -0.31623944640159607, 0.0025780026335269213, -0.23591463267803192, 0.22414930164813995, 0.34536126255989075, -0.015305052511394024, 0.5320890545845032, 0.020016789436340332, -0.5467337965965271, 0.06394201517105103, -0.05976366996765137, -0.10806945711374283, 0.1881576031446457, -0.18699979782104492, -0.08254525810480118, 0.22747480869293213, 0.18705864250659943, -0.004229068756103516, 0.3079005181789398, -0.06520210951566696, -0.3404174745082855, -0.22812223434448242, -0.537714421749115, 0.3040083348751068, 0.3777165710926056, -0.19953550398349762, 0.3904959261417389, 0.14780433475971222, -0.9991209506988525, -0.2444576770067215, -0.03518182039260864, -0.25870785117149353, -0.1141803190112114, 0.3113655149936676, -0.3663640320301056, -0.08516288548707962, -0.10768736153841019, 0.15645228326320648, 0.1557435542345047, -0.48858603835105896, -0.16707193851470947, 0.035252925008535385, -0.3014804422855377, -0.42615601420402527, -0.47421541810035706, -0.2950238287448883, 0.23581969738006592, 0.3934686481952667, 0.17205844819545746, 0.16156794130802155, -0.24383263289928436, 0.07806986570358276, -0.16562603414058685, 0.3488222658634186, -0.0316193513572216, -0.06512906402349472, -0.2211884707212448, 0.5042533278465271, -0.6122729778289795, -0.30585649609565735, 0.27636730670928955, -0.385870099067688, 0.3584958612918854, -0.44215238094329834, 0.5492355227470398, 0.26636841893196106, -0.5598861575126648, 0.03647175431251526, -0.2810088098049164, 0.20715267956256866, -0.6685991287231445, 0.14491505920886993, 0.7703521251678467, -0.10897419601678848, 0.1452445238828659, -0.02163681387901306, 0.5341642498970032, -0.17610426247119904, -0.19351153075695038, 0.28172552585601807, -0.16329102218151093, -0.008836501277983189, -0.5975081324577332, 0.1035521849989891, -0.07457960397005081, -0.5259803533554077, 0.2748027443885803, -0.2376110553741455, -0.699413537979126, 0.031349655240774155, -0.22095052897930145, -0.2457103729248047, -0.2832084894180298, -0.061937082558870316, 0.39147353172302246, 0.44360125064849854, 0.19525359570980072, -0.25622716546058655, 0.19176314771175385, 0.17836613953113556, -0.015949243679642677, 0.20975549519062042, 0.29673025012016296, 0.43852463364601135, 0.31475961208343506, -0.41620421409606934, -0.0038069933652877808, 0.2729106545448303, -0.33518657088279724, 0.12198207527399063, -0.5465303063392639, 0.15131238102912903, -0.2841375172138214, -0.1475418508052826, -0.14617222547531128, 0.289668470621109, -0.09167200326919556, -0.5556462407112122, 0.22711817920207977, -0.30541861057281494, 0.4281063973903656, -0.23866331577301025, 0.12157482653856277, -0.4306868612766266, -0.036791715770959854, -0.14878350496292114, -0.10836732387542725, 0.45608434081077576, -0.10788551717996597, -0.5196189284324646, 0.45451900362968445, -0.2641298472881317, -0.1146981492638588, 0.057521238923072815, 0.2793186604976654, 0.04434928670525551, 0.235415518283844, -0.3917832374572754, 0.27121463418006897, 0.08885848522186279, -0.002279512584209442, -0.020925963297486305, -0.04719476029276848, 0.06546016782522202, 0.2901793420314789, 0.08056257665157318, 0.4138816297054291, -0.12529021501541138, -0.4661690294742584, -0.34648075699806213, -0.32415571808815, -0.01296369731426239, -0.23260730504989624, 0.4635551869869232, 0.37468576431274414, 0.3709210455417633, 0.2770926058292389, -0.09162101149559021, 0.10343246906995773, 0.14741970598697662, 0.09324976056814194, 0.1009305939078331, 0.0010339220752939582, 0.2050733119249344, 0.3311893045902252, -0.31194984912872314, -0.5872282981872559, -0.30410727858543396, -0.2637914717197418, 0.1705894023180008, 0.11932307481765747, 0.14768552780151367, -0.21884815394878387, -0.0394195131957531, 0.04194219037890434, -0.1059209331870079, -0.4048509895801544, -0.03805240988731384, -0.038001492619514465, -0.6043347716331482, 0.0167041327804327, -0.18627412617206573, -0.040549855679273605, -0.3677631914615631, 0.2196250706911087, -0.1820404976606369, -0.10686842352151871, 0.19772179424762726, 0.1641426831483841, 0.28530004620552063, -0.16025058925151825, -0.24339962005615234, -0.1747988611459732, -0.13060086965560913, -0.010170900262892246, 0.04494160786271095, -0.2129126340150833, -0.0977671667933464, -0.17243440449237823, 0.31624728441238403, 0.48497965931892395, 0.46719932556152344, 0.5166626572608948, -0.037192896008491516, 0.06927470117807388, 0.05491568520665169, -0.046301793307065964, 0.07097620517015457, -0.33163687586784363, -0.20911824703216553, -0.04256584867835045, -0.07277778536081314, 0.18383292853832245, 0.117106594145298, -0.3813565969467163, -0.17421245574951172, 0.5091044902801514, -0.3240499794483185, -0.08811202645301819, 0.11774200201034546, 0.06631343811750412, 0.2420239895582199, 0.32576385140419006, 0.05435296893119812, 0.25895535945892334, -0.045583706349134445, -0.30464866757392883, 0.15461185574531555, 0.49216389656066895, -0.4019041061401367, 0.2556699812412262, -0.12886112928390503, -0.3645818531513214, -0.3146772086620331, -0.46608924865722656, 0.1552165299654007, 0.9081912040710449, -0.14968180656433105, -0.5374656319618225, -0.013553425669670105, -0.35319867730140686, -0.1890258938074112, 0.15427036583423615, -0.4204505383968353, -0.36641350388526917, 0.6263391375541687, 0.0521802119910717, 0.07565686851739883, 0.18829844892024994, -0.19968461990356445, 0.07602616399526596, 0.04658536985516548, 0.33622658252716064, -0.6280050277709961, 0.23522013425827026, -0.4251103401184082, 0.5494057536125183, 0.47857117652893066, 0.0948118269443512, 0.11165744066238403, -0.03184858709573746, -0.057338520884513855, -0.6331520080566406, 0.10872364044189453, 0.3192141354084015, -0.20692558586597443, -0.40444064140319824, 0.05722828209400177, 0.2767848074436188, -0.6982994675636292, -0.07147110253572464, 0.47892382740974426, -0.2669509947299957, -0.09153217822313309, 0.298480361700058, -0.07083193212747574, 0.10994396358728409, 0.7394793033599854, -0.30647510290145874, 0.15656235814094543, 0.4877655804157257, -0.5353362560272217, -0.14428658783435822, 0.020593827590346336, 0.2753538191318512, -0.05176950618624687, 0.1077757477760315, -0.1570645272731781, 0.592877209186554, -0.01660776138305664, -0.06495177000761032, -0.10453031212091446, -0.03855566307902336, 0.42919614911079407, -0.008510589599609375, 0.1435210108757019, -0.1294037252664566, -0.1894483119249344, 0.7480072379112244, 0.2784530222415924, -0.28862622380256653, 0.1360156536102295, 0.17571063339710236, 0.46181824803352356, 0.04783416911959648, 0.5201279520988464, 0.2882160246372223, 0.10827448219060898, -0.021680280566215515, 0.040997881442308426, 0.029684623703360558, 0.24169383943080902, 0.34501326084136963, -0.08848530799150467, -0.7434913516044617, 0.042106743901968, 0.05809228494763374, 0.5048550367355347, -0.45332658290863037, 0.633693277835846, 0.4417552053928375, -0.0882956013083458, 0.04193238914012909, -0.5573309659957886, 0.059401482343673706, 0.734269380569458, 0.2325587123632431, -0.10666951537132263, 0.27386948466300964, 0.17759181559085846, 0.5764170289039612, -0.19372446835041046, -0.31101372838020325, -0.00091647106455639, -0.2824031114578247, -0.22986018657684326, -0.027435004711151123, -0.5103802680969238, -0.5685155987739563, -0.14252100884914398, -0.676173985004425, -0.32748523354530334, -0.17580191791057587, -0.05652153119444847, -0.6001356840133667, 0.607745349407196, -0.3827904462814331, -0.20555013418197632, -0.09165167808532715, -0.0063310363329946995, -0.3376493453979492, 0.3242361545562744, 0.5345718860626221, 0.39479923248291016, 0.1380045861005783, 0.48707327246665955, -0.0033999483566731215, -0.6018190979957581, 0.0015428116312250495, 0.16067509353160858, 0.142828568816185, -0.2505471408367157, 0.646921694278717, -0.43251320719718933, -0.018994860351085663, 0.028290480375289917, 0.040799032896757126, -1.0464683771133423, 0.2559295892715454, -0.0012684017419815063, -0.03084220178425312, 0.35018256306648254, 0.07866574078798294, -0.38945844769477844, 0.09287303686141968, -0.005393898580223322, 0.12393239885568619, 0.054533954709768295, 0.27974435687065125, -0.6665794849395752, -0.23978888988494873, -0.21619242429733276, 0.2963237762451172, 0.01568346656858921, -0.24685823917388916, 0.007968832738697529, 0.20167584717273712, 0.4299382269382477, 0.07679855078458786, 0.029325982555747032, 0.047202687710523605, 0.4107324779033661, 0.08500966429710388, -0.41024160385131836, -0.44326528906822205, 0.14777719974517822, 0.08492545038461685, 0.19978569447994232, -0.048030585050582886, -1.5807576179504395, -0.6358508467674255, 0.2884517014026642, 0.01552293449640274, 0.23292219638824463, -0.07532393932342529, 0.4442780017852783, -0.24366313219070435, -0.13355165719985962, -0.46869957447052, 0.16265235841274261, -0.049422044306993484, -0.1116955578327179, 0.04042677581310272, 0.373622328042984, 0.20574073493480682], [0.09467019140720367, -0.0068522123619914055, 0.2691792845726013, -0.21648558974266052, -0.10620523989200592, -0.18564064800739288, 0.3905157446861267, 0.03665388748049736, -0.16552580893039703, -0.34670591354370117, -0.17577579617500305, -0.12584683299064636, -0.09797074645757675, 0.32676610350608826, -0.11263918876647949, 0.09105048328638077, 0.12379322201013565, 0.17427651584148407, -0.13709059357643127, -0.04832148179411888, -0.0389939546585083, -0.09341521561145782, 0.08742348849773407, -0.03991933912038803, 0.18559792637825012, -0.012512588873505592, -0.19609284400939941, 0.030235547572374344, 0.03726307675242424, -0.24037781357765198, 0.21130859851837158, -0.11022055149078369, -0.04918571189045906, 0.13390301167964935, -0.5724297761917114, -0.12075531482696533, 0.024536866694688797, 0.1999252885580063, -0.4178082346916199, -0.15631338953971863, -0.0847649872303009, -0.3772115707397461, 0.39046671986579895, 0.15907707810401917, -0.30458566546440125, -0.5636223554611206, -0.25758832693099976, 0.0027750968001782894, -0.06302279233932495, -0.10742125660181046, 0.11610746383666992, 0.31584432721138, -0.3112764358520508, 0.043847016990184784, 0.15790283679962158, 0.11675109714269638, -0.1636061668395996, -0.18180854618549347, -0.11543796211481094, -0.019513022154569626, -0.0764821395277977, -0.12275079637765884, 0.2026161253452301, -0.07800617069005966, -0.034705452620983124, 0.34349918365478516, 0.30351680517196655, 0.22809188067913055, -0.461936891078949, 0.17326542735099792, 0.010809260420501232, -0.02612553909420967, 0.12982450425624847, 0.0368204191327095, 0.04660246521234512, -0.06836826354265213, -0.07059497386217117, 0.321998655796051, -0.04548634961247444, 0.1486537605524063, -0.043812766671180725, 0.33894792199134827, 0.12047597020864487, 0.2575340270996094, -0.03724091127514839, -0.23323309421539307, -0.08337204158306122, 0.144110769033432, 0.04814235121011734, 0.4907282888889313, -0.17948921024799347, -0.18845513463020325, 0.00383683736436069, 0.05765945464372635, 0.2498094141483307, -0.3397606313228607, -0.11035001277923584, 0.11445456743240356, 0.04844336584210396, -0.02187691070139408, 0.12006522715091705, -0.36332789063453674, 0.09350840747356415, 0.019116878509521484, -0.2917172908782959, 0.10544725507497787, 0.21621131896972656, -0.2764558792114258, -0.051709096878767014, -0.41496720910072327, 0.4082612991333008, -0.18923310935497284, 0.15968653559684753, -0.36685365438461304, -0.028321709483861923, 0.2829999029636383, 0.2983047366142273, 0.11118955910205841, 0.0029400766361504793, -0.1451074182987213, -0.2606021761894226, 0.04234490543603897, 0.19617927074432373, 0.4935416281223297, 0.17499004304409027, 0.1842169612646103, -0.08299684524536133, 0.07419788837432861, -0.1451537162065506, -0.2741033136844635, 0.03032280132174492, 0.19872263073921204, 0.09921126067638397, 0.10328342765569687, -0.175838902592659, 0.02286428213119507, 0.010821351781487465, -0.037156812846660614, -0.5928095579147339, -0.14487038552761078, 0.06317860633134842, 0.5278091430664062, -0.4674275517463684, 0.0846688523888588, 0.374167263507843, 0.23470011353492737, -0.16929706931114197, -0.03262375667691231, -0.012231290340423584, -0.1265110969543457, 0.1509590595960617, -0.18186107277870178, -0.01045224629342556, -0.056042224168777466, -0.19568303227424622, -0.11548756062984467, -0.1681070625782013, 0.15789228677749634, 0.13905930519104004, 0.4360349774360657, 0.3170124888420105, 0.11196217685937881, -0.06104423850774765, 0.45631733536720276, -0.22628438472747803, 0.007637866772711277, -0.022609388455748558, 0.3784148395061493, 0.18022525310516357, 0.1742764413356781, 0.06246321275830269, -0.20940808951854706, 0.3490304946899414, 0.14539194107055664, 0.06808026880025864, 0.2268199473619461, 0.3183405101299286, 0.19961446523666382, -0.2164984494447708, -0.08856275677680969, -2.1196906566619873, -0.03204435110092163, 0.15896698832511902, 0.06139153242111206, 0.4517696797847748, 0.20266184210777283, 0.0296305064111948, -0.2889786660671234, 0.038414426147937775, 0.09294824302196503, -0.10883331298828125, -0.03647559881210327, -0.26358288526535034, -0.010208934545516968, 0.27379098534584045, -0.0588352307677269, 0.20059171319007874, -0.10687365382909775, 0.02106931246817112, 0.011860022321343422, 0.14994607865810394, 0.09141190350055695, 0.15244798362255096, 0.228099063038826, -0.11608687788248062, 0.6336959600448608, 0.15455690026283264, -0.07277269661426544, -0.10477229207754135, 0.27734336256980896, -0.5772133469581604, 0.24609187245368958, 0.19505921006202698, -0.13270100951194763, 0.22389967739582062, -0.07160675525665283, 0.3316296935081482, -0.31881052255630493, -0.31803733110427856, 0.0885332003235817, 0.08689086139202118, -0.1357727348804474, -0.21411201357841492, 0.10442336648702621, 0.12613140046596527, 0.015868091955780983, 0.5350252389907837, 0.004589176271110773, 0.24600403010845184, 0.018751297146081924, 0.050916992127895355, -0.2307111769914627, 0.3707866072654724, 0.0790855810046196, -0.29863399267196655, 0.10445477813482285, 0.04930385202169418, -0.3098011314868927, -0.029962848871946335, -0.23103857040405273, -0.11700943857431412, 0.13366909325122833, 0.15073701739311218, 0.3445562720298767, -0.20355930924415588, -0.125477135181427, 0.22121548652648926, -0.07505051046609879, 0.18573234975337982, -0.054834675043821335, -0.05041154474020004, -0.6351643204689026, 0.18004944920539856, -0.2886187732219696, 0.3243109881877899, -0.3761464059352875, -0.0338841937482357, 0.20458579063415527, 0.11428894102573395, -0.1306537687778473, 0.27354371547698975, 0.07158316671848297, 0.4896546006202698, 0.08418282121419907, -0.35021504759788513, 0.10871736705303192, 0.10176628828048706, 0.1308867484331131, 0.07951973378658295, 0.02593880519270897, 0.017678912729024887, 0.1258779913187027, 0.07138035446405411, -0.45694980025291443, -0.039949845522642136, -0.31760385632514954, 0.38400474190711975, -0.033215928822755814, 0.10637974739074707, -0.4750964045524597, -0.23750090599060059, 0.22563371062278748, -0.5360703468322754, 0.047130078077316284, 0.4683545231819153, -0.35499051213264465, 0.08552108705043793, 0.05312681943178177, 0.03635319322347641, -0.008531415835022926, 0.00212872470729053, -0.10787570476531982, -0.180444598197937, -0.022334765642881393, 0.2950380742549896, -0.05020963028073311, 0.3386250436306, 0.4377804398536682, -0.29189831018447876, -0.10592582076787949, 0.17352613806724548, 0.06765153259038925, -0.03579137474298477, -0.23391635715961456, 0.08786209672689438, 0.09519048780202866, 0.07582215219736099, -0.3217217028141022, -2.9704179763793945, -0.029135961085557938, 0.30348721146583557, -0.129195898771286, 0.2365696132183075, -0.11053244769573212, 0.4193459451198578, -0.10690580308437347, -0.12711945176124573, -0.28850889205932617, -0.1650533378124237, -0.13415630161762238, 0.1827758103609085, -0.07131253182888031, -0.013910526409745216, -0.12075458467006683, 0.078011654317379, -0.33862408995628357, -0.1151500716805458, 0.14322537183761597, 0.00307120056822896, -0.21672137081623077, 0.1276055872440338, -0.18761375546455383, 0.2572474777698517, 0.13941557705402374, -0.08089157193899155, -0.23994147777557373, -0.2503339350223541, 0.21627607941627502, -0.3418285846710205, -0.16565418243408203, -0.12939095497131348, 0.1946711540222168, -0.0756840854883194, -0.055633317679166794, 0.1879003942012787, -0.21218451857566833, 0.10230998694896698, -0.18137069046497345, 0.15635159611701965, -0.05963192135095596, 0.003741136286407709, -0.00981149636209011, 0.03029991313815117, -0.20207972824573517, -0.2205292284488678, -0.40993160009384155, -0.03560773283243179, 0.15649445354938507, -0.16922104358673096, 0.1450720578432083, 0.14220818877220154, -0.3237816095352173, 0.019660044461488724, -0.06970870494842529, 0.16947586834430695, 0.4014885425567627, 0.07248508930206299, -0.21347203850746155, 0.34260624647140503, 0.058009009808301926, 0.08179627358913422, -0.021117080003023148, -0.3167194426059723, -0.09069929271936417, -0.2378171682357788, -0.19087021052837372, -0.13249471783638, 0.10418548434972763, -0.17360256612300873, 0.013380652293562889, -0.22871848940849304, -0.9234210848808289, -0.3532363772392273, -0.05101720616221428, -0.2374797761440277, -0.2624025344848633, 0.29294100403785706, -0.10926206409931183, -0.03266282007098198, -0.20389029383659363, -0.033477187156677246, 0.2661246359348297, -0.23768773674964905, -0.21554943919181824, 0.22105953097343445, -0.30809569358825684, -0.17230096459388733, -0.08738568425178528, -0.07173322141170502, 0.21315869688987732, 0.1410069614648819, 0.1898144781589508, 0.14915326237678528, 0.178449347615242, 0.06406303495168686, -0.20157650113105774, 0.2622329592704773, 0.05796755477786064, -0.02284904196858406, -0.2018827646970749, 0.23746410012245178, -0.010805618017911911, 0.17681224644184113, 0.012959444895386696, -0.4692944586277008, 0.08781085163354874, 0.00854494608938694, 0.25887423753738403, 0.21083977818489075, -0.387543648481369, -0.08026081323623657, -0.009497791528701782, 0.18469084799289703, -0.24970659613609314, 0.0564604289829731, 0.3970348536968231, -0.10461673885583878, 0.18671336770057678, 0.1771727055311203, 0.586034893989563, -0.20744681358337402, 0.2228165566921234, 0.03623364865779877, -0.1021546721458435, -0.042477406561374664, -0.1284419596195221, 0.04810694605112076, -0.07535439729690552, 0.10222907364368439, -0.08188646286725998, -0.12164293229579926, -0.4039219319820404, 0.24296978116035461, -0.006082463078200817, -0.04081540182232857, -0.2611689865589142, -0.14159221947193146, 0.2688576281070709, 0.08201369643211365, 0.2677863836288452, -0.49744486808776855, 0.08088696002960205, 0.10072040557861328, 0.2874693274497986, -0.1923997849225998, 0.10260500758886337, 0.14986135065555573, 0.27979594469070435, -0.05140749365091324, -0.5045061707496643, 0.14040599763393402, -0.472661554813385, -0.1943516731262207, -0.2926686406135559, 0.32087239623069763, -0.18582949042320251, -0.24299156665802002, -0.15925082564353943, 0.11711163818836212, -0.14455606043338776, -0.260556161403656, 0.3495025038719177, -0.07484348118305206, 0.3078707158565521, -0.06369224935770035, -0.012885456904768944, -0.42635107040405273, -0.02825007401406765, -0.05039075016975403, 0.05829772353172302, 0.3171873688697815, -0.03162099048495293, -0.1734355241060257, 0.1999955028295517, -0.03761840611696243, -0.1686844676733017, 0.20700892806053162, 0.034221306443214417, 0.019800767302513123, -0.19774410128593445, -0.10462424904108047, 0.24229860305786133, 0.180172398686409, -0.06311192363500595, 0.08347157388925552, -0.14191050827503204, 0.2951323390007019, 0.15291932225227356, -0.18158701062202454, 0.35405534505844116, -0.3656870126724243, -0.4419172406196594, -0.4511909484863281, -0.24966149032115936, 0.11631770431995392, -0.29269570112228394, 0.2617080807685852, 0.36759644746780396, 0.15290816128253937, -0.09013204276561737, -0.23958639800548553, 0.07546029984951019, -0.004839765839278698, -0.07453936338424683, 0.22351303696632385, -0.008844107389450073, -0.10196187347173691, 0.07784991711378098, -0.05073665454983711, -0.35606521368026733, -0.23323111236095428, -0.2464347630739212, -0.02159726619720459, -0.12222442775964737, -0.06426068395376205, -0.14286330342292786, 0.05130275338888168, -0.06936966627836227, -0.38308992981910706, -0.08427882194519043, 0.08749301731586456, -0.04126809909939766, -0.38007766008377075, -0.23815958201885223, -0.14146611094474792, 0.026435360312461853, -0.16979697346687317, -0.11878740787506104, -0.012813026085495949, -0.26725080609321594, 0.04066202789545059, -0.08477084338665009, -0.05685057491064072, 0.07333481311798096, -0.24456512928009033, -0.018367910757660866, -0.11025551706552505, 0.23684291541576385, 0.11755287647247314, -0.22334551811218262, -0.0871899276971817, -0.18858112394809723, 0.008898699656128883, 0.1454971432685852, 0.20637908577919006, 0.3223487436771393, 0.27671533823013306, -0.03423142433166504, 0.14770688116550446, 0.30208906531333923, 0.09052711725234985, -0.1561501920223236, -0.15528592467308044, -0.2866983413696289, -0.15558958053588867, 0.16475240886211395, -0.012850689701735973, -0.12233467400074005, -0.2376115322113037, 0.23226341605186462, 0.022272538393735886, -0.062477957457304, 0.2386970967054367, 0.2224445790052414, 0.08587058633565903, 0.014996503479778767, 0.011919324286282063, 0.36947575211524963, -0.3221445083618164, 0.15339826047420502, -0.039576321840286255, 0.05398157984018326, -0.10876230895519257, -0.042482517659664154, 0.2444559782743454, -0.3701932430267334, -0.20410308241844177, -0.2041565179824829, 0.4582365155220032, 0.5890437960624695, -0.08509894460439682, -0.17149344086647034, 0.2300306260585785, -0.2663155496120453, -0.07223950326442719, -0.06978976726531982, -0.06157088279724121, 0.1340571939945221, 0.25942692160606384, 0.4492993950843811, -0.21576499938964844, 0.4847840666770935, 0.03083387017250061, 0.21394801139831543, 0.1406845897436142, 0.2364715039730072, -0.5750841498374939, 0.19128835201263428, -0.16160060465335846, 0.21459642052650452, 0.28587061166763306, 0.023363862186670303, 0.13620693981647491, 0.0629790872335434, 0.08082658052444458, -0.17312641441822052, -0.09755899757146835, 0.13629724085330963, -0.24639371037483215, -0.10577382892370224, 0.0999656543135643, 0.3732917904853821, -0.46870508790016174, 0.23101773858070374, 0.17995406687259674, -0.48121604323387146, -0.17994706332683563, 0.1550869196653366, 0.11031069606542587, -0.1461886167526245, 0.19205370545387268, 0.15895220637321472, 0.09603403508663177, 0.23339274525642395, -0.4859858453273773, -0.15981733798980713, 0.3305070996284485, 0.48080307245254517, 0.11012214422225952, 0.22216251492500305, -0.14744937419891357, 0.20947785675525665, 0.07207668572664261, -0.21245607733726501, 0.02601010538637638, -0.06456497311592102, -0.07442893087863922, 0.19529390335083008, -0.01564602181315422, 0.046702753752470016, -0.0933055430650711, 0.10861434787511826, 0.19423548877239227, -0.08268886059522629, 0.12196116149425507, 0.13401953876018524, 0.3420408368110657, -0.17817427217960358, 0.31277233362197876, 0.3300182521343231, -0.1779610812664032, -0.15995851159095764, 0.19822920858860016, -0.08424211293458939, -0.04185670614242554, 0.20195412635803223, -0.005917882081121206, -0.7192912101745605, 0.002586403163149953, -0.013490754179656506, 0.087349072098732, 0.036527395248413086, 0.07484062761068344, 0.1238151416182518, 0.19086310267448425, 0.11640775203704834, -0.20922847092151642, 0.0422547347843647, 0.14123226702213287, 0.2979876399040222, -0.136482834815979, 0.3298969268798828, -0.15418776869773865, 0.22828368842601776, -0.1539570540189743, -0.2913966178894043, -0.06300937384366989, -0.19505378603935242, -0.09048844128847122, 0.06526359170675278, -0.1418738216161728, -0.13829723000526428, 0.17266997694969177, -0.36636850237846375, -0.23801347613334656, -0.19421733915805817, -0.0067249177955091, -0.2735667824745178, 0.341633141040802, -0.51738440990448, -0.3055635988712311, 0.0031936049927026033, 0.16480189561843872, -0.3081369996070862, 0.087444007396698, 0.2840025722980499, 0.19956423342227936, 0.15045686066150665, 0.6790882349014282, -0.20485225319862366, -0.1455099880695343, 0.12090091407299042, 0.3496409058570862, -0.021848982200026512, 0.12004433572292328, 0.061972033232450485, -0.013806486502289772, -0.11871702969074249, 0.12546971440315247, 0.239577978849411, -0.9955211877822876, 0.35138997435569763, 0.05711798742413521, -0.1510585993528366, -0.07120639085769653, 0.13779310882091522, -0.2639186680316925, -0.06798267364501953, 0.011617070063948631, 0.0041176737286150455, 0.05677970126271248, -0.11399610340595245, -0.12570850551128387, 0.18118137121200562, -0.16788622736930847, 0.15725727379322052, 0.0004205167351756245, -0.24030229449272156, 0.34674072265625, 0.29399439692497253, 0.25819826126098633, -0.1602867990732193, -0.07273738831281662, -0.07916079461574554, 0.048249486833810806, -0.21927304565906525, 0.10608813911676407, -0.39394888281822205, 0.33956336975097656, 0.06599302589893341, -0.11980879306793213, 0.04178852215409279, -1.956459641456604, -0.26978492736816406, 0.20118340849876404, -0.09596162289381027, -0.18193411827087402, -0.37820181250572205, 0.07978864014148712, -0.14900922775268555, 0.11560963094234467, -0.4572720527648926, -0.01225154660642147, -0.17940063774585724, -0.23869553208351135, 0.11314837634563446, 0.13217377662658691, 0.09934602677822113]]\n"
          ]
        }
      ],
      "source": [
        "from langchain.embeddings import HuggingFaceEmbeddings\n",
        "from langchain.vectorstores import FAISS\n",
        "\n",
        "# Load a BERT-based model for embeddings from Hugging Face\n",
        "embedding_model_db = HuggingFaceEmbeddings(model_name=\"distilbert-base-uncased\")\n",
        "\n",
        "chunks_of_text =     [\n",
        "        \"Hi there!\",\n",
        "        \"Hello!\",\n",
        "        \"What's your name?\",\n",
        "        \"Bond, James Bond\",\n",
        "        \"Hello Bond!\"\n",
        "    ]\n",
        "\n",
        "# Convert texts to embeddings\n",
        "embeddings_db = [embedding_model_db.embed_query(text) for text in chunks_of_text]\n",
        "\n",
        "print(embeddings_db)\n"
      ]
    },
    {
      "cell_type": "markdown",
      "metadata": {
        "id": "5C4BFnBDms6F"
      },
      "source": [
        "# Vector Stores (aka. Vector Databases)"
      ]
    },
    {
      "cell_type": "code",
      "execution_count": null,
      "metadata": {
        "id": "WTvO-sI9mmmb"
      },
      "outputs": [],
      "source": [
        "from langchain_community.document_loaders import TextLoader\n",
        "from langchain_openai import OpenAIEmbeddings\n",
        "from langchain_text_splitters import CharacterTextSplitter\n",
        "from langchain_chroma import Chroma\n",
        "\n",
        "# Load the document, split it into chunks, embed each chunk and load it into the vector store.\n",
        "loaded_document = TextLoader('state_of_the_union.txt').load()\n",
        "\n",
        "text_splitter = CharacterTextSplitter(chunk_size=1000, chunk_overlap=0)\n",
        "\n",
        "chunks_of_text = text_splitter.split_documents(loaded_document)\n"
      ]
    },
    {
      "cell_type": "code",
      "execution_count": null,
      "metadata": {
        "id": "jVDaGr4WEBTs",
        "colab": {
          "base_uri": "https://localhost:8080/"
        },
        "outputId": "89568a66-3b84-4749-c05c-0964b175f042"
      },
      "outputs": [
        {
          "output_type": "execute_result",
          "data": {
            "text/plain": [
              "42"
            ]
          },
          "metadata": {},
          "execution_count": 47
        }
      ],
      "source": [
        "len(chunks_of_text)"
      ]
    },
    {
      "cell_type": "code",
      "execution_count": null,
      "metadata": {
        "id": "X-uBr1DDEDt0",
        "colab": {
          "base_uri": "https://localhost:8080/"
        },
        "outputId": "430e8683-3aed-4734-9d59-fcaf6c1e3b46"
      },
      "outputs": [
        {
          "output_type": "execute_result",
          "data": {
            "text/plain": [
              "[Document(metadata={'source': 'state_of_the_union.txt'}, page_content='Madam Speaker, Madam Vice President, our First Lady and Second Gentleman. Members of Congress and the Cabinet. Justices of the Supreme Court. My fellow Americans.  \\n\\nLast year COVID-19 kept us apart. This year we are finally together again. \\n\\nTonight, we meet as Democrats Republicans and Independents. But most importantly as Americans. \\n\\nWith a duty to one another to the American people to the Constitution. \\n\\nAnd with an unwavering resolve that freedom will always triumph over tyranny. \\n\\nSix days ago, Russia’s Vladimir Putin sought to shake the foundations of the free world thinking he could make it bend to his menacing ways. But he badly miscalculated. \\n\\nHe thought he could roll into Ukraine and the world would roll over. Instead he met a wall of strength he never imagined. \\n\\nHe met the Ukrainian people. \\n\\nFrom President Zelenskyy to every Ukrainian, their fearlessness, their courage, their determination, inspires the world.'),\n",
              " Document(metadata={'source': 'state_of_the_union.txt'}, page_content='Groups of citizens blocking tanks with their bodies. Everyone from students to retirees teachers turned soldiers defending their homeland. \\n\\nIn this struggle as President Zelenskyy said in his speech to the European Parliament “Light will win over darkness.” The Ukrainian Ambassador to the United States is here tonight. \\n\\nLet each of us here tonight in this Chamber send an unmistakable signal to Ukraine and to the world. \\n\\nPlease rise if you are able and show that, Yes, we the United States of America stand with the Ukrainian people. \\n\\nThroughout our history we’ve learned this lesson when dictators do not pay a price for their aggression they cause more chaos.   \\n\\nThey keep moving.   \\n\\nAnd the costs and the threats to America and the world keep rising.   \\n\\nThat’s why the NATO Alliance was created to secure peace and stability in Europe after World War 2. \\n\\nThe United States is a member along with 29 other nations. \\n\\nIt matters. American diplomacy matters. American resolve matters.')]"
            ]
          },
          "metadata": {},
          "execution_count": 48
        }
      ],
      "source": [
        "chunks_of_text[:2]"
      ]
    },
    {
      "cell_type": "code",
      "execution_count": null,
      "metadata": {
        "id": "S_fNDibcnMUr"
      },
      "outputs": [],
      "source": [
        "vector_db = Chroma.from_documents(chunks_of_text, embedding_model_db)"
      ]
    },
    {
      "cell_type": "code",
      "execution_count": null,
      "metadata": {
        "colab": {
          "base_uri": "https://localhost:8080/"
        },
        "id": "1GpggsTSnNwq",
        "outputId": "8c8e822c-3f69-4a9a-ec24-b421481d463f"
      },
      "outputs": [
        {
          "output_type": "execute_result",
          "data": {
            "text/plain": [
              "<langchain_chroma.vectorstores.Chroma at 0x796295505750>"
            ]
          },
          "metadata": {},
          "execution_count": 50
        }
      ],
      "source": [
        "vector_db"
      ]
    },
    {
      "cell_type": "code",
      "execution_count": null,
      "metadata": {
        "colab": {
          "base_uri": "https://localhost:8080/"
        },
        "id": "6f2WZ2tcnSju",
        "outputId": "bdbf9dff-7ae0-4d04-a1c4-948de2bdabdd"
      },
      "outputs": [
        {
          "output_type": "stream",
          "name": "stdout",
          "text": [
            "Tonight. I call on the Senate to: Pass the Freedom to Vote Act. Pass the John Lewis Voting Rights Act. And while you’re at it, pass the Disclose Act so Americans can know who is funding our elections. \n",
            "\n",
            "Tonight, I’d like to honor someone who has dedicated his life to serve this country: Justice Stephen Breyer—an Army veteran, Constitutional scholar, and retiring Justice of the United States Supreme Court. Justice Breyer, thank you for your service. \n",
            "\n",
            "One of the most serious constitutional responsibilities a President has is nominating someone to serve on the United States Supreme Court. \n",
            "\n",
            "And I did that 4 days ago, when I nominated Circuit Court of Appeals Judge Ketanji Brown Jackson. One of our nation’s top legal minds, who will continue Justice Breyer’s legacy of excellence.\n"
          ]
        }
      ],
      "source": [
        "question = \"What did the president say about the John Lewis Voting Rights Act?\"\n",
        "\n",
        "response = vector_db.similarity_search(question)\n",
        "\n",
        "print(response[0].page_content)"
      ]
    },
    {
      "cell_type": "markdown",
      "metadata": {
        "id": "TE-ExhsYnYRV"
      },
      "source": [
        "# Vector Store as Retriever"
      ]
    },
    {
      "cell_type": "code",
      "execution_count": null,
      "metadata": {
        "colab": {
          "base_uri": "https://localhost:8080/"
        },
        "id": "uidBqn8Knv81",
        "outputId": "16407ead-1f51-4b4d-f919-f43344e44775"
      },
      "outputs": [
        {
          "output_type": "stream",
          "name": "stdout",
          "text": [
            "Collecting faiss-cpu\n",
            "  Downloading faiss_cpu-1.9.0-cp310-cp310-manylinux_2_17_x86_64.manylinux2014_x86_64.whl.metadata (4.4 kB)\n",
            "Requirement already satisfied: numpy<3.0,>=1.25.0 in /usr/local/lib/python3.10/dist-packages (from faiss-cpu) (1.26.4)\n",
            "Requirement already satisfied: packaging in /usr/local/lib/python3.10/dist-packages (from faiss-cpu) (24.1)\n",
            "Downloading faiss_cpu-1.9.0-cp310-cp310-manylinux_2_17_x86_64.manylinux2014_x86_64.whl (27.5 MB)\n",
            "\u001b[2K   \u001b[90m━━━━━━━━━━━━━━━━━━━━━━━━━━━━━━━━━━━━━━━━\u001b[0m \u001b[32m27.5/27.5 MB\u001b[0m \u001b[31m42.1 MB/s\u001b[0m eta \u001b[36m0:00:00\u001b[0m\n",
            "\u001b[?25hInstalling collected packages: faiss-cpu\n",
            "Successfully installed faiss-cpu-1.9.0\n"
          ]
        }
      ],
      "source": [
        "pip install faiss-cpu"
      ]
    },
    {
      "cell_type": "code",
      "execution_count": null,
      "metadata": {
        "id": "D_5-ekZYnVt9"
      },
      "outputs": [],
      "source": [
        "from langchain_community.document_loaders import TextLoader\n",
        "from langchain_community.vectorstores import FAISS\n",
        "from langchain_openai import OpenAIEmbeddings\n",
        "from langchain_text_splitters import CharacterTextSplitter\n",
        "\n",
        "loader = TextLoader(\"state_of_the_union.txt\")\n",
        "loaded_document = loader.load()\n",
        "\n",
        "text_splitter = CharacterTextSplitter(chunk_size=1000, chunk_overlap=0)\n",
        "\n",
        "chunks_of_text = text_splitter.split_documents(loaded_document)\n",
        "\n",
        "vector_db = FAISS.from_documents(chunks_of_text, embedding_model_db)"
      ]
    },
    {
      "cell_type": "code",
      "execution_count": null,
      "metadata": {
        "colab": {
          "base_uri": "https://localhost:8080/"
        },
        "id": "vzCaPUO8nlU4",
        "outputId": "22c4e674-a02b-48ea-fd81-98de2e588ea6"
      },
      "outputs": [
        {
          "output_type": "execute_result",
          "data": {
            "text/plain": [
              "[Document(metadata={'source': 'state_of_the_union.txt'}, page_content='One was stationed at bases and breathing in toxic smoke from “burn pits” that incinerated wastes of war—medical and hazard material, jet fuel, and more. \\n\\nWhen they came home, many of the world’s fittest and best trained warriors were never the same. \\n\\nHeadaches. Numbness. Dizziness. \\n\\nA cancer that would put them in a flag-draped coffin. \\n\\nI know. \\n\\nOne of those soldiers was my son Major Beau Biden. \\n\\nWe don’t know for sure if a burn pit was the cause of his brain cancer, or the diseases of so many of our troops. \\n\\nBut I’m committed to finding out everything we can. \\n\\nCommitted to military families like Danielle Robinson from Ohio. \\n\\nThe widow of Sergeant First Class Heath Robinson.  \\n\\nHe was born a soldier. Army National Guard. Combat medic in Kosovo and Iraq. \\n\\nStationed near Baghdad, just yards from burn pits the size of football fields. \\n\\nHeath’s widow Danielle is here with us tonight. They loved going to Ohio State football games. He loved building Legos with their daughter.')]"
            ]
          },
          "metadata": {},
          "execution_count": 54
        }
      ],
      "source": [
        "retriever = vector_db.as_retriever(search_kwargs={\"k\": 1})\n",
        "response = retriever.invoke(\"what did he say about ketanji brown jackson?\")\n",
        "response"
      ]
    },
    {
      "cell_type": "markdown",
      "metadata": {
        "id": "-IAQbd5kNx2X"
      },
      "source": [
        "# LCEL"
      ]
    },
    {
      "cell_type": "code",
      "execution_count": null,
      "metadata": {
        "colab": {
          "base_uri": "https://localhost:8080/"
        },
        "id": "ON38daMhKipY",
        "outputId": "eb8e25ea-c24b-484d-f655-5dd3162cc8de"
      },
      "outputs": [
        {
          "output_type": "stream",
          "name": "stdout",
          "text": [
            "The main idea of the context is the urgent appeal for support of Ukraine from the United States and the international community in the face of unprovoked aggression. The speaker encourages solidarity with Ukraine, highlighting the courage of Ukrainian citizens and the importance of American diplomacy and resolve within the NATO Alliance to maintain peace, security, and stability in Europe. The speaker also emphasizes the potential consequences of inaction, such as increased chaos and threats to the world.\n"
          ]
        }
      ],
      "source": [
        "from langchain_openai import ChatOpenAI\n",
        "from langchain_core.prompts import ChatPromptTemplate\n",
        "from langchain_core.output_parsers import StrOutputParser\n",
        "from langchain_core.runnables import RunnablePassthrough\n",
        "\n",
        "template = \"\"\"Answer the question based only on the following context:\n",
        "\n",
        "{context}\n",
        "\n",
        "Question: {question}\n",
        "\"\"\"\n",
        "\n",
        "prompt = ChatPromptTemplate.from_template(template)\n",
        "\n",
        "def format_docs(docs):\n",
        "    return \"\\n\\n\".join([d.page_content for d in docs])\n",
        "\n",
        "\n",
        "chain = (\n",
        "    {\"context\": retriever | format_docs, \"question\": RunnablePassthrough()}\n",
        "    | prompt\n",
        "    | mistralChatModel\n",
        "    | StrOutputParser()\n",
        ")\n",
        "\n",
        "response = chain.invoke(\"Tell me the main idea of the context\")\n",
        "\n",
        "print(response)"
      ]
    },
    {
      "cell_type": "code",
      "execution_count": null,
      "metadata": {
        "colab": {
          "base_uri": "https://localhost:8080/",
          "height": 157
        },
        "id": "QLQV9-yRTgUS",
        "outputId": "cef68435-36cb-48de-e6a2-e12f29f3d6eb"
      },
      "outputs": [
        {
          "output_type": "execute_result",
          "data": {
            "text/plain": [
              "\"Sure, here's a curious fact about JFK:\\n\\nJohn F. Kennedy, the 35th President of the United States, was the first president to have been born in the 20th century. He was also the first Catholic president, the youngest person elected to the presidency, and the first president to have won a Pulitzer Prize.\\n\\nBut here's a lesser-known and somewhat curious fact: JFK had a condition called Addison's disease, which is a rare disorder of the adrenal glands. This condition can cause weakness, fatigue, and weight loss, among other symptoms. Kennedy was able to keep his illness a secret during his presidency, and it was not publicly revealed until after his death.\\n\\nAddison's disease can be life-threatening if left untreated, and it requires ongoing medical management. Despite this, JFK was able to maintain a demanding schedule as president, and he is remembered for his leadership during a time of great national and international challenges.\""
            ],
            "application/vnd.google.colaboratory.intrinsic+json": {
              "type": "string"
            }
          },
          "metadata": {},
          "execution_count": 56
        }
      ],
      "source": [
        "prompt = ChatPromptTemplate.from_template(\"tell me a curious fact about {politician}\")\n",
        "\n",
        "chain = prompt | mistralChatModel | StrOutputParser()\n",
        "\n",
        "chain.invoke({\"politician\": \"JFK\"})"
      ]
    },
    {
      "cell_type": "markdown",
      "metadata": {
        "id": "fIOVT415TNMK"
      },
      "source": [
        "# Lagecy Chain"
      ]
    },
    {
      "cell_type": "code",
      "execution_count": null,
      "metadata": {
        "colab": {
          "base_uri": "https://localhost:8080/",
          "height": 160
        },
        "id": "Dk1qqgfrNLmd",
        "outputId": "5a9ee1aa-95e5-4124-90af-a1838e1e3da4"
      },
      "outputs": [
        {
          "output_type": "stream",
          "name": "stderr",
          "text": [
            "<ipython-input-57-1160cdd064ea>:5: LangChainDeprecationWarning: The class `LLMChain` was deprecated in LangChain 0.1.17 and will be removed in 1.0. Use RunnableSequence, e.g., `prompt | llm` instead.\n",
            "  traditional_chain = LLMChain(\n"
          ]
        },
        {
          "output_type": "execute_result",
          "data": {
            "text/plain": [
              "\"Here's a curious fact about Maradona: He was named after a religious figure. Diego Armando Maradona was born in a poor neighborhood in Buenos Aires, Argentina. His parents were devout Catholics and named him after two religious figures: San Diego de Alcalá and Saint Eladio. His middle name, Armando, was given in honor of a friend of the family. Maradona grew up to become one of the greatest soccer players of all time, but his name always served as a reminder of his humble origins and the strong religious faith of his family.\""
            ],
            "application/vnd.google.colaboratory.intrinsic+json": {
              "type": "string"
            }
          },
          "metadata": {},
          "execution_count": 57
        }
      ],
      "source": [
        "from langchain.chains import LLMChain\n",
        "\n",
        "prompt = ChatPromptTemplate.from_template(\"tell me a curious fact about {soccer_player}\")\n",
        "\n",
        "traditional_chain = LLMChain(\n",
        "    llm=mistralChatModel,\n",
        "    prompt=prompt\n",
        ")\n",
        "\n",
        "traditional_chain.predict(soccer_player=\"Maradona\")"
      ]
    },
    {
      "cell_type": "code",
      "execution_count": null,
      "metadata": {
        "colab": {
          "base_uri": "https://localhost:8080/"
        },
        "id": "vwt8ESpHT5Iq",
        "outputId": "eea5ee38-a379-4e6d-def7-b19cc7f6c3ba"
      },
      "outputs": [
        {
          "output_type": "stream",
          "name": "stdout",
          "text": [
            "Cristiano Ronaldo, the famous Portuguese footballer, has an unusual affection for animals and has made a point of showing his love for them on social media. He has posted many pictures with various animals, including a tiger, a lion, and even a giant elephant. Despite his tough image as a professional athlete, Ronaldo's love for animals shows his softer side."
          ]
        },
        {
          "output_type": "execute_result",
          "data": {
            "text/plain": [
              "['Cristiano Ronaldo, the famous Portuguese soccer player, has an impressive collection of awards and achievements. One curious fact about him is that he is actually allergic to grass! This is not uncommon among soccer players, and Ronaldo manages the allergy by taking medication before games. Despite this, he has still managed to become one of the greatest soccer players of all time.',\n",
              " 'Sure, here\\'s a curious fact about Lionel Messi:\\n\\nLionel Messi stands just 5 feet 7 inches tall, which is relatively short for a professional footballer. However, this hasn\\'t stopped him from becoming one of the greatest players of all time. In fact, his small stature is thought to give him an advantage on the pitch, as it allows him to change direction quickly and evade tackles more easily.\\n\\nMessi\\'s height (or lack thereof) became a topic of conversation during the 2014 World Cup, when Argentina faced Nigeria in the group stage. Messi\\'s opponent, Nigeria defender Joseph Yobo, is 6 feet 2 inches tall, and there was speculation that Yobo might have an advantage due to his height. However, Messi ended up scoring the winning goal in that match, and Argentina went on to reach the final of the tournament.\\n\\nSo, Messi\\'s height may be considered a \"curious fact,\" but it certainly hasn\\'t held him back from achieving greatness in the sport of football.']"
            ]
          },
          "metadata": {},
          "execution_count": 58
        }
      ],
      "source": [
        "prompt = ChatPromptTemplate.from_template(\"tell me a curious fact about {soccer_player}\")\n",
        "\n",
        "output_parser = StrOutputParser()\n",
        "\n",
        "chain = prompt | mistralChatModel | output_parser\n",
        "\n",
        "chain.invoke({\"soccer_player\": \"Ronaldo\"})\n",
        "\n",
        "for s in chain.stream({\"soccer_player\": \"Ronaldo\"}):\n",
        "    print(s, end=\"\", flush=True)\n",
        "\n",
        "chain.batch([{\"soccer_player\": \"Ronaldo\"}, {\"soccer_player\": \"Messi\"}])"
      ]
    },
    {
      "cell_type": "markdown",
      "metadata": {
        "id": "JnV9V8nwU3ME"
      },
      "source": [
        "# LCEL Runnable"
      ]
    },
    {
      "cell_type": "markdown",
      "metadata": {
        "id": "XzHGOYbWaRKZ"
      },
      "source": [
        "## RunnablePassthrough"
      ]
    },
    {
      "cell_type": "code",
      "execution_count": null,
      "metadata": {
        "colab": {
          "base_uri": "https://localhost:8080/",
          "height": 35
        },
        "id": "wuwTpFGkUilq",
        "outputId": "a60c62d6-9bb6-4f1e-c8d6-cbe045cc7194"
      },
      "outputs": [
        {
          "output_type": "execute_result",
          "data": {
            "text/plain": [
              "'PakPak'"
            ],
            "application/vnd.google.colaboratory.intrinsic+json": {
              "type": "string"
            }
          },
          "metadata": {},
          "execution_count": 59
        }
      ],
      "source": [
        "from langchain_core.runnables import RunnablePassthrough\n",
        "\n",
        "chain = RunnablePassthrough()\n",
        "\n",
        "chain.invoke(\"PakPak\")"
      ]
    },
    {
      "cell_type": "markdown",
      "metadata": {
        "id": "UohH-pNfaUA6"
      },
      "source": [
        "## RunnableLambda"
      ]
    },
    {
      "cell_type": "code",
      "execution_count": null,
      "metadata": {
        "colab": {
          "base_uri": "https://localhost:8080/",
          "height": 35
        },
        "id": "A9QQEHV0aKjF",
        "outputId": "b84deea5-ea76-432c-85ea-2f55d3c5a365"
      },
      "outputs": [
        {
          "output_type": "execute_result",
          "data": {
            "text/plain": [
              "'PakPakovich'"
            ],
            "application/vnd.google.colaboratory.intrinsic+json": {
              "type": "string"
            }
          },
          "metadata": {},
          "execution_count": 60
        }
      ],
      "source": [
        "def russian_lastname(name: str) -> str:\n",
        "    return f\"{name}ovich\"\n",
        "\n",
        "from langchain_core.runnables import RunnableLambda\n",
        "\n",
        "chain = RunnablePassthrough() | RunnableLambda(russian_lastname)\n",
        "\n",
        "chain.invoke(\"PakPak\")"
      ]
    },
    {
      "cell_type": "markdown",
      "metadata": {
        "id": "yB8TPArjahvx"
      },
      "source": [
        "## RunnableParallel"
      ]
    },
    {
      "cell_type": "code",
      "execution_count": null,
      "metadata": {
        "colab": {
          "base_uri": "https://localhost:8080/"
        },
        "id": "Eja7i-ALae0E",
        "outputId": "338de22f-762b-4b2d-dfa7-9f5d5f5f2d9c"
      },
      "outputs": [
        {
          "output_type": "execute_result",
          "data": {
            "text/plain": [
              "{'operation_a': 'PakPak', 'operation_b': 'PakPakovich'}"
            ]
          },
          "metadata": {},
          "execution_count": 61
        }
      ],
      "source": [
        "from langchain_core.runnables import RunnableParallel\n",
        "\n",
        "chain = RunnableParallel(\n",
        "    {\n",
        "        \"operation_a\": RunnablePassthrough(),\n",
        "        \"operation_b\": RunnableLambda(russian_lastname)\n",
        "    }\n",
        ")\n",
        "\n",
        "chain.invoke(\"PakPak\")"
      ]
    },
    {
      "cell_type": "code",
      "source": [
        "from langchain_core.output_parsers import StrOutputParser\n",
        "from langchain_core.prompts import ChatPromptTemplate\n",
        "\n",
        "prompt = ChatPromptTemplate.from_template(\"tell me a curious fact about {soccer_player}\")\n",
        "\n",
        "output_parser = StrOutputParser()\n",
        "\n",
        "def russian_lastname_from_dictionary(person):\n",
        "    return person[\"name\"] + \"ovich\"\n",
        "\n",
        "chain = RunnableParallel(\n",
        "    {\n",
        "        \"operation_a\": RunnablePassthrough(),\n",
        "        \"soccer_player\": RunnableLambda(russian_lastname_from_dictionary),\n",
        "        \"operation_c\": RunnablePassthrough(),\n",
        "    }\n",
        ") | prompt | llamaChatModel | output_parser\n",
        "\n",
        "chain.invoke({\n",
        "    \"name1\": \"Jordam\",\n",
        "    \"name\": \"Abram\"\n",
        "})"
      ],
      "metadata": {
        "colab": {
          "base_uri": "https://localhost:8080/",
          "height": 157
        },
        "id": "aa9eHgGR3n0N",
        "outputId": "d2198e90-150e-40b0-a887-f6ea40222e7a"
      },
      "execution_count": null,
      "outputs": [
        {
          "output_type": "execute_result",
          "data": {
            "text/plain": [
              "'A curious fact about Roman Abramovich!\\n\\nHere\\'s one: Roman Abramovich, the Russian billionaire and former owner of Chelsea FC, has a peculiar habit of... (drumroll) ...not having a fixed address! That\\'s right, despite being one of the richest people in the world, Abramovich does not own a permanent home. Instead, he rotates between various luxury properties and private jets, often staying in different locations for short periods.\\n\\nThis unusual lifestyle is reportedly due to security concerns, as well as his desire for flexibility and freedom. Abramovich has been known to stay on his private yacht, the Eclipse, which is equipped with a missile defense system, among other luxurious amenities. He also has a collection of high-end properties around the world, including a chateau in France and a mansion in London, but he doesn\\'t consider any of them his \"home\".\\n\\nThis curious fact offers a glimpse into the unique lifestyle of one of the world\\'s most enigmatic billionaires!'"
            ],
            "application/vnd.google.colaboratory.intrinsic+json": {
              "type": "string"
            }
          },
          "metadata": {},
          "execution_count": 62
        }
      ]
    },
    {
      "cell_type": "code",
      "source": [
        "from langchain_community.vectorstores import FAISS\n",
        "from langchain_core.output_parsers import StrOutputParser\n",
        "from langchain_core.prompts import ChatPromptTemplate\n",
        "from langchain_core.runnables import RunnablePassthrough, RunnableParallel\n",
        "# from langchain_openai import ChatOpenAI, OpenAIEmbeddings\n",
        "\n",
        "vectorstore = FAISS.from_texts(\n",
        "    [\"dswithbappy focuses on providing content on Data Science, AI, ML, DL, CV, NLP, Python programming, etc. in English.\"], embedding=embedding_model_st\n",
        ")\n",
        "\n",
        "retriever = vectorstore.as_retriever()\n",
        "\n",
        "template = \"\"\"Answer the question based only on the following context:\n",
        "{context}\n",
        "\n",
        "Question: {question}\n",
        "\"\"\"\n",
        "\n",
        "prompt = ChatPromptTemplate.from_template(template)\n",
        "\n",
        "# model = ChatOpenAI(model=\"gpt-3.5-turbo\")\n",
        "\n",
        "retrieval_chain = (\n",
        "    RunnableParallel({\"context\": retriever, \"question\": RunnablePassthrough()})\n",
        "    | prompt\n",
        "    | llamaChatModel\n",
        "    | StrOutputParser()\n",
        ")\n",
        "\n",
        "retrieval_chain.invoke(\"What is dswithbappy?\")"
      ],
      "metadata": {
        "colab": {
          "base_uri": "https://localhost:8080/",
          "height": 53
        },
        "id": "tZBt_ZEv46dE",
        "outputId": "bab902f3-0079-4909-891c-71e499d836e4"
      },
      "execution_count": null,
      "outputs": [
        {
          "output_type": "execute_result",
          "data": {
            "text/plain": [
              "'Based on the provided context, dswithbappy appears to be a platform or a content provider that focuses on providing content related to Data Science, AI, ML, DL, CV, NLP, and Python programming in English.'"
            ],
            "application/vnd.google.colaboratory.intrinsic+json": {
              "type": "string"
            }
          },
          "metadata": {},
          "execution_count": 66
        }
      ]
    },
    {
      "cell_type": "code",
      "source": [
        "from operator import itemgetter\n",
        "\n",
        "from langchain_community.vectorstores import FAISS\n",
        "from langchain_core.output_parsers import StrOutputParser\n",
        "from langchain_core.prompts import ChatPromptTemplate\n",
        "from langchain_core.runnables import RunnablePassthrough\n",
        "from langchain_openai import ChatOpenAI, OpenAIEmbeddings\n",
        "\n",
        "model = ChatOpenAI(model=\"gpt-3.5-turbo\")\n",
        "\n",
        "vectorstore = FAISS.from_texts(\n",
        "    [\"dswithbappy focuses on providing content on Data Science, AI, ML, DL, CV, NLP, Python programming, etc. in English.\"], embedding=embedding_model_st\n",
        ")\n",
        "retriever = vectorstore.as_retriever()\n",
        "\n",
        "template = \"\"\"Answer the question based only on the following context:\n",
        "{context}\n",
        "\n",
        "Question: {question}\n",
        "\n",
        "Answer in the following language: {language}\n",
        "\"\"\"\n",
        "\n",
        "prompt = ChatPromptTemplate.from_template(template)\n",
        "\n",
        "chain = (\n",
        "    {\n",
        "        \"context\": itemgetter(\"question\") | retriever,\n",
        "        \"question\": itemgetter(\"question\"),\n",
        "        \"language\": itemgetter(\"language\"),\n",
        "    }\n",
        "    | prompt\n",
        "    | llamaChatModel\n",
        "    | StrOutputParser()\n",
        ")\n",
        "\n",
        "chain.invoke({\"question\": \"What is dswithbappy?\", \"language\": \"Pirate English\"})"
      ],
      "metadata": {
        "colab": {
          "base_uri": "https://localhost:8080/",
          "height": 53
        },
        "id": "dH4xj0zr6rWZ",
        "outputId": "7cac2bd4-929c-47ba-e078-0bdb1739e4b2"
      },
      "execution_count": null,
      "outputs": [
        {
          "output_type": "execute_result",
          "data": {
            "text/plain": [
              "\"Arrr, dswithbappy be a swashbucklin' source o' learnin' focused on providin' treasure troves o' knowledge on Data Science, AI, ML, DL, CV, NLP, and Python programmmin' booty, all in the language o' the landlubbers, English!\""
            ],
            "application/vnd.google.colaboratory.intrinsic+json": {
              "type": "string"
            }
          },
          "metadata": {},
          "execution_count": 67
        }
      ]
    },
    {
      "cell_type": "code",
      "source": [
        "prompt = ChatPromptTemplate.from_template(\"tell me a curious fact about {soccer_player}\")\n",
        "\n",
        "output_parser = StrOutputParser()\n",
        "\n",
        "chain = prompt | llamaChatModel | output_parser\n",
        "\n",
        "chain.invoke({\"soccer_player\": \"Ronaldo\"})"
      ],
      "metadata": {
        "colab": {
          "base_uri": "https://localhost:8080/",
          "height": 87
        },
        "id": "Gki69HwU8ibn",
        "outputId": "a1eaa66d-e0b8-410a-a173-f360eb9481f0"
      },
      "execution_count": null,
      "outputs": [
        {
          "output_type": "execute_result",
          "data": {
            "text/plain": [
              "\"Here's one:\\n\\n**Ronaldo's birth was a result of a dramatic turn of events!** His mother, Dolores Aveiro, wanted to abort him when she was pregnant with him, but she was too poor to afford the procedure. She even drank wine and ran till she was exhausted in an attempt to induce a miscarriage, but it didn't work. Later, she said in an interview that if she had the money, she would have aborted him. Despite this, Ronaldo has a very close relationship with his mother, and has even named his first son after her!\""
            ],
            "application/vnd.google.colaboratory.intrinsic+json": {
              "type": "string"
            }
          },
          "metadata": {},
          "execution_count": 68
        }
      ]
    },
    {
      "cell_type": "code",
      "source": [
        "chain = prompt | llamaChatModel.bind(stop=[\"Ronaldo\"]) | output_parser\n",
        "chain.invoke({\"soccer_player\": \"Ronaldo\"})"
      ],
      "metadata": {
        "colab": {
          "base_uri": "https://localhost:8080/",
          "height": 35
        },
        "id": "-_TJzN1X9UcK",
        "outputId": "1769d51e-5148-40dd-9287-23382d1b1447"
      },
      "execution_count": null,
      "outputs": [
        {
          "output_type": "execute_result",
          "data": {
            "text/plain": [
              "\"Here's a curious fact about Cristiano \""
            ],
            "application/vnd.google.colaboratory.intrinsic+json": {
              "type": "string"
            }
          },
          "metadata": {},
          "execution_count": 70
        }
      ]
    },
    {
      "cell_type": "markdown",
      "source": [
        "## Combined chain"
      ],
      "metadata": {
        "id": "_VH8kJpx-a91"
      }
    },
    {
      "cell_type": "code",
      "source": [
        "prompt = ChatPromptTemplate.from_template(\"tell me a sentence about {politician}\")\n",
        "\n",
        "chain = prompt | llamaChatModel | StrOutputParser()\n",
        "\n",
        "historian_prompt = ChatPromptTemplate.from_template(\"Was {politician} positive for Humanity?\")\n",
        "\n",
        "composed_chain = {\"politician\": chain} | historian_prompt | llamaChatModel | StrOutputParser()\n",
        "\n",
        "composed_chain.invoke({\"politician\": \"Lincoln\"})"
      ],
      "metadata": {
        "colab": {
          "base_uri": "https://localhost:8080/",
          "height": 157
        },
        "id": "J1738vyI9XH-",
        "outputId": "eea057ea-bae1-475d-e767-aaea755a8806"
      },
      "execution_count": null,
      "outputs": [
        {
          "output_type": "execute_result",
          "data": {
            "text/plain": [
              "\"What a great question!\\n\\nAbraham Lincoln's Emancipation Proclamation in 1863 was a monumental step forward for humanity, and its impact is still felt today. Here are some reasons why:\\n\\n1. **End of Slavery**: The Emancipation Proclamation declared freedom for all slaves in Confederate territory, which was a crucial step towards ending the institution of slavery in the United States. Although it didn't immediately free all slaves, it paved the way for the eventual abolition of slavery with the passage of the 13th Amendment to the Constitution in 1865.\\n2. **Human Rights**: The Proclamation recognized the inherent humanity and dignity of enslaved Africans, acknowledging that they were not property, but human beings deserving of freedom and equality. This marked a significant shift in the moral consciousness of the nation, acknowledging the fundamental human right to liberty.\\n3. **Racial Equality**: Lincoln's Proclamation helped to lay the groundwork for the long struggle for racial equality in the United States. While slavery was abolished, the fight for equal rights and opportunities continued, with many civil rights leaders drawing inspiration from Lincoln's bold move.\\n4. **Preservation of the Union**: The Emancipation Proclamation was also a strategic move to preserve the Union, as it helped to shift public opinion in the North against the Confederacy and in favor of the war effort. By framing the war as a moral crusade against slavery, Lincoln was able to rally support for the Union cause.\\n5. **Global Impact**: The Emancipation Proclamation sent a powerful message to the world, inspiring abolitionist movements and influencing the fight against slavery globally. It demonstrated that a major Western power could take a moral stand against slavery, encouraging other nations to follow suit.\\n6. **Symbolic Importance**: Lincoln's Proclamation has become an iconic symbol of freedom and equality, inspiring generations of Americans and people around the world to strive for a more just and equitable society.\\n\\nIn conclusion, Abraham Lincoln's Emancipation Proclamation was a profoundly positive step for humanity, marking a crucial milestone in the struggle for freedom, equality, and human rights. Its impact continues to resonate today, inspiring people to work towards a more just and equitable world.\""
            ],
            "application/vnd.google.colaboratory.intrinsic+json": {
              "type": "string"
            }
          },
          "metadata": {},
          "execution_count": 72
        }
      ]
    },
    {
      "cell_type": "markdown",
      "source": [
        "## Chain inside another chain"
      ],
      "metadata": {
        "id": "O_6OVYsL-0gk"
      }
    },
    {
      "cell_type": "code",
      "source": [
        "from operator import itemgetter\n",
        "\n",
        "from langchain_core.output_parsers import StrOutputParser\n",
        "from langchain_core.prompts import ChatPromptTemplate\n",
        "from langchain_openai import ChatOpenAI\n",
        "\n",
        "prompt1 = ChatPromptTemplate.from_template(\"what is the country {politician} is from?\")\n",
        "prompt2 = ChatPromptTemplate.from_template(\n",
        "    \"what continent is the country {country} in? respond in {language}\"\n",
        ")\n",
        "\n",
        "# model = ChatOpenAI()\n",
        "\n",
        "chain1 = prompt1 | llamaChatModel | StrOutputParser()\n",
        "\n",
        "chain2 = (\n",
        "    {\"country\": chain1, \"language\": itemgetter(\"language\")}\n",
        "    | prompt2\n",
        "    | llamaChatModel\n",
        "    | StrOutputParser()\n",
        ")\n",
        "\n",
        "chain2.invoke({\"politician\": \"Miterrand\", \"language\": \"French\"})"
      ],
      "metadata": {
        "colab": {
          "base_uri": "https://localhost:8080/",
          "height": 35
        },
        "id": "7kUhsWaf-n2J",
        "outputId": "918b2447-95c0-402f-8b23-0cc9e325a10b"
      },
      "execution_count": null,
      "outputs": [
        {
          "output_type": "execute_result",
          "data": {
            "text/plain": [
              "\"Vous voulez savoir sur quel continent se trouve la France ?\\n\\nLa réponse est : L'Europe !\""
            ],
            "application/vnd.google.colaboratory.intrinsic+json": {
              "type": "string"
            }
          },
          "metadata": {},
          "execution_count": 74
        }
      ]
    },
    {
      "cell_type": "markdown",
      "source": [
        "## LCEL chain at work in a typical RAG app"
      ],
      "metadata": {
        "id": "l3koatb__Lek"
      }
    },
    {
      "cell_type": "code",
      "source": [
        "pip install langchainhub"
      ],
      "metadata": {
        "colab": {
          "base_uri": "https://localhost:8080/"
        },
        "id": "vmtoHy6zOpEt",
        "outputId": "fe4f0c44-611b-4a3f-b359-3b7f15e4b0d5"
      },
      "execution_count": 79,
      "outputs": [
        {
          "output_type": "stream",
          "name": "stdout",
          "text": [
            "Collecting langchainhub\n",
            "  Downloading langchainhub-0.1.21-py3-none-any.whl.metadata (659 bytes)\n",
            "Requirement already satisfied: packaging<25,>=23.2 in /usr/local/lib/python3.10/dist-packages (from langchainhub) (24.1)\n",
            "Requirement already satisfied: requests<3,>=2 in /usr/local/lib/python3.10/dist-packages (from langchainhub) (2.32.3)\n",
            "Collecting types-requests<3.0.0.0,>=2.31.0.2 (from langchainhub)\n",
            "  Downloading types_requests-2.32.0.20241016-py3-none-any.whl.metadata (1.9 kB)\n",
            "Requirement already satisfied: charset-normalizer<4,>=2 in /usr/local/lib/python3.10/dist-packages (from requests<3,>=2->langchainhub) (3.4.0)\n",
            "Requirement already satisfied: idna<4,>=2.5 in /usr/local/lib/python3.10/dist-packages (from requests<3,>=2->langchainhub) (3.10)\n",
            "Requirement already satisfied: urllib3<3,>=1.21.1 in /usr/local/lib/python3.10/dist-packages (from requests<3,>=2->langchainhub) (2.2.3)\n",
            "Requirement already satisfied: certifi>=2017.4.17 in /usr/local/lib/python3.10/dist-packages (from requests<3,>=2->langchainhub) (2024.8.30)\n",
            "Downloading langchainhub-0.1.21-py3-none-any.whl (5.2 kB)\n",
            "Downloading types_requests-2.32.0.20241016-py3-none-any.whl (15 kB)\n",
            "Installing collected packages: types-requests, langchainhub\n",
            "Successfully installed langchainhub-0.1.21 types-requests-2.32.0.20241016\n"
          ]
        }
      ]
    },
    {
      "cell_type": "code",
      "source": [
        "import bs4\n",
        "from langchain import hub\n",
        "from langchain_chroma import Chroma\n",
        "from langchain_community.document_loaders import WebBaseLoader\n",
        "from langchain_core.output_parsers import StrOutputParser\n",
        "from langchain_core.runnables import RunnablePassthrough\n",
        "from langchain_openai import OpenAIEmbeddings\n",
        "from langchain_text_splitters import RecursiveCharacterTextSplitter\n",
        "\n",
        "loader = WebBaseLoader(\n",
        "    web_paths=(\"https://lilianweng.github.io/posts/2023-06-23-agent/\",),\n",
        "    bs_kwargs=dict(\n",
        "        parse_only=bs4.SoupStrainer(\n",
        "            class_=(\"post-content\", \"post-title\", \"post-header\")\n",
        "        )\n",
        "    ),\n",
        ")\n",
        "\n",
        "docs = loader.load()\n",
        "\n",
        "text_splitter = RecursiveCharacterTextSplitter(chunk_size=1000, chunk_overlap=200)\n",
        "\n",
        "splits = text_splitter.split_documents(docs)\n",
        "\n",
        "vectorstore = Chroma.from_documents(documents=splits, embedding=embedding_model_db)\n",
        "\n",
        "retriever = vectorstore.as_retriever()\n",
        "\n",
        "prompt = hub.pull(\"rlm/rag-prompt\")\n",
        "\n",
        "def format_docs(docs):\n",
        "    return \"\\n\\n\".join(doc.page_content for doc in docs)\n",
        "\n",
        "rag_chain = (\n",
        "    {\"context\": retriever | format_docs, \"question\": RunnablePassthrough()}\n",
        "    | prompt\n",
        "    | llamaChatModel\n",
        "    | StrOutputParser()\n",
        ")\n",
        "\n",
        "rag_chain.invoke(\"What is Task Decomposition?\")"
      ],
      "metadata": {
        "colab": {
          "base_uri": "https://localhost:8080/",
          "height": 246
        },
        "id": "aWsWIhCZ_DRX",
        "outputId": "d403e01c-2d99-4a31-c855-9048e0a55ff8"
      },
      "execution_count": 81,
      "outputs": [
        {
          "output_type": "stream",
          "name": "stderr",
          "text": [
            "/usr/local/lib/python3.10/dist-packages/ipykernel/ipkernel.py:283: DeprecationWarning: `should_run_async` will not call `transform_cell` automatically in the future. Please pass the result to `transformed_cell` argument and any exception that happen during thetransform in `preprocessing_exc_tuple` in IPython 7.17 and above.\n",
            "  and should_run_async(code)\n",
            "/usr/local/lib/python3.10/dist-packages/langchain/hub.py:86: DeprecationWarning: The `langchainhub sdk` is deprecated.\n",
            "Please use the `langsmith sdk` instead:\n",
            "  pip install langsmith\n",
            "Use the `pull_prompt` method.\n",
            "  res_dict = client.pull_repo(owner_repo_commit)\n",
            "/usr/local/lib/python3.10/dist-packages/pydantic/main.py:1114: PydanticDeprecatedSince20: The `dict` method is deprecated; use `model_dump` instead. Deprecated in Pydantic V2.0 to be removed in V3.0. See Pydantic V2 Migration Guide at https://errors.pydantic.dev/2.9/migration/\n",
            "  warnings.warn('The `dict` method is deprecated; use `model_dump` instead.', category=PydanticDeprecatedSince20)\n"
          ]
        },
        {
          "output_type": "execute_result",
          "data": {
            "text/plain": [
              "'Task Decomposition is the process of breaking down a complex task into smaller, simpler steps. This allows agents or models to plan ahead and better understand the task at hand. In the context of Chain of Thought, Task Decomposition involves \"thinking step by step\" to transform big tasks into multiple manageable tasks.'"
            ],
            "application/vnd.google.colaboratory.intrinsic+json": {
              "type": "string"
            }
          },
          "metadata": {},
          "execution_count": 81
        }
      ]
    },
    {
      "cell_type": "code",
      "source": [
        "pip install groq"
      ],
      "metadata": {
        "colab": {
          "base_uri": "https://localhost:8080/"
        },
        "id": "dotTjbKTXsk5",
        "outputId": "f4290d6f-ff3f-4884-9c72-890c8f462d20"
      },
      "execution_count": 82,
      "outputs": [
        {
          "output_type": "stream",
          "name": "stderr",
          "text": [
            "/usr/local/lib/python3.10/dist-packages/ipykernel/ipkernel.py:283: DeprecationWarning: `should_run_async` will not call `transform_cell` automatically in the future. Please pass the result to `transformed_cell` argument and any exception that happen during thetransform in `preprocessing_exc_tuple` in IPython 7.17 and above.\n",
            "  and should_run_async(code)\n"
          ]
        },
        {
          "output_type": "stream",
          "name": "stdout",
          "text": [
            "Requirement already satisfied: groq in /usr/local/lib/python3.10/dist-packages (0.11.0)\n",
            "Requirement already satisfied: anyio<5,>=3.5.0 in /usr/local/lib/python3.10/dist-packages (from groq) (3.7.1)\n",
            "Requirement already satisfied: distro<2,>=1.7.0 in /usr/lib/python3/dist-packages (from groq) (1.7.0)\n",
            "Requirement already satisfied: httpx<1,>=0.23.0 in /usr/local/lib/python3.10/dist-packages (from groq) (0.27.2)\n",
            "Requirement already satisfied: pydantic<3,>=1.9.0 in /usr/local/lib/python3.10/dist-packages (from groq) (2.9.2)\n",
            "Requirement already satisfied: sniffio in /usr/local/lib/python3.10/dist-packages (from groq) (1.3.1)\n",
            "Requirement already satisfied: typing-extensions<5,>=4.7 in /usr/local/lib/python3.10/dist-packages (from groq) (4.12.2)\n",
            "Requirement already satisfied: idna>=2.8 in /usr/local/lib/python3.10/dist-packages (from anyio<5,>=3.5.0->groq) (3.10)\n",
            "Requirement already satisfied: exceptiongroup in /usr/local/lib/python3.10/dist-packages (from anyio<5,>=3.5.0->groq) (1.2.2)\n",
            "Requirement already satisfied: certifi in /usr/local/lib/python3.10/dist-packages (from httpx<1,>=0.23.0->groq) (2024.8.30)\n",
            "Requirement already satisfied: httpcore==1.* in /usr/local/lib/python3.10/dist-packages (from httpx<1,>=0.23.0->groq) (1.0.6)\n",
            "Requirement already satisfied: h11<0.15,>=0.13 in /usr/local/lib/python3.10/dist-packages (from httpcore==1.*->httpx<1,>=0.23.0->groq) (0.14.0)\n",
            "Requirement already satisfied: annotated-types>=0.6.0 in /usr/local/lib/python3.10/dist-packages (from pydantic<3,>=1.9.0->groq) (0.7.0)\n",
            "Requirement already satisfied: pydantic-core==2.23.4 in /usr/local/lib/python3.10/dist-packages (from pydantic<3,>=1.9.0->groq) (2.23.4)\n"
          ]
        }
      ]
    },
    {
      "cell_type": "code",
      "source": [
        "import os\n",
        "\n",
        "from groq import Groq\n",
        "\n",
        "client = Groq(\n",
        "    api_key=os.environ.get(\"GROQ_API_KEY\"),\n",
        ")\n",
        "\n",
        "chat_completion = client.chat.completions.create(\n",
        "    messages=[\n",
        "        {\n",
        "            \"role\": \"user\",\n",
        "            \"content\": \"Explain the importance of fast language models\",\n",
        "        }\n",
        "    ],\n",
        "    model=\"llama3-8b-8192\",\n",
        ")\n",
        "\n",
        "print(chat_completion.choices[0].message.content)"
      ],
      "metadata": {
        "id": "Uy2Z3qH5_auD",
        "colab": {
          "base_uri": "https://localhost:8080/"
        },
        "outputId": "de45517c-b2d3-4e8c-c01e-5c7205225a14"
      },
      "execution_count": 83,
      "outputs": [
        {
          "output_type": "stream",
          "name": "stderr",
          "text": [
            "/usr/local/lib/python3.10/dist-packages/ipykernel/ipkernel.py:283: DeprecationWarning: `should_run_async` will not call `transform_cell` automatically in the future. Please pass the result to `transformed_cell` argument and any exception that happen during thetransform in `preprocessing_exc_tuple` in IPython 7.17 and above.\n",
            "  and should_run_async(code)\n"
          ]
        },
        {
          "output_type": "stream",
          "name": "stdout",
          "text": [
            "Fast language models have become increasingly important in recent years due to their numerous applications and benefits. Here are some reasons why they're significant:\n",
            "\n",
            "1. **Efficient computation**: Fast language models can process large amounts of text data quickly, making them essential for applications that require rapid text analysis, such as sentiment analysis, entity recognition, and language translation.\n",
            "2. **Real-time processing**: Fast language models enable real-time processing of user input, which is crucial for applications like chatbots, virtual assistants, and language translation apps that require immediate responses.\n",
            "3. **Scalability**: Fast language models can handle large-scale data processing, making them suitable for applications that involve processing massive amounts of text data, such as social media monitoring, sentiment analysis, and language modeling.\n",
            "4. **Improved accuracy**: Fast language models can achieve high accuracy and precision in text classification, sentiment analysis, and other NLP tasks, which is essential for applications like spam detection, emotion detection, and text summarization.\n",
            "5. **Enhanced user experience**: Fast language models can provide instant responses to user queries, improving the overall user experience in applications like search engines, language translation apps, and virtual assistants.\n",
            "6. **Competitive advantage**: Companies that develop and deploy fast language models can gain a competitive advantage in their respective markets, as they can process and analyze large amounts of text data in real-time, staying ahead of the competition.\n",
            "7. **Applications in emerging fields**: Fast language models have far-reaching applications in emerging fields like natural language processing, machine learning, and artificial intelligence, where rapid processing and analysis of text data are critical.\n",
            "8. **Advancements in research**: Fast language models have enabled researchers to explore new areas of research, such as multimodal processing, multimodal fusion, and cognitive architectures, which can lead to breakthroughs in fields like robotics, computer vision, and human-computer interaction.\n",
            "9. **Improved mental workload**: Fast language models can reduce the mental workload of humans, as they can process and analyze vast amounts of text data quickly and accurately, freeing up human capabilities for more strategic and creative tasks.\n",
            "10. **Cost-effectiveness**: Fast language models can reduce processing times and costs, as they can perform tasks in a fraction of the time it would take human analysts, making them a cost-effective solution for many applications.\n",
            "\n",
            "In summary, fast language models are essential for a wide range of applications and have the potential to revolutionize various industries, from search engines and language translation to customer service and e-commerce.\n"
          ]
        }
      ]
    },
    {
      "cell_type": "code",
      "source": [
        "#set GROQ_API_KEY in the secrets\n",
        "\n",
        "import os\n",
        "from groq import Groq\n",
        "\n",
        "# Create the Groq client\n",
        "client = Groq(api_key=os.environ.get(\"GROQ_API_KEY\"), )\n",
        "\n",
        "# Set the system prompt\n",
        "system_prompt = {\n",
        "    \"role\": \"system\",\n",
        "    \"content\":\n",
        "    \"You are a helpful assistant. You reply with very short answers.\"\n",
        "}\n",
        "\n",
        "# Initialize the chat history\n",
        "chat_history = [system_prompt]\n",
        "\n",
        "while True:\n",
        "  # Get user input from the console\n",
        "  user_input = input(\"You: \")\n",
        "\n",
        "  # Append the user input to the chat history\n",
        "  chat_history.append({\"role\": \"user\", \"content\": user_input})\n",
        "\n",
        "  response = client.chat.completions.create(model=\"llama3-70b-8192\",\n",
        "                                            messages=chat_history,\n",
        "                                            max_tokens=100,\n",
        "                                            temperature=1.2)\n",
        "  # Append the response to the chat history\n",
        "  chat_history.append({\n",
        "      \"role\": \"assistant\",\n",
        "      \"content\": response.choices[0].message.content\n",
        "  })\n",
        "  # Print the response\n",
        "  print(\"Assistant:\", response.choices[0].message.content)"
      ],
      "metadata": {
        "id": "dpEjMs6KaGn_"
      },
      "execution_count": null,
      "outputs": []
    },
    {
      "cell_type": "code",
      "source": [],
      "metadata": {
        "id": "FDmFkMUCaHUA"
      },
      "execution_count": null,
      "outputs": []
    }
  ],
  "metadata": {
    "colab": {
      "provenance": [],
      "include_colab_link": true
    },
    "kernelspec": {
      "display_name": "base",
      "language": "python",
      "name": "python3"
    },
    "language_info": {
      "codemirror_mode": {
        "name": "ipython",
        "version": 3
      },
      "file_extension": ".py",
      "mimetype": "text/x-python",
      "name": "python",
      "nbconvert_exporter": "python",
      "pygments_lexer": "ipython3",
      "version": "3.11.5"
    },
    "widgets": {
      "application/vnd.jupyter.widget-state+json": {
        "48a49e5cea244614a370e828e551d3a6": {
          "model_module": "@jupyter-widgets/controls",
          "model_name": "HBoxModel",
          "model_module_version": "1.5.0",
          "state": {
            "_dom_classes": [],
            "_model_module": "@jupyter-widgets/controls",
            "_model_module_version": "1.5.0",
            "_model_name": "HBoxModel",
            "_view_count": null,
            "_view_module": "@jupyter-widgets/controls",
            "_view_module_version": "1.5.0",
            "_view_name": "HBoxView",
            "box_style": "",
            "children": [
              "IPY_MODEL_add3b85b2d764be6915a2f853cbbe74d",
              "IPY_MODEL_5e89f2977ce54186b33e7e39b33d6d43",
              "IPY_MODEL_acf4a8c8085741e68b91db14a968ad31"
            ],
            "layout": "IPY_MODEL_cd4342761c75400b965472eae99d1643"
          }
        },
        "add3b85b2d764be6915a2f853cbbe74d": {
          "model_module": "@jupyter-widgets/controls",
          "model_name": "HTMLModel",
          "model_module_version": "1.5.0",
          "state": {
            "_dom_classes": [],
            "_model_module": "@jupyter-widgets/controls",
            "_model_module_version": "1.5.0",
            "_model_name": "HTMLModel",
            "_view_count": null,
            "_view_module": "@jupyter-widgets/controls",
            "_view_module_version": "1.5.0",
            "_view_name": "HTMLView",
            "description": "",
            "description_tooltip": null,
            "layout": "IPY_MODEL_8ae06b19c9d74771a2cf4d16485e6594",
            "placeholder": "​",
            "style": "IPY_MODEL_b4edc8279cae4a808e08676639ca8379",
            "value": "modules.json: 100%"
          }
        },
        "5e89f2977ce54186b33e7e39b33d6d43": {
          "model_module": "@jupyter-widgets/controls",
          "model_name": "FloatProgressModel",
          "model_module_version": "1.5.0",
          "state": {
            "_dom_classes": [],
            "_model_module": "@jupyter-widgets/controls",
            "_model_module_version": "1.5.0",
            "_model_name": "FloatProgressModel",
            "_view_count": null,
            "_view_module": "@jupyter-widgets/controls",
            "_view_module_version": "1.5.0",
            "_view_name": "ProgressView",
            "bar_style": "success",
            "description": "",
            "description_tooltip": null,
            "layout": "IPY_MODEL_01c1547b6faa4849a25a3ebebd4d8f7f",
            "max": 349,
            "min": 0,
            "orientation": "horizontal",
            "style": "IPY_MODEL_f9c8f71e2f304f4185f29a51906bb4c3",
            "value": 349
          }
        },
        "acf4a8c8085741e68b91db14a968ad31": {
          "model_module": "@jupyter-widgets/controls",
          "model_name": "HTMLModel",
          "model_module_version": "1.5.0",
          "state": {
            "_dom_classes": [],
            "_model_module": "@jupyter-widgets/controls",
            "_model_module_version": "1.5.0",
            "_model_name": "HTMLModel",
            "_view_count": null,
            "_view_module": "@jupyter-widgets/controls",
            "_view_module_version": "1.5.0",
            "_view_name": "HTMLView",
            "description": "",
            "description_tooltip": null,
            "layout": "IPY_MODEL_e83797e7a0354a43b7c6c8fbbb2e636b",
            "placeholder": "​",
            "style": "IPY_MODEL_02e5608a63544a25829172593b04848d",
            "value": " 349/349 [00:00&lt;00:00, 16.4kB/s]"
          }
        },
        "cd4342761c75400b965472eae99d1643": {
          "model_module": "@jupyter-widgets/base",
          "model_name": "LayoutModel",
          "model_module_version": "1.2.0",
          "state": {
            "_model_module": "@jupyter-widgets/base",
            "_model_module_version": "1.2.0",
            "_model_name": "LayoutModel",
            "_view_count": null,
            "_view_module": "@jupyter-widgets/base",
            "_view_module_version": "1.2.0",
            "_view_name": "LayoutView",
            "align_content": null,
            "align_items": null,
            "align_self": null,
            "border": null,
            "bottom": null,
            "display": null,
            "flex": null,
            "flex_flow": null,
            "grid_area": null,
            "grid_auto_columns": null,
            "grid_auto_flow": null,
            "grid_auto_rows": null,
            "grid_column": null,
            "grid_gap": null,
            "grid_row": null,
            "grid_template_areas": null,
            "grid_template_columns": null,
            "grid_template_rows": null,
            "height": null,
            "justify_content": null,
            "justify_items": null,
            "left": null,
            "margin": null,
            "max_height": null,
            "max_width": null,
            "min_height": null,
            "min_width": null,
            "object_fit": null,
            "object_position": null,
            "order": null,
            "overflow": null,
            "overflow_x": null,
            "overflow_y": null,
            "padding": null,
            "right": null,
            "top": null,
            "visibility": null,
            "width": null
          }
        },
        "8ae06b19c9d74771a2cf4d16485e6594": {
          "model_module": "@jupyter-widgets/base",
          "model_name": "LayoutModel",
          "model_module_version": "1.2.0",
          "state": {
            "_model_module": "@jupyter-widgets/base",
            "_model_module_version": "1.2.0",
            "_model_name": "LayoutModel",
            "_view_count": null,
            "_view_module": "@jupyter-widgets/base",
            "_view_module_version": "1.2.0",
            "_view_name": "LayoutView",
            "align_content": null,
            "align_items": null,
            "align_self": null,
            "border": null,
            "bottom": null,
            "display": null,
            "flex": null,
            "flex_flow": null,
            "grid_area": null,
            "grid_auto_columns": null,
            "grid_auto_flow": null,
            "grid_auto_rows": null,
            "grid_column": null,
            "grid_gap": null,
            "grid_row": null,
            "grid_template_areas": null,
            "grid_template_columns": null,
            "grid_template_rows": null,
            "height": null,
            "justify_content": null,
            "justify_items": null,
            "left": null,
            "margin": null,
            "max_height": null,
            "max_width": null,
            "min_height": null,
            "min_width": null,
            "object_fit": null,
            "object_position": null,
            "order": null,
            "overflow": null,
            "overflow_x": null,
            "overflow_y": null,
            "padding": null,
            "right": null,
            "top": null,
            "visibility": null,
            "width": null
          }
        },
        "b4edc8279cae4a808e08676639ca8379": {
          "model_module": "@jupyter-widgets/controls",
          "model_name": "DescriptionStyleModel",
          "model_module_version": "1.5.0",
          "state": {
            "_model_module": "@jupyter-widgets/controls",
            "_model_module_version": "1.5.0",
            "_model_name": "DescriptionStyleModel",
            "_view_count": null,
            "_view_module": "@jupyter-widgets/base",
            "_view_module_version": "1.2.0",
            "_view_name": "StyleView",
            "description_width": ""
          }
        },
        "01c1547b6faa4849a25a3ebebd4d8f7f": {
          "model_module": "@jupyter-widgets/base",
          "model_name": "LayoutModel",
          "model_module_version": "1.2.0",
          "state": {
            "_model_module": "@jupyter-widgets/base",
            "_model_module_version": "1.2.0",
            "_model_name": "LayoutModel",
            "_view_count": null,
            "_view_module": "@jupyter-widgets/base",
            "_view_module_version": "1.2.0",
            "_view_name": "LayoutView",
            "align_content": null,
            "align_items": null,
            "align_self": null,
            "border": null,
            "bottom": null,
            "display": null,
            "flex": null,
            "flex_flow": null,
            "grid_area": null,
            "grid_auto_columns": null,
            "grid_auto_flow": null,
            "grid_auto_rows": null,
            "grid_column": null,
            "grid_gap": null,
            "grid_row": null,
            "grid_template_areas": null,
            "grid_template_columns": null,
            "grid_template_rows": null,
            "height": null,
            "justify_content": null,
            "justify_items": null,
            "left": null,
            "margin": null,
            "max_height": null,
            "max_width": null,
            "min_height": null,
            "min_width": null,
            "object_fit": null,
            "object_position": null,
            "order": null,
            "overflow": null,
            "overflow_x": null,
            "overflow_y": null,
            "padding": null,
            "right": null,
            "top": null,
            "visibility": null,
            "width": null
          }
        },
        "f9c8f71e2f304f4185f29a51906bb4c3": {
          "model_module": "@jupyter-widgets/controls",
          "model_name": "ProgressStyleModel",
          "model_module_version": "1.5.0",
          "state": {
            "_model_module": "@jupyter-widgets/controls",
            "_model_module_version": "1.5.0",
            "_model_name": "ProgressStyleModel",
            "_view_count": null,
            "_view_module": "@jupyter-widgets/base",
            "_view_module_version": "1.2.0",
            "_view_name": "StyleView",
            "bar_color": null,
            "description_width": ""
          }
        },
        "e83797e7a0354a43b7c6c8fbbb2e636b": {
          "model_module": "@jupyter-widgets/base",
          "model_name": "LayoutModel",
          "model_module_version": "1.2.0",
          "state": {
            "_model_module": "@jupyter-widgets/base",
            "_model_module_version": "1.2.0",
            "_model_name": "LayoutModel",
            "_view_count": null,
            "_view_module": "@jupyter-widgets/base",
            "_view_module_version": "1.2.0",
            "_view_name": "LayoutView",
            "align_content": null,
            "align_items": null,
            "align_self": null,
            "border": null,
            "bottom": null,
            "display": null,
            "flex": null,
            "flex_flow": null,
            "grid_area": null,
            "grid_auto_columns": null,
            "grid_auto_flow": null,
            "grid_auto_rows": null,
            "grid_column": null,
            "grid_gap": null,
            "grid_row": null,
            "grid_template_areas": null,
            "grid_template_columns": null,
            "grid_template_rows": null,
            "height": null,
            "justify_content": null,
            "justify_items": null,
            "left": null,
            "margin": null,
            "max_height": null,
            "max_width": null,
            "min_height": null,
            "min_width": null,
            "object_fit": null,
            "object_position": null,
            "order": null,
            "overflow": null,
            "overflow_x": null,
            "overflow_y": null,
            "padding": null,
            "right": null,
            "top": null,
            "visibility": null,
            "width": null
          }
        },
        "02e5608a63544a25829172593b04848d": {
          "model_module": "@jupyter-widgets/controls",
          "model_name": "DescriptionStyleModel",
          "model_module_version": "1.5.0",
          "state": {
            "_model_module": "@jupyter-widgets/controls",
            "_model_module_version": "1.5.0",
            "_model_name": "DescriptionStyleModel",
            "_view_count": null,
            "_view_module": "@jupyter-widgets/base",
            "_view_module_version": "1.2.0",
            "_view_name": "StyleView",
            "description_width": ""
          }
        },
        "4a40399635a0432da5af773c662f3b37": {
          "model_module": "@jupyter-widgets/controls",
          "model_name": "HBoxModel",
          "model_module_version": "1.5.0",
          "state": {
            "_dom_classes": [],
            "_model_module": "@jupyter-widgets/controls",
            "_model_module_version": "1.5.0",
            "_model_name": "HBoxModel",
            "_view_count": null,
            "_view_module": "@jupyter-widgets/controls",
            "_view_module_version": "1.5.0",
            "_view_name": "HBoxView",
            "box_style": "",
            "children": [
              "IPY_MODEL_6e785cb9687644d79939187d342beaa2",
              "IPY_MODEL_2b5fb4c372154ded87222847848ed5ab",
              "IPY_MODEL_cea621c0a370426b82a37b04e30f67e8"
            ],
            "layout": "IPY_MODEL_424edd9be3fe4e0ab7cdf2f42e93197c"
          }
        },
        "6e785cb9687644d79939187d342beaa2": {
          "model_module": "@jupyter-widgets/controls",
          "model_name": "HTMLModel",
          "model_module_version": "1.5.0",
          "state": {
            "_dom_classes": [],
            "_model_module": "@jupyter-widgets/controls",
            "_model_module_version": "1.5.0",
            "_model_name": "HTMLModel",
            "_view_count": null,
            "_view_module": "@jupyter-widgets/controls",
            "_view_module_version": "1.5.0",
            "_view_name": "HTMLView",
            "description": "",
            "description_tooltip": null,
            "layout": "IPY_MODEL_d9073fac5aee4669a518a167265495ec",
            "placeholder": "​",
            "style": "IPY_MODEL_7dbf9f32c8014bf9899211efdaf5a758",
            "value": "config_sentence_transformers.json: 100%"
          }
        },
        "2b5fb4c372154ded87222847848ed5ab": {
          "model_module": "@jupyter-widgets/controls",
          "model_name": "FloatProgressModel",
          "model_module_version": "1.5.0",
          "state": {
            "_dom_classes": [],
            "_model_module": "@jupyter-widgets/controls",
            "_model_module_version": "1.5.0",
            "_model_name": "FloatProgressModel",
            "_view_count": null,
            "_view_module": "@jupyter-widgets/controls",
            "_view_module_version": "1.5.0",
            "_view_name": "ProgressView",
            "bar_style": "success",
            "description": "",
            "description_tooltip": null,
            "layout": "IPY_MODEL_e322ceb639684a7cba22b7c57c39aeba",
            "max": 116,
            "min": 0,
            "orientation": "horizontal",
            "style": "IPY_MODEL_43a2f7c9c1484d26945123a559a974d5",
            "value": 116
          }
        },
        "cea621c0a370426b82a37b04e30f67e8": {
          "model_module": "@jupyter-widgets/controls",
          "model_name": "HTMLModel",
          "model_module_version": "1.5.0",
          "state": {
            "_dom_classes": [],
            "_model_module": "@jupyter-widgets/controls",
            "_model_module_version": "1.5.0",
            "_model_name": "HTMLModel",
            "_view_count": null,
            "_view_module": "@jupyter-widgets/controls",
            "_view_module_version": "1.5.0",
            "_view_name": "HTMLView",
            "description": "",
            "description_tooltip": null,
            "layout": "IPY_MODEL_db1e87f7fbaa4be4a071f37c8662bb2c",
            "placeholder": "​",
            "style": "IPY_MODEL_26bd62b17b1a43baa91dbf3cf3e49a11",
            "value": " 116/116 [00:00&lt;00:00, 7.70kB/s]"
          }
        },
        "424edd9be3fe4e0ab7cdf2f42e93197c": {
          "model_module": "@jupyter-widgets/base",
          "model_name": "LayoutModel",
          "model_module_version": "1.2.0",
          "state": {
            "_model_module": "@jupyter-widgets/base",
            "_model_module_version": "1.2.0",
            "_model_name": "LayoutModel",
            "_view_count": null,
            "_view_module": "@jupyter-widgets/base",
            "_view_module_version": "1.2.0",
            "_view_name": "LayoutView",
            "align_content": null,
            "align_items": null,
            "align_self": null,
            "border": null,
            "bottom": null,
            "display": null,
            "flex": null,
            "flex_flow": null,
            "grid_area": null,
            "grid_auto_columns": null,
            "grid_auto_flow": null,
            "grid_auto_rows": null,
            "grid_column": null,
            "grid_gap": null,
            "grid_row": null,
            "grid_template_areas": null,
            "grid_template_columns": null,
            "grid_template_rows": null,
            "height": null,
            "justify_content": null,
            "justify_items": null,
            "left": null,
            "margin": null,
            "max_height": null,
            "max_width": null,
            "min_height": null,
            "min_width": null,
            "object_fit": null,
            "object_position": null,
            "order": null,
            "overflow": null,
            "overflow_x": null,
            "overflow_y": null,
            "padding": null,
            "right": null,
            "top": null,
            "visibility": null,
            "width": null
          }
        },
        "d9073fac5aee4669a518a167265495ec": {
          "model_module": "@jupyter-widgets/base",
          "model_name": "LayoutModel",
          "model_module_version": "1.2.0",
          "state": {
            "_model_module": "@jupyter-widgets/base",
            "_model_module_version": "1.2.0",
            "_model_name": "LayoutModel",
            "_view_count": null,
            "_view_module": "@jupyter-widgets/base",
            "_view_module_version": "1.2.0",
            "_view_name": "LayoutView",
            "align_content": null,
            "align_items": null,
            "align_self": null,
            "border": null,
            "bottom": null,
            "display": null,
            "flex": null,
            "flex_flow": null,
            "grid_area": null,
            "grid_auto_columns": null,
            "grid_auto_flow": null,
            "grid_auto_rows": null,
            "grid_column": null,
            "grid_gap": null,
            "grid_row": null,
            "grid_template_areas": null,
            "grid_template_columns": null,
            "grid_template_rows": null,
            "height": null,
            "justify_content": null,
            "justify_items": null,
            "left": null,
            "margin": null,
            "max_height": null,
            "max_width": null,
            "min_height": null,
            "min_width": null,
            "object_fit": null,
            "object_position": null,
            "order": null,
            "overflow": null,
            "overflow_x": null,
            "overflow_y": null,
            "padding": null,
            "right": null,
            "top": null,
            "visibility": null,
            "width": null
          }
        },
        "7dbf9f32c8014bf9899211efdaf5a758": {
          "model_module": "@jupyter-widgets/controls",
          "model_name": "DescriptionStyleModel",
          "model_module_version": "1.5.0",
          "state": {
            "_model_module": "@jupyter-widgets/controls",
            "_model_module_version": "1.5.0",
            "_model_name": "DescriptionStyleModel",
            "_view_count": null,
            "_view_module": "@jupyter-widgets/base",
            "_view_module_version": "1.2.0",
            "_view_name": "StyleView",
            "description_width": ""
          }
        },
        "e322ceb639684a7cba22b7c57c39aeba": {
          "model_module": "@jupyter-widgets/base",
          "model_name": "LayoutModel",
          "model_module_version": "1.2.0",
          "state": {
            "_model_module": "@jupyter-widgets/base",
            "_model_module_version": "1.2.0",
            "_model_name": "LayoutModel",
            "_view_count": null,
            "_view_module": "@jupyter-widgets/base",
            "_view_module_version": "1.2.0",
            "_view_name": "LayoutView",
            "align_content": null,
            "align_items": null,
            "align_self": null,
            "border": null,
            "bottom": null,
            "display": null,
            "flex": null,
            "flex_flow": null,
            "grid_area": null,
            "grid_auto_columns": null,
            "grid_auto_flow": null,
            "grid_auto_rows": null,
            "grid_column": null,
            "grid_gap": null,
            "grid_row": null,
            "grid_template_areas": null,
            "grid_template_columns": null,
            "grid_template_rows": null,
            "height": null,
            "justify_content": null,
            "justify_items": null,
            "left": null,
            "margin": null,
            "max_height": null,
            "max_width": null,
            "min_height": null,
            "min_width": null,
            "object_fit": null,
            "object_position": null,
            "order": null,
            "overflow": null,
            "overflow_x": null,
            "overflow_y": null,
            "padding": null,
            "right": null,
            "top": null,
            "visibility": null,
            "width": null
          }
        },
        "43a2f7c9c1484d26945123a559a974d5": {
          "model_module": "@jupyter-widgets/controls",
          "model_name": "ProgressStyleModel",
          "model_module_version": "1.5.0",
          "state": {
            "_model_module": "@jupyter-widgets/controls",
            "_model_module_version": "1.5.0",
            "_model_name": "ProgressStyleModel",
            "_view_count": null,
            "_view_module": "@jupyter-widgets/base",
            "_view_module_version": "1.2.0",
            "_view_name": "StyleView",
            "bar_color": null,
            "description_width": ""
          }
        },
        "db1e87f7fbaa4be4a071f37c8662bb2c": {
          "model_module": "@jupyter-widgets/base",
          "model_name": "LayoutModel",
          "model_module_version": "1.2.0",
          "state": {
            "_model_module": "@jupyter-widgets/base",
            "_model_module_version": "1.2.0",
            "_model_name": "LayoutModel",
            "_view_count": null,
            "_view_module": "@jupyter-widgets/base",
            "_view_module_version": "1.2.0",
            "_view_name": "LayoutView",
            "align_content": null,
            "align_items": null,
            "align_self": null,
            "border": null,
            "bottom": null,
            "display": null,
            "flex": null,
            "flex_flow": null,
            "grid_area": null,
            "grid_auto_columns": null,
            "grid_auto_flow": null,
            "grid_auto_rows": null,
            "grid_column": null,
            "grid_gap": null,
            "grid_row": null,
            "grid_template_areas": null,
            "grid_template_columns": null,
            "grid_template_rows": null,
            "height": null,
            "justify_content": null,
            "justify_items": null,
            "left": null,
            "margin": null,
            "max_height": null,
            "max_width": null,
            "min_height": null,
            "min_width": null,
            "object_fit": null,
            "object_position": null,
            "order": null,
            "overflow": null,
            "overflow_x": null,
            "overflow_y": null,
            "padding": null,
            "right": null,
            "top": null,
            "visibility": null,
            "width": null
          }
        },
        "26bd62b17b1a43baa91dbf3cf3e49a11": {
          "model_module": "@jupyter-widgets/controls",
          "model_name": "DescriptionStyleModel",
          "model_module_version": "1.5.0",
          "state": {
            "_model_module": "@jupyter-widgets/controls",
            "_model_module_version": "1.5.0",
            "_model_name": "DescriptionStyleModel",
            "_view_count": null,
            "_view_module": "@jupyter-widgets/base",
            "_view_module_version": "1.2.0",
            "_view_name": "StyleView",
            "description_width": ""
          }
        },
        "2eea23c6a8604b008bfb0d1fc3de8db4": {
          "model_module": "@jupyter-widgets/controls",
          "model_name": "HBoxModel",
          "model_module_version": "1.5.0",
          "state": {
            "_dom_classes": [],
            "_model_module": "@jupyter-widgets/controls",
            "_model_module_version": "1.5.0",
            "_model_name": "HBoxModel",
            "_view_count": null,
            "_view_module": "@jupyter-widgets/controls",
            "_view_module_version": "1.5.0",
            "_view_name": "HBoxView",
            "box_style": "",
            "children": [
              "IPY_MODEL_589422397ce441dabfff05157621b2a3",
              "IPY_MODEL_93173f6809204c7bad4594caeef83477",
              "IPY_MODEL_720de8f7e6474760b11153f7c916c281"
            ],
            "layout": "IPY_MODEL_0b1ac271bbf14b84b5458dd772d2b2cf"
          }
        },
        "589422397ce441dabfff05157621b2a3": {
          "model_module": "@jupyter-widgets/controls",
          "model_name": "HTMLModel",
          "model_module_version": "1.5.0",
          "state": {
            "_dom_classes": [],
            "_model_module": "@jupyter-widgets/controls",
            "_model_module_version": "1.5.0",
            "_model_name": "HTMLModel",
            "_view_count": null,
            "_view_module": "@jupyter-widgets/controls",
            "_view_module_version": "1.5.0",
            "_view_name": "HTMLView",
            "description": "",
            "description_tooltip": null,
            "layout": "IPY_MODEL_2533bb584344427eac3b1cdbce0461b4",
            "placeholder": "​",
            "style": "IPY_MODEL_59e6f81ff8864106a667ca768dc213a1",
            "value": "README.md: 100%"
          }
        },
        "93173f6809204c7bad4594caeef83477": {
          "model_module": "@jupyter-widgets/controls",
          "model_name": "FloatProgressModel",
          "model_module_version": "1.5.0",
          "state": {
            "_dom_classes": [],
            "_model_module": "@jupyter-widgets/controls",
            "_model_module_version": "1.5.0",
            "_model_name": "FloatProgressModel",
            "_view_count": null,
            "_view_module": "@jupyter-widgets/controls",
            "_view_module_version": "1.5.0",
            "_view_name": "ProgressView",
            "bar_style": "success",
            "description": "",
            "description_tooltip": null,
            "layout": "IPY_MODEL_f7f1e7f7084b49bfb102e087b3c64c64",
            "max": 10659,
            "min": 0,
            "orientation": "horizontal",
            "style": "IPY_MODEL_8ca9e3fbaa9c4aff8df7e419298a45b6",
            "value": 10659
          }
        },
        "720de8f7e6474760b11153f7c916c281": {
          "model_module": "@jupyter-widgets/controls",
          "model_name": "HTMLModel",
          "model_module_version": "1.5.0",
          "state": {
            "_dom_classes": [],
            "_model_module": "@jupyter-widgets/controls",
            "_model_module_version": "1.5.0",
            "_model_name": "HTMLModel",
            "_view_count": null,
            "_view_module": "@jupyter-widgets/controls",
            "_view_module_version": "1.5.0",
            "_view_name": "HTMLView",
            "description": "",
            "description_tooltip": null,
            "layout": "IPY_MODEL_ae5d5978c26147e79b8357957bf43027",
            "placeholder": "​",
            "style": "IPY_MODEL_a853498651f443d7a15eb2cd9e7e33bd",
            "value": " 10.7k/10.7k [00:00&lt;00:00, 620kB/s]"
          }
        },
        "0b1ac271bbf14b84b5458dd772d2b2cf": {
          "model_module": "@jupyter-widgets/base",
          "model_name": "LayoutModel",
          "model_module_version": "1.2.0",
          "state": {
            "_model_module": "@jupyter-widgets/base",
            "_model_module_version": "1.2.0",
            "_model_name": "LayoutModel",
            "_view_count": null,
            "_view_module": "@jupyter-widgets/base",
            "_view_module_version": "1.2.0",
            "_view_name": "LayoutView",
            "align_content": null,
            "align_items": null,
            "align_self": null,
            "border": null,
            "bottom": null,
            "display": null,
            "flex": null,
            "flex_flow": null,
            "grid_area": null,
            "grid_auto_columns": null,
            "grid_auto_flow": null,
            "grid_auto_rows": null,
            "grid_column": null,
            "grid_gap": null,
            "grid_row": null,
            "grid_template_areas": null,
            "grid_template_columns": null,
            "grid_template_rows": null,
            "height": null,
            "justify_content": null,
            "justify_items": null,
            "left": null,
            "margin": null,
            "max_height": null,
            "max_width": null,
            "min_height": null,
            "min_width": null,
            "object_fit": null,
            "object_position": null,
            "order": null,
            "overflow": null,
            "overflow_x": null,
            "overflow_y": null,
            "padding": null,
            "right": null,
            "top": null,
            "visibility": null,
            "width": null
          }
        },
        "2533bb584344427eac3b1cdbce0461b4": {
          "model_module": "@jupyter-widgets/base",
          "model_name": "LayoutModel",
          "model_module_version": "1.2.0",
          "state": {
            "_model_module": "@jupyter-widgets/base",
            "_model_module_version": "1.2.0",
            "_model_name": "LayoutModel",
            "_view_count": null,
            "_view_module": "@jupyter-widgets/base",
            "_view_module_version": "1.2.0",
            "_view_name": "LayoutView",
            "align_content": null,
            "align_items": null,
            "align_self": null,
            "border": null,
            "bottom": null,
            "display": null,
            "flex": null,
            "flex_flow": null,
            "grid_area": null,
            "grid_auto_columns": null,
            "grid_auto_flow": null,
            "grid_auto_rows": null,
            "grid_column": null,
            "grid_gap": null,
            "grid_row": null,
            "grid_template_areas": null,
            "grid_template_columns": null,
            "grid_template_rows": null,
            "height": null,
            "justify_content": null,
            "justify_items": null,
            "left": null,
            "margin": null,
            "max_height": null,
            "max_width": null,
            "min_height": null,
            "min_width": null,
            "object_fit": null,
            "object_position": null,
            "order": null,
            "overflow": null,
            "overflow_x": null,
            "overflow_y": null,
            "padding": null,
            "right": null,
            "top": null,
            "visibility": null,
            "width": null
          }
        },
        "59e6f81ff8864106a667ca768dc213a1": {
          "model_module": "@jupyter-widgets/controls",
          "model_name": "DescriptionStyleModel",
          "model_module_version": "1.5.0",
          "state": {
            "_model_module": "@jupyter-widgets/controls",
            "_model_module_version": "1.5.0",
            "_model_name": "DescriptionStyleModel",
            "_view_count": null,
            "_view_module": "@jupyter-widgets/base",
            "_view_module_version": "1.2.0",
            "_view_name": "StyleView",
            "description_width": ""
          }
        },
        "f7f1e7f7084b49bfb102e087b3c64c64": {
          "model_module": "@jupyter-widgets/base",
          "model_name": "LayoutModel",
          "model_module_version": "1.2.0",
          "state": {
            "_model_module": "@jupyter-widgets/base",
            "_model_module_version": "1.2.0",
            "_model_name": "LayoutModel",
            "_view_count": null,
            "_view_module": "@jupyter-widgets/base",
            "_view_module_version": "1.2.0",
            "_view_name": "LayoutView",
            "align_content": null,
            "align_items": null,
            "align_self": null,
            "border": null,
            "bottom": null,
            "display": null,
            "flex": null,
            "flex_flow": null,
            "grid_area": null,
            "grid_auto_columns": null,
            "grid_auto_flow": null,
            "grid_auto_rows": null,
            "grid_column": null,
            "grid_gap": null,
            "grid_row": null,
            "grid_template_areas": null,
            "grid_template_columns": null,
            "grid_template_rows": null,
            "height": null,
            "justify_content": null,
            "justify_items": null,
            "left": null,
            "margin": null,
            "max_height": null,
            "max_width": null,
            "min_height": null,
            "min_width": null,
            "object_fit": null,
            "object_position": null,
            "order": null,
            "overflow": null,
            "overflow_x": null,
            "overflow_y": null,
            "padding": null,
            "right": null,
            "top": null,
            "visibility": null,
            "width": null
          }
        },
        "8ca9e3fbaa9c4aff8df7e419298a45b6": {
          "model_module": "@jupyter-widgets/controls",
          "model_name": "ProgressStyleModel",
          "model_module_version": "1.5.0",
          "state": {
            "_model_module": "@jupyter-widgets/controls",
            "_model_module_version": "1.5.0",
            "_model_name": "ProgressStyleModel",
            "_view_count": null,
            "_view_module": "@jupyter-widgets/base",
            "_view_module_version": "1.2.0",
            "_view_name": "StyleView",
            "bar_color": null,
            "description_width": ""
          }
        },
        "ae5d5978c26147e79b8357957bf43027": {
          "model_module": "@jupyter-widgets/base",
          "model_name": "LayoutModel",
          "model_module_version": "1.2.0",
          "state": {
            "_model_module": "@jupyter-widgets/base",
            "_model_module_version": "1.2.0",
            "_model_name": "LayoutModel",
            "_view_count": null,
            "_view_module": "@jupyter-widgets/base",
            "_view_module_version": "1.2.0",
            "_view_name": "LayoutView",
            "align_content": null,
            "align_items": null,
            "align_self": null,
            "border": null,
            "bottom": null,
            "display": null,
            "flex": null,
            "flex_flow": null,
            "grid_area": null,
            "grid_auto_columns": null,
            "grid_auto_flow": null,
            "grid_auto_rows": null,
            "grid_column": null,
            "grid_gap": null,
            "grid_row": null,
            "grid_template_areas": null,
            "grid_template_columns": null,
            "grid_template_rows": null,
            "height": null,
            "justify_content": null,
            "justify_items": null,
            "left": null,
            "margin": null,
            "max_height": null,
            "max_width": null,
            "min_height": null,
            "min_width": null,
            "object_fit": null,
            "object_position": null,
            "order": null,
            "overflow": null,
            "overflow_x": null,
            "overflow_y": null,
            "padding": null,
            "right": null,
            "top": null,
            "visibility": null,
            "width": null
          }
        },
        "a853498651f443d7a15eb2cd9e7e33bd": {
          "model_module": "@jupyter-widgets/controls",
          "model_name": "DescriptionStyleModel",
          "model_module_version": "1.5.0",
          "state": {
            "_model_module": "@jupyter-widgets/controls",
            "_model_module_version": "1.5.0",
            "_model_name": "DescriptionStyleModel",
            "_view_count": null,
            "_view_module": "@jupyter-widgets/base",
            "_view_module_version": "1.2.0",
            "_view_name": "StyleView",
            "description_width": ""
          }
        },
        "fcf84ce22b76431e9a4794932e60cfca": {
          "model_module": "@jupyter-widgets/controls",
          "model_name": "HBoxModel",
          "model_module_version": "1.5.0",
          "state": {
            "_dom_classes": [],
            "_model_module": "@jupyter-widgets/controls",
            "_model_module_version": "1.5.0",
            "_model_name": "HBoxModel",
            "_view_count": null,
            "_view_module": "@jupyter-widgets/controls",
            "_view_module_version": "1.5.0",
            "_view_name": "HBoxView",
            "box_style": "",
            "children": [
              "IPY_MODEL_84d7e26c45864909a87587e8329ea92d",
              "IPY_MODEL_4507f9e4e1d94ed78a73f2f97e0246bb",
              "IPY_MODEL_165db0338ba54b5abb0e13ecd21f4740"
            ],
            "layout": "IPY_MODEL_e271bf49c8a944ae84bc008cb9279550"
          }
        },
        "84d7e26c45864909a87587e8329ea92d": {
          "model_module": "@jupyter-widgets/controls",
          "model_name": "HTMLModel",
          "model_module_version": "1.5.0",
          "state": {
            "_dom_classes": [],
            "_model_module": "@jupyter-widgets/controls",
            "_model_module_version": "1.5.0",
            "_model_name": "HTMLModel",
            "_view_count": null,
            "_view_module": "@jupyter-widgets/controls",
            "_view_module_version": "1.5.0",
            "_view_name": "HTMLView",
            "description": "",
            "description_tooltip": null,
            "layout": "IPY_MODEL_2f7a4f3cebbf47be996aea812a7d8ffa",
            "placeholder": "​",
            "style": "IPY_MODEL_a1ec9db37b7843abb140e883a0893457",
            "value": "sentence_bert_config.json: 100%"
          }
        },
        "4507f9e4e1d94ed78a73f2f97e0246bb": {
          "model_module": "@jupyter-widgets/controls",
          "model_name": "FloatProgressModel",
          "model_module_version": "1.5.0",
          "state": {
            "_dom_classes": [],
            "_model_module": "@jupyter-widgets/controls",
            "_model_module_version": "1.5.0",
            "_model_name": "FloatProgressModel",
            "_view_count": null,
            "_view_module": "@jupyter-widgets/controls",
            "_view_module_version": "1.5.0",
            "_view_name": "ProgressView",
            "bar_style": "success",
            "description": "",
            "description_tooltip": null,
            "layout": "IPY_MODEL_4bca528592304aceaa9e5eed3f672460",
            "max": 53,
            "min": 0,
            "orientation": "horizontal",
            "style": "IPY_MODEL_3ec0e72f5053457889ed04b033c1d65b",
            "value": 53
          }
        },
        "165db0338ba54b5abb0e13ecd21f4740": {
          "model_module": "@jupyter-widgets/controls",
          "model_name": "HTMLModel",
          "model_module_version": "1.5.0",
          "state": {
            "_dom_classes": [],
            "_model_module": "@jupyter-widgets/controls",
            "_model_module_version": "1.5.0",
            "_model_name": "HTMLModel",
            "_view_count": null,
            "_view_module": "@jupyter-widgets/controls",
            "_view_module_version": "1.5.0",
            "_view_name": "HTMLView",
            "description": "",
            "description_tooltip": null,
            "layout": "IPY_MODEL_73e45388dee34f43973dafbe76b66cf1",
            "placeholder": "​",
            "style": "IPY_MODEL_4724f0a5bfc94824a578eb0a4e1ecf34",
            "value": " 53.0/53.0 [00:00&lt;00:00, 3.09kB/s]"
          }
        },
        "e271bf49c8a944ae84bc008cb9279550": {
          "model_module": "@jupyter-widgets/base",
          "model_name": "LayoutModel",
          "model_module_version": "1.2.0",
          "state": {
            "_model_module": "@jupyter-widgets/base",
            "_model_module_version": "1.2.0",
            "_model_name": "LayoutModel",
            "_view_count": null,
            "_view_module": "@jupyter-widgets/base",
            "_view_module_version": "1.2.0",
            "_view_name": "LayoutView",
            "align_content": null,
            "align_items": null,
            "align_self": null,
            "border": null,
            "bottom": null,
            "display": null,
            "flex": null,
            "flex_flow": null,
            "grid_area": null,
            "grid_auto_columns": null,
            "grid_auto_flow": null,
            "grid_auto_rows": null,
            "grid_column": null,
            "grid_gap": null,
            "grid_row": null,
            "grid_template_areas": null,
            "grid_template_columns": null,
            "grid_template_rows": null,
            "height": null,
            "justify_content": null,
            "justify_items": null,
            "left": null,
            "margin": null,
            "max_height": null,
            "max_width": null,
            "min_height": null,
            "min_width": null,
            "object_fit": null,
            "object_position": null,
            "order": null,
            "overflow": null,
            "overflow_x": null,
            "overflow_y": null,
            "padding": null,
            "right": null,
            "top": null,
            "visibility": null,
            "width": null
          }
        },
        "2f7a4f3cebbf47be996aea812a7d8ffa": {
          "model_module": "@jupyter-widgets/base",
          "model_name": "LayoutModel",
          "model_module_version": "1.2.0",
          "state": {
            "_model_module": "@jupyter-widgets/base",
            "_model_module_version": "1.2.0",
            "_model_name": "LayoutModel",
            "_view_count": null,
            "_view_module": "@jupyter-widgets/base",
            "_view_module_version": "1.2.0",
            "_view_name": "LayoutView",
            "align_content": null,
            "align_items": null,
            "align_self": null,
            "border": null,
            "bottom": null,
            "display": null,
            "flex": null,
            "flex_flow": null,
            "grid_area": null,
            "grid_auto_columns": null,
            "grid_auto_flow": null,
            "grid_auto_rows": null,
            "grid_column": null,
            "grid_gap": null,
            "grid_row": null,
            "grid_template_areas": null,
            "grid_template_columns": null,
            "grid_template_rows": null,
            "height": null,
            "justify_content": null,
            "justify_items": null,
            "left": null,
            "margin": null,
            "max_height": null,
            "max_width": null,
            "min_height": null,
            "min_width": null,
            "object_fit": null,
            "object_position": null,
            "order": null,
            "overflow": null,
            "overflow_x": null,
            "overflow_y": null,
            "padding": null,
            "right": null,
            "top": null,
            "visibility": null,
            "width": null
          }
        },
        "a1ec9db37b7843abb140e883a0893457": {
          "model_module": "@jupyter-widgets/controls",
          "model_name": "DescriptionStyleModel",
          "model_module_version": "1.5.0",
          "state": {
            "_model_module": "@jupyter-widgets/controls",
            "_model_module_version": "1.5.0",
            "_model_name": "DescriptionStyleModel",
            "_view_count": null,
            "_view_module": "@jupyter-widgets/base",
            "_view_module_version": "1.2.0",
            "_view_name": "StyleView",
            "description_width": ""
          }
        },
        "4bca528592304aceaa9e5eed3f672460": {
          "model_module": "@jupyter-widgets/base",
          "model_name": "LayoutModel",
          "model_module_version": "1.2.0",
          "state": {
            "_model_module": "@jupyter-widgets/base",
            "_model_module_version": "1.2.0",
            "_model_name": "LayoutModel",
            "_view_count": null,
            "_view_module": "@jupyter-widgets/base",
            "_view_module_version": "1.2.0",
            "_view_name": "LayoutView",
            "align_content": null,
            "align_items": null,
            "align_self": null,
            "border": null,
            "bottom": null,
            "display": null,
            "flex": null,
            "flex_flow": null,
            "grid_area": null,
            "grid_auto_columns": null,
            "grid_auto_flow": null,
            "grid_auto_rows": null,
            "grid_column": null,
            "grid_gap": null,
            "grid_row": null,
            "grid_template_areas": null,
            "grid_template_columns": null,
            "grid_template_rows": null,
            "height": null,
            "justify_content": null,
            "justify_items": null,
            "left": null,
            "margin": null,
            "max_height": null,
            "max_width": null,
            "min_height": null,
            "min_width": null,
            "object_fit": null,
            "object_position": null,
            "order": null,
            "overflow": null,
            "overflow_x": null,
            "overflow_y": null,
            "padding": null,
            "right": null,
            "top": null,
            "visibility": null,
            "width": null
          }
        },
        "3ec0e72f5053457889ed04b033c1d65b": {
          "model_module": "@jupyter-widgets/controls",
          "model_name": "ProgressStyleModel",
          "model_module_version": "1.5.0",
          "state": {
            "_model_module": "@jupyter-widgets/controls",
            "_model_module_version": "1.5.0",
            "_model_name": "ProgressStyleModel",
            "_view_count": null,
            "_view_module": "@jupyter-widgets/base",
            "_view_module_version": "1.2.0",
            "_view_name": "StyleView",
            "bar_color": null,
            "description_width": ""
          }
        },
        "73e45388dee34f43973dafbe76b66cf1": {
          "model_module": "@jupyter-widgets/base",
          "model_name": "LayoutModel",
          "model_module_version": "1.2.0",
          "state": {
            "_model_module": "@jupyter-widgets/base",
            "_model_module_version": "1.2.0",
            "_model_name": "LayoutModel",
            "_view_count": null,
            "_view_module": "@jupyter-widgets/base",
            "_view_module_version": "1.2.0",
            "_view_name": "LayoutView",
            "align_content": null,
            "align_items": null,
            "align_self": null,
            "border": null,
            "bottom": null,
            "display": null,
            "flex": null,
            "flex_flow": null,
            "grid_area": null,
            "grid_auto_columns": null,
            "grid_auto_flow": null,
            "grid_auto_rows": null,
            "grid_column": null,
            "grid_gap": null,
            "grid_row": null,
            "grid_template_areas": null,
            "grid_template_columns": null,
            "grid_template_rows": null,
            "height": null,
            "justify_content": null,
            "justify_items": null,
            "left": null,
            "margin": null,
            "max_height": null,
            "max_width": null,
            "min_height": null,
            "min_width": null,
            "object_fit": null,
            "object_position": null,
            "order": null,
            "overflow": null,
            "overflow_x": null,
            "overflow_y": null,
            "padding": null,
            "right": null,
            "top": null,
            "visibility": null,
            "width": null
          }
        },
        "4724f0a5bfc94824a578eb0a4e1ecf34": {
          "model_module": "@jupyter-widgets/controls",
          "model_name": "DescriptionStyleModel",
          "model_module_version": "1.5.0",
          "state": {
            "_model_module": "@jupyter-widgets/controls",
            "_model_module_version": "1.5.0",
            "_model_name": "DescriptionStyleModel",
            "_view_count": null,
            "_view_module": "@jupyter-widgets/base",
            "_view_module_version": "1.2.0",
            "_view_name": "StyleView",
            "description_width": ""
          }
        },
        "cdfe68acea9e466e83b94eefdaea81bf": {
          "model_module": "@jupyter-widgets/controls",
          "model_name": "HBoxModel",
          "model_module_version": "1.5.0",
          "state": {
            "_dom_classes": [],
            "_model_module": "@jupyter-widgets/controls",
            "_model_module_version": "1.5.0",
            "_model_name": "HBoxModel",
            "_view_count": null,
            "_view_module": "@jupyter-widgets/controls",
            "_view_module_version": "1.5.0",
            "_view_name": "HBoxView",
            "box_style": "",
            "children": [
              "IPY_MODEL_e5d4a43a257f4e4ab04b175235d62986",
              "IPY_MODEL_16bc346db0f745cf992249417b84960a",
              "IPY_MODEL_a72e774d78a04fe8a7241e2ec8cf84bd"
            ],
            "layout": "IPY_MODEL_a334fa749a3246de8f42b9e6d42efbd3"
          }
        },
        "e5d4a43a257f4e4ab04b175235d62986": {
          "model_module": "@jupyter-widgets/controls",
          "model_name": "HTMLModel",
          "model_module_version": "1.5.0",
          "state": {
            "_dom_classes": [],
            "_model_module": "@jupyter-widgets/controls",
            "_model_module_version": "1.5.0",
            "_model_name": "HTMLModel",
            "_view_count": null,
            "_view_module": "@jupyter-widgets/controls",
            "_view_module_version": "1.5.0",
            "_view_name": "HTMLView",
            "description": "",
            "description_tooltip": null,
            "layout": "IPY_MODEL_bc15dec3d82143fe8511d7439a419743",
            "placeholder": "​",
            "style": "IPY_MODEL_3335b26f9e3f45fdae10c1ede49307c2",
            "value": "config.json: 100%"
          }
        },
        "16bc346db0f745cf992249417b84960a": {
          "model_module": "@jupyter-widgets/controls",
          "model_name": "FloatProgressModel",
          "model_module_version": "1.5.0",
          "state": {
            "_dom_classes": [],
            "_model_module": "@jupyter-widgets/controls",
            "_model_module_version": "1.5.0",
            "_model_name": "FloatProgressModel",
            "_view_count": null,
            "_view_module": "@jupyter-widgets/controls",
            "_view_module_version": "1.5.0",
            "_view_name": "ProgressView",
            "bar_style": "success",
            "description": "",
            "description_tooltip": null,
            "layout": "IPY_MODEL_f894e9a420c4486989c28567f3663db2",
            "max": 612,
            "min": 0,
            "orientation": "horizontal",
            "style": "IPY_MODEL_0e68940d6f6f49169492bfa982ab0b0d",
            "value": 612
          }
        },
        "a72e774d78a04fe8a7241e2ec8cf84bd": {
          "model_module": "@jupyter-widgets/controls",
          "model_name": "HTMLModel",
          "model_module_version": "1.5.0",
          "state": {
            "_dom_classes": [],
            "_model_module": "@jupyter-widgets/controls",
            "_model_module_version": "1.5.0",
            "_model_name": "HTMLModel",
            "_view_count": null,
            "_view_module": "@jupyter-widgets/controls",
            "_view_module_version": "1.5.0",
            "_view_name": "HTMLView",
            "description": "",
            "description_tooltip": null,
            "layout": "IPY_MODEL_c381cb0914ec4204ac05165fcde6c9ca",
            "placeholder": "​",
            "style": "IPY_MODEL_b3a801a1e17a45fe80cb38dd002529c5",
            "value": " 612/612 [00:00&lt;00:00, 30.4kB/s]"
          }
        },
        "a334fa749a3246de8f42b9e6d42efbd3": {
          "model_module": "@jupyter-widgets/base",
          "model_name": "LayoutModel",
          "model_module_version": "1.2.0",
          "state": {
            "_model_module": "@jupyter-widgets/base",
            "_model_module_version": "1.2.0",
            "_model_name": "LayoutModel",
            "_view_count": null,
            "_view_module": "@jupyter-widgets/base",
            "_view_module_version": "1.2.0",
            "_view_name": "LayoutView",
            "align_content": null,
            "align_items": null,
            "align_self": null,
            "border": null,
            "bottom": null,
            "display": null,
            "flex": null,
            "flex_flow": null,
            "grid_area": null,
            "grid_auto_columns": null,
            "grid_auto_flow": null,
            "grid_auto_rows": null,
            "grid_column": null,
            "grid_gap": null,
            "grid_row": null,
            "grid_template_areas": null,
            "grid_template_columns": null,
            "grid_template_rows": null,
            "height": null,
            "justify_content": null,
            "justify_items": null,
            "left": null,
            "margin": null,
            "max_height": null,
            "max_width": null,
            "min_height": null,
            "min_width": null,
            "object_fit": null,
            "object_position": null,
            "order": null,
            "overflow": null,
            "overflow_x": null,
            "overflow_y": null,
            "padding": null,
            "right": null,
            "top": null,
            "visibility": null,
            "width": null
          }
        },
        "bc15dec3d82143fe8511d7439a419743": {
          "model_module": "@jupyter-widgets/base",
          "model_name": "LayoutModel",
          "model_module_version": "1.2.0",
          "state": {
            "_model_module": "@jupyter-widgets/base",
            "_model_module_version": "1.2.0",
            "_model_name": "LayoutModel",
            "_view_count": null,
            "_view_module": "@jupyter-widgets/base",
            "_view_module_version": "1.2.0",
            "_view_name": "LayoutView",
            "align_content": null,
            "align_items": null,
            "align_self": null,
            "border": null,
            "bottom": null,
            "display": null,
            "flex": null,
            "flex_flow": null,
            "grid_area": null,
            "grid_auto_columns": null,
            "grid_auto_flow": null,
            "grid_auto_rows": null,
            "grid_column": null,
            "grid_gap": null,
            "grid_row": null,
            "grid_template_areas": null,
            "grid_template_columns": null,
            "grid_template_rows": null,
            "height": null,
            "justify_content": null,
            "justify_items": null,
            "left": null,
            "margin": null,
            "max_height": null,
            "max_width": null,
            "min_height": null,
            "min_width": null,
            "object_fit": null,
            "object_position": null,
            "order": null,
            "overflow": null,
            "overflow_x": null,
            "overflow_y": null,
            "padding": null,
            "right": null,
            "top": null,
            "visibility": null,
            "width": null
          }
        },
        "3335b26f9e3f45fdae10c1ede49307c2": {
          "model_module": "@jupyter-widgets/controls",
          "model_name": "DescriptionStyleModel",
          "model_module_version": "1.5.0",
          "state": {
            "_model_module": "@jupyter-widgets/controls",
            "_model_module_version": "1.5.0",
            "_model_name": "DescriptionStyleModel",
            "_view_count": null,
            "_view_module": "@jupyter-widgets/base",
            "_view_module_version": "1.2.0",
            "_view_name": "StyleView",
            "description_width": ""
          }
        },
        "f894e9a420c4486989c28567f3663db2": {
          "model_module": "@jupyter-widgets/base",
          "model_name": "LayoutModel",
          "model_module_version": "1.2.0",
          "state": {
            "_model_module": "@jupyter-widgets/base",
            "_model_module_version": "1.2.0",
            "_model_name": "LayoutModel",
            "_view_count": null,
            "_view_module": "@jupyter-widgets/base",
            "_view_module_version": "1.2.0",
            "_view_name": "LayoutView",
            "align_content": null,
            "align_items": null,
            "align_self": null,
            "border": null,
            "bottom": null,
            "display": null,
            "flex": null,
            "flex_flow": null,
            "grid_area": null,
            "grid_auto_columns": null,
            "grid_auto_flow": null,
            "grid_auto_rows": null,
            "grid_column": null,
            "grid_gap": null,
            "grid_row": null,
            "grid_template_areas": null,
            "grid_template_columns": null,
            "grid_template_rows": null,
            "height": null,
            "justify_content": null,
            "justify_items": null,
            "left": null,
            "margin": null,
            "max_height": null,
            "max_width": null,
            "min_height": null,
            "min_width": null,
            "object_fit": null,
            "object_position": null,
            "order": null,
            "overflow": null,
            "overflow_x": null,
            "overflow_y": null,
            "padding": null,
            "right": null,
            "top": null,
            "visibility": null,
            "width": null
          }
        },
        "0e68940d6f6f49169492bfa982ab0b0d": {
          "model_module": "@jupyter-widgets/controls",
          "model_name": "ProgressStyleModel",
          "model_module_version": "1.5.0",
          "state": {
            "_model_module": "@jupyter-widgets/controls",
            "_model_module_version": "1.5.0",
            "_model_name": "ProgressStyleModel",
            "_view_count": null,
            "_view_module": "@jupyter-widgets/base",
            "_view_module_version": "1.2.0",
            "_view_name": "StyleView",
            "bar_color": null,
            "description_width": ""
          }
        },
        "c381cb0914ec4204ac05165fcde6c9ca": {
          "model_module": "@jupyter-widgets/base",
          "model_name": "LayoutModel",
          "model_module_version": "1.2.0",
          "state": {
            "_model_module": "@jupyter-widgets/base",
            "_model_module_version": "1.2.0",
            "_model_name": "LayoutModel",
            "_view_count": null,
            "_view_module": "@jupyter-widgets/base",
            "_view_module_version": "1.2.0",
            "_view_name": "LayoutView",
            "align_content": null,
            "align_items": null,
            "align_self": null,
            "border": null,
            "bottom": null,
            "display": null,
            "flex": null,
            "flex_flow": null,
            "grid_area": null,
            "grid_auto_columns": null,
            "grid_auto_flow": null,
            "grid_auto_rows": null,
            "grid_column": null,
            "grid_gap": null,
            "grid_row": null,
            "grid_template_areas": null,
            "grid_template_columns": null,
            "grid_template_rows": null,
            "height": null,
            "justify_content": null,
            "justify_items": null,
            "left": null,
            "margin": null,
            "max_height": null,
            "max_width": null,
            "min_height": null,
            "min_width": null,
            "object_fit": null,
            "object_position": null,
            "order": null,
            "overflow": null,
            "overflow_x": null,
            "overflow_y": null,
            "padding": null,
            "right": null,
            "top": null,
            "visibility": null,
            "width": null
          }
        },
        "b3a801a1e17a45fe80cb38dd002529c5": {
          "model_module": "@jupyter-widgets/controls",
          "model_name": "DescriptionStyleModel",
          "model_module_version": "1.5.0",
          "state": {
            "_model_module": "@jupyter-widgets/controls",
            "_model_module_version": "1.5.0",
            "_model_name": "DescriptionStyleModel",
            "_view_count": null,
            "_view_module": "@jupyter-widgets/base",
            "_view_module_version": "1.2.0",
            "_view_name": "StyleView",
            "description_width": ""
          }
        },
        "70b7efd3a70746a5b35fbd956ed22a83": {
          "model_module": "@jupyter-widgets/controls",
          "model_name": "HBoxModel",
          "model_module_version": "1.5.0",
          "state": {
            "_dom_classes": [],
            "_model_module": "@jupyter-widgets/controls",
            "_model_module_version": "1.5.0",
            "_model_name": "HBoxModel",
            "_view_count": null,
            "_view_module": "@jupyter-widgets/controls",
            "_view_module_version": "1.5.0",
            "_view_name": "HBoxView",
            "box_style": "",
            "children": [
              "IPY_MODEL_18ef9ae7c01c4eeaaa032ae851f954bb",
              "IPY_MODEL_6cb7a84a8c46436bb80efbd2f9d2f349",
              "IPY_MODEL_b2e112766cef4f2f85db49c6a7c8d889"
            ],
            "layout": "IPY_MODEL_8133f06d9b1d4a4988a45d533265373e"
          }
        },
        "18ef9ae7c01c4eeaaa032ae851f954bb": {
          "model_module": "@jupyter-widgets/controls",
          "model_name": "HTMLModel",
          "model_module_version": "1.5.0",
          "state": {
            "_dom_classes": [],
            "_model_module": "@jupyter-widgets/controls",
            "_model_module_version": "1.5.0",
            "_model_name": "HTMLModel",
            "_view_count": null,
            "_view_module": "@jupyter-widgets/controls",
            "_view_module_version": "1.5.0",
            "_view_name": "HTMLView",
            "description": "",
            "description_tooltip": null,
            "layout": "IPY_MODEL_3776044a446e48b0b8962dec3b130ce1",
            "placeholder": "​",
            "style": "IPY_MODEL_a67bb736444b47a5b09966003cdc0d05",
            "value": "model.safetensors: 100%"
          }
        },
        "6cb7a84a8c46436bb80efbd2f9d2f349": {
          "model_module": "@jupyter-widgets/controls",
          "model_name": "FloatProgressModel",
          "model_module_version": "1.5.0",
          "state": {
            "_dom_classes": [],
            "_model_module": "@jupyter-widgets/controls",
            "_model_module_version": "1.5.0",
            "_model_name": "FloatProgressModel",
            "_view_count": null,
            "_view_module": "@jupyter-widgets/controls",
            "_view_module_version": "1.5.0",
            "_view_name": "ProgressView",
            "bar_style": "success",
            "description": "",
            "description_tooltip": null,
            "layout": "IPY_MODEL_2888b416359d490f8df7dc24182318eb",
            "max": 90868376,
            "min": 0,
            "orientation": "horizontal",
            "style": "IPY_MODEL_a8b9a09c817c4bf6a5c393ce43e8a29f",
            "value": 90868376
          }
        },
        "b2e112766cef4f2f85db49c6a7c8d889": {
          "model_module": "@jupyter-widgets/controls",
          "model_name": "HTMLModel",
          "model_module_version": "1.5.0",
          "state": {
            "_dom_classes": [],
            "_model_module": "@jupyter-widgets/controls",
            "_model_module_version": "1.5.0",
            "_model_name": "HTMLModel",
            "_view_count": null,
            "_view_module": "@jupyter-widgets/controls",
            "_view_module_version": "1.5.0",
            "_view_name": "HTMLView",
            "description": "",
            "description_tooltip": null,
            "layout": "IPY_MODEL_acba0e56053a4cf69d1cd57ec1bd7b02",
            "placeholder": "​",
            "style": "IPY_MODEL_3f754d039b8a4da9b47497e45a3173da",
            "value": " 90.9M/90.9M [00:00&lt;00:00, 282MB/s]"
          }
        },
        "8133f06d9b1d4a4988a45d533265373e": {
          "model_module": "@jupyter-widgets/base",
          "model_name": "LayoutModel",
          "model_module_version": "1.2.0",
          "state": {
            "_model_module": "@jupyter-widgets/base",
            "_model_module_version": "1.2.0",
            "_model_name": "LayoutModel",
            "_view_count": null,
            "_view_module": "@jupyter-widgets/base",
            "_view_module_version": "1.2.0",
            "_view_name": "LayoutView",
            "align_content": null,
            "align_items": null,
            "align_self": null,
            "border": null,
            "bottom": null,
            "display": null,
            "flex": null,
            "flex_flow": null,
            "grid_area": null,
            "grid_auto_columns": null,
            "grid_auto_flow": null,
            "grid_auto_rows": null,
            "grid_column": null,
            "grid_gap": null,
            "grid_row": null,
            "grid_template_areas": null,
            "grid_template_columns": null,
            "grid_template_rows": null,
            "height": null,
            "justify_content": null,
            "justify_items": null,
            "left": null,
            "margin": null,
            "max_height": null,
            "max_width": null,
            "min_height": null,
            "min_width": null,
            "object_fit": null,
            "object_position": null,
            "order": null,
            "overflow": null,
            "overflow_x": null,
            "overflow_y": null,
            "padding": null,
            "right": null,
            "top": null,
            "visibility": null,
            "width": null
          }
        },
        "3776044a446e48b0b8962dec3b130ce1": {
          "model_module": "@jupyter-widgets/base",
          "model_name": "LayoutModel",
          "model_module_version": "1.2.0",
          "state": {
            "_model_module": "@jupyter-widgets/base",
            "_model_module_version": "1.2.0",
            "_model_name": "LayoutModel",
            "_view_count": null,
            "_view_module": "@jupyter-widgets/base",
            "_view_module_version": "1.2.0",
            "_view_name": "LayoutView",
            "align_content": null,
            "align_items": null,
            "align_self": null,
            "border": null,
            "bottom": null,
            "display": null,
            "flex": null,
            "flex_flow": null,
            "grid_area": null,
            "grid_auto_columns": null,
            "grid_auto_flow": null,
            "grid_auto_rows": null,
            "grid_column": null,
            "grid_gap": null,
            "grid_row": null,
            "grid_template_areas": null,
            "grid_template_columns": null,
            "grid_template_rows": null,
            "height": null,
            "justify_content": null,
            "justify_items": null,
            "left": null,
            "margin": null,
            "max_height": null,
            "max_width": null,
            "min_height": null,
            "min_width": null,
            "object_fit": null,
            "object_position": null,
            "order": null,
            "overflow": null,
            "overflow_x": null,
            "overflow_y": null,
            "padding": null,
            "right": null,
            "top": null,
            "visibility": null,
            "width": null
          }
        },
        "a67bb736444b47a5b09966003cdc0d05": {
          "model_module": "@jupyter-widgets/controls",
          "model_name": "DescriptionStyleModel",
          "model_module_version": "1.5.0",
          "state": {
            "_model_module": "@jupyter-widgets/controls",
            "_model_module_version": "1.5.0",
            "_model_name": "DescriptionStyleModel",
            "_view_count": null,
            "_view_module": "@jupyter-widgets/base",
            "_view_module_version": "1.2.0",
            "_view_name": "StyleView",
            "description_width": ""
          }
        },
        "2888b416359d490f8df7dc24182318eb": {
          "model_module": "@jupyter-widgets/base",
          "model_name": "LayoutModel",
          "model_module_version": "1.2.0",
          "state": {
            "_model_module": "@jupyter-widgets/base",
            "_model_module_version": "1.2.0",
            "_model_name": "LayoutModel",
            "_view_count": null,
            "_view_module": "@jupyter-widgets/base",
            "_view_module_version": "1.2.0",
            "_view_name": "LayoutView",
            "align_content": null,
            "align_items": null,
            "align_self": null,
            "border": null,
            "bottom": null,
            "display": null,
            "flex": null,
            "flex_flow": null,
            "grid_area": null,
            "grid_auto_columns": null,
            "grid_auto_flow": null,
            "grid_auto_rows": null,
            "grid_column": null,
            "grid_gap": null,
            "grid_row": null,
            "grid_template_areas": null,
            "grid_template_columns": null,
            "grid_template_rows": null,
            "height": null,
            "justify_content": null,
            "justify_items": null,
            "left": null,
            "margin": null,
            "max_height": null,
            "max_width": null,
            "min_height": null,
            "min_width": null,
            "object_fit": null,
            "object_position": null,
            "order": null,
            "overflow": null,
            "overflow_x": null,
            "overflow_y": null,
            "padding": null,
            "right": null,
            "top": null,
            "visibility": null,
            "width": null
          }
        },
        "a8b9a09c817c4bf6a5c393ce43e8a29f": {
          "model_module": "@jupyter-widgets/controls",
          "model_name": "ProgressStyleModel",
          "model_module_version": "1.5.0",
          "state": {
            "_model_module": "@jupyter-widgets/controls",
            "_model_module_version": "1.5.0",
            "_model_name": "ProgressStyleModel",
            "_view_count": null,
            "_view_module": "@jupyter-widgets/base",
            "_view_module_version": "1.2.0",
            "_view_name": "StyleView",
            "bar_color": null,
            "description_width": ""
          }
        },
        "acba0e56053a4cf69d1cd57ec1bd7b02": {
          "model_module": "@jupyter-widgets/base",
          "model_name": "LayoutModel",
          "model_module_version": "1.2.0",
          "state": {
            "_model_module": "@jupyter-widgets/base",
            "_model_module_version": "1.2.0",
            "_model_name": "LayoutModel",
            "_view_count": null,
            "_view_module": "@jupyter-widgets/base",
            "_view_module_version": "1.2.0",
            "_view_name": "LayoutView",
            "align_content": null,
            "align_items": null,
            "align_self": null,
            "border": null,
            "bottom": null,
            "display": null,
            "flex": null,
            "flex_flow": null,
            "grid_area": null,
            "grid_auto_columns": null,
            "grid_auto_flow": null,
            "grid_auto_rows": null,
            "grid_column": null,
            "grid_gap": null,
            "grid_row": null,
            "grid_template_areas": null,
            "grid_template_columns": null,
            "grid_template_rows": null,
            "height": null,
            "justify_content": null,
            "justify_items": null,
            "left": null,
            "margin": null,
            "max_height": null,
            "max_width": null,
            "min_height": null,
            "min_width": null,
            "object_fit": null,
            "object_position": null,
            "order": null,
            "overflow": null,
            "overflow_x": null,
            "overflow_y": null,
            "padding": null,
            "right": null,
            "top": null,
            "visibility": null,
            "width": null
          }
        },
        "3f754d039b8a4da9b47497e45a3173da": {
          "model_module": "@jupyter-widgets/controls",
          "model_name": "DescriptionStyleModel",
          "model_module_version": "1.5.0",
          "state": {
            "_model_module": "@jupyter-widgets/controls",
            "_model_module_version": "1.5.0",
            "_model_name": "DescriptionStyleModel",
            "_view_count": null,
            "_view_module": "@jupyter-widgets/base",
            "_view_module_version": "1.2.0",
            "_view_name": "StyleView",
            "description_width": ""
          }
        },
        "72355413f085480db35a3c68a8ce5c36": {
          "model_module": "@jupyter-widgets/controls",
          "model_name": "HBoxModel",
          "model_module_version": "1.5.0",
          "state": {
            "_dom_classes": [],
            "_model_module": "@jupyter-widgets/controls",
            "_model_module_version": "1.5.0",
            "_model_name": "HBoxModel",
            "_view_count": null,
            "_view_module": "@jupyter-widgets/controls",
            "_view_module_version": "1.5.0",
            "_view_name": "HBoxView",
            "box_style": "",
            "children": [
              "IPY_MODEL_0f9eec80df6e48a4820d0c84300dd48a",
              "IPY_MODEL_b3419a6a65ba4bdab47f599db35be55e",
              "IPY_MODEL_ebc8e1bc2298459e80788a4695d297e8"
            ],
            "layout": "IPY_MODEL_97c84211c69646998555c551677f25d6"
          }
        },
        "0f9eec80df6e48a4820d0c84300dd48a": {
          "model_module": "@jupyter-widgets/controls",
          "model_name": "HTMLModel",
          "model_module_version": "1.5.0",
          "state": {
            "_dom_classes": [],
            "_model_module": "@jupyter-widgets/controls",
            "_model_module_version": "1.5.0",
            "_model_name": "HTMLModel",
            "_view_count": null,
            "_view_module": "@jupyter-widgets/controls",
            "_view_module_version": "1.5.0",
            "_view_name": "HTMLView",
            "description": "",
            "description_tooltip": null,
            "layout": "IPY_MODEL_2b5aafbb51a94b468524b136600d3f5e",
            "placeholder": "​",
            "style": "IPY_MODEL_7f5d5720f8b34d81823008044fa15dd8",
            "value": "tokenizer_config.json: 100%"
          }
        },
        "b3419a6a65ba4bdab47f599db35be55e": {
          "model_module": "@jupyter-widgets/controls",
          "model_name": "FloatProgressModel",
          "model_module_version": "1.5.0",
          "state": {
            "_dom_classes": [],
            "_model_module": "@jupyter-widgets/controls",
            "_model_module_version": "1.5.0",
            "_model_name": "FloatProgressModel",
            "_view_count": null,
            "_view_module": "@jupyter-widgets/controls",
            "_view_module_version": "1.5.0",
            "_view_name": "ProgressView",
            "bar_style": "success",
            "description": "",
            "description_tooltip": null,
            "layout": "IPY_MODEL_4605d773f20d48899263ca94042d71b9",
            "max": 350,
            "min": 0,
            "orientation": "horizontal",
            "style": "IPY_MODEL_8a342b34655c481f9e853598ebd482a9",
            "value": 350
          }
        },
        "ebc8e1bc2298459e80788a4695d297e8": {
          "model_module": "@jupyter-widgets/controls",
          "model_name": "HTMLModel",
          "model_module_version": "1.5.0",
          "state": {
            "_dom_classes": [],
            "_model_module": "@jupyter-widgets/controls",
            "_model_module_version": "1.5.0",
            "_model_name": "HTMLModel",
            "_view_count": null,
            "_view_module": "@jupyter-widgets/controls",
            "_view_module_version": "1.5.0",
            "_view_name": "HTMLView",
            "description": "",
            "description_tooltip": null,
            "layout": "IPY_MODEL_150cdbb1ed5147da8eecf5a1f809aba6",
            "placeholder": "​",
            "style": "IPY_MODEL_571e6f11ee10482a8aa3e2059e33ae9f",
            "value": " 350/350 [00:00&lt;00:00, 12.8kB/s]"
          }
        },
        "97c84211c69646998555c551677f25d6": {
          "model_module": "@jupyter-widgets/base",
          "model_name": "LayoutModel",
          "model_module_version": "1.2.0",
          "state": {
            "_model_module": "@jupyter-widgets/base",
            "_model_module_version": "1.2.0",
            "_model_name": "LayoutModel",
            "_view_count": null,
            "_view_module": "@jupyter-widgets/base",
            "_view_module_version": "1.2.0",
            "_view_name": "LayoutView",
            "align_content": null,
            "align_items": null,
            "align_self": null,
            "border": null,
            "bottom": null,
            "display": null,
            "flex": null,
            "flex_flow": null,
            "grid_area": null,
            "grid_auto_columns": null,
            "grid_auto_flow": null,
            "grid_auto_rows": null,
            "grid_column": null,
            "grid_gap": null,
            "grid_row": null,
            "grid_template_areas": null,
            "grid_template_columns": null,
            "grid_template_rows": null,
            "height": null,
            "justify_content": null,
            "justify_items": null,
            "left": null,
            "margin": null,
            "max_height": null,
            "max_width": null,
            "min_height": null,
            "min_width": null,
            "object_fit": null,
            "object_position": null,
            "order": null,
            "overflow": null,
            "overflow_x": null,
            "overflow_y": null,
            "padding": null,
            "right": null,
            "top": null,
            "visibility": null,
            "width": null
          }
        },
        "2b5aafbb51a94b468524b136600d3f5e": {
          "model_module": "@jupyter-widgets/base",
          "model_name": "LayoutModel",
          "model_module_version": "1.2.0",
          "state": {
            "_model_module": "@jupyter-widgets/base",
            "_model_module_version": "1.2.0",
            "_model_name": "LayoutModel",
            "_view_count": null,
            "_view_module": "@jupyter-widgets/base",
            "_view_module_version": "1.2.0",
            "_view_name": "LayoutView",
            "align_content": null,
            "align_items": null,
            "align_self": null,
            "border": null,
            "bottom": null,
            "display": null,
            "flex": null,
            "flex_flow": null,
            "grid_area": null,
            "grid_auto_columns": null,
            "grid_auto_flow": null,
            "grid_auto_rows": null,
            "grid_column": null,
            "grid_gap": null,
            "grid_row": null,
            "grid_template_areas": null,
            "grid_template_columns": null,
            "grid_template_rows": null,
            "height": null,
            "justify_content": null,
            "justify_items": null,
            "left": null,
            "margin": null,
            "max_height": null,
            "max_width": null,
            "min_height": null,
            "min_width": null,
            "object_fit": null,
            "object_position": null,
            "order": null,
            "overflow": null,
            "overflow_x": null,
            "overflow_y": null,
            "padding": null,
            "right": null,
            "top": null,
            "visibility": null,
            "width": null
          }
        },
        "7f5d5720f8b34d81823008044fa15dd8": {
          "model_module": "@jupyter-widgets/controls",
          "model_name": "DescriptionStyleModel",
          "model_module_version": "1.5.0",
          "state": {
            "_model_module": "@jupyter-widgets/controls",
            "_model_module_version": "1.5.0",
            "_model_name": "DescriptionStyleModel",
            "_view_count": null,
            "_view_module": "@jupyter-widgets/base",
            "_view_module_version": "1.2.0",
            "_view_name": "StyleView",
            "description_width": ""
          }
        },
        "4605d773f20d48899263ca94042d71b9": {
          "model_module": "@jupyter-widgets/base",
          "model_name": "LayoutModel",
          "model_module_version": "1.2.0",
          "state": {
            "_model_module": "@jupyter-widgets/base",
            "_model_module_version": "1.2.0",
            "_model_name": "LayoutModel",
            "_view_count": null,
            "_view_module": "@jupyter-widgets/base",
            "_view_module_version": "1.2.0",
            "_view_name": "LayoutView",
            "align_content": null,
            "align_items": null,
            "align_self": null,
            "border": null,
            "bottom": null,
            "display": null,
            "flex": null,
            "flex_flow": null,
            "grid_area": null,
            "grid_auto_columns": null,
            "grid_auto_flow": null,
            "grid_auto_rows": null,
            "grid_column": null,
            "grid_gap": null,
            "grid_row": null,
            "grid_template_areas": null,
            "grid_template_columns": null,
            "grid_template_rows": null,
            "height": null,
            "justify_content": null,
            "justify_items": null,
            "left": null,
            "margin": null,
            "max_height": null,
            "max_width": null,
            "min_height": null,
            "min_width": null,
            "object_fit": null,
            "object_position": null,
            "order": null,
            "overflow": null,
            "overflow_x": null,
            "overflow_y": null,
            "padding": null,
            "right": null,
            "top": null,
            "visibility": null,
            "width": null
          }
        },
        "8a342b34655c481f9e853598ebd482a9": {
          "model_module": "@jupyter-widgets/controls",
          "model_name": "ProgressStyleModel",
          "model_module_version": "1.5.0",
          "state": {
            "_model_module": "@jupyter-widgets/controls",
            "_model_module_version": "1.5.0",
            "_model_name": "ProgressStyleModel",
            "_view_count": null,
            "_view_module": "@jupyter-widgets/base",
            "_view_module_version": "1.2.0",
            "_view_name": "StyleView",
            "bar_color": null,
            "description_width": ""
          }
        },
        "150cdbb1ed5147da8eecf5a1f809aba6": {
          "model_module": "@jupyter-widgets/base",
          "model_name": "LayoutModel",
          "model_module_version": "1.2.0",
          "state": {
            "_model_module": "@jupyter-widgets/base",
            "_model_module_version": "1.2.0",
            "_model_name": "LayoutModel",
            "_view_count": null,
            "_view_module": "@jupyter-widgets/base",
            "_view_module_version": "1.2.0",
            "_view_name": "LayoutView",
            "align_content": null,
            "align_items": null,
            "align_self": null,
            "border": null,
            "bottom": null,
            "display": null,
            "flex": null,
            "flex_flow": null,
            "grid_area": null,
            "grid_auto_columns": null,
            "grid_auto_flow": null,
            "grid_auto_rows": null,
            "grid_column": null,
            "grid_gap": null,
            "grid_row": null,
            "grid_template_areas": null,
            "grid_template_columns": null,
            "grid_template_rows": null,
            "height": null,
            "justify_content": null,
            "justify_items": null,
            "left": null,
            "margin": null,
            "max_height": null,
            "max_width": null,
            "min_height": null,
            "min_width": null,
            "object_fit": null,
            "object_position": null,
            "order": null,
            "overflow": null,
            "overflow_x": null,
            "overflow_y": null,
            "padding": null,
            "right": null,
            "top": null,
            "visibility": null,
            "width": null
          }
        },
        "571e6f11ee10482a8aa3e2059e33ae9f": {
          "model_module": "@jupyter-widgets/controls",
          "model_name": "DescriptionStyleModel",
          "model_module_version": "1.5.0",
          "state": {
            "_model_module": "@jupyter-widgets/controls",
            "_model_module_version": "1.5.0",
            "_model_name": "DescriptionStyleModel",
            "_view_count": null,
            "_view_module": "@jupyter-widgets/base",
            "_view_module_version": "1.2.0",
            "_view_name": "StyleView",
            "description_width": ""
          }
        },
        "716aabb7f36d4948bc30704745d7e5d6": {
          "model_module": "@jupyter-widgets/controls",
          "model_name": "HBoxModel",
          "model_module_version": "1.5.0",
          "state": {
            "_dom_classes": [],
            "_model_module": "@jupyter-widgets/controls",
            "_model_module_version": "1.5.0",
            "_model_name": "HBoxModel",
            "_view_count": null,
            "_view_module": "@jupyter-widgets/controls",
            "_view_module_version": "1.5.0",
            "_view_name": "HBoxView",
            "box_style": "",
            "children": [
              "IPY_MODEL_0fe10943fc974fe4841a1b2fc58045e2",
              "IPY_MODEL_6b29ec233e814fd6b68e3c99074ca5ea",
              "IPY_MODEL_c9ae17ce59c54506856908c5b1aac350"
            ],
            "layout": "IPY_MODEL_827add6137c040b58b65a01764517630"
          }
        },
        "0fe10943fc974fe4841a1b2fc58045e2": {
          "model_module": "@jupyter-widgets/controls",
          "model_name": "HTMLModel",
          "model_module_version": "1.5.0",
          "state": {
            "_dom_classes": [],
            "_model_module": "@jupyter-widgets/controls",
            "_model_module_version": "1.5.0",
            "_model_name": "HTMLModel",
            "_view_count": null,
            "_view_module": "@jupyter-widgets/controls",
            "_view_module_version": "1.5.0",
            "_view_name": "HTMLView",
            "description": "",
            "description_tooltip": null,
            "layout": "IPY_MODEL_4cd710718acd4fbba3b7b18627f2a2d6",
            "placeholder": "​",
            "style": "IPY_MODEL_abdc9e9a9c944a7daa01c697d49ed80f",
            "value": "vocab.txt: 100%"
          }
        },
        "6b29ec233e814fd6b68e3c99074ca5ea": {
          "model_module": "@jupyter-widgets/controls",
          "model_name": "FloatProgressModel",
          "model_module_version": "1.5.0",
          "state": {
            "_dom_classes": [],
            "_model_module": "@jupyter-widgets/controls",
            "_model_module_version": "1.5.0",
            "_model_name": "FloatProgressModel",
            "_view_count": null,
            "_view_module": "@jupyter-widgets/controls",
            "_view_module_version": "1.5.0",
            "_view_name": "ProgressView",
            "bar_style": "success",
            "description": "",
            "description_tooltip": null,
            "layout": "IPY_MODEL_b03e830ecedc4efaabb4d3e530664c57",
            "max": 231508,
            "min": 0,
            "orientation": "horizontal",
            "style": "IPY_MODEL_37771013a41049e1bf11452e9012d799",
            "value": 231508
          }
        },
        "c9ae17ce59c54506856908c5b1aac350": {
          "model_module": "@jupyter-widgets/controls",
          "model_name": "HTMLModel",
          "model_module_version": "1.5.0",
          "state": {
            "_dom_classes": [],
            "_model_module": "@jupyter-widgets/controls",
            "_model_module_version": "1.5.0",
            "_model_name": "HTMLModel",
            "_view_count": null,
            "_view_module": "@jupyter-widgets/controls",
            "_view_module_version": "1.5.0",
            "_view_name": "HTMLView",
            "description": "",
            "description_tooltip": null,
            "layout": "IPY_MODEL_7daabcc6b62e49a7a35f0210621c4d09",
            "placeholder": "​",
            "style": "IPY_MODEL_383d5580a7e74f4b9893f3546bc7d759",
            "value": " 232k/232k [00:00&lt;00:00, 5.70MB/s]"
          }
        },
        "827add6137c040b58b65a01764517630": {
          "model_module": "@jupyter-widgets/base",
          "model_name": "LayoutModel",
          "model_module_version": "1.2.0",
          "state": {
            "_model_module": "@jupyter-widgets/base",
            "_model_module_version": "1.2.0",
            "_model_name": "LayoutModel",
            "_view_count": null,
            "_view_module": "@jupyter-widgets/base",
            "_view_module_version": "1.2.0",
            "_view_name": "LayoutView",
            "align_content": null,
            "align_items": null,
            "align_self": null,
            "border": null,
            "bottom": null,
            "display": null,
            "flex": null,
            "flex_flow": null,
            "grid_area": null,
            "grid_auto_columns": null,
            "grid_auto_flow": null,
            "grid_auto_rows": null,
            "grid_column": null,
            "grid_gap": null,
            "grid_row": null,
            "grid_template_areas": null,
            "grid_template_columns": null,
            "grid_template_rows": null,
            "height": null,
            "justify_content": null,
            "justify_items": null,
            "left": null,
            "margin": null,
            "max_height": null,
            "max_width": null,
            "min_height": null,
            "min_width": null,
            "object_fit": null,
            "object_position": null,
            "order": null,
            "overflow": null,
            "overflow_x": null,
            "overflow_y": null,
            "padding": null,
            "right": null,
            "top": null,
            "visibility": null,
            "width": null
          }
        },
        "4cd710718acd4fbba3b7b18627f2a2d6": {
          "model_module": "@jupyter-widgets/base",
          "model_name": "LayoutModel",
          "model_module_version": "1.2.0",
          "state": {
            "_model_module": "@jupyter-widgets/base",
            "_model_module_version": "1.2.0",
            "_model_name": "LayoutModel",
            "_view_count": null,
            "_view_module": "@jupyter-widgets/base",
            "_view_module_version": "1.2.0",
            "_view_name": "LayoutView",
            "align_content": null,
            "align_items": null,
            "align_self": null,
            "border": null,
            "bottom": null,
            "display": null,
            "flex": null,
            "flex_flow": null,
            "grid_area": null,
            "grid_auto_columns": null,
            "grid_auto_flow": null,
            "grid_auto_rows": null,
            "grid_column": null,
            "grid_gap": null,
            "grid_row": null,
            "grid_template_areas": null,
            "grid_template_columns": null,
            "grid_template_rows": null,
            "height": null,
            "justify_content": null,
            "justify_items": null,
            "left": null,
            "margin": null,
            "max_height": null,
            "max_width": null,
            "min_height": null,
            "min_width": null,
            "object_fit": null,
            "object_position": null,
            "order": null,
            "overflow": null,
            "overflow_x": null,
            "overflow_y": null,
            "padding": null,
            "right": null,
            "top": null,
            "visibility": null,
            "width": null
          }
        },
        "abdc9e9a9c944a7daa01c697d49ed80f": {
          "model_module": "@jupyter-widgets/controls",
          "model_name": "DescriptionStyleModel",
          "model_module_version": "1.5.0",
          "state": {
            "_model_module": "@jupyter-widgets/controls",
            "_model_module_version": "1.5.0",
            "_model_name": "DescriptionStyleModel",
            "_view_count": null,
            "_view_module": "@jupyter-widgets/base",
            "_view_module_version": "1.2.0",
            "_view_name": "StyleView",
            "description_width": ""
          }
        },
        "b03e830ecedc4efaabb4d3e530664c57": {
          "model_module": "@jupyter-widgets/base",
          "model_name": "LayoutModel",
          "model_module_version": "1.2.0",
          "state": {
            "_model_module": "@jupyter-widgets/base",
            "_model_module_version": "1.2.0",
            "_model_name": "LayoutModel",
            "_view_count": null,
            "_view_module": "@jupyter-widgets/base",
            "_view_module_version": "1.2.0",
            "_view_name": "LayoutView",
            "align_content": null,
            "align_items": null,
            "align_self": null,
            "border": null,
            "bottom": null,
            "display": null,
            "flex": null,
            "flex_flow": null,
            "grid_area": null,
            "grid_auto_columns": null,
            "grid_auto_flow": null,
            "grid_auto_rows": null,
            "grid_column": null,
            "grid_gap": null,
            "grid_row": null,
            "grid_template_areas": null,
            "grid_template_columns": null,
            "grid_template_rows": null,
            "height": null,
            "justify_content": null,
            "justify_items": null,
            "left": null,
            "margin": null,
            "max_height": null,
            "max_width": null,
            "min_height": null,
            "min_width": null,
            "object_fit": null,
            "object_position": null,
            "order": null,
            "overflow": null,
            "overflow_x": null,
            "overflow_y": null,
            "padding": null,
            "right": null,
            "top": null,
            "visibility": null,
            "width": null
          }
        },
        "37771013a41049e1bf11452e9012d799": {
          "model_module": "@jupyter-widgets/controls",
          "model_name": "ProgressStyleModel",
          "model_module_version": "1.5.0",
          "state": {
            "_model_module": "@jupyter-widgets/controls",
            "_model_module_version": "1.5.0",
            "_model_name": "ProgressStyleModel",
            "_view_count": null,
            "_view_module": "@jupyter-widgets/base",
            "_view_module_version": "1.2.0",
            "_view_name": "StyleView",
            "bar_color": null,
            "description_width": ""
          }
        },
        "7daabcc6b62e49a7a35f0210621c4d09": {
          "model_module": "@jupyter-widgets/base",
          "model_name": "LayoutModel",
          "model_module_version": "1.2.0",
          "state": {
            "_model_module": "@jupyter-widgets/base",
            "_model_module_version": "1.2.0",
            "_model_name": "LayoutModel",
            "_view_count": null,
            "_view_module": "@jupyter-widgets/base",
            "_view_module_version": "1.2.0",
            "_view_name": "LayoutView",
            "align_content": null,
            "align_items": null,
            "align_self": null,
            "border": null,
            "bottom": null,
            "display": null,
            "flex": null,
            "flex_flow": null,
            "grid_area": null,
            "grid_auto_columns": null,
            "grid_auto_flow": null,
            "grid_auto_rows": null,
            "grid_column": null,
            "grid_gap": null,
            "grid_row": null,
            "grid_template_areas": null,
            "grid_template_columns": null,
            "grid_template_rows": null,
            "height": null,
            "justify_content": null,
            "justify_items": null,
            "left": null,
            "margin": null,
            "max_height": null,
            "max_width": null,
            "min_height": null,
            "min_width": null,
            "object_fit": null,
            "object_position": null,
            "order": null,
            "overflow": null,
            "overflow_x": null,
            "overflow_y": null,
            "padding": null,
            "right": null,
            "top": null,
            "visibility": null,
            "width": null
          }
        },
        "383d5580a7e74f4b9893f3546bc7d759": {
          "model_module": "@jupyter-widgets/controls",
          "model_name": "DescriptionStyleModel",
          "model_module_version": "1.5.0",
          "state": {
            "_model_module": "@jupyter-widgets/controls",
            "_model_module_version": "1.5.0",
            "_model_name": "DescriptionStyleModel",
            "_view_count": null,
            "_view_module": "@jupyter-widgets/base",
            "_view_module_version": "1.2.0",
            "_view_name": "StyleView",
            "description_width": ""
          }
        },
        "ac56e5fcf1624199b38904a6dc991ec9": {
          "model_module": "@jupyter-widgets/controls",
          "model_name": "HBoxModel",
          "model_module_version": "1.5.0",
          "state": {
            "_dom_classes": [],
            "_model_module": "@jupyter-widgets/controls",
            "_model_module_version": "1.5.0",
            "_model_name": "HBoxModel",
            "_view_count": null,
            "_view_module": "@jupyter-widgets/controls",
            "_view_module_version": "1.5.0",
            "_view_name": "HBoxView",
            "box_style": "",
            "children": [
              "IPY_MODEL_beefb8fb350243a4aa84fe09213b308d",
              "IPY_MODEL_9915c53c57e8425493eb8a95a9b8b2e5",
              "IPY_MODEL_fd01dcb8e72640a8b1f7e6e58981f70e"
            ],
            "layout": "IPY_MODEL_c6631499bcab47c3b38317a01a0c5481"
          }
        },
        "beefb8fb350243a4aa84fe09213b308d": {
          "model_module": "@jupyter-widgets/controls",
          "model_name": "HTMLModel",
          "model_module_version": "1.5.0",
          "state": {
            "_dom_classes": [],
            "_model_module": "@jupyter-widgets/controls",
            "_model_module_version": "1.5.0",
            "_model_name": "HTMLModel",
            "_view_count": null,
            "_view_module": "@jupyter-widgets/controls",
            "_view_module_version": "1.5.0",
            "_view_name": "HTMLView",
            "description": "",
            "description_tooltip": null,
            "layout": "IPY_MODEL_b0d96506a8cc49e99886f260934b7a7e",
            "placeholder": "​",
            "style": "IPY_MODEL_c006e63ebfda439dbb543f71aecd3dac",
            "value": "tokenizer.json: 100%"
          }
        },
        "9915c53c57e8425493eb8a95a9b8b2e5": {
          "model_module": "@jupyter-widgets/controls",
          "model_name": "FloatProgressModel",
          "model_module_version": "1.5.0",
          "state": {
            "_dom_classes": [],
            "_model_module": "@jupyter-widgets/controls",
            "_model_module_version": "1.5.0",
            "_model_name": "FloatProgressModel",
            "_view_count": null,
            "_view_module": "@jupyter-widgets/controls",
            "_view_module_version": "1.5.0",
            "_view_name": "ProgressView",
            "bar_style": "success",
            "description": "",
            "description_tooltip": null,
            "layout": "IPY_MODEL_360756c9667e41d5b1be140f637ec413",
            "max": 466247,
            "min": 0,
            "orientation": "horizontal",
            "style": "IPY_MODEL_90762a04a61042ee8fdbb4c3be25da1a",
            "value": 466247
          }
        },
        "fd01dcb8e72640a8b1f7e6e58981f70e": {
          "model_module": "@jupyter-widgets/controls",
          "model_name": "HTMLModel",
          "model_module_version": "1.5.0",
          "state": {
            "_dom_classes": [],
            "_model_module": "@jupyter-widgets/controls",
            "_model_module_version": "1.5.0",
            "_model_name": "HTMLModel",
            "_view_count": null,
            "_view_module": "@jupyter-widgets/controls",
            "_view_module_version": "1.5.0",
            "_view_name": "HTMLView",
            "description": "",
            "description_tooltip": null,
            "layout": "IPY_MODEL_1f844411d31f499bab84631800888bbf",
            "placeholder": "​",
            "style": "IPY_MODEL_494667db7061482e9cd7584302511f26",
            "value": " 466k/466k [00:00&lt;00:00, 16.6MB/s]"
          }
        },
        "c6631499bcab47c3b38317a01a0c5481": {
          "model_module": "@jupyter-widgets/base",
          "model_name": "LayoutModel",
          "model_module_version": "1.2.0",
          "state": {
            "_model_module": "@jupyter-widgets/base",
            "_model_module_version": "1.2.0",
            "_model_name": "LayoutModel",
            "_view_count": null,
            "_view_module": "@jupyter-widgets/base",
            "_view_module_version": "1.2.0",
            "_view_name": "LayoutView",
            "align_content": null,
            "align_items": null,
            "align_self": null,
            "border": null,
            "bottom": null,
            "display": null,
            "flex": null,
            "flex_flow": null,
            "grid_area": null,
            "grid_auto_columns": null,
            "grid_auto_flow": null,
            "grid_auto_rows": null,
            "grid_column": null,
            "grid_gap": null,
            "grid_row": null,
            "grid_template_areas": null,
            "grid_template_columns": null,
            "grid_template_rows": null,
            "height": null,
            "justify_content": null,
            "justify_items": null,
            "left": null,
            "margin": null,
            "max_height": null,
            "max_width": null,
            "min_height": null,
            "min_width": null,
            "object_fit": null,
            "object_position": null,
            "order": null,
            "overflow": null,
            "overflow_x": null,
            "overflow_y": null,
            "padding": null,
            "right": null,
            "top": null,
            "visibility": null,
            "width": null
          }
        },
        "b0d96506a8cc49e99886f260934b7a7e": {
          "model_module": "@jupyter-widgets/base",
          "model_name": "LayoutModel",
          "model_module_version": "1.2.0",
          "state": {
            "_model_module": "@jupyter-widgets/base",
            "_model_module_version": "1.2.0",
            "_model_name": "LayoutModel",
            "_view_count": null,
            "_view_module": "@jupyter-widgets/base",
            "_view_module_version": "1.2.0",
            "_view_name": "LayoutView",
            "align_content": null,
            "align_items": null,
            "align_self": null,
            "border": null,
            "bottom": null,
            "display": null,
            "flex": null,
            "flex_flow": null,
            "grid_area": null,
            "grid_auto_columns": null,
            "grid_auto_flow": null,
            "grid_auto_rows": null,
            "grid_column": null,
            "grid_gap": null,
            "grid_row": null,
            "grid_template_areas": null,
            "grid_template_columns": null,
            "grid_template_rows": null,
            "height": null,
            "justify_content": null,
            "justify_items": null,
            "left": null,
            "margin": null,
            "max_height": null,
            "max_width": null,
            "min_height": null,
            "min_width": null,
            "object_fit": null,
            "object_position": null,
            "order": null,
            "overflow": null,
            "overflow_x": null,
            "overflow_y": null,
            "padding": null,
            "right": null,
            "top": null,
            "visibility": null,
            "width": null
          }
        },
        "c006e63ebfda439dbb543f71aecd3dac": {
          "model_module": "@jupyter-widgets/controls",
          "model_name": "DescriptionStyleModel",
          "model_module_version": "1.5.0",
          "state": {
            "_model_module": "@jupyter-widgets/controls",
            "_model_module_version": "1.5.0",
            "_model_name": "DescriptionStyleModel",
            "_view_count": null,
            "_view_module": "@jupyter-widgets/base",
            "_view_module_version": "1.2.0",
            "_view_name": "StyleView",
            "description_width": ""
          }
        },
        "360756c9667e41d5b1be140f637ec413": {
          "model_module": "@jupyter-widgets/base",
          "model_name": "LayoutModel",
          "model_module_version": "1.2.0",
          "state": {
            "_model_module": "@jupyter-widgets/base",
            "_model_module_version": "1.2.0",
            "_model_name": "LayoutModel",
            "_view_count": null,
            "_view_module": "@jupyter-widgets/base",
            "_view_module_version": "1.2.0",
            "_view_name": "LayoutView",
            "align_content": null,
            "align_items": null,
            "align_self": null,
            "border": null,
            "bottom": null,
            "display": null,
            "flex": null,
            "flex_flow": null,
            "grid_area": null,
            "grid_auto_columns": null,
            "grid_auto_flow": null,
            "grid_auto_rows": null,
            "grid_column": null,
            "grid_gap": null,
            "grid_row": null,
            "grid_template_areas": null,
            "grid_template_columns": null,
            "grid_template_rows": null,
            "height": null,
            "justify_content": null,
            "justify_items": null,
            "left": null,
            "margin": null,
            "max_height": null,
            "max_width": null,
            "min_height": null,
            "min_width": null,
            "object_fit": null,
            "object_position": null,
            "order": null,
            "overflow": null,
            "overflow_x": null,
            "overflow_y": null,
            "padding": null,
            "right": null,
            "top": null,
            "visibility": null,
            "width": null
          }
        },
        "90762a04a61042ee8fdbb4c3be25da1a": {
          "model_module": "@jupyter-widgets/controls",
          "model_name": "ProgressStyleModel",
          "model_module_version": "1.5.0",
          "state": {
            "_model_module": "@jupyter-widgets/controls",
            "_model_module_version": "1.5.0",
            "_model_name": "ProgressStyleModel",
            "_view_count": null,
            "_view_module": "@jupyter-widgets/base",
            "_view_module_version": "1.2.0",
            "_view_name": "StyleView",
            "bar_color": null,
            "description_width": ""
          }
        },
        "1f844411d31f499bab84631800888bbf": {
          "model_module": "@jupyter-widgets/base",
          "model_name": "LayoutModel",
          "model_module_version": "1.2.0",
          "state": {
            "_model_module": "@jupyter-widgets/base",
            "_model_module_version": "1.2.0",
            "_model_name": "LayoutModel",
            "_view_count": null,
            "_view_module": "@jupyter-widgets/base",
            "_view_module_version": "1.2.0",
            "_view_name": "LayoutView",
            "align_content": null,
            "align_items": null,
            "align_self": null,
            "border": null,
            "bottom": null,
            "display": null,
            "flex": null,
            "flex_flow": null,
            "grid_area": null,
            "grid_auto_columns": null,
            "grid_auto_flow": null,
            "grid_auto_rows": null,
            "grid_column": null,
            "grid_gap": null,
            "grid_row": null,
            "grid_template_areas": null,
            "grid_template_columns": null,
            "grid_template_rows": null,
            "height": null,
            "justify_content": null,
            "justify_items": null,
            "left": null,
            "margin": null,
            "max_height": null,
            "max_width": null,
            "min_height": null,
            "min_width": null,
            "object_fit": null,
            "object_position": null,
            "order": null,
            "overflow": null,
            "overflow_x": null,
            "overflow_y": null,
            "padding": null,
            "right": null,
            "top": null,
            "visibility": null,
            "width": null
          }
        },
        "494667db7061482e9cd7584302511f26": {
          "model_module": "@jupyter-widgets/controls",
          "model_name": "DescriptionStyleModel",
          "model_module_version": "1.5.0",
          "state": {
            "_model_module": "@jupyter-widgets/controls",
            "_model_module_version": "1.5.0",
            "_model_name": "DescriptionStyleModel",
            "_view_count": null,
            "_view_module": "@jupyter-widgets/base",
            "_view_module_version": "1.2.0",
            "_view_name": "StyleView",
            "description_width": ""
          }
        },
        "5eda0f63ed514c5ba844003e56399466": {
          "model_module": "@jupyter-widgets/controls",
          "model_name": "HBoxModel",
          "model_module_version": "1.5.0",
          "state": {
            "_dom_classes": [],
            "_model_module": "@jupyter-widgets/controls",
            "_model_module_version": "1.5.0",
            "_model_name": "HBoxModel",
            "_view_count": null,
            "_view_module": "@jupyter-widgets/controls",
            "_view_module_version": "1.5.0",
            "_view_name": "HBoxView",
            "box_style": "",
            "children": [
              "IPY_MODEL_a5b09937cfa7487a9d8423eb713b4c83",
              "IPY_MODEL_154f31407bf84c4686cdd0f1475d9162",
              "IPY_MODEL_db66e6bf584a466fadf5f1de751bfbf1"
            ],
            "layout": "IPY_MODEL_491a423714ab4b8faf3cd1e3783e48bc"
          }
        },
        "a5b09937cfa7487a9d8423eb713b4c83": {
          "model_module": "@jupyter-widgets/controls",
          "model_name": "HTMLModel",
          "model_module_version": "1.5.0",
          "state": {
            "_dom_classes": [],
            "_model_module": "@jupyter-widgets/controls",
            "_model_module_version": "1.5.0",
            "_model_name": "HTMLModel",
            "_view_count": null,
            "_view_module": "@jupyter-widgets/controls",
            "_view_module_version": "1.5.0",
            "_view_name": "HTMLView",
            "description": "",
            "description_tooltip": null,
            "layout": "IPY_MODEL_fb9a4369784f4fdfbc519aa6b3e948dd",
            "placeholder": "​",
            "style": "IPY_MODEL_1df0db967f1149659a1e286143384002",
            "value": "special_tokens_map.json: 100%"
          }
        },
        "154f31407bf84c4686cdd0f1475d9162": {
          "model_module": "@jupyter-widgets/controls",
          "model_name": "FloatProgressModel",
          "model_module_version": "1.5.0",
          "state": {
            "_dom_classes": [],
            "_model_module": "@jupyter-widgets/controls",
            "_model_module_version": "1.5.0",
            "_model_name": "FloatProgressModel",
            "_view_count": null,
            "_view_module": "@jupyter-widgets/controls",
            "_view_module_version": "1.5.0",
            "_view_name": "ProgressView",
            "bar_style": "success",
            "description": "",
            "description_tooltip": null,
            "layout": "IPY_MODEL_f9cc376c6cc94bd3aa2369bd700791ce",
            "max": 112,
            "min": 0,
            "orientation": "horizontal",
            "style": "IPY_MODEL_526205080a464230ba6ac2db91ab5828",
            "value": 112
          }
        },
        "db66e6bf584a466fadf5f1de751bfbf1": {
          "model_module": "@jupyter-widgets/controls",
          "model_name": "HTMLModel",
          "model_module_version": "1.5.0",
          "state": {
            "_dom_classes": [],
            "_model_module": "@jupyter-widgets/controls",
            "_model_module_version": "1.5.0",
            "_model_name": "HTMLModel",
            "_view_count": null,
            "_view_module": "@jupyter-widgets/controls",
            "_view_module_version": "1.5.0",
            "_view_name": "HTMLView",
            "description": "",
            "description_tooltip": null,
            "layout": "IPY_MODEL_ffa83cf027754de3a231177e6cc3ec8c",
            "placeholder": "​",
            "style": "IPY_MODEL_4d48bc953eb2434db805ea0546e15ced",
            "value": " 112/112 [00:00&lt;00:00, 5.72kB/s]"
          }
        },
        "491a423714ab4b8faf3cd1e3783e48bc": {
          "model_module": "@jupyter-widgets/base",
          "model_name": "LayoutModel",
          "model_module_version": "1.2.0",
          "state": {
            "_model_module": "@jupyter-widgets/base",
            "_model_module_version": "1.2.0",
            "_model_name": "LayoutModel",
            "_view_count": null,
            "_view_module": "@jupyter-widgets/base",
            "_view_module_version": "1.2.0",
            "_view_name": "LayoutView",
            "align_content": null,
            "align_items": null,
            "align_self": null,
            "border": null,
            "bottom": null,
            "display": null,
            "flex": null,
            "flex_flow": null,
            "grid_area": null,
            "grid_auto_columns": null,
            "grid_auto_flow": null,
            "grid_auto_rows": null,
            "grid_column": null,
            "grid_gap": null,
            "grid_row": null,
            "grid_template_areas": null,
            "grid_template_columns": null,
            "grid_template_rows": null,
            "height": null,
            "justify_content": null,
            "justify_items": null,
            "left": null,
            "margin": null,
            "max_height": null,
            "max_width": null,
            "min_height": null,
            "min_width": null,
            "object_fit": null,
            "object_position": null,
            "order": null,
            "overflow": null,
            "overflow_x": null,
            "overflow_y": null,
            "padding": null,
            "right": null,
            "top": null,
            "visibility": null,
            "width": null
          }
        },
        "fb9a4369784f4fdfbc519aa6b3e948dd": {
          "model_module": "@jupyter-widgets/base",
          "model_name": "LayoutModel",
          "model_module_version": "1.2.0",
          "state": {
            "_model_module": "@jupyter-widgets/base",
            "_model_module_version": "1.2.0",
            "_model_name": "LayoutModel",
            "_view_count": null,
            "_view_module": "@jupyter-widgets/base",
            "_view_module_version": "1.2.0",
            "_view_name": "LayoutView",
            "align_content": null,
            "align_items": null,
            "align_self": null,
            "border": null,
            "bottom": null,
            "display": null,
            "flex": null,
            "flex_flow": null,
            "grid_area": null,
            "grid_auto_columns": null,
            "grid_auto_flow": null,
            "grid_auto_rows": null,
            "grid_column": null,
            "grid_gap": null,
            "grid_row": null,
            "grid_template_areas": null,
            "grid_template_columns": null,
            "grid_template_rows": null,
            "height": null,
            "justify_content": null,
            "justify_items": null,
            "left": null,
            "margin": null,
            "max_height": null,
            "max_width": null,
            "min_height": null,
            "min_width": null,
            "object_fit": null,
            "object_position": null,
            "order": null,
            "overflow": null,
            "overflow_x": null,
            "overflow_y": null,
            "padding": null,
            "right": null,
            "top": null,
            "visibility": null,
            "width": null
          }
        },
        "1df0db967f1149659a1e286143384002": {
          "model_module": "@jupyter-widgets/controls",
          "model_name": "DescriptionStyleModel",
          "model_module_version": "1.5.0",
          "state": {
            "_model_module": "@jupyter-widgets/controls",
            "_model_module_version": "1.5.0",
            "_model_name": "DescriptionStyleModel",
            "_view_count": null,
            "_view_module": "@jupyter-widgets/base",
            "_view_module_version": "1.2.0",
            "_view_name": "StyleView",
            "description_width": ""
          }
        },
        "f9cc376c6cc94bd3aa2369bd700791ce": {
          "model_module": "@jupyter-widgets/base",
          "model_name": "LayoutModel",
          "model_module_version": "1.2.0",
          "state": {
            "_model_module": "@jupyter-widgets/base",
            "_model_module_version": "1.2.0",
            "_model_name": "LayoutModel",
            "_view_count": null,
            "_view_module": "@jupyter-widgets/base",
            "_view_module_version": "1.2.0",
            "_view_name": "LayoutView",
            "align_content": null,
            "align_items": null,
            "align_self": null,
            "border": null,
            "bottom": null,
            "display": null,
            "flex": null,
            "flex_flow": null,
            "grid_area": null,
            "grid_auto_columns": null,
            "grid_auto_flow": null,
            "grid_auto_rows": null,
            "grid_column": null,
            "grid_gap": null,
            "grid_row": null,
            "grid_template_areas": null,
            "grid_template_columns": null,
            "grid_template_rows": null,
            "height": null,
            "justify_content": null,
            "justify_items": null,
            "left": null,
            "margin": null,
            "max_height": null,
            "max_width": null,
            "min_height": null,
            "min_width": null,
            "object_fit": null,
            "object_position": null,
            "order": null,
            "overflow": null,
            "overflow_x": null,
            "overflow_y": null,
            "padding": null,
            "right": null,
            "top": null,
            "visibility": null,
            "width": null
          }
        },
        "526205080a464230ba6ac2db91ab5828": {
          "model_module": "@jupyter-widgets/controls",
          "model_name": "ProgressStyleModel",
          "model_module_version": "1.5.0",
          "state": {
            "_model_module": "@jupyter-widgets/controls",
            "_model_module_version": "1.5.0",
            "_model_name": "ProgressStyleModel",
            "_view_count": null,
            "_view_module": "@jupyter-widgets/base",
            "_view_module_version": "1.2.0",
            "_view_name": "StyleView",
            "bar_color": null,
            "description_width": ""
          }
        },
        "ffa83cf027754de3a231177e6cc3ec8c": {
          "model_module": "@jupyter-widgets/base",
          "model_name": "LayoutModel",
          "model_module_version": "1.2.0",
          "state": {
            "_model_module": "@jupyter-widgets/base",
            "_model_module_version": "1.2.0",
            "_model_name": "LayoutModel",
            "_view_count": null,
            "_view_module": "@jupyter-widgets/base",
            "_view_module_version": "1.2.0",
            "_view_name": "LayoutView",
            "align_content": null,
            "align_items": null,
            "align_self": null,
            "border": null,
            "bottom": null,
            "display": null,
            "flex": null,
            "flex_flow": null,
            "grid_area": null,
            "grid_auto_columns": null,
            "grid_auto_flow": null,
            "grid_auto_rows": null,
            "grid_column": null,
            "grid_gap": null,
            "grid_row": null,
            "grid_template_areas": null,
            "grid_template_columns": null,
            "grid_template_rows": null,
            "height": null,
            "justify_content": null,
            "justify_items": null,
            "left": null,
            "margin": null,
            "max_height": null,
            "max_width": null,
            "min_height": null,
            "min_width": null,
            "object_fit": null,
            "object_position": null,
            "order": null,
            "overflow": null,
            "overflow_x": null,
            "overflow_y": null,
            "padding": null,
            "right": null,
            "top": null,
            "visibility": null,
            "width": null
          }
        },
        "4d48bc953eb2434db805ea0546e15ced": {
          "model_module": "@jupyter-widgets/controls",
          "model_name": "DescriptionStyleModel",
          "model_module_version": "1.5.0",
          "state": {
            "_model_module": "@jupyter-widgets/controls",
            "_model_module_version": "1.5.0",
            "_model_name": "DescriptionStyleModel",
            "_view_count": null,
            "_view_module": "@jupyter-widgets/base",
            "_view_module_version": "1.2.0",
            "_view_name": "StyleView",
            "description_width": ""
          }
        },
        "ae16c30cae9b4716a19ed0afa734ab17": {
          "model_module": "@jupyter-widgets/controls",
          "model_name": "HBoxModel",
          "model_module_version": "1.5.0",
          "state": {
            "_dom_classes": [],
            "_model_module": "@jupyter-widgets/controls",
            "_model_module_version": "1.5.0",
            "_model_name": "HBoxModel",
            "_view_count": null,
            "_view_module": "@jupyter-widgets/controls",
            "_view_module_version": "1.5.0",
            "_view_name": "HBoxView",
            "box_style": "",
            "children": [
              "IPY_MODEL_37c1b832803842f6b6621e9ff7696967",
              "IPY_MODEL_c9dd762259ab46f6bb7ab6502454c664",
              "IPY_MODEL_6af245d27d034fc39e5f20792520d3ec"
            ],
            "layout": "IPY_MODEL_d3c1158274be42908984542927d7f780"
          }
        },
        "37c1b832803842f6b6621e9ff7696967": {
          "model_module": "@jupyter-widgets/controls",
          "model_name": "HTMLModel",
          "model_module_version": "1.5.0",
          "state": {
            "_dom_classes": [],
            "_model_module": "@jupyter-widgets/controls",
            "_model_module_version": "1.5.0",
            "_model_name": "HTMLModel",
            "_view_count": null,
            "_view_module": "@jupyter-widgets/controls",
            "_view_module_version": "1.5.0",
            "_view_name": "HTMLView",
            "description": "",
            "description_tooltip": null,
            "layout": "IPY_MODEL_9be22847cbbc42dd97097f08715de077",
            "placeholder": "​",
            "style": "IPY_MODEL_9d368e8fae0644469d7c230ffb19b2c8",
            "value": "1_Pooling/config.json: 100%"
          }
        },
        "c9dd762259ab46f6bb7ab6502454c664": {
          "model_module": "@jupyter-widgets/controls",
          "model_name": "FloatProgressModel",
          "model_module_version": "1.5.0",
          "state": {
            "_dom_classes": [],
            "_model_module": "@jupyter-widgets/controls",
            "_model_module_version": "1.5.0",
            "_model_name": "FloatProgressModel",
            "_view_count": null,
            "_view_module": "@jupyter-widgets/controls",
            "_view_module_version": "1.5.0",
            "_view_name": "ProgressView",
            "bar_style": "success",
            "description": "",
            "description_tooltip": null,
            "layout": "IPY_MODEL_970d032fdd364604b8dd89ef3c91832d",
            "max": 190,
            "min": 0,
            "orientation": "horizontal",
            "style": "IPY_MODEL_aa12da08f4ef482089340e9513683d45",
            "value": 190
          }
        },
        "6af245d27d034fc39e5f20792520d3ec": {
          "model_module": "@jupyter-widgets/controls",
          "model_name": "HTMLModel",
          "model_module_version": "1.5.0",
          "state": {
            "_dom_classes": [],
            "_model_module": "@jupyter-widgets/controls",
            "_model_module_version": "1.5.0",
            "_model_name": "HTMLModel",
            "_view_count": null,
            "_view_module": "@jupyter-widgets/controls",
            "_view_module_version": "1.5.0",
            "_view_name": "HTMLView",
            "description": "",
            "description_tooltip": null,
            "layout": "IPY_MODEL_30ce32e5f89a439ebbbbae314663f519",
            "placeholder": "​",
            "style": "IPY_MODEL_c1a6f3c265d3491299177b25452d4624",
            "value": " 190/190 [00:00&lt;00:00, 10.1kB/s]"
          }
        },
        "d3c1158274be42908984542927d7f780": {
          "model_module": "@jupyter-widgets/base",
          "model_name": "LayoutModel",
          "model_module_version": "1.2.0",
          "state": {
            "_model_module": "@jupyter-widgets/base",
            "_model_module_version": "1.2.0",
            "_model_name": "LayoutModel",
            "_view_count": null,
            "_view_module": "@jupyter-widgets/base",
            "_view_module_version": "1.2.0",
            "_view_name": "LayoutView",
            "align_content": null,
            "align_items": null,
            "align_self": null,
            "border": null,
            "bottom": null,
            "display": null,
            "flex": null,
            "flex_flow": null,
            "grid_area": null,
            "grid_auto_columns": null,
            "grid_auto_flow": null,
            "grid_auto_rows": null,
            "grid_column": null,
            "grid_gap": null,
            "grid_row": null,
            "grid_template_areas": null,
            "grid_template_columns": null,
            "grid_template_rows": null,
            "height": null,
            "justify_content": null,
            "justify_items": null,
            "left": null,
            "margin": null,
            "max_height": null,
            "max_width": null,
            "min_height": null,
            "min_width": null,
            "object_fit": null,
            "object_position": null,
            "order": null,
            "overflow": null,
            "overflow_x": null,
            "overflow_y": null,
            "padding": null,
            "right": null,
            "top": null,
            "visibility": null,
            "width": null
          }
        },
        "9be22847cbbc42dd97097f08715de077": {
          "model_module": "@jupyter-widgets/base",
          "model_name": "LayoutModel",
          "model_module_version": "1.2.0",
          "state": {
            "_model_module": "@jupyter-widgets/base",
            "_model_module_version": "1.2.0",
            "_model_name": "LayoutModel",
            "_view_count": null,
            "_view_module": "@jupyter-widgets/base",
            "_view_module_version": "1.2.0",
            "_view_name": "LayoutView",
            "align_content": null,
            "align_items": null,
            "align_self": null,
            "border": null,
            "bottom": null,
            "display": null,
            "flex": null,
            "flex_flow": null,
            "grid_area": null,
            "grid_auto_columns": null,
            "grid_auto_flow": null,
            "grid_auto_rows": null,
            "grid_column": null,
            "grid_gap": null,
            "grid_row": null,
            "grid_template_areas": null,
            "grid_template_columns": null,
            "grid_template_rows": null,
            "height": null,
            "justify_content": null,
            "justify_items": null,
            "left": null,
            "margin": null,
            "max_height": null,
            "max_width": null,
            "min_height": null,
            "min_width": null,
            "object_fit": null,
            "object_position": null,
            "order": null,
            "overflow": null,
            "overflow_x": null,
            "overflow_y": null,
            "padding": null,
            "right": null,
            "top": null,
            "visibility": null,
            "width": null
          }
        },
        "9d368e8fae0644469d7c230ffb19b2c8": {
          "model_module": "@jupyter-widgets/controls",
          "model_name": "DescriptionStyleModel",
          "model_module_version": "1.5.0",
          "state": {
            "_model_module": "@jupyter-widgets/controls",
            "_model_module_version": "1.5.0",
            "_model_name": "DescriptionStyleModel",
            "_view_count": null,
            "_view_module": "@jupyter-widgets/base",
            "_view_module_version": "1.2.0",
            "_view_name": "StyleView",
            "description_width": ""
          }
        },
        "970d032fdd364604b8dd89ef3c91832d": {
          "model_module": "@jupyter-widgets/base",
          "model_name": "LayoutModel",
          "model_module_version": "1.2.0",
          "state": {
            "_model_module": "@jupyter-widgets/base",
            "_model_module_version": "1.2.0",
            "_model_name": "LayoutModel",
            "_view_count": null,
            "_view_module": "@jupyter-widgets/base",
            "_view_module_version": "1.2.0",
            "_view_name": "LayoutView",
            "align_content": null,
            "align_items": null,
            "align_self": null,
            "border": null,
            "bottom": null,
            "display": null,
            "flex": null,
            "flex_flow": null,
            "grid_area": null,
            "grid_auto_columns": null,
            "grid_auto_flow": null,
            "grid_auto_rows": null,
            "grid_column": null,
            "grid_gap": null,
            "grid_row": null,
            "grid_template_areas": null,
            "grid_template_columns": null,
            "grid_template_rows": null,
            "height": null,
            "justify_content": null,
            "justify_items": null,
            "left": null,
            "margin": null,
            "max_height": null,
            "max_width": null,
            "min_height": null,
            "min_width": null,
            "object_fit": null,
            "object_position": null,
            "order": null,
            "overflow": null,
            "overflow_x": null,
            "overflow_y": null,
            "padding": null,
            "right": null,
            "top": null,
            "visibility": null,
            "width": null
          }
        },
        "aa12da08f4ef482089340e9513683d45": {
          "model_module": "@jupyter-widgets/controls",
          "model_name": "ProgressStyleModel",
          "model_module_version": "1.5.0",
          "state": {
            "_model_module": "@jupyter-widgets/controls",
            "_model_module_version": "1.5.0",
            "_model_name": "ProgressStyleModel",
            "_view_count": null,
            "_view_module": "@jupyter-widgets/base",
            "_view_module_version": "1.2.0",
            "_view_name": "StyleView",
            "bar_color": null,
            "description_width": ""
          }
        },
        "30ce32e5f89a439ebbbbae314663f519": {
          "model_module": "@jupyter-widgets/base",
          "model_name": "LayoutModel",
          "model_module_version": "1.2.0",
          "state": {
            "_model_module": "@jupyter-widgets/base",
            "_model_module_version": "1.2.0",
            "_model_name": "LayoutModel",
            "_view_count": null,
            "_view_module": "@jupyter-widgets/base",
            "_view_module_version": "1.2.0",
            "_view_name": "LayoutView",
            "align_content": null,
            "align_items": null,
            "align_self": null,
            "border": null,
            "bottom": null,
            "display": null,
            "flex": null,
            "flex_flow": null,
            "grid_area": null,
            "grid_auto_columns": null,
            "grid_auto_flow": null,
            "grid_auto_rows": null,
            "grid_column": null,
            "grid_gap": null,
            "grid_row": null,
            "grid_template_areas": null,
            "grid_template_columns": null,
            "grid_template_rows": null,
            "height": null,
            "justify_content": null,
            "justify_items": null,
            "left": null,
            "margin": null,
            "max_height": null,
            "max_width": null,
            "min_height": null,
            "min_width": null,
            "object_fit": null,
            "object_position": null,
            "order": null,
            "overflow": null,
            "overflow_x": null,
            "overflow_y": null,
            "padding": null,
            "right": null,
            "top": null,
            "visibility": null,
            "width": null
          }
        },
        "c1a6f3c265d3491299177b25452d4624": {
          "model_module": "@jupyter-widgets/controls",
          "model_name": "DescriptionStyleModel",
          "model_module_version": "1.5.0",
          "state": {
            "_model_module": "@jupyter-widgets/controls",
            "_model_module_version": "1.5.0",
            "_model_name": "DescriptionStyleModel",
            "_view_count": null,
            "_view_module": "@jupyter-widgets/base",
            "_view_module_version": "1.2.0",
            "_view_name": "StyleView",
            "description_width": ""
          }
        },
        "2a3fd274ace244538cd4802b19e55332": {
          "model_module": "@jupyter-widgets/controls",
          "model_name": "HBoxModel",
          "model_module_version": "1.5.0",
          "state": {
            "_dom_classes": [],
            "_model_module": "@jupyter-widgets/controls",
            "_model_module_version": "1.5.0",
            "_model_name": "HBoxModel",
            "_view_count": null,
            "_view_module": "@jupyter-widgets/controls",
            "_view_module_version": "1.5.0",
            "_view_name": "HBoxView",
            "box_style": "",
            "children": [
              "IPY_MODEL_cf3190841030435e9a708105333c8a35",
              "IPY_MODEL_137dd196eaf845b9af45de560f99864f",
              "IPY_MODEL_eed5547397cc46eda48779905950007a"
            ],
            "layout": "IPY_MODEL_05a79b0cf2754ac0a360d987ae50a2f0"
          }
        },
        "cf3190841030435e9a708105333c8a35": {
          "model_module": "@jupyter-widgets/controls",
          "model_name": "HTMLModel",
          "model_module_version": "1.5.0",
          "state": {
            "_dom_classes": [],
            "_model_module": "@jupyter-widgets/controls",
            "_model_module_version": "1.5.0",
            "_model_name": "HTMLModel",
            "_view_count": null,
            "_view_module": "@jupyter-widgets/controls",
            "_view_module_version": "1.5.0",
            "_view_name": "HTMLView",
            "description": "",
            "description_tooltip": null,
            "layout": "IPY_MODEL_c5374ee135d244c5bd0a6a5e38c571cd",
            "placeholder": "​",
            "style": "IPY_MODEL_39a0e65fb8e44231aebb042806d0a92c",
            "value": "config.json: 100%"
          }
        },
        "137dd196eaf845b9af45de560f99864f": {
          "model_module": "@jupyter-widgets/controls",
          "model_name": "FloatProgressModel",
          "model_module_version": "1.5.0",
          "state": {
            "_dom_classes": [],
            "_model_module": "@jupyter-widgets/controls",
            "_model_module_version": "1.5.0",
            "_model_name": "FloatProgressModel",
            "_view_count": null,
            "_view_module": "@jupyter-widgets/controls",
            "_view_module_version": "1.5.0",
            "_view_name": "ProgressView",
            "bar_style": "success",
            "description": "",
            "description_tooltip": null,
            "layout": "IPY_MODEL_45581bf711334121893acd72b02c28bf",
            "max": 483,
            "min": 0,
            "orientation": "horizontal",
            "style": "IPY_MODEL_772ad8dcee7c44a6afb5c70fb5a10334",
            "value": 483
          }
        },
        "eed5547397cc46eda48779905950007a": {
          "model_module": "@jupyter-widgets/controls",
          "model_name": "HTMLModel",
          "model_module_version": "1.5.0",
          "state": {
            "_dom_classes": [],
            "_model_module": "@jupyter-widgets/controls",
            "_model_module_version": "1.5.0",
            "_model_name": "HTMLModel",
            "_view_count": null,
            "_view_module": "@jupyter-widgets/controls",
            "_view_module_version": "1.5.0",
            "_view_name": "HTMLView",
            "description": "",
            "description_tooltip": null,
            "layout": "IPY_MODEL_2334d3da90494eb0b475c760a6f552b1",
            "placeholder": "​",
            "style": "IPY_MODEL_d15273b3071343df82cb6f3360ab9638",
            "value": " 483/483 [00:00&lt;00:00, 18.5kB/s]"
          }
        },
        "05a79b0cf2754ac0a360d987ae50a2f0": {
          "model_module": "@jupyter-widgets/base",
          "model_name": "LayoutModel",
          "model_module_version": "1.2.0",
          "state": {
            "_model_module": "@jupyter-widgets/base",
            "_model_module_version": "1.2.0",
            "_model_name": "LayoutModel",
            "_view_count": null,
            "_view_module": "@jupyter-widgets/base",
            "_view_module_version": "1.2.0",
            "_view_name": "LayoutView",
            "align_content": null,
            "align_items": null,
            "align_self": null,
            "border": null,
            "bottom": null,
            "display": null,
            "flex": null,
            "flex_flow": null,
            "grid_area": null,
            "grid_auto_columns": null,
            "grid_auto_flow": null,
            "grid_auto_rows": null,
            "grid_column": null,
            "grid_gap": null,
            "grid_row": null,
            "grid_template_areas": null,
            "grid_template_columns": null,
            "grid_template_rows": null,
            "height": null,
            "justify_content": null,
            "justify_items": null,
            "left": null,
            "margin": null,
            "max_height": null,
            "max_width": null,
            "min_height": null,
            "min_width": null,
            "object_fit": null,
            "object_position": null,
            "order": null,
            "overflow": null,
            "overflow_x": null,
            "overflow_y": null,
            "padding": null,
            "right": null,
            "top": null,
            "visibility": null,
            "width": null
          }
        },
        "c5374ee135d244c5bd0a6a5e38c571cd": {
          "model_module": "@jupyter-widgets/base",
          "model_name": "LayoutModel",
          "model_module_version": "1.2.0",
          "state": {
            "_model_module": "@jupyter-widgets/base",
            "_model_module_version": "1.2.0",
            "_model_name": "LayoutModel",
            "_view_count": null,
            "_view_module": "@jupyter-widgets/base",
            "_view_module_version": "1.2.0",
            "_view_name": "LayoutView",
            "align_content": null,
            "align_items": null,
            "align_self": null,
            "border": null,
            "bottom": null,
            "display": null,
            "flex": null,
            "flex_flow": null,
            "grid_area": null,
            "grid_auto_columns": null,
            "grid_auto_flow": null,
            "grid_auto_rows": null,
            "grid_column": null,
            "grid_gap": null,
            "grid_row": null,
            "grid_template_areas": null,
            "grid_template_columns": null,
            "grid_template_rows": null,
            "height": null,
            "justify_content": null,
            "justify_items": null,
            "left": null,
            "margin": null,
            "max_height": null,
            "max_width": null,
            "min_height": null,
            "min_width": null,
            "object_fit": null,
            "object_position": null,
            "order": null,
            "overflow": null,
            "overflow_x": null,
            "overflow_y": null,
            "padding": null,
            "right": null,
            "top": null,
            "visibility": null,
            "width": null
          }
        },
        "39a0e65fb8e44231aebb042806d0a92c": {
          "model_module": "@jupyter-widgets/controls",
          "model_name": "DescriptionStyleModel",
          "model_module_version": "1.5.0",
          "state": {
            "_model_module": "@jupyter-widgets/controls",
            "_model_module_version": "1.5.0",
            "_model_name": "DescriptionStyleModel",
            "_view_count": null,
            "_view_module": "@jupyter-widgets/base",
            "_view_module_version": "1.2.0",
            "_view_name": "StyleView",
            "description_width": ""
          }
        },
        "45581bf711334121893acd72b02c28bf": {
          "model_module": "@jupyter-widgets/base",
          "model_name": "LayoutModel",
          "model_module_version": "1.2.0",
          "state": {
            "_model_module": "@jupyter-widgets/base",
            "_model_module_version": "1.2.0",
            "_model_name": "LayoutModel",
            "_view_count": null,
            "_view_module": "@jupyter-widgets/base",
            "_view_module_version": "1.2.0",
            "_view_name": "LayoutView",
            "align_content": null,
            "align_items": null,
            "align_self": null,
            "border": null,
            "bottom": null,
            "display": null,
            "flex": null,
            "flex_flow": null,
            "grid_area": null,
            "grid_auto_columns": null,
            "grid_auto_flow": null,
            "grid_auto_rows": null,
            "grid_column": null,
            "grid_gap": null,
            "grid_row": null,
            "grid_template_areas": null,
            "grid_template_columns": null,
            "grid_template_rows": null,
            "height": null,
            "justify_content": null,
            "justify_items": null,
            "left": null,
            "margin": null,
            "max_height": null,
            "max_width": null,
            "min_height": null,
            "min_width": null,
            "object_fit": null,
            "object_position": null,
            "order": null,
            "overflow": null,
            "overflow_x": null,
            "overflow_y": null,
            "padding": null,
            "right": null,
            "top": null,
            "visibility": null,
            "width": null
          }
        },
        "772ad8dcee7c44a6afb5c70fb5a10334": {
          "model_module": "@jupyter-widgets/controls",
          "model_name": "ProgressStyleModel",
          "model_module_version": "1.5.0",
          "state": {
            "_model_module": "@jupyter-widgets/controls",
            "_model_module_version": "1.5.0",
            "_model_name": "ProgressStyleModel",
            "_view_count": null,
            "_view_module": "@jupyter-widgets/base",
            "_view_module_version": "1.2.0",
            "_view_name": "StyleView",
            "bar_color": null,
            "description_width": ""
          }
        },
        "2334d3da90494eb0b475c760a6f552b1": {
          "model_module": "@jupyter-widgets/base",
          "model_name": "LayoutModel",
          "model_module_version": "1.2.0",
          "state": {
            "_model_module": "@jupyter-widgets/base",
            "_model_module_version": "1.2.0",
            "_model_name": "LayoutModel",
            "_view_count": null,
            "_view_module": "@jupyter-widgets/base",
            "_view_module_version": "1.2.0",
            "_view_name": "LayoutView",
            "align_content": null,
            "align_items": null,
            "align_self": null,
            "border": null,
            "bottom": null,
            "display": null,
            "flex": null,
            "flex_flow": null,
            "grid_area": null,
            "grid_auto_columns": null,
            "grid_auto_flow": null,
            "grid_auto_rows": null,
            "grid_column": null,
            "grid_gap": null,
            "grid_row": null,
            "grid_template_areas": null,
            "grid_template_columns": null,
            "grid_template_rows": null,
            "height": null,
            "justify_content": null,
            "justify_items": null,
            "left": null,
            "margin": null,
            "max_height": null,
            "max_width": null,
            "min_height": null,
            "min_width": null,
            "object_fit": null,
            "object_position": null,
            "order": null,
            "overflow": null,
            "overflow_x": null,
            "overflow_y": null,
            "padding": null,
            "right": null,
            "top": null,
            "visibility": null,
            "width": null
          }
        },
        "d15273b3071343df82cb6f3360ab9638": {
          "model_module": "@jupyter-widgets/controls",
          "model_name": "DescriptionStyleModel",
          "model_module_version": "1.5.0",
          "state": {
            "_model_module": "@jupyter-widgets/controls",
            "_model_module_version": "1.5.0",
            "_model_name": "DescriptionStyleModel",
            "_view_count": null,
            "_view_module": "@jupyter-widgets/base",
            "_view_module_version": "1.2.0",
            "_view_name": "StyleView",
            "description_width": ""
          }
        },
        "53bddb719ea44faba7b45323d3cb487a": {
          "model_module": "@jupyter-widgets/controls",
          "model_name": "HBoxModel",
          "model_module_version": "1.5.0",
          "state": {
            "_dom_classes": [],
            "_model_module": "@jupyter-widgets/controls",
            "_model_module_version": "1.5.0",
            "_model_name": "HBoxModel",
            "_view_count": null,
            "_view_module": "@jupyter-widgets/controls",
            "_view_module_version": "1.5.0",
            "_view_name": "HBoxView",
            "box_style": "",
            "children": [
              "IPY_MODEL_c0ed442a9f4e4c15ba71dec7a5862978",
              "IPY_MODEL_5856f265d6924858811a3ad673265fde",
              "IPY_MODEL_ffb10e1fe02e4af385ae23be81fee2ea"
            ],
            "layout": "IPY_MODEL_389ec304650b4f03ae11035f5d7169a8"
          }
        },
        "c0ed442a9f4e4c15ba71dec7a5862978": {
          "model_module": "@jupyter-widgets/controls",
          "model_name": "HTMLModel",
          "model_module_version": "1.5.0",
          "state": {
            "_dom_classes": [],
            "_model_module": "@jupyter-widgets/controls",
            "_model_module_version": "1.5.0",
            "_model_name": "HTMLModel",
            "_view_count": null,
            "_view_module": "@jupyter-widgets/controls",
            "_view_module_version": "1.5.0",
            "_view_name": "HTMLView",
            "description": "",
            "description_tooltip": null,
            "layout": "IPY_MODEL_beb00cf1e3824729abff48bc769feba8",
            "placeholder": "​",
            "style": "IPY_MODEL_0a8f6429b7d247b8887236791330a47f",
            "value": "model.safetensors: 100%"
          }
        },
        "5856f265d6924858811a3ad673265fde": {
          "model_module": "@jupyter-widgets/controls",
          "model_name": "FloatProgressModel",
          "model_module_version": "1.5.0",
          "state": {
            "_dom_classes": [],
            "_model_module": "@jupyter-widgets/controls",
            "_model_module_version": "1.5.0",
            "_model_name": "FloatProgressModel",
            "_view_count": null,
            "_view_module": "@jupyter-widgets/controls",
            "_view_module_version": "1.5.0",
            "_view_name": "ProgressView",
            "bar_style": "success",
            "description": "",
            "description_tooltip": null,
            "layout": "IPY_MODEL_582538dd0ced49c89ff55a8f348b2997",
            "max": 267954768,
            "min": 0,
            "orientation": "horizontal",
            "style": "IPY_MODEL_0137f8609f9b489bb912e6722cbdda2f",
            "value": 267954768
          }
        },
        "ffb10e1fe02e4af385ae23be81fee2ea": {
          "model_module": "@jupyter-widgets/controls",
          "model_name": "HTMLModel",
          "model_module_version": "1.5.0",
          "state": {
            "_dom_classes": [],
            "_model_module": "@jupyter-widgets/controls",
            "_model_module_version": "1.5.0",
            "_model_name": "HTMLModel",
            "_view_count": null,
            "_view_module": "@jupyter-widgets/controls",
            "_view_module_version": "1.5.0",
            "_view_name": "HTMLView",
            "description": "",
            "description_tooltip": null,
            "layout": "IPY_MODEL_963a44e2d39e46eeaf164a7cd30635b2",
            "placeholder": "​",
            "style": "IPY_MODEL_3d83292ff0524043807ecc9fc11c9d40",
            "value": " 268M/268M [00:01&lt;00:00, 185MB/s]"
          }
        },
        "389ec304650b4f03ae11035f5d7169a8": {
          "model_module": "@jupyter-widgets/base",
          "model_name": "LayoutModel",
          "model_module_version": "1.2.0",
          "state": {
            "_model_module": "@jupyter-widgets/base",
            "_model_module_version": "1.2.0",
            "_model_name": "LayoutModel",
            "_view_count": null,
            "_view_module": "@jupyter-widgets/base",
            "_view_module_version": "1.2.0",
            "_view_name": "LayoutView",
            "align_content": null,
            "align_items": null,
            "align_self": null,
            "border": null,
            "bottom": null,
            "display": null,
            "flex": null,
            "flex_flow": null,
            "grid_area": null,
            "grid_auto_columns": null,
            "grid_auto_flow": null,
            "grid_auto_rows": null,
            "grid_column": null,
            "grid_gap": null,
            "grid_row": null,
            "grid_template_areas": null,
            "grid_template_columns": null,
            "grid_template_rows": null,
            "height": null,
            "justify_content": null,
            "justify_items": null,
            "left": null,
            "margin": null,
            "max_height": null,
            "max_width": null,
            "min_height": null,
            "min_width": null,
            "object_fit": null,
            "object_position": null,
            "order": null,
            "overflow": null,
            "overflow_x": null,
            "overflow_y": null,
            "padding": null,
            "right": null,
            "top": null,
            "visibility": null,
            "width": null
          }
        },
        "beb00cf1e3824729abff48bc769feba8": {
          "model_module": "@jupyter-widgets/base",
          "model_name": "LayoutModel",
          "model_module_version": "1.2.0",
          "state": {
            "_model_module": "@jupyter-widgets/base",
            "_model_module_version": "1.2.0",
            "_model_name": "LayoutModel",
            "_view_count": null,
            "_view_module": "@jupyter-widgets/base",
            "_view_module_version": "1.2.0",
            "_view_name": "LayoutView",
            "align_content": null,
            "align_items": null,
            "align_self": null,
            "border": null,
            "bottom": null,
            "display": null,
            "flex": null,
            "flex_flow": null,
            "grid_area": null,
            "grid_auto_columns": null,
            "grid_auto_flow": null,
            "grid_auto_rows": null,
            "grid_column": null,
            "grid_gap": null,
            "grid_row": null,
            "grid_template_areas": null,
            "grid_template_columns": null,
            "grid_template_rows": null,
            "height": null,
            "justify_content": null,
            "justify_items": null,
            "left": null,
            "margin": null,
            "max_height": null,
            "max_width": null,
            "min_height": null,
            "min_width": null,
            "object_fit": null,
            "object_position": null,
            "order": null,
            "overflow": null,
            "overflow_x": null,
            "overflow_y": null,
            "padding": null,
            "right": null,
            "top": null,
            "visibility": null,
            "width": null
          }
        },
        "0a8f6429b7d247b8887236791330a47f": {
          "model_module": "@jupyter-widgets/controls",
          "model_name": "DescriptionStyleModel",
          "model_module_version": "1.5.0",
          "state": {
            "_model_module": "@jupyter-widgets/controls",
            "_model_module_version": "1.5.0",
            "_model_name": "DescriptionStyleModel",
            "_view_count": null,
            "_view_module": "@jupyter-widgets/base",
            "_view_module_version": "1.2.0",
            "_view_name": "StyleView",
            "description_width": ""
          }
        },
        "582538dd0ced49c89ff55a8f348b2997": {
          "model_module": "@jupyter-widgets/base",
          "model_name": "LayoutModel",
          "model_module_version": "1.2.0",
          "state": {
            "_model_module": "@jupyter-widgets/base",
            "_model_module_version": "1.2.0",
            "_model_name": "LayoutModel",
            "_view_count": null,
            "_view_module": "@jupyter-widgets/base",
            "_view_module_version": "1.2.0",
            "_view_name": "LayoutView",
            "align_content": null,
            "align_items": null,
            "align_self": null,
            "border": null,
            "bottom": null,
            "display": null,
            "flex": null,
            "flex_flow": null,
            "grid_area": null,
            "grid_auto_columns": null,
            "grid_auto_flow": null,
            "grid_auto_rows": null,
            "grid_column": null,
            "grid_gap": null,
            "grid_row": null,
            "grid_template_areas": null,
            "grid_template_columns": null,
            "grid_template_rows": null,
            "height": null,
            "justify_content": null,
            "justify_items": null,
            "left": null,
            "margin": null,
            "max_height": null,
            "max_width": null,
            "min_height": null,
            "min_width": null,
            "object_fit": null,
            "object_position": null,
            "order": null,
            "overflow": null,
            "overflow_x": null,
            "overflow_y": null,
            "padding": null,
            "right": null,
            "top": null,
            "visibility": null,
            "width": null
          }
        },
        "0137f8609f9b489bb912e6722cbdda2f": {
          "model_module": "@jupyter-widgets/controls",
          "model_name": "ProgressStyleModel",
          "model_module_version": "1.5.0",
          "state": {
            "_model_module": "@jupyter-widgets/controls",
            "_model_module_version": "1.5.0",
            "_model_name": "ProgressStyleModel",
            "_view_count": null,
            "_view_module": "@jupyter-widgets/base",
            "_view_module_version": "1.2.0",
            "_view_name": "StyleView",
            "bar_color": null,
            "description_width": ""
          }
        },
        "963a44e2d39e46eeaf164a7cd30635b2": {
          "model_module": "@jupyter-widgets/base",
          "model_name": "LayoutModel",
          "model_module_version": "1.2.0",
          "state": {
            "_model_module": "@jupyter-widgets/base",
            "_model_module_version": "1.2.0",
            "_model_name": "LayoutModel",
            "_view_count": null,
            "_view_module": "@jupyter-widgets/base",
            "_view_module_version": "1.2.0",
            "_view_name": "LayoutView",
            "align_content": null,
            "align_items": null,
            "align_self": null,
            "border": null,
            "bottom": null,
            "display": null,
            "flex": null,
            "flex_flow": null,
            "grid_area": null,
            "grid_auto_columns": null,
            "grid_auto_flow": null,
            "grid_auto_rows": null,
            "grid_column": null,
            "grid_gap": null,
            "grid_row": null,
            "grid_template_areas": null,
            "grid_template_columns": null,
            "grid_template_rows": null,
            "height": null,
            "justify_content": null,
            "justify_items": null,
            "left": null,
            "margin": null,
            "max_height": null,
            "max_width": null,
            "min_height": null,
            "min_width": null,
            "object_fit": null,
            "object_position": null,
            "order": null,
            "overflow": null,
            "overflow_x": null,
            "overflow_y": null,
            "padding": null,
            "right": null,
            "top": null,
            "visibility": null,
            "width": null
          }
        },
        "3d83292ff0524043807ecc9fc11c9d40": {
          "model_module": "@jupyter-widgets/controls",
          "model_name": "DescriptionStyleModel",
          "model_module_version": "1.5.0",
          "state": {
            "_model_module": "@jupyter-widgets/controls",
            "_model_module_version": "1.5.0",
            "_model_name": "DescriptionStyleModel",
            "_view_count": null,
            "_view_module": "@jupyter-widgets/base",
            "_view_module_version": "1.2.0",
            "_view_name": "StyleView",
            "description_width": ""
          }
        },
        "34c83bb6cdef4223acd3c92153c2e8fb": {
          "model_module": "@jupyter-widgets/controls",
          "model_name": "HBoxModel",
          "model_module_version": "1.5.0",
          "state": {
            "_dom_classes": [],
            "_model_module": "@jupyter-widgets/controls",
            "_model_module_version": "1.5.0",
            "_model_name": "HBoxModel",
            "_view_count": null,
            "_view_module": "@jupyter-widgets/controls",
            "_view_module_version": "1.5.0",
            "_view_name": "HBoxView",
            "box_style": "",
            "children": [
              "IPY_MODEL_5d8fdca32beb462999f5aa4b5eb5e5b2",
              "IPY_MODEL_212d82ded6ae491da308c1531c69a6ff",
              "IPY_MODEL_410d9f3056c94311b46034bde5b408ab"
            ],
            "layout": "IPY_MODEL_88e28f6529b442638ec36275a6041f38"
          }
        },
        "5d8fdca32beb462999f5aa4b5eb5e5b2": {
          "model_module": "@jupyter-widgets/controls",
          "model_name": "HTMLModel",
          "model_module_version": "1.5.0",
          "state": {
            "_dom_classes": [],
            "_model_module": "@jupyter-widgets/controls",
            "_model_module_version": "1.5.0",
            "_model_name": "HTMLModel",
            "_view_count": null,
            "_view_module": "@jupyter-widgets/controls",
            "_view_module_version": "1.5.0",
            "_view_name": "HTMLView",
            "description": "",
            "description_tooltip": null,
            "layout": "IPY_MODEL_49bece8f9c934f529a16b4a71abd438d",
            "placeholder": "​",
            "style": "IPY_MODEL_7562fdf71bdf4a77a4cbfce3ee430b5c",
            "value": "tokenizer_config.json: 100%"
          }
        },
        "212d82ded6ae491da308c1531c69a6ff": {
          "model_module": "@jupyter-widgets/controls",
          "model_name": "FloatProgressModel",
          "model_module_version": "1.5.0",
          "state": {
            "_dom_classes": [],
            "_model_module": "@jupyter-widgets/controls",
            "_model_module_version": "1.5.0",
            "_model_name": "FloatProgressModel",
            "_view_count": null,
            "_view_module": "@jupyter-widgets/controls",
            "_view_module_version": "1.5.0",
            "_view_name": "ProgressView",
            "bar_style": "success",
            "description": "",
            "description_tooltip": null,
            "layout": "IPY_MODEL_6c8a73851ce2490cbe487014990274ea",
            "max": 48,
            "min": 0,
            "orientation": "horizontal",
            "style": "IPY_MODEL_1bf5ca67cf4640fa9b77492b9e2f8c1a",
            "value": 48
          }
        },
        "410d9f3056c94311b46034bde5b408ab": {
          "model_module": "@jupyter-widgets/controls",
          "model_name": "HTMLModel",
          "model_module_version": "1.5.0",
          "state": {
            "_dom_classes": [],
            "_model_module": "@jupyter-widgets/controls",
            "_model_module_version": "1.5.0",
            "_model_name": "HTMLModel",
            "_view_count": null,
            "_view_module": "@jupyter-widgets/controls",
            "_view_module_version": "1.5.0",
            "_view_name": "HTMLView",
            "description": "",
            "description_tooltip": null,
            "layout": "IPY_MODEL_1e7afe924bd94b889fed69a32c06bb21",
            "placeholder": "​",
            "style": "IPY_MODEL_fb87f24ff8214f99b62d7df4861acaf3",
            "value": " 48.0/48.0 [00:00&lt;00:00, 1.58kB/s]"
          }
        },
        "88e28f6529b442638ec36275a6041f38": {
          "model_module": "@jupyter-widgets/base",
          "model_name": "LayoutModel",
          "model_module_version": "1.2.0",
          "state": {
            "_model_module": "@jupyter-widgets/base",
            "_model_module_version": "1.2.0",
            "_model_name": "LayoutModel",
            "_view_count": null,
            "_view_module": "@jupyter-widgets/base",
            "_view_module_version": "1.2.0",
            "_view_name": "LayoutView",
            "align_content": null,
            "align_items": null,
            "align_self": null,
            "border": null,
            "bottom": null,
            "display": null,
            "flex": null,
            "flex_flow": null,
            "grid_area": null,
            "grid_auto_columns": null,
            "grid_auto_flow": null,
            "grid_auto_rows": null,
            "grid_column": null,
            "grid_gap": null,
            "grid_row": null,
            "grid_template_areas": null,
            "grid_template_columns": null,
            "grid_template_rows": null,
            "height": null,
            "justify_content": null,
            "justify_items": null,
            "left": null,
            "margin": null,
            "max_height": null,
            "max_width": null,
            "min_height": null,
            "min_width": null,
            "object_fit": null,
            "object_position": null,
            "order": null,
            "overflow": null,
            "overflow_x": null,
            "overflow_y": null,
            "padding": null,
            "right": null,
            "top": null,
            "visibility": null,
            "width": null
          }
        },
        "49bece8f9c934f529a16b4a71abd438d": {
          "model_module": "@jupyter-widgets/base",
          "model_name": "LayoutModel",
          "model_module_version": "1.2.0",
          "state": {
            "_model_module": "@jupyter-widgets/base",
            "_model_module_version": "1.2.0",
            "_model_name": "LayoutModel",
            "_view_count": null,
            "_view_module": "@jupyter-widgets/base",
            "_view_module_version": "1.2.0",
            "_view_name": "LayoutView",
            "align_content": null,
            "align_items": null,
            "align_self": null,
            "border": null,
            "bottom": null,
            "display": null,
            "flex": null,
            "flex_flow": null,
            "grid_area": null,
            "grid_auto_columns": null,
            "grid_auto_flow": null,
            "grid_auto_rows": null,
            "grid_column": null,
            "grid_gap": null,
            "grid_row": null,
            "grid_template_areas": null,
            "grid_template_columns": null,
            "grid_template_rows": null,
            "height": null,
            "justify_content": null,
            "justify_items": null,
            "left": null,
            "margin": null,
            "max_height": null,
            "max_width": null,
            "min_height": null,
            "min_width": null,
            "object_fit": null,
            "object_position": null,
            "order": null,
            "overflow": null,
            "overflow_x": null,
            "overflow_y": null,
            "padding": null,
            "right": null,
            "top": null,
            "visibility": null,
            "width": null
          }
        },
        "7562fdf71bdf4a77a4cbfce3ee430b5c": {
          "model_module": "@jupyter-widgets/controls",
          "model_name": "DescriptionStyleModel",
          "model_module_version": "1.5.0",
          "state": {
            "_model_module": "@jupyter-widgets/controls",
            "_model_module_version": "1.5.0",
            "_model_name": "DescriptionStyleModel",
            "_view_count": null,
            "_view_module": "@jupyter-widgets/base",
            "_view_module_version": "1.2.0",
            "_view_name": "StyleView",
            "description_width": ""
          }
        },
        "6c8a73851ce2490cbe487014990274ea": {
          "model_module": "@jupyter-widgets/base",
          "model_name": "LayoutModel",
          "model_module_version": "1.2.0",
          "state": {
            "_model_module": "@jupyter-widgets/base",
            "_model_module_version": "1.2.0",
            "_model_name": "LayoutModel",
            "_view_count": null,
            "_view_module": "@jupyter-widgets/base",
            "_view_module_version": "1.2.0",
            "_view_name": "LayoutView",
            "align_content": null,
            "align_items": null,
            "align_self": null,
            "border": null,
            "bottom": null,
            "display": null,
            "flex": null,
            "flex_flow": null,
            "grid_area": null,
            "grid_auto_columns": null,
            "grid_auto_flow": null,
            "grid_auto_rows": null,
            "grid_column": null,
            "grid_gap": null,
            "grid_row": null,
            "grid_template_areas": null,
            "grid_template_columns": null,
            "grid_template_rows": null,
            "height": null,
            "justify_content": null,
            "justify_items": null,
            "left": null,
            "margin": null,
            "max_height": null,
            "max_width": null,
            "min_height": null,
            "min_width": null,
            "object_fit": null,
            "object_position": null,
            "order": null,
            "overflow": null,
            "overflow_x": null,
            "overflow_y": null,
            "padding": null,
            "right": null,
            "top": null,
            "visibility": null,
            "width": null
          }
        },
        "1bf5ca67cf4640fa9b77492b9e2f8c1a": {
          "model_module": "@jupyter-widgets/controls",
          "model_name": "ProgressStyleModel",
          "model_module_version": "1.5.0",
          "state": {
            "_model_module": "@jupyter-widgets/controls",
            "_model_module_version": "1.5.0",
            "_model_name": "ProgressStyleModel",
            "_view_count": null,
            "_view_module": "@jupyter-widgets/base",
            "_view_module_version": "1.2.0",
            "_view_name": "StyleView",
            "bar_color": null,
            "description_width": ""
          }
        },
        "1e7afe924bd94b889fed69a32c06bb21": {
          "model_module": "@jupyter-widgets/base",
          "model_name": "LayoutModel",
          "model_module_version": "1.2.0",
          "state": {
            "_model_module": "@jupyter-widgets/base",
            "_model_module_version": "1.2.0",
            "_model_name": "LayoutModel",
            "_view_count": null,
            "_view_module": "@jupyter-widgets/base",
            "_view_module_version": "1.2.0",
            "_view_name": "LayoutView",
            "align_content": null,
            "align_items": null,
            "align_self": null,
            "border": null,
            "bottom": null,
            "display": null,
            "flex": null,
            "flex_flow": null,
            "grid_area": null,
            "grid_auto_columns": null,
            "grid_auto_flow": null,
            "grid_auto_rows": null,
            "grid_column": null,
            "grid_gap": null,
            "grid_row": null,
            "grid_template_areas": null,
            "grid_template_columns": null,
            "grid_template_rows": null,
            "height": null,
            "justify_content": null,
            "justify_items": null,
            "left": null,
            "margin": null,
            "max_height": null,
            "max_width": null,
            "min_height": null,
            "min_width": null,
            "object_fit": null,
            "object_position": null,
            "order": null,
            "overflow": null,
            "overflow_x": null,
            "overflow_y": null,
            "padding": null,
            "right": null,
            "top": null,
            "visibility": null,
            "width": null
          }
        },
        "fb87f24ff8214f99b62d7df4861acaf3": {
          "model_module": "@jupyter-widgets/controls",
          "model_name": "DescriptionStyleModel",
          "model_module_version": "1.5.0",
          "state": {
            "_model_module": "@jupyter-widgets/controls",
            "_model_module_version": "1.5.0",
            "_model_name": "DescriptionStyleModel",
            "_view_count": null,
            "_view_module": "@jupyter-widgets/base",
            "_view_module_version": "1.2.0",
            "_view_name": "StyleView",
            "description_width": ""
          }
        },
        "017b8eaf2176467daa57465cadd135d5": {
          "model_module": "@jupyter-widgets/controls",
          "model_name": "HBoxModel",
          "model_module_version": "1.5.0",
          "state": {
            "_dom_classes": [],
            "_model_module": "@jupyter-widgets/controls",
            "_model_module_version": "1.5.0",
            "_model_name": "HBoxModel",
            "_view_count": null,
            "_view_module": "@jupyter-widgets/controls",
            "_view_module_version": "1.5.0",
            "_view_name": "HBoxView",
            "box_style": "",
            "children": [
              "IPY_MODEL_ac4d3e32d87c4f878a737b35a68c3df2",
              "IPY_MODEL_8fb5c408311d46fb9df2b6f8c7e6a2ec",
              "IPY_MODEL_e695b55d58fc47998e99743505c674ca"
            ],
            "layout": "IPY_MODEL_0d4316c67f4a4aff801bd1e7188e4013"
          }
        },
        "ac4d3e32d87c4f878a737b35a68c3df2": {
          "model_module": "@jupyter-widgets/controls",
          "model_name": "HTMLModel",
          "model_module_version": "1.5.0",
          "state": {
            "_dom_classes": [],
            "_model_module": "@jupyter-widgets/controls",
            "_model_module_version": "1.5.0",
            "_model_name": "HTMLModel",
            "_view_count": null,
            "_view_module": "@jupyter-widgets/controls",
            "_view_module_version": "1.5.0",
            "_view_name": "HTMLView",
            "description": "",
            "description_tooltip": null,
            "layout": "IPY_MODEL_2570437e62ee4fe0936d85046bd372b3",
            "placeholder": "​",
            "style": "IPY_MODEL_0ed81269a4c942a9bb3600ba0d1dabd0",
            "value": "vocab.txt: 100%"
          }
        },
        "8fb5c408311d46fb9df2b6f8c7e6a2ec": {
          "model_module": "@jupyter-widgets/controls",
          "model_name": "FloatProgressModel",
          "model_module_version": "1.5.0",
          "state": {
            "_dom_classes": [],
            "_model_module": "@jupyter-widgets/controls",
            "_model_module_version": "1.5.0",
            "_model_name": "FloatProgressModel",
            "_view_count": null,
            "_view_module": "@jupyter-widgets/controls",
            "_view_module_version": "1.5.0",
            "_view_name": "ProgressView",
            "bar_style": "success",
            "description": "",
            "description_tooltip": null,
            "layout": "IPY_MODEL_54734a62206541ed8a901ce75ee3799d",
            "max": 231508,
            "min": 0,
            "orientation": "horizontal",
            "style": "IPY_MODEL_8eda841e01b24d0e91c42e128c4ef108",
            "value": 231508
          }
        },
        "e695b55d58fc47998e99743505c674ca": {
          "model_module": "@jupyter-widgets/controls",
          "model_name": "HTMLModel",
          "model_module_version": "1.5.0",
          "state": {
            "_dom_classes": [],
            "_model_module": "@jupyter-widgets/controls",
            "_model_module_version": "1.5.0",
            "_model_name": "HTMLModel",
            "_view_count": null,
            "_view_module": "@jupyter-widgets/controls",
            "_view_module_version": "1.5.0",
            "_view_name": "HTMLView",
            "description": "",
            "description_tooltip": null,
            "layout": "IPY_MODEL_4bc0f9f8ec5b43af984081b4dc54a0c3",
            "placeholder": "​",
            "style": "IPY_MODEL_f0e4de4aac7a43f8a0043115afb3ced1",
            "value": " 232k/232k [00:00&lt;00:00, 6.65MB/s]"
          }
        },
        "0d4316c67f4a4aff801bd1e7188e4013": {
          "model_module": "@jupyter-widgets/base",
          "model_name": "LayoutModel",
          "model_module_version": "1.2.0",
          "state": {
            "_model_module": "@jupyter-widgets/base",
            "_model_module_version": "1.2.0",
            "_model_name": "LayoutModel",
            "_view_count": null,
            "_view_module": "@jupyter-widgets/base",
            "_view_module_version": "1.2.0",
            "_view_name": "LayoutView",
            "align_content": null,
            "align_items": null,
            "align_self": null,
            "border": null,
            "bottom": null,
            "display": null,
            "flex": null,
            "flex_flow": null,
            "grid_area": null,
            "grid_auto_columns": null,
            "grid_auto_flow": null,
            "grid_auto_rows": null,
            "grid_column": null,
            "grid_gap": null,
            "grid_row": null,
            "grid_template_areas": null,
            "grid_template_columns": null,
            "grid_template_rows": null,
            "height": null,
            "justify_content": null,
            "justify_items": null,
            "left": null,
            "margin": null,
            "max_height": null,
            "max_width": null,
            "min_height": null,
            "min_width": null,
            "object_fit": null,
            "object_position": null,
            "order": null,
            "overflow": null,
            "overflow_x": null,
            "overflow_y": null,
            "padding": null,
            "right": null,
            "top": null,
            "visibility": null,
            "width": null
          }
        },
        "2570437e62ee4fe0936d85046bd372b3": {
          "model_module": "@jupyter-widgets/base",
          "model_name": "LayoutModel",
          "model_module_version": "1.2.0",
          "state": {
            "_model_module": "@jupyter-widgets/base",
            "_model_module_version": "1.2.0",
            "_model_name": "LayoutModel",
            "_view_count": null,
            "_view_module": "@jupyter-widgets/base",
            "_view_module_version": "1.2.0",
            "_view_name": "LayoutView",
            "align_content": null,
            "align_items": null,
            "align_self": null,
            "border": null,
            "bottom": null,
            "display": null,
            "flex": null,
            "flex_flow": null,
            "grid_area": null,
            "grid_auto_columns": null,
            "grid_auto_flow": null,
            "grid_auto_rows": null,
            "grid_column": null,
            "grid_gap": null,
            "grid_row": null,
            "grid_template_areas": null,
            "grid_template_columns": null,
            "grid_template_rows": null,
            "height": null,
            "justify_content": null,
            "justify_items": null,
            "left": null,
            "margin": null,
            "max_height": null,
            "max_width": null,
            "min_height": null,
            "min_width": null,
            "object_fit": null,
            "object_position": null,
            "order": null,
            "overflow": null,
            "overflow_x": null,
            "overflow_y": null,
            "padding": null,
            "right": null,
            "top": null,
            "visibility": null,
            "width": null
          }
        },
        "0ed81269a4c942a9bb3600ba0d1dabd0": {
          "model_module": "@jupyter-widgets/controls",
          "model_name": "DescriptionStyleModel",
          "model_module_version": "1.5.0",
          "state": {
            "_model_module": "@jupyter-widgets/controls",
            "_model_module_version": "1.5.0",
            "_model_name": "DescriptionStyleModel",
            "_view_count": null,
            "_view_module": "@jupyter-widgets/base",
            "_view_module_version": "1.2.0",
            "_view_name": "StyleView",
            "description_width": ""
          }
        },
        "54734a62206541ed8a901ce75ee3799d": {
          "model_module": "@jupyter-widgets/base",
          "model_name": "LayoutModel",
          "model_module_version": "1.2.0",
          "state": {
            "_model_module": "@jupyter-widgets/base",
            "_model_module_version": "1.2.0",
            "_model_name": "LayoutModel",
            "_view_count": null,
            "_view_module": "@jupyter-widgets/base",
            "_view_module_version": "1.2.0",
            "_view_name": "LayoutView",
            "align_content": null,
            "align_items": null,
            "align_self": null,
            "border": null,
            "bottom": null,
            "display": null,
            "flex": null,
            "flex_flow": null,
            "grid_area": null,
            "grid_auto_columns": null,
            "grid_auto_flow": null,
            "grid_auto_rows": null,
            "grid_column": null,
            "grid_gap": null,
            "grid_row": null,
            "grid_template_areas": null,
            "grid_template_columns": null,
            "grid_template_rows": null,
            "height": null,
            "justify_content": null,
            "justify_items": null,
            "left": null,
            "margin": null,
            "max_height": null,
            "max_width": null,
            "min_height": null,
            "min_width": null,
            "object_fit": null,
            "object_position": null,
            "order": null,
            "overflow": null,
            "overflow_x": null,
            "overflow_y": null,
            "padding": null,
            "right": null,
            "top": null,
            "visibility": null,
            "width": null
          }
        },
        "8eda841e01b24d0e91c42e128c4ef108": {
          "model_module": "@jupyter-widgets/controls",
          "model_name": "ProgressStyleModel",
          "model_module_version": "1.5.0",
          "state": {
            "_model_module": "@jupyter-widgets/controls",
            "_model_module_version": "1.5.0",
            "_model_name": "ProgressStyleModel",
            "_view_count": null,
            "_view_module": "@jupyter-widgets/base",
            "_view_module_version": "1.2.0",
            "_view_name": "StyleView",
            "bar_color": null,
            "description_width": ""
          }
        },
        "4bc0f9f8ec5b43af984081b4dc54a0c3": {
          "model_module": "@jupyter-widgets/base",
          "model_name": "LayoutModel",
          "model_module_version": "1.2.0",
          "state": {
            "_model_module": "@jupyter-widgets/base",
            "_model_module_version": "1.2.0",
            "_model_name": "LayoutModel",
            "_view_count": null,
            "_view_module": "@jupyter-widgets/base",
            "_view_module_version": "1.2.0",
            "_view_name": "LayoutView",
            "align_content": null,
            "align_items": null,
            "align_self": null,
            "border": null,
            "bottom": null,
            "display": null,
            "flex": null,
            "flex_flow": null,
            "grid_area": null,
            "grid_auto_columns": null,
            "grid_auto_flow": null,
            "grid_auto_rows": null,
            "grid_column": null,
            "grid_gap": null,
            "grid_row": null,
            "grid_template_areas": null,
            "grid_template_columns": null,
            "grid_template_rows": null,
            "height": null,
            "justify_content": null,
            "justify_items": null,
            "left": null,
            "margin": null,
            "max_height": null,
            "max_width": null,
            "min_height": null,
            "min_width": null,
            "object_fit": null,
            "object_position": null,
            "order": null,
            "overflow": null,
            "overflow_x": null,
            "overflow_y": null,
            "padding": null,
            "right": null,
            "top": null,
            "visibility": null,
            "width": null
          }
        },
        "f0e4de4aac7a43f8a0043115afb3ced1": {
          "model_module": "@jupyter-widgets/controls",
          "model_name": "DescriptionStyleModel",
          "model_module_version": "1.5.0",
          "state": {
            "_model_module": "@jupyter-widgets/controls",
            "_model_module_version": "1.5.0",
            "_model_name": "DescriptionStyleModel",
            "_view_count": null,
            "_view_module": "@jupyter-widgets/base",
            "_view_module_version": "1.2.0",
            "_view_name": "StyleView",
            "description_width": ""
          }
        },
        "64ab76c878864009989e5f7051468cfd": {
          "model_module": "@jupyter-widgets/controls",
          "model_name": "HBoxModel",
          "model_module_version": "1.5.0",
          "state": {
            "_dom_classes": [],
            "_model_module": "@jupyter-widgets/controls",
            "_model_module_version": "1.5.0",
            "_model_name": "HBoxModel",
            "_view_count": null,
            "_view_module": "@jupyter-widgets/controls",
            "_view_module_version": "1.5.0",
            "_view_name": "HBoxView",
            "box_style": "",
            "children": [
              "IPY_MODEL_b2d60e0b5c714161a73ba545639558f3",
              "IPY_MODEL_3d3c8623d08841ac81a3764e0d0acec3",
              "IPY_MODEL_e5d564e9ab7d48e6b352dfb9c23a31a6"
            ],
            "layout": "IPY_MODEL_796142e73b844a7b9cce331b1c32bc7d"
          }
        },
        "b2d60e0b5c714161a73ba545639558f3": {
          "model_module": "@jupyter-widgets/controls",
          "model_name": "HTMLModel",
          "model_module_version": "1.5.0",
          "state": {
            "_dom_classes": [],
            "_model_module": "@jupyter-widgets/controls",
            "_model_module_version": "1.5.0",
            "_model_name": "HTMLModel",
            "_view_count": null,
            "_view_module": "@jupyter-widgets/controls",
            "_view_module_version": "1.5.0",
            "_view_name": "HTMLView",
            "description": "",
            "description_tooltip": null,
            "layout": "IPY_MODEL_9176c4a5174d438b99c0a727744c5452",
            "placeholder": "​",
            "style": "IPY_MODEL_3ffb27c87a57429588bcaef0a3437f6d",
            "value": "tokenizer.json: 100%"
          }
        },
        "3d3c8623d08841ac81a3764e0d0acec3": {
          "model_module": "@jupyter-widgets/controls",
          "model_name": "FloatProgressModel",
          "model_module_version": "1.5.0",
          "state": {
            "_dom_classes": [],
            "_model_module": "@jupyter-widgets/controls",
            "_model_module_version": "1.5.0",
            "_model_name": "FloatProgressModel",
            "_view_count": null,
            "_view_module": "@jupyter-widgets/controls",
            "_view_module_version": "1.5.0",
            "_view_name": "ProgressView",
            "bar_style": "success",
            "description": "",
            "description_tooltip": null,
            "layout": "IPY_MODEL_f8488dd1ca224d749d800dd264db7dc1",
            "max": 466062,
            "min": 0,
            "orientation": "horizontal",
            "style": "IPY_MODEL_c53dbceeea7242bea85efd70c77c5f59",
            "value": 466062
          }
        },
        "e5d564e9ab7d48e6b352dfb9c23a31a6": {
          "model_module": "@jupyter-widgets/controls",
          "model_name": "HTMLModel",
          "model_module_version": "1.5.0",
          "state": {
            "_dom_classes": [],
            "_model_module": "@jupyter-widgets/controls",
            "_model_module_version": "1.5.0",
            "_model_name": "HTMLModel",
            "_view_count": null,
            "_view_module": "@jupyter-widgets/controls",
            "_view_module_version": "1.5.0",
            "_view_name": "HTMLView",
            "description": "",
            "description_tooltip": null,
            "layout": "IPY_MODEL_da77e24ddb3b4780afeb8e1923661fd0",
            "placeholder": "​",
            "style": "IPY_MODEL_992ece918e6f46ab8ed42b23a7c45a9a",
            "value": " 466k/466k [00:00&lt;00:00, 16.4MB/s]"
          }
        },
        "796142e73b844a7b9cce331b1c32bc7d": {
          "model_module": "@jupyter-widgets/base",
          "model_name": "LayoutModel",
          "model_module_version": "1.2.0",
          "state": {
            "_model_module": "@jupyter-widgets/base",
            "_model_module_version": "1.2.0",
            "_model_name": "LayoutModel",
            "_view_count": null,
            "_view_module": "@jupyter-widgets/base",
            "_view_module_version": "1.2.0",
            "_view_name": "LayoutView",
            "align_content": null,
            "align_items": null,
            "align_self": null,
            "border": null,
            "bottom": null,
            "display": null,
            "flex": null,
            "flex_flow": null,
            "grid_area": null,
            "grid_auto_columns": null,
            "grid_auto_flow": null,
            "grid_auto_rows": null,
            "grid_column": null,
            "grid_gap": null,
            "grid_row": null,
            "grid_template_areas": null,
            "grid_template_columns": null,
            "grid_template_rows": null,
            "height": null,
            "justify_content": null,
            "justify_items": null,
            "left": null,
            "margin": null,
            "max_height": null,
            "max_width": null,
            "min_height": null,
            "min_width": null,
            "object_fit": null,
            "object_position": null,
            "order": null,
            "overflow": null,
            "overflow_x": null,
            "overflow_y": null,
            "padding": null,
            "right": null,
            "top": null,
            "visibility": null,
            "width": null
          }
        },
        "9176c4a5174d438b99c0a727744c5452": {
          "model_module": "@jupyter-widgets/base",
          "model_name": "LayoutModel",
          "model_module_version": "1.2.0",
          "state": {
            "_model_module": "@jupyter-widgets/base",
            "_model_module_version": "1.2.0",
            "_model_name": "LayoutModel",
            "_view_count": null,
            "_view_module": "@jupyter-widgets/base",
            "_view_module_version": "1.2.0",
            "_view_name": "LayoutView",
            "align_content": null,
            "align_items": null,
            "align_self": null,
            "border": null,
            "bottom": null,
            "display": null,
            "flex": null,
            "flex_flow": null,
            "grid_area": null,
            "grid_auto_columns": null,
            "grid_auto_flow": null,
            "grid_auto_rows": null,
            "grid_column": null,
            "grid_gap": null,
            "grid_row": null,
            "grid_template_areas": null,
            "grid_template_columns": null,
            "grid_template_rows": null,
            "height": null,
            "justify_content": null,
            "justify_items": null,
            "left": null,
            "margin": null,
            "max_height": null,
            "max_width": null,
            "min_height": null,
            "min_width": null,
            "object_fit": null,
            "object_position": null,
            "order": null,
            "overflow": null,
            "overflow_x": null,
            "overflow_y": null,
            "padding": null,
            "right": null,
            "top": null,
            "visibility": null,
            "width": null
          }
        },
        "3ffb27c87a57429588bcaef0a3437f6d": {
          "model_module": "@jupyter-widgets/controls",
          "model_name": "DescriptionStyleModel",
          "model_module_version": "1.5.0",
          "state": {
            "_model_module": "@jupyter-widgets/controls",
            "_model_module_version": "1.5.0",
            "_model_name": "DescriptionStyleModel",
            "_view_count": null,
            "_view_module": "@jupyter-widgets/base",
            "_view_module_version": "1.2.0",
            "_view_name": "StyleView",
            "description_width": ""
          }
        },
        "f8488dd1ca224d749d800dd264db7dc1": {
          "model_module": "@jupyter-widgets/base",
          "model_name": "LayoutModel",
          "model_module_version": "1.2.0",
          "state": {
            "_model_module": "@jupyter-widgets/base",
            "_model_module_version": "1.2.0",
            "_model_name": "LayoutModel",
            "_view_count": null,
            "_view_module": "@jupyter-widgets/base",
            "_view_module_version": "1.2.0",
            "_view_name": "LayoutView",
            "align_content": null,
            "align_items": null,
            "align_self": null,
            "border": null,
            "bottom": null,
            "display": null,
            "flex": null,
            "flex_flow": null,
            "grid_area": null,
            "grid_auto_columns": null,
            "grid_auto_flow": null,
            "grid_auto_rows": null,
            "grid_column": null,
            "grid_gap": null,
            "grid_row": null,
            "grid_template_areas": null,
            "grid_template_columns": null,
            "grid_template_rows": null,
            "height": null,
            "justify_content": null,
            "justify_items": null,
            "left": null,
            "margin": null,
            "max_height": null,
            "max_width": null,
            "min_height": null,
            "min_width": null,
            "object_fit": null,
            "object_position": null,
            "order": null,
            "overflow": null,
            "overflow_x": null,
            "overflow_y": null,
            "padding": null,
            "right": null,
            "top": null,
            "visibility": null,
            "width": null
          }
        },
        "c53dbceeea7242bea85efd70c77c5f59": {
          "model_module": "@jupyter-widgets/controls",
          "model_name": "ProgressStyleModel",
          "model_module_version": "1.5.0",
          "state": {
            "_model_module": "@jupyter-widgets/controls",
            "_model_module_version": "1.5.0",
            "_model_name": "ProgressStyleModel",
            "_view_count": null,
            "_view_module": "@jupyter-widgets/base",
            "_view_module_version": "1.2.0",
            "_view_name": "StyleView",
            "bar_color": null,
            "description_width": ""
          }
        },
        "da77e24ddb3b4780afeb8e1923661fd0": {
          "model_module": "@jupyter-widgets/base",
          "model_name": "LayoutModel",
          "model_module_version": "1.2.0",
          "state": {
            "_model_module": "@jupyter-widgets/base",
            "_model_module_version": "1.2.0",
            "_model_name": "LayoutModel",
            "_view_count": null,
            "_view_module": "@jupyter-widgets/base",
            "_view_module_version": "1.2.0",
            "_view_name": "LayoutView",
            "align_content": null,
            "align_items": null,
            "align_self": null,
            "border": null,
            "bottom": null,
            "display": null,
            "flex": null,
            "flex_flow": null,
            "grid_area": null,
            "grid_auto_columns": null,
            "grid_auto_flow": null,
            "grid_auto_rows": null,
            "grid_column": null,
            "grid_gap": null,
            "grid_row": null,
            "grid_template_areas": null,
            "grid_template_columns": null,
            "grid_template_rows": null,
            "height": null,
            "justify_content": null,
            "justify_items": null,
            "left": null,
            "margin": null,
            "max_height": null,
            "max_width": null,
            "min_height": null,
            "min_width": null,
            "object_fit": null,
            "object_position": null,
            "order": null,
            "overflow": null,
            "overflow_x": null,
            "overflow_y": null,
            "padding": null,
            "right": null,
            "top": null,
            "visibility": null,
            "width": null
          }
        },
        "992ece918e6f46ab8ed42b23a7c45a9a": {
          "model_module": "@jupyter-widgets/controls",
          "model_name": "DescriptionStyleModel",
          "model_module_version": "1.5.0",
          "state": {
            "_model_module": "@jupyter-widgets/controls",
            "_model_module_version": "1.5.0",
            "_model_name": "DescriptionStyleModel",
            "_view_count": null,
            "_view_module": "@jupyter-widgets/base",
            "_view_module_version": "1.2.0",
            "_view_name": "StyleView",
            "description_width": ""
          }
        }
      }
    }
  },
  "nbformat": 4,
  "nbformat_minor": 0
}